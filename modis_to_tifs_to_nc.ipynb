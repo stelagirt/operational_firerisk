{
 "cells": [
  {
   "cell_type": "code",
   "execution_count": 173,
   "metadata": {},
   "outputs": [],
   "source": [
    "import os\n",
    "import pandas as pd\n",
    "import subprocess\n",
    "from subprocess import call\n",
    "import rasterio\n",
    "import xarray as xr\n",
    "import glob\n",
    "from datetime import datetime, timedelta\n",
    "import warnings"
   ]
  },
  {
   "cell_type": "code",
   "execution_count": 174,
   "metadata": {},
   "outputs": [],
   "source": [
    "def make_dataframe(mypath):\n",
    "    hdf_name = []\n",
    "    for image in os.listdir(mypath):\n",
    "        if image.endswith('hdf'):\n",
    "            hdf_name.append(image)\n",
    "    dates = []\n",
    "    for name in hdf_name:\n",
    "        dates.append(name.split('.')[1])\n",
    "    df_images = pd.DataFrame(list(zip(hdf_name, dates)), columns = ['image', 'date']) \n",
    "    grouped = df_images.groupby('date')['image'].apply(list).reset_index()\n",
    "    grouped['image'].count()\n",
    "    return grouped"
   ]
  },
  {
   "cell_type": "code",
   "execution_count": 175,
   "metadata": {},
   "outputs": [],
   "source": [
    "def mosaic_and_clip_lst(date,paths,timeofday):\n",
    "    os.chdir('/media/sg/91d62d44-8446-4f66-8327-bc09e774cbb1/home/df/Projects/lst_8day/composites_2020_2021')\n",
    "    st_name = date+'_'+timeofday+'_merge.tif'\n",
    "    print(st_name)\n",
    "    merge_command = ['gdal_merge.py', \"-o\",st_name, ' '.join(paths)]\n",
    "    merge_command = ' '.join(merge_command)\n",
    "    #cmd_a = 'gdal_merge.py -o '+ st_name'-ul_lr 19.46 34.44 28.29 41.9 '\n",
    "    subprocess.call(merge_command,shell=True)\n",
    "    warp_command = ['gdalwarp','-t_srs','EPSG:4326','-te 19.46 34.44 28.29 41.9', st_name,st_name.split('.')[0]+'_warp.tif']\n",
    "    warp_command = ' '.join(warp_command)\n",
    "    subprocess.call(warp_command,shell=True)\n",
    "    call([\"rm\", st_name])"
   ]
  },
  {
   "cell_type": "code",
   "execution_count": 176,
   "metadata": {},
   "outputs": [],
   "source": [
    "def create_lst_day(year,grouped):\n",
    "    for index,row in grouped.iterrows():#['image'].loc[0]:\n",
    "        paths = []\n",
    "        for d in row['image']: \n",
    "            path = 'HDF4_EOS:EOS_GRID:\"/media/sg/91d62d44-8446-4f66-8327-bc09e774cbb1/home/df/Projects/lst_8day/'+str(year)+'/'+d+'\":MODIS_Grid_8Day_1km_LST:LST_Day_1km'\n",
    "            paths.append(path)\n",
    "            #mosaic_and_clip_lst(path[0],paths,timeofday)\n",
    "        date = d.split('.')[1]\n",
    "        timeofday = 'day'\n",
    "        mosaic_and_clip_lst(date,paths,timeofday)"
   ]
  },
  {
   "cell_type": "code",
   "execution_count": 177,
   "metadata": {},
   "outputs": [],
   "source": [
    "def create_lst_night(year,grouped):\n",
    "    for index,row in grouped.iterrows():#['image'].loc[0]:\n",
    "        paths = []\n",
    "        for d in row['image']: \n",
    "            path = 'HDF4_EOS:EOS_GRID:\"/media/sg/91d62d44-8446-4f66-8327-bc09e774cbb1/home/df/Projects/lst_8day/'+str(year)+'/'+d+'\":MODIS_Grid_8Day_1km_LST:LST_Night_1km'\n",
    "            paths.append(path)\n",
    "            #mosaic_and_clip_lst(path[0],paths,timeofday)\n",
    "        date = d.split('.')[1]\n",
    "        timeofday = 'night'\n",
    "        mosaic_and_clip_lst(date,paths,timeofday)"
   ]
  },
  {
   "cell_type": "code",
   "execution_count": 178,
   "metadata": {},
   "outputs": [],
   "source": [
    "years =[2020,2021]\n",
    "#[2010,2011,2012,2013,2014,2015,2016,2017,2018]"
   ]
  },
  {
   "cell_type": "code",
   "execution_count": 179,
   "metadata": {},
   "outputs": [
    {
     "name": "stdout",
     "output_type": "stream",
     "text": [
      "A2020081_day_merge.tif\n",
      "0...10...20...30...40...50...60...70...80...90...100 - done.\n",
      "Creating output file that is 1084P x 916L.\n",
      "Processing A2020081_day_merge.tif [1/1] : 0...10...20...30...40...50...60...70...80...90...100 - done.\n",
      "A2020089_day_merge.tif\n",
      "0...10...20...30...40...50...60...70...80...90...100 - done.\n",
      "Creating output file that is 1084P x 916L.\n",
      "Processing A2020089_day_merge.tif [1/1] : 0...10...20...30...40...50...60...70...80...90...100 - done.\n",
      "A2020097_day_merge.tif\n",
      "0...10...20...30...40...50...60...70...80...90...100 - done.\n",
      "Creating output file that is 1084P x 916L.\n",
      "Processing A2020097_day_merge.tif [1/1] : 0...10...20...30...40...50...60...70...80...90...100 - done.\n",
      "A2020105_day_merge.tif\n",
      "0...10...20...30...40...50...60...70...80...90...100 - done.\n",
      "Creating output file that is 1084P x 916L.\n",
      "Processing A2020105_day_merge.tif [1/1] : 0...10...20...30...40...50...60...70...80...90...100 - done.\n",
      "A2020113_day_merge.tif\n",
      "0...10...20...30...40...50...60...70...80...90...100 - done.\n",
      "Creating output file that is 1084P x 916L.\n",
      "Processing A2020113_day_merge.tif [1/1] : 0...10...20...30...40...50...60...70...80...90...100 - done.\n",
      "A2020121_day_merge.tif\n",
      "0...10...20...30...40...50...60...70...80...90...100 - done.\n",
      "Creating output file that is 1084P x 916L.\n",
      "Processing A2020121_day_merge.tif [1/1] : 0...10...20...30...40...50...60...70...80...90...100 - done.\n",
      "A2020129_day_merge.tif\n",
      "0...10...20...30...40...50...60...70...80...90...100 - done.\n",
      "Creating output file that is 1084P x 916L.\n",
      "Processing A2020129_day_merge.tif [1/1] : 0...10...20...30...40...50...60...70...80...90...100 - done.\n",
      "A2020137_day_merge.tif\n",
      "0...10...20...30...40...50...60...70...80...90...100 - done.\n",
      "Creating output file that is 1084P x 916L.\n",
      "Processing A2020137_day_merge.tif [1/1] : 0...10...20...30...40...50...60...70...80...90...100 - done.\n",
      "A2020145_day_merge.tif\n",
      "0...10...20...30...40...50...60...70...80...90...100 - done.\n",
      "Creating output file that is 1084P x 916L.\n",
      "Processing A2020145_day_merge.tif [1/1] : 0...10...20...30...40...50...60...70...80...90...100 - done.\n",
      "A2020153_day_merge.tif\n",
      "0...10...20...30...40...50...60...70...80...90...100 - done.\n",
      "Creating output file that is 1084P x 916L.\n",
      "Processing A2020153_day_merge.tif [1/1] : 0...10...20...30...40...50...60...70...80...90...100 - done.\n",
      "A2020161_day_merge.tif\n",
      "0...10...20...30...40...50...60...70...80...90...100 - done.\n",
      "Creating output file that is 1084P x 916L.\n",
      "Processing A2020161_day_merge.tif [1/1] : 0...10...20...30...40...50...60...70...80...90...100 - done.\n",
      "A2020169_day_merge.tif\n",
      "0...10...20...30...40...50...60...70...80...90...100 - done.\n",
      "Creating output file that is 1084P x 916L.\n",
      "Processing A2020169_day_merge.tif [1/1] : 0...10...20...30...40...50...60...70...80...90...100 - done.\n",
      "A2020177_day_merge.tif\n",
      "0...10...20...30...40...50...60...70...80...90...100 - done.\n",
      "Creating output file that is 1084P x 916L.\n",
      "Processing A2020177_day_merge.tif [1/1] : 0...10...20...30...40...50...60...70...80...90...100 - done.\n",
      "A2020185_day_merge.tif\n",
      "0...10...20...30...40...50...60...70...80...90...100 - done.\n",
      "Creating output file that is 1084P x 916L.\n",
      "Processing A2020185_day_merge.tif [1/1] : 0...10...20...30...40...50...60...70...80...90...100 - done.\n",
      "A2020193_day_merge.tif\n",
      "0...10...20...30...40...50...60...70...80...90...100 - done.\n",
      "Creating output file that is 1084P x 916L.\n",
      "Processing A2020193_day_merge.tif [1/1] : 0...10...20...30...40...50...60...70...80...90...100 - done.\n",
      "A2020201_day_merge.tif\n",
      "0...10...20...30...40...50...60...70...80...90...100 - done.\n",
      "Creating output file that is 1084P x 916L.\n",
      "Processing A2020201_day_merge.tif [1/1] : 0...10...20...30...40...50...60...70...80...90...100 - done.\n",
      "A2020209_day_merge.tif\n",
      "0...10...20...30...40...50...60...70...80...90...100 - done.\n",
      "Creating output file that is 1084P x 916L.\n",
      "Processing A2020209_day_merge.tif [1/1] : 0...10...20...30...40...50...60...70...80...90...100 - done.\n",
      "A2020217_day_merge.tif\n",
      "0...10...20...30...40...50...60...70...80...90...100 - done.\n",
      "Creating output file that is 1084P x 916L.\n",
      "Processing A2020217_day_merge.tif [1/1] : 0...10...20...30...40...50...60...70...80...90...100 - done.\n",
      "A2020225_day_merge.tif\n",
      "0...10...20...30...40...50...60...70...80...90...100 - done.\n",
      "Creating output file that is 1084P x 916L.\n",
      "Processing A2020225_day_merge.tif [1/1] : 0...10...20...30...40...50...60...70...80...90...100 - done.\n",
      "A2020233_day_merge.tif\n",
      "0...10...20...30...40...50...60...70...80...90...100 - done.\n",
      "Creating output file that is 1084P x 916L.\n",
      "Processing A2020233_day_merge.tif [1/1] : 0...10...20...30...40...50...60...70...80...90...100 - done.\n",
      "A2020241_day_merge.tif\n",
      "0...10...20...30...40...50...60...70...80...90...100 - done.\n",
      "Creating output file that is 1084P x 916L.\n",
      "Processing A2020241_day_merge.tif [1/1] : 0...10...20...30...40...50...60...70...80...90...100 - done.\n",
      "A2020249_day_merge.tif\n",
      "0...10...20...30...40...50...60...70...80...90...100 - done.\n",
      "Creating output file that is 1084P x 916L.\n",
      "Processing A2020249_day_merge.tif [1/1] : 0...10...20...30...40...50...60...70...80...90...100 - done.\n",
      "A2020257_day_merge.tif\n",
      "0...10...20...30...40...50...60...70...80...90...100 - done.\n",
      "Creating output file that is 1084P x 916L.\n",
      "Processing A2020257_day_merge.tif [1/1] : 0...10...20...30...40...50...60...70...80...90...100 - done.\n",
      "A2020265_day_merge.tif\n",
      "0...10...20...30...40...50...60...70...80...90...100 - done.\n",
      "Creating output file that is 1084P x 916L.\n",
      "Processing A2020265_day_merge.tif [1/1] : 0...10...20...30...40...50...60...70...80...90...100 - done.\n",
      "A2020273_day_merge.tif\n",
      "0...10...20...30...40...50...60...70...80...90...100 - done.\n",
      "Creating output file that is 1084P x 916L.\n",
      "Processing A2020273_day_merge.tif [1/1] : 0...10...20...30...40...50...60...70...80...90...100 - done.\n",
      "A2020081_night_merge.tif\n",
      "0...10...20...30...40...50...60...70...80...90...100 - done.\n",
      "Creating output file that is 1084P x 916L.\n",
      "Processing A2020081_night_merge.tif [1/1] : 0...10...20...30...40...50...60...70...80...90...100 - done.\n",
      "A2020089_night_merge.tif\n",
      "0...10...20...30...40...50...60...70...80...90...100 - done.\n",
      "Creating output file that is 1084P x 916L.\n",
      "Processing A2020089_night_merge.tif [1/1] : 0...10...20...30...40...50...60...70...80...90...100 - done.\n",
      "A2020097_night_merge.tif\n",
      "0...10...20...30...40...50...60...70...80...90...100 - done.\n",
      "Creating output file that is 1084P x 916L.\n",
      "Processing A2020097_night_merge.tif [1/1] : 0...10...20...30...40...50...60...70...80...90...100 - done.\n",
      "A2020105_night_merge.tif\n",
      "0...10...20...30...40...50...60...70...80...90...100 - done.\n",
      "Creating output file that is 1084P x 916L.\n",
      "Processing A2020105_night_merge.tif [1/1] : 0...10...20...30...40...50...60...70...80...90...100 - done.\n",
      "A2020113_night_merge.tif\n",
      "0...10...20...30...40...50...60...70...80...90...100 - done.\n",
      "Creating output file that is 1084P x 916L.\n",
      "Processing A2020113_night_merge.tif [1/1] : 0...10...20...30...40...50...60...70...80...90...100 - done.\n",
      "A2020121_night_merge.tif\n",
      "0...10...20...30...40...50...60...70...80...90...100 - done.\n",
      "Creating output file that is 1084P x 916L.\n",
      "Processing A2020121_night_merge.tif [1/1] : 0...10...20...30...40...50...60...70...80...90...100 - done.\n",
      "A2020129_night_merge.tif\n",
      "0...10...20...30...40...50...60...70...80...90...100 - done.\n",
      "Creating output file that is 1084P x 916L.\n",
      "Processing A2020129_night_merge.tif [1/1] : 0...10...20...30...40...50...60...70...80...90...100 - done.\n",
      "A2020137_night_merge.tif\n",
      "0...10...20...30...40...50...60...70...80...90...100 - done.\n",
      "Creating output file that is 1084P x 916L.\n",
      "Processing A2020137_night_merge.tif [1/1] : 0...10...20...30...40...50...60...70...80...90...100 - done.\n",
      "A2020145_night_merge.tif\n",
      "0...10...20...30...40...50...60...70...80...90...100 - done.\n",
      "Creating output file that is 1084P x 916L.\n",
      "Processing A2020145_night_merge.tif [1/1] : 0...10...20...30...40...50...60...70...80...90...100 - done.\n",
      "A2020153_night_merge.tif\n",
      "0...10...20...30...40...50...60...70...80...90...100 - done.\n",
      "Creating output file that is 1084P x 916L.\n",
      "Processing A2020153_night_merge.tif [1/1] : 0...10...20...30...40...50...60...70...80...90...100 - done.\n",
      "A2020161_night_merge.tif\n",
      "0...10...20...30...40...50...60...70...80...90...100 - done.\n",
      "Creating output file that is 1084P x 916L.\n",
      "Processing A2020161_night_merge.tif [1/1] : 0...10...20...30...40...50...60...70...80...90...100 - done.\n",
      "A2020169_night_merge.tif\n"
     ]
    },
    {
     "name": "stdout",
     "output_type": "stream",
     "text": [
      "0...10...20...30...40...50...60...70...80...90...100 - done.\n",
      "Creating output file that is 1084P x 916L.\n",
      "Processing A2020169_night_merge.tif [1/1] : 0...10...20...30...40...50...60...70...80...90...100 - done.\n",
      "A2020177_night_merge.tif\n",
      "0...10...20...30...40...50...60...70...80...90...100 - done.\n",
      "Creating output file that is 1084P x 916L.\n",
      "Processing A2020177_night_merge.tif [1/1] : 0...10...20...30...40...50...60...70...80...90...100 - done.\n",
      "A2020185_night_merge.tif\n",
      "0...10...20...30...40...50...60...70...80...90...100 - done.\n",
      "Creating output file that is 1084P x 916L.\n",
      "Processing A2020185_night_merge.tif [1/1] : 0...10...20...30...40...50...60...70...80...90...100 - done.\n",
      "A2020193_night_merge.tif\n",
      "0...10...20...30...40...50...60...70...80...90...100 - done.\n",
      "Creating output file that is 1084P x 916L.\n",
      "Processing A2020193_night_merge.tif [1/1] : 0...10...20...30...40...50...60...70...80...90...100 - done.\n",
      "A2020201_night_merge.tif\n",
      "0...10...20...30...40...50...60...70...80...90...100 - done.\n",
      "Creating output file that is 1084P x 916L.\n",
      "Processing A2020201_night_merge.tif [1/1] : 0...10...20...30...40...50...60...70...80...90...100 - done.\n",
      "A2020209_night_merge.tif\n",
      "0...10...20...30...40...50...60...70...80...90...100 - done.\n",
      "Creating output file that is 1084P x 916L.\n",
      "Processing A2020209_night_merge.tif [1/1] : 0...10...20...30...40...50...60...70...80...90...100 - done.\n",
      "A2020217_night_merge.tif\n",
      "0...10...20...30...40...50...60...70...80...90...100 - done.\n",
      "Creating output file that is 1084P x 916L.\n",
      "Processing A2020217_night_merge.tif [1/1] : 0...10...20...30...40...50...60...70...80...90...100 - done.\n",
      "A2020225_night_merge.tif\n",
      "0...10...20...30...40...50...60...70...80...90...100 - done.\n",
      "Creating output file that is 1084P x 916L.\n",
      "Processing A2020225_night_merge.tif [1/1] : 0...10...20...30...40...50...60...70...80...90...100 - done.\n",
      "A2020233_night_merge.tif\n",
      "0...10...20...30...40...50...60...70...80...90...100 - done.\n",
      "Creating output file that is 1084P x 916L.\n",
      "Processing A2020233_night_merge.tif [1/1] : 0...10...20...30...40...50...60...70...80...90...100 - done.\n",
      "A2020241_night_merge.tif\n",
      "0...10...20...30...40...50...60...70...80...90...100 - done.\n",
      "Creating output file that is 1084P x 916L.\n",
      "Processing A2020241_night_merge.tif [1/1] : 0...10...20...30...40...50...60...70...80...90...100 - done.\n",
      "A2020249_night_merge.tif\n",
      "0...10...20...30...40...50...60...70...80...90...100 - done.\n",
      "Creating output file that is 1084P x 916L.\n",
      "Processing A2020249_night_merge.tif [1/1] : 0...10...20...30...40...50...60...70...80...90...100 - done.\n",
      "A2020257_night_merge.tif\n",
      "0...10...20...30...40...50...60...70...80...90...100 - done.\n",
      "Creating output file that is 1084P x 916L.\n",
      "Processing A2020257_night_merge.tif [1/1] : 0...10...20...30...40...50...60...70...80...90...100 - done.\n",
      "A2020265_night_merge.tif\n",
      "0...10...20...30...40...50...60...70...80...90...100 - done.\n",
      "Creating output file that is 1084P x 916L.\n",
      "Processing A2020265_night_merge.tif [1/1] : 0...10...20...30...40...50...60...70...80...90...100 - done.\n",
      "A2020273_night_merge.tif\n",
      "0...10...20...30...40...50...60...70...80...90...100 - done.\n",
      "Creating output file that is 1084P x 916L.\n",
      "Processing A2020273_night_merge.tif [1/1] : 0...10...20...30...40...50...60...70...80...90...100 - done.\n",
      "A2021097_day_merge.tif\n",
      "0...10...20...30...40...50...60...70...80...90...100 - done.\n",
      "Creating output file that is 1084P x 916L.\n",
      "Processing A2021097_day_merge.tif [1/1] : 0...10...20...30...40...50...60...70...80...90...100 - done.\n",
      "A2021105_day_merge.tif\n",
      "0...10...20...30...40...50...60...70...80...90...100 - done.\n",
      "Creating output file that is 1084P x 916L.\n",
      "Processing A2021105_day_merge.tif [1/1] : 0...10...20...30...40...50...60...70...80...90...100 - done.\n",
      "A2021113_day_merge.tif\n",
      "0...10...20...30...40...50...60...70...80...90...100 - done.\n",
      "Creating output file that is 1084P x 916L.\n",
      "Processing A2021113_day_merge.tif [1/1] : 0...10...20...30...40...50...60...70...80...90...100 - done.\n",
      "A2021121_day_merge.tif\n",
      "0...10...20...30...40...50...60...70...80...90...100 - done.\n",
      "Creating output file that is 1084P x 916L.\n",
      "Processing A2021121_day_merge.tif [1/1] : 0...10...20...30...40...50...60...70...80...90...100 - done.\n",
      "A2021129_day_merge.tif\n",
      "0...10...20...30...40...50...60...70...80...90...100 - done.\n",
      "Creating output file that is 1084P x 916L.\n",
      "Processing A2021129_day_merge.tif [1/1] : 0...10...20...30...40...50...60...70...80...90...100 - done.\n",
      "A2021137_day_merge.tif\n",
      "0...10...20...30...40...50...60...70...80...90...100 - done.\n",
      "Creating output file that is 1084P x 916L.\n",
      "Processing A2021137_day_merge.tif [1/1] : 0...10...20...30...40...50...60...70...80...90...100 - done.\n",
      "A2021145_day_merge.tif\n",
      "0...10...20...30...40...50...60...70...80...90...100 - done.\n",
      "Creating output file that is 1084P x 916L.\n",
      "Processing A2021145_day_merge.tif [1/1] : 0...10...20...30...40...50...60...70...80...90...100 - done.\n",
      "A2021153_day_merge.tif\n",
      "0...10...20...30...40...50...60...70...80...90...100 - done.\n",
      "Creating output file that is 1084P x 916L.\n",
      "Processing A2021153_day_merge.tif [1/1] : 0...10...20...30...40...50...60...70...80...90...100 - done.\n",
      "A2021161_day_merge.tif\n",
      "0...10...20...30...40...50...60...70...80...90...100 - done.\n",
      "Creating output file that is 1084P x 916L.\n",
      "Processing A2021161_day_merge.tif [1/1] : 0...10...20...30...40...50...60...70...80...90...100 - done.\n",
      "A2021169_day_merge.tif\n",
      "0...10...20...30...40...50...60...70...80...90...100 - done.\n",
      "Creating output file that is 1084P x 916L.\n",
      "Processing A2021169_day_merge.tif [1/1] : 0...10...20...30...40...50...60...70...80...90...100 - done.\n",
      "A2021177_day_merge.tif\n",
      "0...10...20...30...40...50...60...70...80...90...100 - done.\n",
      "Creating output file that is 1084P x 916L.\n",
      "Processing A2021177_day_merge.tif [1/1] : 0...10...20...30...40...50...60...70...80...90...100 - done.\n",
      "A2021185_day_merge.tif\n",
      "0...10...20...30...40...50...60...70...80...90...100 - done.\n",
      "Creating output file that is 1084P x 916L.\n",
      "Processing A2021185_day_merge.tif [1/1] : 0...10...20...30...40...50...60...70...80...90...100 - done.\n",
      "A2021193_day_merge.tif\n",
      "0...10...20...30...40...50...60...70...80...90...100 - done.\n",
      "Creating output file that is 1084P x 916L.\n",
      "Processing A2021193_day_merge.tif [1/1] : 0...10...20...30...40...50...60...70...80...90...100 - done.\n",
      "A2021201_day_merge.tif\n",
      "0...10...20...30...40...50...60...70...80...90...100 - done.\n",
      "Creating output file that is 1084P x 916L.\n",
      "Processing A2021201_day_merge.tif [1/1] : 0...10...20...30...40...50...60...70...80...90...100 - done.\n",
      "A2021209_day_merge.tif\n",
      "0...10...20...30...40...50...60...70...80...90...100 - done.\n",
      "Creating output file that is 1084P x 916L.\n",
      "Processing A2021209_day_merge.tif [1/1] : 0...10...20...30...40...50...60...70...80...90...100 - done.\n",
      "A2021217_day_merge.tif\n",
      "0...10...20...30...40...50...60...70...80...90...100 - done.\n",
      "Creating output file that is 1084P x 916L.\n",
      "Processing A2021217_day_merge.tif [1/1] : 0...10...20...30...40...50...60...70...80...90...100 - done.\n",
      "A2021225_day_merge.tif\n",
      "0...10...20...30...40...50...60...70...80...90...100 - done.\n",
      "Creating output file that is 1084P x 916L.\n",
      "Processing A2021225_day_merge.tif [1/1] : 0...10...20...30...40...50...60...70...80...90...100 - done.\n",
      "A2021233_day_merge.tif\n",
      "0...10...20...30...40...50...60...70...80...90...100 - done.\n",
      "Creating output file that is 1084P x 916L.\n",
      "Processing A2021233_day_merge.tif [1/1] : 0...10...20...30...40...50...60...70...80...90...100 - done.\n",
      "A2021241_day_merge.tif\n",
      "0...10...20...30...40...50...60...70...80...90...100 - done.\n",
      "Creating output file that is 1084P x 916L.\n",
      "Processing A2021241_day_merge.tif [1/1] : 0...10...20...30...40...50...60...70...80...90...100 - done.\n",
      "A2021249_day_merge.tif\n",
      "0...10...20...30...40...50...60...70...80...90...100 - done.\n",
      "Creating output file that is 1084P x 916L.\n",
      "Processing A2021249_day_merge.tif [1/1] : 0...10...20...30...40...50...60...70...80...90...100 - done.\n",
      "A2021257_day_merge.tif\n",
      "0...10...20...30...40...50...60...70...80...90...100 - done.\n",
      "Creating output file that is 1084P x 916L.\n",
      "Processing A2021257_day_merge.tif [1/1] : 0...10...20...30...40...50...60...70...80...90...100 - done.\n",
      "A2021265_day_merge.tif\n",
      "0...10...20...30...40...50...60...70...80...90...100 - done.\n",
      "Creating output file that is 1084P x 916L.\n",
      "Processing A2021265_day_merge.tif [1/1] : 0...10...20...30...40...50...60...70...80...90...100 - done.\n",
      "A2021273_day_merge.tif\n"
     ]
    },
    {
     "name": "stdout",
     "output_type": "stream",
     "text": [
      "0...10...20...30...40...50...60...70...80...90...100 - done.\n",
      "Creating output file that is 1084P x 916L.\n",
      "Processing A2021273_day_merge.tif [1/1] : 0...10...20...30...40...50...60...70...80...90...100 - done.\n",
      "A2021097_night_merge.tif\n",
      "0...10...20...30...40...50...60...70...80...90...100 - done.\n",
      "Creating output file that is 1084P x 916L.\n",
      "Processing A2021097_night_merge.tif [1/1] : 0...10...20...30...40...50...60...70...80...90...100 - done.\n",
      "A2021105_night_merge.tif\n",
      "0...10...20...30...40...50...60...70...80...90...100 - done.\n",
      "Creating output file that is 1084P x 916L.\n",
      "Processing A2021105_night_merge.tif [1/1] : 0...10...20...30...40...50...60...70...80...90...100 - done.\n",
      "A2021113_night_merge.tif\n",
      "0...10...20...30...40...50...60...70...80...90...100 - done.\n",
      "Creating output file that is 1084P x 916L.\n",
      "Processing A2021113_night_merge.tif [1/1] : 0...10...20...30...40...50...60...70...80...90...100 - done.\n",
      "A2021121_night_merge.tif\n",
      "0...10...20...30...40...50...60...70...80...90...100 - done.\n",
      "Creating output file that is 1084P x 916L.\n",
      "Processing A2021121_night_merge.tif [1/1] : 0...10...20...30...40...50...60...70...80...90...100 - done.\n",
      "A2021129_night_merge.tif\n",
      "0...10...20...30...40...50...60...70...80...90...100 - done.\n",
      "Creating output file that is 1084P x 916L.\n",
      "Processing A2021129_night_merge.tif [1/1] : 0...10...20...30...40...50...60...70...80...90...100 - done.\n",
      "A2021137_night_merge.tif\n",
      "0...10...20...30...40...50...60...70...80...90...100 - done.\n",
      "Creating output file that is 1084P x 916L.\n",
      "Processing A2021137_night_merge.tif [1/1] : 0...10...20...30...40...50...60...70...80...90...100 - done.\n",
      "A2021145_night_merge.tif\n",
      "0...10...20...30...40...50...60...70...80...90...100 - done.\n",
      "Creating output file that is 1084P x 916L.\n",
      "Processing A2021145_night_merge.tif [1/1] : 0...10...20...30...40...50...60...70...80...90...100 - done.\n",
      "A2021153_night_merge.tif\n",
      "0...10...20...30...40...50...60...70...80...90...100 - done.\n",
      "Creating output file that is 1084P x 916L.\n",
      "Processing A2021153_night_merge.tif [1/1] : 0...10...20...30...40...50...60...70...80...90...100 - done.\n",
      "A2021161_night_merge.tif\n",
      "0...10...20...30...40...50...60...70...80...90...100 - done.\n",
      "Creating output file that is 1084P x 916L.\n",
      "Processing A2021161_night_merge.tif [1/1] : 0...10...20...30...40...50...60...70...80...90...100 - done.\n",
      "A2021169_night_merge.tif\n",
      "0...10...20...30...40...50...60...70...80...90...100 - done.\n",
      "Creating output file that is 1084P x 916L.\n",
      "Processing A2021169_night_merge.tif [1/1] : 0...10...20...30...40...50...60...70...80...90...100 - done.\n",
      "A2021177_night_merge.tif\n",
      "0...10...20...30...40...50...60...70...80...90...100 - done.\n",
      "Creating output file that is 1084P x 916L.\n",
      "Processing A2021177_night_merge.tif [1/1] : 0...10...20...30...40...50...60...70...80...90...100 - done.\n",
      "A2021185_night_merge.tif\n",
      "0...10...20...30...40...50...60...70...80...90...100 - done.\n",
      "Creating output file that is 1084P x 916L.\n",
      "Processing A2021185_night_merge.tif [1/1] : 0...10...20...30...40...50...60...70...80...90...100 - done.\n",
      "A2021193_night_merge.tif\n",
      "0...10...20...30...40...50...60...70...80...90...100 - done.\n",
      "Creating output file that is 1084P x 916L.\n",
      "Processing A2021193_night_merge.tif [1/1] : 0...10...20...30...40...50...60...70...80...90...100 - done.\n",
      "A2021201_night_merge.tif\n",
      "0...10...20...30...40...50...60...70...80...90...100 - done.\n",
      "Creating output file that is 1084P x 916L.\n",
      "Processing A2021201_night_merge.tif [1/1] : 0...10...20...30...40...50...60...70...80...90...100 - done.\n",
      "A2021209_night_merge.tif\n",
      "0...10...20...30...40...50...60...70...80...90...100 - done.\n",
      "Creating output file that is 1084P x 916L.\n",
      "Processing A2021209_night_merge.tif [1/1] : 0...10...20...30...40...50...60...70...80...90...100 - done.\n",
      "A2021217_night_merge.tif\n",
      "0...10...20...30...40...50...60...70...80...90...100 - done.\n",
      "Creating output file that is 1084P x 916L.\n",
      "Processing A2021217_night_merge.tif [1/1] : 0...10...20...30...40...50...60...70...80...90...100 - done.\n",
      "A2021225_night_merge.tif\n",
      "0...10...20...30...40...50...60...70...80...90...100 - done.\n",
      "Creating output file that is 1084P x 916L.\n",
      "Processing A2021225_night_merge.tif [1/1] : 0...10...20...30...40...50...60...70...80...90...100 - done.\n",
      "A2021233_night_merge.tif\n",
      "0...10...20...30...40...50...60...70...80...90...100 - done.\n",
      "Creating output file that is 1084P x 916L.\n",
      "Processing A2021233_night_merge.tif [1/1] : 0...10...20...30...40...50...60...70...80...90...100 - done.\n",
      "A2021241_night_merge.tif\n",
      "0...10...20...30...40...50...60...70...80...90...100 - done.\n",
      "Creating output file that is 1084P x 916L.\n",
      "Processing A2021241_night_merge.tif [1/1] : 0...10...20...30...40...50...60...70...80...90...100 - done.\n",
      "A2021249_night_merge.tif\n",
      "0...10...20...30...40...50...60...70...80...90...100 - done.\n",
      "Creating output file that is 1084P x 916L.\n",
      "Processing A2021249_night_merge.tif [1/1] : 0...10...20...30...40...50...60...70...80...90...100 - done.\n",
      "A2021257_night_merge.tif\n",
      "0...10...20...30...40...50...60...70...80...90...100 - done.\n",
      "Creating output file that is 1084P x 916L.\n",
      "Processing A2021257_night_merge.tif [1/1] : 0...10...20...30...40...50...60...70...80...90...100 - done.\n",
      "A2021265_night_merge.tif\n",
      "0...10...20...30...40...50...60...70...80...90...100 - done.\n",
      "Creating output file that is 1084P x 916L.\n",
      "Processing A2021265_night_merge.tif [1/1] : 0...10...20...30...40...50...60...70...80...90...100 - done.\n",
      "A2021273_night_merge.tif\n",
      "0...10...20...30...40...50...60...70...80...90...100 - done.\n",
      "Creating output file that is 1084P x 916L.\n",
      "Processing A2021273_night_merge.tif [1/1] : 0...10...20...30...40...50...60...70...80...90...100 - done.\n"
     ]
    }
   ],
   "source": [
    "for year in years:\n",
    "    mypath = \"/media/sg/91d62d44-8446-4f66-8327-bc09e774cbb1/home/df/Projects/lst_8day/\"+str(year)\n",
    "    os.chdir(mypath)\n",
    "    grouped = make_dataframe(mypath)\n",
    "    create_lst_day(year,grouped)\n",
    "    create_lst_night(year,grouped)"
   ]
  },
  {
   "cell_type": "code",
   "execution_count": 23,
   "metadata": {
    "collapsed": true
   },
   "outputs": [
    {
     "data": {
      "text/html": [
       "<div>\n",
       "<style scoped>\n",
       "    .dataframe tbody tr th:only-of-type {\n",
       "        vertical-align: middle;\n",
       "    }\n",
       "\n",
       "    .dataframe tbody tr th {\n",
       "        vertical-align: top;\n",
       "    }\n",
       "\n",
       "    .dataframe thead th {\n",
       "        text-align: right;\n",
       "    }\n",
       "</style>\n",
       "<table border=\"1\" class=\"dataframe\">\n",
       "  <thead>\n",
       "    <tr style=\"text-align: right;\">\n",
       "      <th></th>\n",
       "      <th>date</th>\n",
       "      <th>image</th>\n",
       "    </tr>\n",
       "  </thead>\n",
       "  <tbody>\n",
       "    <tr>\n",
       "      <th>0</th>\n",
       "      <td>A2021097</td>\n",
       "      <td>[MYD11A2.A2021097.h19v05.006.2021107094824.hdf...</td>\n",
       "    </tr>\n",
       "    <tr>\n",
       "      <th>1</th>\n",
       "      <td>A2021105</td>\n",
       "      <td>[MYD11A2.A2021105.h20v05.006.2021114053150.hdf...</td>\n",
       "    </tr>\n",
       "    <tr>\n",
       "      <th>2</th>\n",
       "      <td>A2021113</td>\n",
       "      <td>[MYD11A2.A2021113.h19v04.006.2021122082757.hdf...</td>\n",
       "    </tr>\n",
       "    <tr>\n",
       "      <th>3</th>\n",
       "      <td>A2021121</td>\n",
       "      <td>[MYD11A2.A2021121.h20v05.006.2021131025710.hdf...</td>\n",
       "    </tr>\n",
       "    <tr>\n",
       "      <th>4</th>\n",
       "      <td>A2021129</td>\n",
       "      <td>[MYD11A2.A2021129.h19v04.006.2021138051028.hdf...</td>\n",
       "    </tr>\n",
       "    <tr>\n",
       "      <th>...</th>\n",
       "      <td>...</td>\n",
       "      <td>...</td>\n",
       "    </tr>\n",
       "    <tr>\n",
       "      <th>104</th>\n",
       "      <td>A2021269</td>\n",
       "      <td>[MOD11A1.A2021269.h20v05.006.2021278165252.hdf...</td>\n",
       "    </tr>\n",
       "    <tr>\n",
       "      <th>105</th>\n",
       "      <td>A2021270</td>\n",
       "      <td>[MOD11A1.A2021270.h20v05.006.2021278181352.hdf...</td>\n",
       "    </tr>\n",
       "    <tr>\n",
       "      <th>106</th>\n",
       "      <td>A2021271</td>\n",
       "      <td>[MOD11A1.A2021271.h20v05.006.2021278183332.hdf...</td>\n",
       "    </tr>\n",
       "    <tr>\n",
       "      <th>107</th>\n",
       "      <td>A2021272</td>\n",
       "      <td>[MOD11A1.A2021272.h20v05.006.2021279225524.hdf...</td>\n",
       "    </tr>\n",
       "    <tr>\n",
       "      <th>108</th>\n",
       "      <td>A2021273</td>\n",
       "      <td>[MYD11A2.A2021273.h20v05.006.2021282045720.hdf...</td>\n",
       "    </tr>\n",
       "  </tbody>\n",
       "</table>\n",
       "<p>109 rows × 2 columns</p>\n",
       "</div>"
      ],
      "text/plain": [
       "         date                                              image\n",
       "0    A2021097  [MYD11A2.A2021097.h19v05.006.2021107094824.hdf...\n",
       "1    A2021105  [MYD11A2.A2021105.h20v05.006.2021114053150.hdf...\n",
       "2    A2021113  [MYD11A2.A2021113.h19v04.006.2021122082757.hdf...\n",
       "3    A2021121  [MYD11A2.A2021121.h20v05.006.2021131025710.hdf...\n",
       "4    A2021129  [MYD11A2.A2021129.h19v04.006.2021138051028.hdf...\n",
       "..        ...                                                ...\n",
       "104  A2021269  [MOD11A1.A2021269.h20v05.006.2021278165252.hdf...\n",
       "105  A2021270  [MOD11A1.A2021270.h20v05.006.2021278181352.hdf...\n",
       "106  A2021271  [MOD11A1.A2021271.h20v05.006.2021278183332.hdf...\n",
       "107  A2021272  [MOD11A1.A2021272.h20v05.006.2021279225524.hdf...\n",
       "108  A2021273  [MYD11A2.A2021273.h20v05.006.2021282045720.hdf...\n",
       "\n",
       "[109 rows x 2 columns]"
      ]
     },
     "execution_count": 23,
     "metadata": {},
     "output_type": "execute_result"
    }
   ],
   "source": [
    "grouped.loc[2]['image']"
   ]
  },
  {
   "cell_type": "markdown",
   "metadata": {},
   "source": [
    "# NDVI"
   ]
  },
  {
   "cell_type": "code",
   "execution_count": null,
   "metadata": {},
   "outputs": [],
   "source": [
    "/media/sg/91d62d44-8446-4f66-8327-bc09e774cbb1/home/df/Projects/modis_ndvi"
   ]
  },
  {
   "cell_type": "code",
   "execution_count": 36,
   "metadata": {},
   "outputs": [],
   "source": [
    "def make_dataframe(mypath):\n",
    "    hdf_name = []\n",
    "    for image in os.listdir(mypath):\n",
    "        if image.endswith('hdf'):\n",
    "            hdf_name.append(image)\n",
    "    dates = []\n",
    "    for name in hdf_name:\n",
    "        dates.append(name.split('.')[1])\n",
    "    df_images = pd.DataFrame(list(zip(hdf_name, dates)), columns = ['image', 'date']) \n",
    "    grouped = df_images.groupby('date')['image'].apply(list).reset_index()\n",
    "    grouped['image'].count()\n",
    "    return grouped"
   ]
  },
  {
   "cell_type": "code",
   "execution_count": 72,
   "metadata": {},
   "outputs": [],
   "source": [
    "def mosaic_and_clip_ndvi(date,paths,mode=''):\n",
    "    os.chdir('/media/sg/91d62d44-8446-4f66-8327-bc09e774cbb1/home/df/Projects/modis_composites')\n",
    "    st_name = date+'_'+mode+'_merge.tif'\n",
    "    print(st_name)\n",
    "    merge_command = ['gdal_merge.py', \"-o\",st_name, ' '.join(paths)]\n",
    "    merge_command = ' '.join(merge_command)\n",
    "    print(merge_command)\n",
    "    #cmd_a = 'gdal_merge.py -o '+ st_name'-ul_lr 19.46 34.44 28.29 41.9 '\n",
    "    subprocess.call(merge_command,shell=True)\n",
    "    warp_command = ['gdalwarp','-t_srs','EPSG:4326','-te 19.46 34.44 28.29 41.9', st_name,st_name.split('.')[0]+'_warp.tif']\n",
    "    warp_command = ' '.join(warp_command)\n",
    "    subprocess.call(warp_command,shell=True)\n",
    "    call([\"rm\", st_name])"
   ]
  },
  {
   "cell_type": "code",
   "execution_count": 73,
   "metadata": {},
   "outputs": [],
   "source": [
    "def create_ndvi_evi(year,grouped):\n",
    "    for index,row in grouped.iterrows():#['image'].loc[0]:\n",
    "        paths_ndvi = []\n",
    "        paths_evi = []\n",
    "        for d in row['image']: \n",
    "            path_ndvi = 'HDF4_EOS:EOS_GRID:\"/media/sg/91d62d44-8446-4f66-8327-bc09e774cbb1/home/df/Projects/modis_ndvi/'+ d +'\":MODIS_Grid_16DAY_500m_VI:\"500m 16 days NDVI\"'\n",
    "            path_evi = 'HDF4_EOS:EOS_GRID:\"/media/sg/91d62d44-8446-4f66-8327-bc09e774cbb1/home/df/Projects/modis_ndvi/'+ d +'\":MODIS_Grid_16DAY_500m_VI:\"500m 16 days EVI\"'\n",
    "            paths_ndvi.append(path_ndvi)\n",
    "            paths_evi.append(path_evi)\n",
    "            #mosaic_and_clip_lst(path[0],paths,timeofday)\n",
    "        date = d.split('.')[1]\n",
    "        timeofday = 'day'\n",
    "        mosaic_and_clip_ndvi(date,paths_ndvi,'ndvi')\n",
    "        mosaic_and_clip_ndvi(date,paths_evi,'evi')"
   ]
  },
  {
   "cell_type": "code",
   "execution_count": 74,
   "metadata": {
    "collapsed": true
   },
   "outputs": [
    {
     "name": "stdout",
     "output_type": "stream",
     "text": [
      "A2020097_ndvi_merge.tif\n",
      "gdal_merge.py -o A2020097_ndvi_merge.tif HDF4_EOS:EOS_GRID:\"/media/sg/91d62d44-8446-4f66-8327-bc09e774cbb1/home/df/Projects/modis_ndvi/MOD13A1.A2020097.h19v04.006.2020114012305.hdf\":MODIS_Grid_16DAY_500m_VI:\"500m 16 days NDVI\" HDF4_EOS:EOS_GRID:\"/media/sg/91d62d44-8446-4f66-8327-bc09e774cbb1/home/df/Projects/modis_ndvi/MOD13A1.A2020097.h20v05.006.2020114012517.hdf\":MODIS_Grid_16DAY_500m_VI:\"500m 16 days NDVI\" HDF4_EOS:EOS_GRID:\"/media/sg/91d62d44-8446-4f66-8327-bc09e774cbb1/home/df/Projects/modis_ndvi/MOD13A1.A2020097.h19v05.006.2020114011403.hdf\":MODIS_Grid_16DAY_500m_VI:\"500m 16 days NDVI\"\n",
      "0...10...20...30...40...50...60...70...80...90...100 - done.\n",
      "Creating output file that is 2168P x 1832L.\n",
      "Processing A2020097_ndvi_merge.tif [1/1] : 0...10...20...30...40...50...60...70...80...90...100 - done.\n",
      "A2020097_evi_merge.tif\n",
      "gdal_merge.py -o A2020097_evi_merge.tif HDF4_EOS:EOS_GRID:\"/media/sg/91d62d44-8446-4f66-8327-bc09e774cbb1/home/df/Projects/modis_ndvi/MOD13A1.A2020097.h19v04.006.2020114012305.hdf\":MODIS_Grid_16DAY_500m_VI:\"500m 16 days EVI\" HDF4_EOS:EOS_GRID:\"/media/sg/91d62d44-8446-4f66-8327-bc09e774cbb1/home/df/Projects/modis_ndvi/MOD13A1.A2020097.h20v05.006.2020114012517.hdf\":MODIS_Grid_16DAY_500m_VI:\"500m 16 days EVI\" HDF4_EOS:EOS_GRID:\"/media/sg/91d62d44-8446-4f66-8327-bc09e774cbb1/home/df/Projects/modis_ndvi/MOD13A1.A2020097.h19v05.006.2020114011403.hdf\":MODIS_Grid_16DAY_500m_VI:\"500m 16 days EVI\"\n",
      "0...10...20...30...40...50...60...70...80...90...100 - done.\n",
      "Creating output file that is 2168P x 1832L.\n",
      "Processing A2020097_evi_merge.tif [1/1] : 0...10...20...30...40...50...60...70...80...90...100 - done.\n",
      "A2020105_ndvi_merge.tif\n",
      "gdal_merge.py -o A2020105_ndvi_merge.tif HDF4_EOS:EOS_GRID:\"/media/sg/91d62d44-8446-4f66-8327-bc09e774cbb1/home/df/Projects/modis_ndvi/MYD13A1.A2020105.h20v05.006.2020122002226.hdf\":MODIS_Grid_16DAY_500m_VI:\"500m 16 days NDVI\" HDF4_EOS:EOS_GRID:\"/media/sg/91d62d44-8446-4f66-8327-bc09e774cbb1/home/df/Projects/modis_ndvi/MYD13A1.A2020105.h19v05.006.2020122002203.hdf\":MODIS_Grid_16DAY_500m_VI:\"500m 16 days NDVI\" HDF4_EOS:EOS_GRID:\"/media/sg/91d62d44-8446-4f66-8327-bc09e774cbb1/home/df/Projects/modis_ndvi/MYD13A1.A2020105.h19v04.006.2020122001824.hdf\":MODIS_Grid_16DAY_500m_VI:\"500m 16 days NDVI\"\n",
      "0...10...20...30...40...50...60...70...80...90...100 - done.\n",
      "Creating output file that is 2168P x 1832L.\n",
      "Processing A2020105_ndvi_merge.tif [1/1] : 0...10...20...30...40...50...60...70...80...90...100 - done.\n",
      "A2020105_evi_merge.tif\n",
      "gdal_merge.py -o A2020105_evi_merge.tif HDF4_EOS:EOS_GRID:\"/media/sg/91d62d44-8446-4f66-8327-bc09e774cbb1/home/df/Projects/modis_ndvi/MYD13A1.A2020105.h20v05.006.2020122002226.hdf\":MODIS_Grid_16DAY_500m_VI:\"500m 16 days EVI\" HDF4_EOS:EOS_GRID:\"/media/sg/91d62d44-8446-4f66-8327-bc09e774cbb1/home/df/Projects/modis_ndvi/MYD13A1.A2020105.h19v05.006.2020122002203.hdf\":MODIS_Grid_16DAY_500m_VI:\"500m 16 days EVI\" HDF4_EOS:EOS_GRID:\"/media/sg/91d62d44-8446-4f66-8327-bc09e774cbb1/home/df/Projects/modis_ndvi/MYD13A1.A2020105.h19v04.006.2020122001824.hdf\":MODIS_Grid_16DAY_500m_VI:\"500m 16 days EVI\"\n",
      "0...10...20...30...40...50...60...70...80...90...100 - done.\n",
      "Creating output file that is 2168P x 1832L.\n",
      "Processing A2020105_evi_merge.tif [1/1] : 0...10...20...30...40...50...60...70...80...90...100 - done.\n",
      "A2020113_ndvi_merge.tif\n",
      "gdal_merge.py -o A2020113_ndvi_merge.tif HDF4_EOS:EOS_GRID:\"/media/sg/91d62d44-8446-4f66-8327-bc09e774cbb1/home/df/Projects/modis_ndvi/MOD13A1.A2020113.h20v05.006.2020130014754.hdf\":MODIS_Grid_16DAY_500m_VI:\"500m 16 days NDVI\" HDF4_EOS:EOS_GRID:\"/media/sg/91d62d44-8446-4f66-8327-bc09e774cbb1/home/df/Projects/modis_ndvi/MOD13A1.A2020113.h19v05.006.2020130015758.hdf\":MODIS_Grid_16DAY_500m_VI:\"500m 16 days NDVI\" HDF4_EOS:EOS_GRID:\"/media/sg/91d62d44-8446-4f66-8327-bc09e774cbb1/home/df/Projects/modis_ndvi/MOD13A1.A2020113.h19v04.006.2020130014216.hdf\":MODIS_Grid_16DAY_500m_VI:\"500m 16 days NDVI\"\n",
      "0...10...20...30...40...50...60...70...80...90...100 - done.\n",
      "Creating output file that is 2168P x 1832L.\n",
      "Processing A2020113_ndvi_merge.tif [1/1] : 0...10...20...30...40...50...60...70...80...90...100 - done.\n",
      "A2020113_evi_merge.tif\n",
      "gdal_merge.py -o A2020113_evi_merge.tif HDF4_EOS:EOS_GRID:\"/media/sg/91d62d44-8446-4f66-8327-bc09e774cbb1/home/df/Projects/modis_ndvi/MOD13A1.A2020113.h20v05.006.2020130014754.hdf\":MODIS_Grid_16DAY_500m_VI:\"500m 16 days EVI\" HDF4_EOS:EOS_GRID:\"/media/sg/91d62d44-8446-4f66-8327-bc09e774cbb1/home/df/Projects/modis_ndvi/MOD13A1.A2020113.h19v05.006.2020130015758.hdf\":MODIS_Grid_16DAY_500m_VI:\"500m 16 days EVI\" HDF4_EOS:EOS_GRID:\"/media/sg/91d62d44-8446-4f66-8327-bc09e774cbb1/home/df/Projects/modis_ndvi/MOD13A1.A2020113.h19v04.006.2020130014216.hdf\":MODIS_Grid_16DAY_500m_VI:\"500m 16 days EVI\"\n",
      "0...10...20...30...40...50...60...70...80...90...100 - done.\n",
      "Creating output file that is 2168P x 1832L.\n",
      "Processing A2020113_evi_merge.tif [1/1] : 0...10...20...30...40...50...60...70...80...90...100 - done.\n",
      "A2020121_ndvi_merge.tif\n",
      "gdal_merge.py -o A2020121_ndvi_merge.tif HDF4_EOS:EOS_GRID:\"/media/sg/91d62d44-8446-4f66-8327-bc09e774cbb1/home/df/Projects/modis_ndvi/MYD13A1.A2020121.h19v04.006.2020139063426.hdf\":MODIS_Grid_16DAY_500m_VI:\"500m 16 days NDVI\" HDF4_EOS:EOS_GRID:\"/media/sg/91d62d44-8446-4f66-8327-bc09e774cbb1/home/df/Projects/modis_ndvi/MYD13A1.A2020121.h19v05.006.2020139064302.hdf\":MODIS_Grid_16DAY_500m_VI:\"500m 16 days NDVI\" HDF4_EOS:EOS_GRID:\"/media/sg/91d62d44-8446-4f66-8327-bc09e774cbb1/home/df/Projects/modis_ndvi/MYD13A1.A2020121.h20v05.006.2020139064719.hdf\":MODIS_Grid_16DAY_500m_VI:\"500m 16 days NDVI\"\n",
      "0...10...20...30...40...50...60...70...80...90...100 - done.\n",
      "Creating output file that is 2168P x 1832L.\n",
      "Processing A2020121_ndvi_merge.tif [1/1] : 0...10...20...30...40...50...60...70...80...90...100 - done.\n",
      "A2020121_evi_merge.tif\n",
      "gdal_merge.py -o A2020121_evi_merge.tif HDF4_EOS:EOS_GRID:\"/media/sg/91d62d44-8446-4f66-8327-bc09e774cbb1/home/df/Projects/modis_ndvi/MYD13A1.A2020121.h19v04.006.2020139063426.hdf\":MODIS_Grid_16DAY_500m_VI:\"500m 16 days EVI\" HDF4_EOS:EOS_GRID:\"/media/sg/91d62d44-8446-4f66-8327-bc09e774cbb1/home/df/Projects/modis_ndvi/MYD13A1.A2020121.h19v05.006.2020139064302.hdf\":MODIS_Grid_16DAY_500m_VI:\"500m 16 days EVI\" HDF4_EOS:EOS_GRID:\"/media/sg/91d62d44-8446-4f66-8327-bc09e774cbb1/home/df/Projects/modis_ndvi/MYD13A1.A2020121.h20v05.006.2020139064719.hdf\":MODIS_Grid_16DAY_500m_VI:\"500m 16 days EVI\"\n",
      "0...10...20...30...40...50...60...70...80...90...100 - done.\n",
      "Creating output file that is 2168P x 1832L.\n",
      "Processing A2020121_evi_merge.tif [1/1] : 0...10...20...30...40...50...60...70...80...90...100 - done.\n",
      "A2020129_ndvi_merge.tif\n",
      "gdal_merge.py -o A2020129_ndvi_merge.tif HDF4_EOS:EOS_GRID:\"/media/sg/91d62d44-8446-4f66-8327-bc09e774cbb1/home/df/Projects/modis_ndvi/MOD13A1.A2020129.h19v05.006.2020145234147.hdf\":MODIS_Grid_16DAY_500m_VI:\"500m 16 days NDVI\" HDF4_EOS:EOS_GRID:\"/media/sg/91d62d44-8446-4f66-8327-bc09e774cbb1/home/df/Projects/modis_ndvi/MOD13A1.A2020129.h19v04.006.2020145233859.hdf\":MODIS_Grid_16DAY_500m_VI:\"500m 16 days NDVI\" HDF4_EOS:EOS_GRID:\"/media/sg/91d62d44-8446-4f66-8327-bc09e774cbb1/home/df/Projects/modis_ndvi/MOD13A1.A2020129.h20v05.006.2020145235819.hdf\":MODIS_Grid_16DAY_500m_VI:\"500m 16 days NDVI\"\n",
      "0...10...20...30...40...50...60...70...80...90...100 - done.\n",
      "Creating output file that is 2168P x 1832L.\n",
      "Processing A2020129_ndvi_merge.tif [1/1] : 0...10...20...30...40...50...60...70...80...90...100 - done.\n",
      "A2020129_evi_merge.tif\n",
      "gdal_merge.py -o A2020129_evi_merge.tif HDF4_EOS:EOS_GRID:\"/media/sg/91d62d44-8446-4f66-8327-bc09e774cbb1/home/df/Projects/modis_ndvi/MOD13A1.A2020129.h19v05.006.2020145234147.hdf\":MODIS_Grid_16DAY_500m_VI:\"500m 16 days EVI\" HDF4_EOS:EOS_GRID:\"/media/sg/91d62d44-8446-4f66-8327-bc09e774cbb1/home/df/Projects/modis_ndvi/MOD13A1.A2020129.h19v04.006.2020145233859.hdf\":MODIS_Grid_16DAY_500m_VI:\"500m 16 days EVI\" HDF4_EOS:EOS_GRID:\"/media/sg/91d62d44-8446-4f66-8327-bc09e774cbb1/home/df/Projects/modis_ndvi/MOD13A1.A2020129.h20v05.006.2020145235819.hdf\":MODIS_Grid_16DAY_500m_VI:\"500m 16 days EVI\"\n",
      "0...10...20...30...40...50...60...70...80...90...100 - done.\n",
      "Creating output file that is 2168P x 1832L.\n",
      "Processing A2020129_evi_merge.tif [1/1] : 0...10...20...30...40...50...60...70...80...90...100 - done.\n",
      "A2020137_ndvi_merge.tif\n",
      "gdal_merge.py -o A2020137_ndvi_merge.tif HDF4_EOS:EOS_GRID:\"/media/sg/91d62d44-8446-4f66-8327-bc09e774cbb1/home/df/Projects/modis_ndvi/MYD13A1.A2020137.h19v04.006.2020154001203.hdf\":MODIS_Grid_16DAY_500m_VI:\"500m 16 days NDVI\" HDF4_EOS:EOS_GRID:\"/media/sg/91d62d44-8446-4f66-8327-bc09e774cbb1/home/df/Projects/modis_ndvi/MYD13A1.A2020137.h20v05.006.2020154001216.hdf\":MODIS_Grid_16DAY_500m_VI:\"500m 16 days NDVI\" HDF4_EOS:EOS_GRID:\"/media/sg/91d62d44-8446-4f66-8327-bc09e774cbb1/home/df/Projects/modis_ndvi/MYD13A1.A2020137.h19v05.006.2020154000617.hdf\":MODIS_Grid_16DAY_500m_VI:\"500m 16 days NDVI\"\n"
     ]
    },
    {
     "name": "stdout",
     "output_type": "stream",
     "text": [
      "0...10...20...30...40...50...60...70...80...90...100 - done.\n",
      "Creating output file that is 2168P x 1832L.\n",
      "Processing A2020137_ndvi_merge.tif [1/1] : 0...10...20...30...40...50...60...70...80...90...100 - done.\n",
      "A2020137_evi_merge.tif\n",
      "gdal_merge.py -o A2020137_evi_merge.tif HDF4_EOS:EOS_GRID:\"/media/sg/91d62d44-8446-4f66-8327-bc09e774cbb1/home/df/Projects/modis_ndvi/MYD13A1.A2020137.h19v04.006.2020154001203.hdf\":MODIS_Grid_16DAY_500m_VI:\"500m 16 days EVI\" HDF4_EOS:EOS_GRID:\"/media/sg/91d62d44-8446-4f66-8327-bc09e774cbb1/home/df/Projects/modis_ndvi/MYD13A1.A2020137.h20v05.006.2020154001216.hdf\":MODIS_Grid_16DAY_500m_VI:\"500m 16 days EVI\" HDF4_EOS:EOS_GRID:\"/media/sg/91d62d44-8446-4f66-8327-bc09e774cbb1/home/df/Projects/modis_ndvi/MYD13A1.A2020137.h19v05.006.2020154000617.hdf\":MODIS_Grid_16DAY_500m_VI:\"500m 16 days EVI\"\n",
      "0...10...20...30...40...50...60...70...80...90...100 - done.\n",
      "Creating output file that is 2168P x 1832L.\n",
      "Processing A2020137_evi_merge.tif [1/1] : 0...10...20...30...40...50...60...70...80...90...100 - done.\n",
      "A2020145_ndvi_merge.tif\n",
      "gdal_merge.py -o A2020145_ndvi_merge.tif HDF4_EOS:EOS_GRID:\"/media/sg/91d62d44-8446-4f66-8327-bc09e774cbb1/home/df/Projects/modis_ndvi/MOD13A1.A2020145.h20v05.006.2020162014130.hdf\":MODIS_Grid_16DAY_500m_VI:\"500m 16 days NDVI\" HDF4_EOS:EOS_GRID:\"/media/sg/91d62d44-8446-4f66-8327-bc09e774cbb1/home/df/Projects/modis_ndvi/MOD13A1.A2020145.h19v04.006.2020162015233.hdf\":MODIS_Grid_16DAY_500m_VI:\"500m 16 days NDVI\" HDF4_EOS:EOS_GRID:\"/media/sg/91d62d44-8446-4f66-8327-bc09e774cbb1/home/df/Projects/modis_ndvi/MOD13A1.A2020145.h19v05.006.2020162020312.hdf\":MODIS_Grid_16DAY_500m_VI:\"500m 16 days NDVI\"\n",
      "0...10...20...30...40...50...60...70...80...90...100 - done.\n",
      "Creating output file that is 2168P x 1832L.\n",
      "Processing A2020145_ndvi_merge.tif [1/1] : 0...10...20...30...40...50...60...70...80...90...100 - done.\n",
      "A2020145_evi_merge.tif\n",
      "gdal_merge.py -o A2020145_evi_merge.tif HDF4_EOS:EOS_GRID:\"/media/sg/91d62d44-8446-4f66-8327-bc09e774cbb1/home/df/Projects/modis_ndvi/MOD13A1.A2020145.h20v05.006.2020162014130.hdf\":MODIS_Grid_16DAY_500m_VI:\"500m 16 days EVI\" HDF4_EOS:EOS_GRID:\"/media/sg/91d62d44-8446-4f66-8327-bc09e774cbb1/home/df/Projects/modis_ndvi/MOD13A1.A2020145.h19v04.006.2020162015233.hdf\":MODIS_Grid_16DAY_500m_VI:\"500m 16 days EVI\" HDF4_EOS:EOS_GRID:\"/media/sg/91d62d44-8446-4f66-8327-bc09e774cbb1/home/df/Projects/modis_ndvi/MOD13A1.A2020145.h19v05.006.2020162020312.hdf\":MODIS_Grid_16DAY_500m_VI:\"500m 16 days EVI\"\n",
      "0...10...20...30...40...50...60...70...80...90...100 - done.\n",
      "Creating output file that is 2168P x 1832L.\n",
      "Processing A2020145_evi_merge.tif [1/1] : 0...10...20...30...40...50...60...70...80...90...100 - done.\n",
      "A2020153_ndvi_merge.tif\n",
      "gdal_merge.py -o A2020153_ndvi_merge.tif HDF4_EOS:EOS_GRID:\"/media/sg/91d62d44-8446-4f66-8327-bc09e774cbb1/home/df/Projects/modis_ndvi/MYD13A1.A2020153.h19v04.006.2020170021629.hdf\":MODIS_Grid_16DAY_500m_VI:\"500m 16 days NDVI\" HDF4_EOS:EOS_GRID:\"/media/sg/91d62d44-8446-4f66-8327-bc09e774cbb1/home/df/Projects/modis_ndvi/MYD13A1.A2020153.h19v05.006.2020170014559.hdf\":MODIS_Grid_16DAY_500m_VI:\"500m 16 days NDVI\" HDF4_EOS:EOS_GRID:\"/media/sg/91d62d44-8446-4f66-8327-bc09e774cbb1/home/df/Projects/modis_ndvi/MYD13A1.A2020153.h20v05.006.2020170015150.hdf\":MODIS_Grid_16DAY_500m_VI:\"500m 16 days NDVI\"\n",
      "0...10...20...30...40...50...60...70...80...90...100 - done.\n",
      "Creating output file that is 2168P x 1832L.\n",
      "Processing A2020153_ndvi_merge.tif [1/1] : 0...10...20...30...40...50...60...70...80...90...100 - done.\n",
      "A2020153_evi_merge.tif\n",
      "gdal_merge.py -o A2020153_evi_merge.tif HDF4_EOS:EOS_GRID:\"/media/sg/91d62d44-8446-4f66-8327-bc09e774cbb1/home/df/Projects/modis_ndvi/MYD13A1.A2020153.h19v04.006.2020170021629.hdf\":MODIS_Grid_16DAY_500m_VI:\"500m 16 days EVI\" HDF4_EOS:EOS_GRID:\"/media/sg/91d62d44-8446-4f66-8327-bc09e774cbb1/home/df/Projects/modis_ndvi/MYD13A1.A2020153.h19v05.006.2020170014559.hdf\":MODIS_Grid_16DAY_500m_VI:\"500m 16 days EVI\" HDF4_EOS:EOS_GRID:\"/media/sg/91d62d44-8446-4f66-8327-bc09e774cbb1/home/df/Projects/modis_ndvi/MYD13A1.A2020153.h20v05.006.2020170015150.hdf\":MODIS_Grid_16DAY_500m_VI:\"500m 16 days EVI\"\n",
      "0...10...20...30...40...50...60...70...80...90...100 - done.\n",
      "Creating output file that is 2168P x 1832L.\n",
      "Processing A2020153_evi_merge.tif [1/1] : 0...10...20...30...40...50...60...70...80...90...100 - done.\n",
      "A2020161_ndvi_merge.tif\n",
      "gdal_merge.py -o A2020161_ndvi_merge.tif HDF4_EOS:EOS_GRID:\"/media/sg/91d62d44-8446-4f66-8327-bc09e774cbb1/home/df/Projects/modis_ndvi/MOD13A1.A2020161.h19v05.006.2020178013556.hdf\":MODIS_Grid_16DAY_500m_VI:\"500m 16 days NDVI\" HDF4_EOS:EOS_GRID:\"/media/sg/91d62d44-8446-4f66-8327-bc09e774cbb1/home/df/Projects/modis_ndvi/MOD13A1.A2020161.h19v04.006.2020178014319.hdf\":MODIS_Grid_16DAY_500m_VI:\"500m 16 days NDVI\" HDF4_EOS:EOS_GRID:\"/media/sg/91d62d44-8446-4f66-8327-bc09e774cbb1/home/df/Projects/modis_ndvi/MOD13A1.A2020161.h20v05.006.2020178013023.hdf\":MODIS_Grid_16DAY_500m_VI:\"500m 16 days NDVI\"\n",
      "0...10...20...30...40...50...60...70...80...90...100 - done.\n",
      "Creating output file that is 2168P x 1832L.\n",
      "Processing A2020161_ndvi_merge.tif [1/1] : 0...10...20...30...40...50...60...70...80...90...100 - done.\n",
      "A2020161_evi_merge.tif\n",
      "gdal_merge.py -o A2020161_evi_merge.tif HDF4_EOS:EOS_GRID:\"/media/sg/91d62d44-8446-4f66-8327-bc09e774cbb1/home/df/Projects/modis_ndvi/MOD13A1.A2020161.h19v05.006.2020178013556.hdf\":MODIS_Grid_16DAY_500m_VI:\"500m 16 days EVI\" HDF4_EOS:EOS_GRID:\"/media/sg/91d62d44-8446-4f66-8327-bc09e774cbb1/home/df/Projects/modis_ndvi/MOD13A1.A2020161.h19v04.006.2020178014319.hdf\":MODIS_Grid_16DAY_500m_VI:\"500m 16 days EVI\" HDF4_EOS:EOS_GRID:\"/media/sg/91d62d44-8446-4f66-8327-bc09e774cbb1/home/df/Projects/modis_ndvi/MOD13A1.A2020161.h20v05.006.2020178013023.hdf\":MODIS_Grid_16DAY_500m_VI:\"500m 16 days EVI\"\n",
      "0...10...20...30...40...50...60...70...80...90...100 - done.\n",
      "Creating output file that is 2168P x 1832L.\n",
      "Processing A2020161_evi_merge.tif [1/1] : 0...10...20...30...40...50...60...70...80...90...100 - done.\n",
      "A2020169_ndvi_merge.tif\n",
      "gdal_merge.py -o A2020169_ndvi_merge.tif HDF4_EOS:EOS_GRID:\"/media/sg/91d62d44-8446-4f66-8327-bc09e774cbb1/home/df/Projects/modis_ndvi/MYD13A1.A2020169.h19v05.006.2020188233625.hdf\":MODIS_Grid_16DAY_500m_VI:\"500m 16 days NDVI\" HDF4_EOS:EOS_GRID:\"/media/sg/91d62d44-8446-4f66-8327-bc09e774cbb1/home/df/Projects/modis_ndvi/MYD13A1.A2020169.h20v05.006.2020188233543.hdf\":MODIS_Grid_16DAY_500m_VI:\"500m 16 days NDVI\" HDF4_EOS:EOS_GRID:\"/media/sg/91d62d44-8446-4f66-8327-bc09e774cbb1/home/df/Projects/modis_ndvi/MYD13A1.A2020169.h19v04.006.2020188232453.hdf\":MODIS_Grid_16DAY_500m_VI:\"500m 16 days NDVI\"\n",
      "0...10...20...30...40...50...60...70...80...90...100 - done.\n",
      "Creating output file that is 2168P x 1832L.\n",
      "Processing A2020169_ndvi_merge.tif [1/1] : 0...10...20...30...40...50...60...70...80...90...100 - done.\n",
      "A2020169_evi_merge.tif\n",
      "gdal_merge.py -o A2020169_evi_merge.tif HDF4_EOS:EOS_GRID:\"/media/sg/91d62d44-8446-4f66-8327-bc09e774cbb1/home/df/Projects/modis_ndvi/MYD13A1.A2020169.h19v05.006.2020188233625.hdf\":MODIS_Grid_16DAY_500m_VI:\"500m 16 days EVI\" HDF4_EOS:EOS_GRID:\"/media/sg/91d62d44-8446-4f66-8327-bc09e774cbb1/home/df/Projects/modis_ndvi/MYD13A1.A2020169.h20v05.006.2020188233543.hdf\":MODIS_Grid_16DAY_500m_VI:\"500m 16 days EVI\" HDF4_EOS:EOS_GRID:\"/media/sg/91d62d44-8446-4f66-8327-bc09e774cbb1/home/df/Projects/modis_ndvi/MYD13A1.A2020169.h19v04.006.2020188232453.hdf\":MODIS_Grid_16DAY_500m_VI:\"500m 16 days EVI\"\n",
      "0...10...20...30...40...50...60...70...80...90...100 - done.\n",
      "Creating output file that is 2168P x 1832L.\n",
      "Processing A2020169_evi_merge.tif [1/1] : 0...10...20...30...40...50...60...70...80...90...100 - done.\n",
      "A2020177_ndvi_merge.tif\n",
      "gdal_merge.py -o A2020177_ndvi_merge.tif HDF4_EOS:EOS_GRID:\"/media/sg/91d62d44-8446-4f66-8327-bc09e774cbb1/home/df/Projects/modis_ndvi/MOD13A1.A2020177.h19v05.006.2020196233452.hdf\":MODIS_Grid_16DAY_500m_VI:\"500m 16 days NDVI\" HDF4_EOS:EOS_GRID:\"/media/sg/91d62d44-8446-4f66-8327-bc09e774cbb1/home/df/Projects/modis_ndvi/MOD13A1.A2020177.h19v04.006.2020196234141.hdf\":MODIS_Grid_16DAY_500m_VI:\"500m 16 days NDVI\" HDF4_EOS:EOS_GRID:\"/media/sg/91d62d44-8446-4f66-8327-bc09e774cbb1/home/df/Projects/modis_ndvi/MOD13A1.A2020177.h20v05.006.2020196233128.hdf\":MODIS_Grid_16DAY_500m_VI:\"500m 16 days NDVI\"\n"
     ]
    },
    {
     "name": "stdout",
     "output_type": "stream",
     "text": [
      "0...10...20...30...40...50...60...70...80...90...100 - done.\n",
      "Creating output file that is 2168P x 1832L.\n",
      "Processing A2020177_ndvi_merge.tif [1/1] : 0...10...20...30...40...50...60...70...80...90...100 - done.\n",
      "A2020177_evi_merge.tif\n",
      "gdal_merge.py -o A2020177_evi_merge.tif HDF4_EOS:EOS_GRID:\"/media/sg/91d62d44-8446-4f66-8327-bc09e774cbb1/home/df/Projects/modis_ndvi/MOD13A1.A2020177.h19v05.006.2020196233452.hdf\":MODIS_Grid_16DAY_500m_VI:\"500m 16 days EVI\" HDF4_EOS:EOS_GRID:\"/media/sg/91d62d44-8446-4f66-8327-bc09e774cbb1/home/df/Projects/modis_ndvi/MOD13A1.A2020177.h19v04.006.2020196234141.hdf\":MODIS_Grid_16DAY_500m_VI:\"500m 16 days EVI\" HDF4_EOS:EOS_GRID:\"/media/sg/91d62d44-8446-4f66-8327-bc09e774cbb1/home/df/Projects/modis_ndvi/MOD13A1.A2020177.h20v05.006.2020196233128.hdf\":MODIS_Grid_16DAY_500m_VI:\"500m 16 days EVI\"\n",
      "0...10...20...30...40...50...60...70...80...90...100 - done.\n",
      "Creating output file that is 2168P x 1832L.\n",
      "Processing A2020177_evi_merge.tif [1/1] : 0...10...20...30...40...50...60...70...80...90...100 - done.\n",
      "A2020185_ndvi_merge.tif\n",
      "gdal_merge.py -o A2020185_ndvi_merge.tif HDF4_EOS:EOS_GRID:\"/media/sg/91d62d44-8446-4f66-8327-bc09e774cbb1/home/df/Projects/modis_ndvi/MYD13A1.A2020185.h19v05.006.2020202050458.hdf\":MODIS_Grid_16DAY_500m_VI:\"500m 16 days NDVI\" HDF4_EOS:EOS_GRID:\"/media/sg/91d62d44-8446-4f66-8327-bc09e774cbb1/home/df/Projects/modis_ndvi/MYD13A1.A2020185.h20v05.006.2020202043731.hdf\":MODIS_Grid_16DAY_500m_VI:\"500m 16 days NDVI\" HDF4_EOS:EOS_GRID:\"/media/sg/91d62d44-8446-4f66-8327-bc09e774cbb1/home/df/Projects/modis_ndvi/MYD13A1.A2020185.h19v04.006.2020202050846.hdf\":MODIS_Grid_16DAY_500m_VI:\"500m 16 days NDVI\"\n",
      "0...10...20...30...40...50...60...70...80...90...100 - done.\n",
      "Creating output file that is 2168P x 1832L.\n",
      "Processing A2020185_ndvi_merge.tif [1/1] : 0...10...20...30...40...50...60...70...80...90...100 - done.\n",
      "A2020185_evi_merge.tif\n",
      "gdal_merge.py -o A2020185_evi_merge.tif HDF4_EOS:EOS_GRID:\"/media/sg/91d62d44-8446-4f66-8327-bc09e774cbb1/home/df/Projects/modis_ndvi/MYD13A1.A2020185.h19v05.006.2020202050458.hdf\":MODIS_Grid_16DAY_500m_VI:\"500m 16 days EVI\" HDF4_EOS:EOS_GRID:\"/media/sg/91d62d44-8446-4f66-8327-bc09e774cbb1/home/df/Projects/modis_ndvi/MYD13A1.A2020185.h20v05.006.2020202043731.hdf\":MODIS_Grid_16DAY_500m_VI:\"500m 16 days EVI\" HDF4_EOS:EOS_GRID:\"/media/sg/91d62d44-8446-4f66-8327-bc09e774cbb1/home/df/Projects/modis_ndvi/MYD13A1.A2020185.h19v04.006.2020202050846.hdf\":MODIS_Grid_16DAY_500m_VI:\"500m 16 days EVI\"\n",
      "0...10...20...30...40...50...60...70...80...90...100 - done.\n",
      "Creating output file that is 2168P x 1832L.\n",
      "Processing A2020185_evi_merge.tif [1/1] : 0...10...20...30...40...50...60...70...80...90...100 - done.\n",
      "A2020193_ndvi_merge.tif\n",
      "gdal_merge.py -o A2020193_ndvi_merge.tif HDF4_EOS:EOS_GRID:\"/media/sg/91d62d44-8446-4f66-8327-bc09e774cbb1/home/df/Projects/modis_ndvi/MOD13A1.A2020193.h20v05.006.2020210010237.hdf\":MODIS_Grid_16DAY_500m_VI:\"500m 16 days NDVI\" HDF4_EOS:EOS_GRID:\"/media/sg/91d62d44-8446-4f66-8327-bc09e774cbb1/home/df/Projects/modis_ndvi/MOD13A1.A2020193.h19v05.006.2020210005837.hdf\":MODIS_Grid_16DAY_500m_VI:\"500m 16 days NDVI\" HDF4_EOS:EOS_GRID:\"/media/sg/91d62d44-8446-4f66-8327-bc09e774cbb1/home/df/Projects/modis_ndvi/MOD13A1.A2020193.h19v04.006.2020210011716.hdf\":MODIS_Grid_16DAY_500m_VI:\"500m 16 days NDVI\"\n",
      "0...10...20...30...40...50...60...70...80...90...100 - done.\n",
      "Creating output file that is 2168P x 1832L.\n",
      "Processing A2020193_ndvi_merge.tif [1/1] : 0...10...20...30...40...50...60...70...80...90...100 - done.\n",
      "A2020193_evi_merge.tif\n",
      "gdal_merge.py -o A2020193_evi_merge.tif HDF4_EOS:EOS_GRID:\"/media/sg/91d62d44-8446-4f66-8327-bc09e774cbb1/home/df/Projects/modis_ndvi/MOD13A1.A2020193.h20v05.006.2020210010237.hdf\":MODIS_Grid_16DAY_500m_VI:\"500m 16 days EVI\" HDF4_EOS:EOS_GRID:\"/media/sg/91d62d44-8446-4f66-8327-bc09e774cbb1/home/df/Projects/modis_ndvi/MOD13A1.A2020193.h19v05.006.2020210005837.hdf\":MODIS_Grid_16DAY_500m_VI:\"500m 16 days EVI\" HDF4_EOS:EOS_GRID:\"/media/sg/91d62d44-8446-4f66-8327-bc09e774cbb1/home/df/Projects/modis_ndvi/MOD13A1.A2020193.h19v04.006.2020210011716.hdf\":MODIS_Grid_16DAY_500m_VI:\"500m 16 days EVI\"\n",
      "0...10...20...30...40...50...60...70...80...90...100 - done.\n",
      "Creating output file that is 2168P x 1832L.\n",
      "Processing A2020193_evi_merge.tif [1/1] : 0...10...20...30...40...50...60...70...80...90...100 - done.\n",
      "A2020201_ndvi_merge.tif\n",
      "gdal_merge.py -o A2020201_ndvi_merge.tif HDF4_EOS:EOS_GRID:\"/media/sg/91d62d44-8446-4f66-8327-bc09e774cbb1/home/df/Projects/modis_ndvi/MYD13A1.A2020201.h19v05.006.2020218015404.hdf\":MODIS_Grid_16DAY_500m_VI:\"500m 16 days NDVI\" HDF4_EOS:EOS_GRID:\"/media/sg/91d62d44-8446-4f66-8327-bc09e774cbb1/home/df/Projects/modis_ndvi/MYD13A1.A2020201.h19v04.006.2020218013639.hdf\":MODIS_Grid_16DAY_500m_VI:\"500m 16 days NDVI\" HDF4_EOS:EOS_GRID:\"/media/sg/91d62d44-8446-4f66-8327-bc09e774cbb1/home/df/Projects/modis_ndvi/MYD13A1.A2020201.h20v05.006.2020218020904.hdf\":MODIS_Grid_16DAY_500m_VI:\"500m 16 days NDVI\"\n",
      "0...10...20...30...40...50...60...70...80...90...100 - done.\n",
      "Creating output file that is 2168P x 1832L.\n",
      "Processing A2020201_ndvi_merge.tif [1/1] : 0...10...20...30...40...50...60...70...80...90...100 - done.\n",
      "A2020201_evi_merge.tif\n",
      "gdal_merge.py -o A2020201_evi_merge.tif HDF4_EOS:EOS_GRID:\"/media/sg/91d62d44-8446-4f66-8327-bc09e774cbb1/home/df/Projects/modis_ndvi/MYD13A1.A2020201.h19v05.006.2020218015404.hdf\":MODIS_Grid_16DAY_500m_VI:\"500m 16 days EVI\" HDF4_EOS:EOS_GRID:\"/media/sg/91d62d44-8446-4f66-8327-bc09e774cbb1/home/df/Projects/modis_ndvi/MYD13A1.A2020201.h19v04.006.2020218013639.hdf\":MODIS_Grid_16DAY_500m_VI:\"500m 16 days EVI\" HDF4_EOS:EOS_GRID:\"/media/sg/91d62d44-8446-4f66-8327-bc09e774cbb1/home/df/Projects/modis_ndvi/MYD13A1.A2020201.h20v05.006.2020218020904.hdf\":MODIS_Grid_16DAY_500m_VI:\"500m 16 days EVI\"\n",
      "0...10...20...30...40...50...60...70...80...90...100 - done.\n",
      "Creating output file that is 2168P x 1832L.\n",
      "Processing A2020201_evi_merge.tif [1/1] : 0...10...20...30...40...50...60...70...80...90...100 - done.\n",
      "A2020209_ndvi_merge.tif\n",
      "gdal_merge.py -o A2020209_ndvi_merge.tif HDF4_EOS:EOS_GRID:\"/media/sg/91d62d44-8446-4f66-8327-bc09e774cbb1/home/df/Projects/modis_ndvi/MOD13A1.A2020209.h19v05.006.2020226012619.hdf\":MODIS_Grid_16DAY_500m_VI:\"500m 16 days NDVI\" HDF4_EOS:EOS_GRID:\"/media/sg/91d62d44-8446-4f66-8327-bc09e774cbb1/home/df/Projects/modis_ndvi/MOD13A1.A2020209.h20v05.006.2020226010828.hdf\":MODIS_Grid_16DAY_500m_VI:\"500m 16 days NDVI\" HDF4_EOS:EOS_GRID:\"/media/sg/91d62d44-8446-4f66-8327-bc09e774cbb1/home/df/Projects/modis_ndvi/MOD13A1.A2020209.h19v04.006.2020226011201.hdf\":MODIS_Grid_16DAY_500m_VI:\"500m 16 days NDVI\"\n",
      "0...10...20...30...40...50...60...70...80...90...100 - done.\n",
      "Creating output file that is 2168P x 1832L.\n",
      "Processing A2020209_ndvi_merge.tif [1/1] : 0...10...20...30...40...50...60...70...80...90...100 - done.\n",
      "A2020209_evi_merge.tif\n",
      "gdal_merge.py -o A2020209_evi_merge.tif HDF4_EOS:EOS_GRID:\"/media/sg/91d62d44-8446-4f66-8327-bc09e774cbb1/home/df/Projects/modis_ndvi/MOD13A1.A2020209.h19v05.006.2020226012619.hdf\":MODIS_Grid_16DAY_500m_VI:\"500m 16 days EVI\" HDF4_EOS:EOS_GRID:\"/media/sg/91d62d44-8446-4f66-8327-bc09e774cbb1/home/df/Projects/modis_ndvi/MOD13A1.A2020209.h20v05.006.2020226010828.hdf\":MODIS_Grid_16DAY_500m_VI:\"500m 16 days EVI\" HDF4_EOS:EOS_GRID:\"/media/sg/91d62d44-8446-4f66-8327-bc09e774cbb1/home/df/Projects/modis_ndvi/MOD13A1.A2020209.h19v04.006.2020226011201.hdf\":MODIS_Grid_16DAY_500m_VI:\"500m 16 days EVI\"\n",
      "0...10...20...30...40...50...60...70...80...90...100 - done.\n",
      "Creating output file that is 2168P x 1832L.\n",
      "Processing A2020209_evi_merge.tif [1/1] : 0...10...20...30...40...50...60...70...80...90...100 - done.\n",
      "A2020217_ndvi_merge.tif\n",
      "gdal_merge.py -o A2020217_ndvi_merge.tif HDF4_EOS:EOS_GRID:\"/media/sg/91d62d44-8446-4f66-8327-bc09e774cbb1/home/df/Projects/modis_ndvi/MYD13A1.A2020217.h20v05.006.2020323151553.hdf\":MODIS_Grid_16DAY_500m_VI:\"500m 16 days NDVI\" HDF4_EOS:EOS_GRID:\"/media/sg/91d62d44-8446-4f66-8327-bc09e774cbb1/home/df/Projects/modis_ndvi/MYD13A1.A2020217.h19v05.006.2020323151122.hdf\":MODIS_Grid_16DAY_500m_VI:\"500m 16 days NDVI\" HDF4_EOS:EOS_GRID:\"/media/sg/91d62d44-8446-4f66-8327-bc09e774cbb1/home/df/Projects/modis_ndvi/MYD13A1.A2020217.h19v04.006.2020323151102.hdf\":MODIS_Grid_16DAY_500m_VI:\"500m 16 days NDVI\"\n"
     ]
    },
    {
     "name": "stdout",
     "output_type": "stream",
     "text": [
      "0...10...20...30...40...50...60...70...80...90...100 - done.\n",
      "Creating output file that is 2168P x 1832L.\n",
      "Processing A2020217_ndvi_merge.tif [1/1] : 0...10...20...30...40...50...60...70...80...90...100 - done.\n",
      "A2020217_evi_merge.tif\n",
      "gdal_merge.py -o A2020217_evi_merge.tif HDF4_EOS:EOS_GRID:\"/media/sg/91d62d44-8446-4f66-8327-bc09e774cbb1/home/df/Projects/modis_ndvi/MYD13A1.A2020217.h20v05.006.2020323151553.hdf\":MODIS_Grid_16DAY_500m_VI:\"500m 16 days EVI\" HDF4_EOS:EOS_GRID:\"/media/sg/91d62d44-8446-4f66-8327-bc09e774cbb1/home/df/Projects/modis_ndvi/MYD13A1.A2020217.h19v05.006.2020323151122.hdf\":MODIS_Grid_16DAY_500m_VI:\"500m 16 days EVI\" HDF4_EOS:EOS_GRID:\"/media/sg/91d62d44-8446-4f66-8327-bc09e774cbb1/home/df/Projects/modis_ndvi/MYD13A1.A2020217.h19v04.006.2020323151102.hdf\":MODIS_Grid_16DAY_500m_VI:\"500m 16 days EVI\"\n",
      "0...10...20...30...40...50...60...70...80...90...100 - done.\n",
      "Creating output file that is 2168P x 1832L.\n",
      "Processing A2020217_evi_merge.tif [1/1] : 0...10...20...30...40...50...60...70...80...90...100 - done.\n",
      "A2020225_ndvi_merge.tif\n",
      "gdal_merge.py -o A2020225_ndvi_merge.tif HDF4_EOS:EOS_GRID:\"/media/sg/91d62d44-8446-4f66-8327-bc09e774cbb1/home/df/Projects/modis_ndvi/MOD13A1.A2020225.h20v05.006.2020241232144.hdf\":MODIS_Grid_16DAY_500m_VI:\"500m 16 days NDVI\" HDF4_EOS:EOS_GRID:\"/media/sg/91d62d44-8446-4f66-8327-bc09e774cbb1/home/df/Projects/modis_ndvi/MOD13A1.A2020225.h19v05.006.2020241233524.hdf\":MODIS_Grid_16DAY_500m_VI:\"500m 16 days NDVI\" HDF4_EOS:EOS_GRID:\"/media/sg/91d62d44-8446-4f66-8327-bc09e774cbb1/home/df/Projects/modis_ndvi/MOD13A1.A2020225.h19v04.006.2020241233439.hdf\":MODIS_Grid_16DAY_500m_VI:\"500m 16 days NDVI\"\n",
      "0...10...20...30...40...50...60...70...80...90...100 - done.\n",
      "Creating output file that is 2168P x 1832L.\n",
      "Processing A2020225_ndvi_merge.tif [1/1] : 0...10...20...30...40...50...60...70...80...90...100 - done.\n",
      "A2020225_evi_merge.tif\n",
      "gdal_merge.py -o A2020225_evi_merge.tif HDF4_EOS:EOS_GRID:\"/media/sg/91d62d44-8446-4f66-8327-bc09e774cbb1/home/df/Projects/modis_ndvi/MOD13A1.A2020225.h20v05.006.2020241232144.hdf\":MODIS_Grid_16DAY_500m_VI:\"500m 16 days EVI\" HDF4_EOS:EOS_GRID:\"/media/sg/91d62d44-8446-4f66-8327-bc09e774cbb1/home/df/Projects/modis_ndvi/MOD13A1.A2020225.h19v05.006.2020241233524.hdf\":MODIS_Grid_16DAY_500m_VI:\"500m 16 days EVI\" HDF4_EOS:EOS_GRID:\"/media/sg/91d62d44-8446-4f66-8327-bc09e774cbb1/home/df/Projects/modis_ndvi/MOD13A1.A2020225.h19v04.006.2020241233439.hdf\":MODIS_Grid_16DAY_500m_VI:\"500m 16 days EVI\"\n",
      "0...10...20...30...40...50...60...70...80...90...100 - done.\n",
      "Creating output file that is 2168P x 1832L.\n",
      "Processing A2020225_evi_merge.tif [1/1] : 0...10...20...30...40...50...60...70...80...90...100 - done.\n",
      "A2020233_ndvi_merge.tif\n",
      "gdal_merge.py -o A2020233_ndvi_merge.tif HDF4_EOS:EOS_GRID:\"/media/sg/91d62d44-8446-4f66-8327-bc09e774cbb1/home/df/Projects/modis_ndvi/MYD13A1.A2020233.h19v05.006.2020323150810.hdf\":MODIS_Grid_16DAY_500m_VI:\"500m 16 days NDVI\" HDF4_EOS:EOS_GRID:\"/media/sg/91d62d44-8446-4f66-8327-bc09e774cbb1/home/df/Projects/modis_ndvi/MYD13A1.A2020233.h19v04.006.2020323150804.hdf\":MODIS_Grid_16DAY_500m_VI:\"500m 16 days NDVI\" HDF4_EOS:EOS_GRID:\"/media/sg/91d62d44-8446-4f66-8327-bc09e774cbb1/home/df/Projects/modis_ndvi/MYD13A1.A2020233.h20v05.006.2020323150830.hdf\":MODIS_Grid_16DAY_500m_VI:\"500m 16 days NDVI\"\n",
      "0...10...20...30...40...50...60...70...80...90...100 - done.\n",
      "Creating output file that is 2168P x 1832L.\n",
      "Processing A2020233_ndvi_merge.tif [1/1] : 0...10...20...30...40...50...60...70...80...90...100 - done.\n",
      "A2020233_evi_merge.tif\n",
      "gdal_merge.py -o A2020233_evi_merge.tif HDF4_EOS:EOS_GRID:\"/media/sg/91d62d44-8446-4f66-8327-bc09e774cbb1/home/df/Projects/modis_ndvi/MYD13A1.A2020233.h19v05.006.2020323150810.hdf\":MODIS_Grid_16DAY_500m_VI:\"500m 16 days EVI\" HDF4_EOS:EOS_GRID:\"/media/sg/91d62d44-8446-4f66-8327-bc09e774cbb1/home/df/Projects/modis_ndvi/MYD13A1.A2020233.h19v04.006.2020323150804.hdf\":MODIS_Grid_16DAY_500m_VI:\"500m 16 days EVI\" HDF4_EOS:EOS_GRID:\"/media/sg/91d62d44-8446-4f66-8327-bc09e774cbb1/home/df/Projects/modis_ndvi/MYD13A1.A2020233.h20v05.006.2020323150830.hdf\":MODIS_Grid_16DAY_500m_VI:\"500m 16 days EVI\"\n",
      "0...10...20...30...40...50...60...70...80...90...100 - done.\n",
      "Creating output file that is 2168P x 1832L.\n",
      "Processing A2020233_evi_merge.tif [1/1] : 0...10...20...30...40...50...60...70...80...90...100 - done.\n",
      "A2020241_ndvi_merge.tif\n",
      "gdal_merge.py -o A2020241_ndvi_merge.tif HDF4_EOS:EOS_GRID:\"/media/sg/91d62d44-8446-4f66-8327-bc09e774cbb1/home/df/Projects/modis_ndvi/MOD13A1.A2020241.h20v05.006.2020261220859.hdf\":MODIS_Grid_16DAY_500m_VI:\"500m 16 days NDVI\" HDF4_EOS:EOS_GRID:\"/media/sg/91d62d44-8446-4f66-8327-bc09e774cbb1/home/df/Projects/modis_ndvi/MOD13A1.A2020241.h19v04.006.2020261220827.hdf\":MODIS_Grid_16DAY_500m_VI:\"500m 16 days NDVI\" HDF4_EOS:EOS_GRID:\"/media/sg/91d62d44-8446-4f66-8327-bc09e774cbb1/home/df/Projects/modis_ndvi/MOD13A1.A2020241.h19v05.006.2020261220829.hdf\":MODIS_Grid_16DAY_500m_VI:\"500m 16 days NDVI\"\n",
      "0...10...20...30...40...50...60...70...80...90...100 - done.\n",
      "Creating output file that is 2168P x 1832L.\n",
      "Processing A2020241_ndvi_merge.tif [1/1] : 0...10...20...30...40...50...60...70...80...90...100 - done.\n",
      "A2020241_evi_merge.tif\n",
      "gdal_merge.py -o A2020241_evi_merge.tif HDF4_EOS:EOS_GRID:\"/media/sg/91d62d44-8446-4f66-8327-bc09e774cbb1/home/df/Projects/modis_ndvi/MOD13A1.A2020241.h20v05.006.2020261220859.hdf\":MODIS_Grid_16DAY_500m_VI:\"500m 16 days EVI\" HDF4_EOS:EOS_GRID:\"/media/sg/91d62d44-8446-4f66-8327-bc09e774cbb1/home/df/Projects/modis_ndvi/MOD13A1.A2020241.h19v04.006.2020261220827.hdf\":MODIS_Grid_16DAY_500m_VI:\"500m 16 days EVI\" HDF4_EOS:EOS_GRID:\"/media/sg/91d62d44-8446-4f66-8327-bc09e774cbb1/home/df/Projects/modis_ndvi/MOD13A1.A2020241.h19v05.006.2020261220829.hdf\":MODIS_Grid_16DAY_500m_VI:\"500m 16 days EVI\"\n",
      "0...10...20...30...40...50...60...70...80...90...100 - done.\n",
      "Creating output file that is 2168P x 1832L.\n",
      "Processing A2020241_evi_merge.tif [1/1] : 0...10...20...30...40...50...60...70...80...90...100 - done.\n",
      "A2020249_ndvi_merge.tif\n",
      "gdal_merge.py -o A2020249_ndvi_merge.tif HDF4_EOS:EOS_GRID:\"/media/sg/91d62d44-8446-4f66-8327-bc09e774cbb1/home/df/Projects/modis_ndvi/MYD13A1.A2020249.h19v04.006.2020267042002.hdf\":MODIS_Grid_16DAY_500m_VI:\"500m 16 days NDVI\" HDF4_EOS:EOS_GRID:\"/media/sg/91d62d44-8446-4f66-8327-bc09e774cbb1/home/df/Projects/modis_ndvi/MYD13A1.A2020249.h19v05.006.2020267041951.hdf\":MODIS_Grid_16DAY_500m_VI:\"500m 16 days NDVI\" HDF4_EOS:EOS_GRID:\"/media/sg/91d62d44-8446-4f66-8327-bc09e774cbb1/home/df/Projects/modis_ndvi/MYD13A1.A2020249.h20v05.006.2020267044909.hdf\":MODIS_Grid_16DAY_500m_VI:\"500m 16 days NDVI\"\n",
      "0...10...20...30...40...50...60...70...80...90...100 - done.\n",
      "Creating output file that is 2168P x 1832L.\n",
      "Processing A2020249_ndvi_merge.tif [1/1] : 0...10...20...30...40...50...60...70...80...90...100 - done.\n",
      "A2020249_evi_merge.tif\n",
      "gdal_merge.py -o A2020249_evi_merge.tif HDF4_EOS:EOS_GRID:\"/media/sg/91d62d44-8446-4f66-8327-bc09e774cbb1/home/df/Projects/modis_ndvi/MYD13A1.A2020249.h19v04.006.2020267042002.hdf\":MODIS_Grid_16DAY_500m_VI:\"500m 16 days EVI\" HDF4_EOS:EOS_GRID:\"/media/sg/91d62d44-8446-4f66-8327-bc09e774cbb1/home/df/Projects/modis_ndvi/MYD13A1.A2020249.h19v05.006.2020267041951.hdf\":MODIS_Grid_16DAY_500m_VI:\"500m 16 days EVI\" HDF4_EOS:EOS_GRID:\"/media/sg/91d62d44-8446-4f66-8327-bc09e774cbb1/home/df/Projects/modis_ndvi/MYD13A1.A2020249.h20v05.006.2020267044909.hdf\":MODIS_Grid_16DAY_500m_VI:\"500m 16 days EVI\"\n",
      "0...10...20...30...40...50...60...70...80...90...100 - done.\n",
      "Creating output file that is 2168P x 1832L.\n",
      "Processing A2020249_evi_merge.tif [1/1] : 0...10...20...30...40...50...60...70...80...90...100 - done.\n",
      "A2020257_ndvi_merge.tif\n",
      "gdal_merge.py -o A2020257_ndvi_merge.tif HDF4_EOS:EOS_GRID:\"/media/sg/91d62d44-8446-4f66-8327-bc09e774cbb1/home/df/Projects/modis_ndvi/MOD13A1.A2020257.h20v05.006.2020280043844.hdf\":MODIS_Grid_16DAY_500m_VI:\"500m 16 days NDVI\" HDF4_EOS:EOS_GRID:\"/media/sg/91d62d44-8446-4f66-8327-bc09e774cbb1/home/df/Projects/modis_ndvi/MOD13A1.A2020257.h19v04.006.2020280044358.hdf\":MODIS_Grid_16DAY_500m_VI:\"500m 16 days NDVI\" HDF4_EOS:EOS_GRID:\"/media/sg/91d62d44-8446-4f66-8327-bc09e774cbb1/home/df/Projects/modis_ndvi/MOD13A1.A2020257.h19v05.006.2020280044408.hdf\":MODIS_Grid_16DAY_500m_VI:\"500m 16 days NDVI\"\n"
     ]
    },
    {
     "name": "stdout",
     "output_type": "stream",
     "text": [
      "0...10...20...30...40...50...60...70...80...90...100 - done.\n",
      "Creating output file that is 2168P x 1832L.\n",
      "Processing A2020257_ndvi_merge.tif [1/1] : 0...10...20...30...40...50...60...70...80...90...100 - done.\n",
      "A2020257_evi_merge.tif\n",
      "gdal_merge.py -o A2020257_evi_merge.tif HDF4_EOS:EOS_GRID:\"/media/sg/91d62d44-8446-4f66-8327-bc09e774cbb1/home/df/Projects/modis_ndvi/MOD13A1.A2020257.h20v05.006.2020280043844.hdf\":MODIS_Grid_16DAY_500m_VI:\"500m 16 days EVI\" HDF4_EOS:EOS_GRID:\"/media/sg/91d62d44-8446-4f66-8327-bc09e774cbb1/home/df/Projects/modis_ndvi/MOD13A1.A2020257.h19v04.006.2020280044358.hdf\":MODIS_Grid_16DAY_500m_VI:\"500m 16 days EVI\" HDF4_EOS:EOS_GRID:\"/media/sg/91d62d44-8446-4f66-8327-bc09e774cbb1/home/df/Projects/modis_ndvi/MOD13A1.A2020257.h19v05.006.2020280044408.hdf\":MODIS_Grid_16DAY_500m_VI:\"500m 16 days EVI\"\n",
      "0...10...20...30...40...50...60...70...80...90...100 - done.\n",
      "Creating output file that is 2168P x 1832L.\n",
      "Processing A2020257_evi_merge.tif [1/1] : 0...10...20...30...40...50...60...70...80...90...100 - done.\n",
      "A2020265_ndvi_merge.tif\n",
      "gdal_merge.py -o A2020265_ndvi_merge.tif HDF4_EOS:EOS_GRID:\"/media/sg/91d62d44-8446-4f66-8327-bc09e774cbb1/home/df/Projects/modis_ndvi/MYD13A1.A2020265.h19v04.006.2020299225453.hdf\":MODIS_Grid_16DAY_500m_VI:\"500m 16 days NDVI\" HDF4_EOS:EOS_GRID:\"/media/sg/91d62d44-8446-4f66-8327-bc09e774cbb1/home/df/Projects/modis_ndvi/MYD13A1.A2020265.h19v05.006.2020299224450.hdf\":MODIS_Grid_16DAY_500m_VI:\"500m 16 days NDVI\" HDF4_EOS:EOS_GRID:\"/media/sg/91d62d44-8446-4f66-8327-bc09e774cbb1/home/df/Projects/modis_ndvi/MYD13A1.A2020265.h20v05.006.2020299224847.hdf\":MODIS_Grid_16DAY_500m_VI:\"500m 16 days NDVI\"\n",
      "0...10...20...30...40...50...60...70...80...90...100 - done.\n",
      "Creating output file that is 2168P x 1832L.\n",
      "Processing A2020265_ndvi_merge.tif [1/1] : 0...10...20...30...40...50...60...70...80...90...100 - done.\n",
      "A2020265_evi_merge.tif\n",
      "gdal_merge.py -o A2020265_evi_merge.tif HDF4_EOS:EOS_GRID:\"/media/sg/91d62d44-8446-4f66-8327-bc09e774cbb1/home/df/Projects/modis_ndvi/MYD13A1.A2020265.h19v04.006.2020299225453.hdf\":MODIS_Grid_16DAY_500m_VI:\"500m 16 days EVI\" HDF4_EOS:EOS_GRID:\"/media/sg/91d62d44-8446-4f66-8327-bc09e774cbb1/home/df/Projects/modis_ndvi/MYD13A1.A2020265.h19v05.006.2020299224450.hdf\":MODIS_Grid_16DAY_500m_VI:\"500m 16 days EVI\" HDF4_EOS:EOS_GRID:\"/media/sg/91d62d44-8446-4f66-8327-bc09e774cbb1/home/df/Projects/modis_ndvi/MYD13A1.A2020265.h20v05.006.2020299224847.hdf\":MODIS_Grid_16DAY_500m_VI:\"500m 16 days EVI\"\n",
      "0...10...20...30...40...50...60...70...80...90...100 - done.\n",
      "Creating output file that is 2168P x 1832L.\n",
      "Processing A2020265_evi_merge.tif [1/1] : 0...10...20...30...40...50...60...70...80...90...100 - done.\n",
      "A2020273_ndvi_merge.tif\n",
      "gdal_merge.py -o A2020273_ndvi_merge.tif HDF4_EOS:EOS_GRID:\"/media/sg/91d62d44-8446-4f66-8327-bc09e774cbb1/home/df/Projects/modis_ndvi/MOD13A1.A2020273.h19v04.006.2020291075159.hdf\":MODIS_Grid_16DAY_500m_VI:\"500m 16 days NDVI\" HDF4_EOS:EOS_GRID:\"/media/sg/91d62d44-8446-4f66-8327-bc09e774cbb1/home/df/Projects/modis_ndvi/MOD13A1.A2020273.h20v05.006.2020291074909.hdf\":MODIS_Grid_16DAY_500m_VI:\"500m 16 days NDVI\" HDF4_EOS:EOS_GRID:\"/media/sg/91d62d44-8446-4f66-8327-bc09e774cbb1/home/df/Projects/modis_ndvi/MOD13A1.A2020273.h19v05.006.2020291074853.hdf\":MODIS_Grid_16DAY_500m_VI:\"500m 16 days NDVI\"\n",
      "0...10...20...30...40...50...60...70...80...90...100 - done.\n",
      "Creating output file that is 2168P x 1832L.\n",
      "Processing A2020273_ndvi_merge.tif [1/1] : 0...10...20...30...40...50...60...70...80...90...100 - done.\n",
      "A2020273_evi_merge.tif\n",
      "gdal_merge.py -o A2020273_evi_merge.tif HDF4_EOS:EOS_GRID:\"/media/sg/91d62d44-8446-4f66-8327-bc09e774cbb1/home/df/Projects/modis_ndvi/MOD13A1.A2020273.h19v04.006.2020291075159.hdf\":MODIS_Grid_16DAY_500m_VI:\"500m 16 days EVI\" HDF4_EOS:EOS_GRID:\"/media/sg/91d62d44-8446-4f66-8327-bc09e774cbb1/home/df/Projects/modis_ndvi/MOD13A1.A2020273.h20v05.006.2020291074909.hdf\":MODIS_Grid_16DAY_500m_VI:\"500m 16 days EVI\" HDF4_EOS:EOS_GRID:\"/media/sg/91d62d44-8446-4f66-8327-bc09e774cbb1/home/df/Projects/modis_ndvi/MOD13A1.A2020273.h19v05.006.2020291074853.hdf\":MODIS_Grid_16DAY_500m_VI:\"500m 16 days EVI\"\n",
      "0...10...20...30...40...50...60...70...80...90...100 - done.\n",
      "Creating output file that is 2168P x 1832L.\n",
      "Processing A2020273_evi_merge.tif [1/1] : 0...10...20...30...40...50...60...70...80...90...100 - done.\n",
      "A2021097_ndvi_merge.tif\n",
      "gdal_merge.py -o A2021097_ndvi_merge.tif HDF4_EOS:EOS_GRID:\"/media/sg/91d62d44-8446-4f66-8327-bc09e774cbb1/home/df/Projects/modis_ndvi/MOD13A1.A2021097.h20v05.006.2021115204909.hdf\":MODIS_Grid_16DAY_500m_VI:\"500m 16 days NDVI\" HDF4_EOS:EOS_GRID:\"/media/sg/91d62d44-8446-4f66-8327-bc09e774cbb1/home/df/Projects/modis_ndvi/MOD13A1.A2021097.h19v04.006.2021115204939.hdf\":MODIS_Grid_16DAY_500m_VI:\"500m 16 days NDVI\" HDF4_EOS:EOS_GRID:\"/media/sg/91d62d44-8446-4f66-8327-bc09e774cbb1/home/df/Projects/modis_ndvi/MOD13A1.A2021097.h19v05.006.2021115204944.hdf\":MODIS_Grid_16DAY_500m_VI:\"500m 16 days NDVI\"\n",
      "0...10...20...30...40...50...60...70...80...90...100 - done.\n",
      "Creating output file that is 2168P x 1832L.\n",
      "Processing A2021097_ndvi_merge.tif [1/1] : 0...10...20...30...40...50...60...70...80...90...100 - done.\n",
      "A2021097_evi_merge.tif\n",
      "gdal_merge.py -o A2021097_evi_merge.tif HDF4_EOS:EOS_GRID:\"/media/sg/91d62d44-8446-4f66-8327-bc09e774cbb1/home/df/Projects/modis_ndvi/MOD13A1.A2021097.h20v05.006.2021115204909.hdf\":MODIS_Grid_16DAY_500m_VI:\"500m 16 days EVI\" HDF4_EOS:EOS_GRID:\"/media/sg/91d62d44-8446-4f66-8327-bc09e774cbb1/home/df/Projects/modis_ndvi/MOD13A1.A2021097.h19v04.006.2021115204939.hdf\":MODIS_Grid_16DAY_500m_VI:\"500m 16 days EVI\" HDF4_EOS:EOS_GRID:\"/media/sg/91d62d44-8446-4f66-8327-bc09e774cbb1/home/df/Projects/modis_ndvi/MOD13A1.A2021097.h19v05.006.2021115204944.hdf\":MODIS_Grid_16DAY_500m_VI:\"500m 16 days EVI\"\n",
      "0...10...20...30...40...50...60...70...80...90...100 - done.\n",
      "Creating output file that is 2168P x 1832L.\n",
      "Processing A2021097_evi_merge.tif [1/1] : 0...10...20...30...40...50...60...70...80...90...100 - done.\n",
      "A2021105_ndvi_merge.tif\n",
      "gdal_merge.py -o A2021105_ndvi_merge.tif HDF4_EOS:EOS_GRID:\"/media/sg/91d62d44-8446-4f66-8327-bc09e774cbb1/home/df/Projects/modis_ndvi/MYD13A1.A2021105.h19v04.006.2021123141611.hdf\":MODIS_Grid_16DAY_500m_VI:\"500m 16 days NDVI\" HDF4_EOS:EOS_GRID:\"/media/sg/91d62d44-8446-4f66-8327-bc09e774cbb1/home/df/Projects/modis_ndvi/MYD13A1.A2021105.h20v05.006.2021123141743.hdf\":MODIS_Grid_16DAY_500m_VI:\"500m 16 days NDVI\" HDF4_EOS:EOS_GRID:\"/media/sg/91d62d44-8446-4f66-8327-bc09e774cbb1/home/df/Projects/modis_ndvi/MYD13A1.A2021105.h19v05.006.2021123141037.hdf\":MODIS_Grid_16DAY_500m_VI:\"500m 16 days NDVI\"\n",
      "0...10...20...30...40...50...60...70...80...90...100 - done.\n",
      "Creating output file that is 2168P x 1832L.\n",
      "Processing A2021105_ndvi_merge.tif [1/1] : 0...10...20...30...40...50...60...70...80...90...100 - done.\n",
      "A2021105_evi_merge.tif\n",
      "gdal_merge.py -o A2021105_evi_merge.tif HDF4_EOS:EOS_GRID:\"/media/sg/91d62d44-8446-4f66-8327-bc09e774cbb1/home/df/Projects/modis_ndvi/MYD13A1.A2021105.h19v04.006.2021123141611.hdf\":MODIS_Grid_16DAY_500m_VI:\"500m 16 days EVI\" HDF4_EOS:EOS_GRID:\"/media/sg/91d62d44-8446-4f66-8327-bc09e774cbb1/home/df/Projects/modis_ndvi/MYD13A1.A2021105.h20v05.006.2021123141743.hdf\":MODIS_Grid_16DAY_500m_VI:\"500m 16 days EVI\" HDF4_EOS:EOS_GRID:\"/media/sg/91d62d44-8446-4f66-8327-bc09e774cbb1/home/df/Projects/modis_ndvi/MYD13A1.A2021105.h19v05.006.2021123141037.hdf\":MODIS_Grid_16DAY_500m_VI:\"500m 16 days EVI\"\n",
      "0...10...20...30...40...50...60...70...80...90...100 - done.\n",
      "Creating output file that is 2168P x 1832L.\n",
      "Processing A2021105_evi_merge.tif [1/1] : 0...10...20...30...40...50...60...70...80...90...100 - done.\n",
      "A2021113_ndvi_merge.tif\n",
      "gdal_merge.py -o A2021113_ndvi_merge.tif HDF4_EOS:EOS_GRID:\"/media/sg/91d62d44-8446-4f66-8327-bc09e774cbb1/home/df/Projects/modis_ndvi/MOD13A1.A2021113.h19v05.006.2021129234455.hdf\":MODIS_Grid_16DAY_500m_VI:\"500m 16 days NDVI\" HDF4_EOS:EOS_GRID:\"/media/sg/91d62d44-8446-4f66-8327-bc09e774cbb1/home/df/Projects/modis_ndvi/MOD13A1.A2021113.h19v04.006.2021129235225.hdf\":MODIS_Grid_16DAY_500m_VI:\"500m 16 days NDVI\" HDF4_EOS:EOS_GRID:\"/media/sg/91d62d44-8446-4f66-8327-bc09e774cbb1/home/df/Projects/modis_ndvi/MOD13A1.A2021113.h20v05.006.2021129234451.hdf\":MODIS_Grid_16DAY_500m_VI:\"500m 16 days NDVI\"\n"
     ]
    },
    {
     "name": "stdout",
     "output_type": "stream",
     "text": [
      "0...10...20...30...40...50...60...70...80...90...100 - done.\n",
      "Creating output file that is 2168P x 1832L.\n",
      "Processing A2021113_ndvi_merge.tif [1/1] : 0...10...20...30...40...50...60...70...80...90...100 - done.\n",
      "A2021113_evi_merge.tif\n",
      "gdal_merge.py -o A2021113_evi_merge.tif HDF4_EOS:EOS_GRID:\"/media/sg/91d62d44-8446-4f66-8327-bc09e774cbb1/home/df/Projects/modis_ndvi/MOD13A1.A2021113.h19v05.006.2021129234455.hdf\":MODIS_Grid_16DAY_500m_VI:\"500m 16 days EVI\" HDF4_EOS:EOS_GRID:\"/media/sg/91d62d44-8446-4f66-8327-bc09e774cbb1/home/df/Projects/modis_ndvi/MOD13A1.A2021113.h19v04.006.2021129235225.hdf\":MODIS_Grid_16DAY_500m_VI:\"500m 16 days EVI\" HDF4_EOS:EOS_GRID:\"/media/sg/91d62d44-8446-4f66-8327-bc09e774cbb1/home/df/Projects/modis_ndvi/MOD13A1.A2021113.h20v05.006.2021129234451.hdf\":MODIS_Grid_16DAY_500m_VI:\"500m 16 days EVI\"\n",
      "0...10...20...30...40...50...60...70...80...90...100 - done.\n",
      "Creating output file that is 2168P x 1832L.\n",
      "Processing A2021113_evi_merge.tif [1/1] : 0...10...20...30...40...50...60...70...80...90...100 - done.\n",
      "A2021121_ndvi_merge.tif\n",
      "gdal_merge.py -o A2021121_ndvi_merge.tif HDF4_EOS:EOS_GRID:\"/media/sg/91d62d44-8446-4f66-8327-bc09e774cbb1/home/df/Projects/modis_ndvi/MYD13A1.A2021121.h20v05.006.2021138011731.hdf\":MODIS_Grid_16DAY_500m_VI:\"500m 16 days NDVI\" HDF4_EOS:EOS_GRID:\"/media/sg/91d62d44-8446-4f66-8327-bc09e774cbb1/home/df/Projects/modis_ndvi/MYD13A1.A2021121.h19v05.006.2021138010142.hdf\":MODIS_Grid_16DAY_500m_VI:\"500m 16 days NDVI\" HDF4_EOS:EOS_GRID:\"/media/sg/91d62d44-8446-4f66-8327-bc09e774cbb1/home/df/Projects/modis_ndvi/MYD13A1.A2021121.h19v04.006.2021138012044.hdf\":MODIS_Grid_16DAY_500m_VI:\"500m 16 days NDVI\"\n",
      "0...10...20...30...40...50...60...70...80...90...100 - done.\n",
      "Creating output file that is 2168P x 1832L.\n",
      "Processing A2021121_ndvi_merge.tif [1/1] : 0...10...20...30...40...50...60...70...80...90...100 - done.\n",
      "A2021121_evi_merge.tif\n",
      "gdal_merge.py -o A2021121_evi_merge.tif HDF4_EOS:EOS_GRID:\"/media/sg/91d62d44-8446-4f66-8327-bc09e774cbb1/home/df/Projects/modis_ndvi/MYD13A1.A2021121.h20v05.006.2021138011731.hdf\":MODIS_Grid_16DAY_500m_VI:\"500m 16 days EVI\" HDF4_EOS:EOS_GRID:\"/media/sg/91d62d44-8446-4f66-8327-bc09e774cbb1/home/df/Projects/modis_ndvi/MYD13A1.A2021121.h19v05.006.2021138010142.hdf\":MODIS_Grid_16DAY_500m_VI:\"500m 16 days EVI\" HDF4_EOS:EOS_GRID:\"/media/sg/91d62d44-8446-4f66-8327-bc09e774cbb1/home/df/Projects/modis_ndvi/MYD13A1.A2021121.h19v04.006.2021138012044.hdf\":MODIS_Grid_16DAY_500m_VI:\"500m 16 days EVI\"\n",
      "0...10...20...30...40...50...60...70...80...90...100 - done.\n",
      "Creating output file that is 2168P x 1832L.\n",
      "Processing A2021121_evi_merge.tif [1/1] : 0...10...20...30...40...50...60...70...80...90...100 - done.\n",
      "A2021129_ndvi_merge.tif\n",
      "gdal_merge.py -o A2021129_ndvi_merge.tif HDF4_EOS:EOS_GRID:\"/media/sg/91d62d44-8446-4f66-8327-bc09e774cbb1/home/df/Projects/modis_ndvi/MOD13A1.A2021129.h19v05.006.2021146050935.hdf\":MODIS_Grid_16DAY_500m_VI:\"500m 16 days NDVI\" HDF4_EOS:EOS_GRID:\"/media/sg/91d62d44-8446-4f66-8327-bc09e774cbb1/home/df/Projects/modis_ndvi/MOD13A1.A2021129.h20v05.006.2021146051402.hdf\":MODIS_Grid_16DAY_500m_VI:\"500m 16 days NDVI\" HDF4_EOS:EOS_GRID:\"/media/sg/91d62d44-8446-4f66-8327-bc09e774cbb1/home/df/Projects/modis_ndvi/MOD13A1.A2021129.h19v04.006.2021146053029.hdf\":MODIS_Grid_16DAY_500m_VI:\"500m 16 days NDVI\"\n",
      "0...10...20...30...40...50...60...70...80...90...100 - done.\n",
      "Creating output file that is 2168P x 1832L.\n",
      "Processing A2021129_ndvi_merge.tif [1/1] : 0...10...20...30...40...50...60...70...80...90...100 - done.\n",
      "A2021129_evi_merge.tif\n",
      "gdal_merge.py -o A2021129_evi_merge.tif HDF4_EOS:EOS_GRID:\"/media/sg/91d62d44-8446-4f66-8327-bc09e774cbb1/home/df/Projects/modis_ndvi/MOD13A1.A2021129.h19v05.006.2021146050935.hdf\":MODIS_Grid_16DAY_500m_VI:\"500m 16 days EVI\" HDF4_EOS:EOS_GRID:\"/media/sg/91d62d44-8446-4f66-8327-bc09e774cbb1/home/df/Projects/modis_ndvi/MOD13A1.A2021129.h20v05.006.2021146051402.hdf\":MODIS_Grid_16DAY_500m_VI:\"500m 16 days EVI\" HDF4_EOS:EOS_GRID:\"/media/sg/91d62d44-8446-4f66-8327-bc09e774cbb1/home/df/Projects/modis_ndvi/MOD13A1.A2021129.h19v04.006.2021146053029.hdf\":MODIS_Grid_16DAY_500m_VI:\"500m 16 days EVI\"\n",
      "0...10...20...30...40...50...60...70...80...90...100 - done.\n",
      "Creating output file that is 2168P x 1832L.\n",
      "Processing A2021129_evi_merge.tif [1/1] : 0...10...20...30...40...50...60...70...80...90...100 - done.\n",
      "A2021137_ndvi_merge.tif\n",
      "gdal_merge.py -o A2021137_ndvi_merge.tif HDF4_EOS:EOS_GRID:\"/media/sg/91d62d44-8446-4f66-8327-bc09e774cbb1/home/df/Projects/modis_ndvi/MYD13A1.A2021137.h20v05.006.2021154014948.hdf\":MODIS_Grid_16DAY_500m_VI:\"500m 16 days NDVI\" HDF4_EOS:EOS_GRID:\"/media/sg/91d62d44-8446-4f66-8327-bc09e774cbb1/home/df/Projects/modis_ndvi/MYD13A1.A2021137.h19v05.006.2021154013643.hdf\":MODIS_Grid_16DAY_500m_VI:\"500m 16 days NDVI\" HDF4_EOS:EOS_GRID:\"/media/sg/91d62d44-8446-4f66-8327-bc09e774cbb1/home/df/Projects/modis_ndvi/MYD13A1.A2021137.h19v04.006.2021154012627.hdf\":MODIS_Grid_16DAY_500m_VI:\"500m 16 days NDVI\"\n",
      "0...10...20...30...40...50...60...70...80...90...100 - done.\n",
      "Creating output file that is 2168P x 1832L.\n",
      "Processing A2021137_ndvi_merge.tif [1/1] : 0...10...20...30...40...50...60...70...80...90...100 - done.\n",
      "A2021137_evi_merge.tif\n",
      "gdal_merge.py -o A2021137_evi_merge.tif HDF4_EOS:EOS_GRID:\"/media/sg/91d62d44-8446-4f66-8327-bc09e774cbb1/home/df/Projects/modis_ndvi/MYD13A1.A2021137.h20v05.006.2021154014948.hdf\":MODIS_Grid_16DAY_500m_VI:\"500m 16 days EVI\" HDF4_EOS:EOS_GRID:\"/media/sg/91d62d44-8446-4f66-8327-bc09e774cbb1/home/df/Projects/modis_ndvi/MYD13A1.A2021137.h19v05.006.2021154013643.hdf\":MODIS_Grid_16DAY_500m_VI:\"500m 16 days EVI\" HDF4_EOS:EOS_GRID:\"/media/sg/91d62d44-8446-4f66-8327-bc09e774cbb1/home/df/Projects/modis_ndvi/MYD13A1.A2021137.h19v04.006.2021154012627.hdf\":MODIS_Grid_16DAY_500m_VI:\"500m 16 days EVI\"\n",
      "0...10...20...30...40...50...60...70...80...90...100 - done.\n",
      "Creating output file that is 2168P x 1832L.\n",
      "Processing A2021137_evi_merge.tif [1/1] : 0...10...20...30...40...50...60...70...80...90...100 - done.\n",
      "A2021145_ndvi_merge.tif\n",
      "gdal_merge.py -o A2021145_ndvi_merge.tif HDF4_EOS:EOS_GRID:\"/media/sg/91d62d44-8446-4f66-8327-bc09e774cbb1/home/df/Projects/modis_ndvi/MOD13A1.A2021145.h19v05.006.2021165110214.hdf\":MODIS_Grid_16DAY_500m_VI:\"500m 16 days NDVI\" HDF4_EOS:EOS_GRID:\"/media/sg/91d62d44-8446-4f66-8327-bc09e774cbb1/home/df/Projects/modis_ndvi/MOD13A1.A2021145.h20v05.006.2021165110431.hdf\":MODIS_Grid_16DAY_500m_VI:\"500m 16 days NDVI\" HDF4_EOS:EOS_GRID:\"/media/sg/91d62d44-8446-4f66-8327-bc09e774cbb1/home/df/Projects/modis_ndvi/MOD13A1.A2021145.h19v04.006.2021165110139.hdf\":MODIS_Grid_16DAY_500m_VI:\"500m 16 days NDVI\"\n",
      "0...10...20...30...40...50...60...70...80...90...100 - done.\n",
      "Creating output file that is 2168P x 1832L.\n",
      "Processing A2021145_ndvi_merge.tif [1/1] : 0...10...20...30...40...50...60...70...80...90...100 - done.\n",
      "A2021145_evi_merge.tif\n",
      "gdal_merge.py -o A2021145_evi_merge.tif HDF4_EOS:EOS_GRID:\"/media/sg/91d62d44-8446-4f66-8327-bc09e774cbb1/home/df/Projects/modis_ndvi/MOD13A1.A2021145.h19v05.006.2021165110214.hdf\":MODIS_Grid_16DAY_500m_VI:\"500m 16 days EVI\" HDF4_EOS:EOS_GRID:\"/media/sg/91d62d44-8446-4f66-8327-bc09e774cbb1/home/df/Projects/modis_ndvi/MOD13A1.A2021145.h20v05.006.2021165110431.hdf\":MODIS_Grid_16DAY_500m_VI:\"500m 16 days EVI\" HDF4_EOS:EOS_GRID:\"/media/sg/91d62d44-8446-4f66-8327-bc09e774cbb1/home/df/Projects/modis_ndvi/MOD13A1.A2021145.h19v04.006.2021165110139.hdf\":MODIS_Grid_16DAY_500m_VI:\"500m 16 days EVI\"\n",
      "0...10...20...30...40...50...60...70...80...90...100 - done.\n",
      "Creating output file that is 2168P x 1832L.\n",
      "Processing A2021145_evi_merge.tif [1/1] : 0...10...20...30...40...50...60...70...80...90...100 - done.\n",
      "A2021153_ndvi_merge.tif\n",
      "gdal_merge.py -o A2021153_ndvi_merge.tif HDF4_EOS:EOS_GRID:\"/media/sg/91d62d44-8446-4f66-8327-bc09e774cbb1/home/df/Projects/modis_ndvi/MYD13A1.A2021153.h20v05.006.2021170013621.hdf\":MODIS_Grid_16DAY_500m_VI:\"500m 16 days NDVI\" HDF4_EOS:EOS_GRID:\"/media/sg/91d62d44-8446-4f66-8327-bc09e774cbb1/home/df/Projects/modis_ndvi/MYD13A1.A2021153.h19v05.006.2021170013546.hdf\":MODIS_Grid_16DAY_500m_VI:\"500m 16 days NDVI\" HDF4_EOS:EOS_GRID:\"/media/sg/91d62d44-8446-4f66-8327-bc09e774cbb1/home/df/Projects/modis_ndvi/MYD13A1.A2021153.h19v04.006.2021170011821.hdf\":MODIS_Grid_16DAY_500m_VI:\"500m 16 days NDVI\"\n"
     ]
    },
    {
     "name": "stdout",
     "output_type": "stream",
     "text": [
      "0...10...20...30...40...50...60...70...80...90...100 - done.\n",
      "Creating output file that is 2168P x 1832L.\n",
      "Processing A2021153_ndvi_merge.tif [1/1] : 0...10...20...30...40...50...60...70...80...90...100 - done.\n",
      "A2021153_evi_merge.tif\n",
      "gdal_merge.py -o A2021153_evi_merge.tif HDF4_EOS:EOS_GRID:\"/media/sg/91d62d44-8446-4f66-8327-bc09e774cbb1/home/df/Projects/modis_ndvi/MYD13A1.A2021153.h20v05.006.2021170013621.hdf\":MODIS_Grid_16DAY_500m_VI:\"500m 16 days EVI\" HDF4_EOS:EOS_GRID:\"/media/sg/91d62d44-8446-4f66-8327-bc09e774cbb1/home/df/Projects/modis_ndvi/MYD13A1.A2021153.h19v05.006.2021170013546.hdf\":MODIS_Grid_16DAY_500m_VI:\"500m 16 days EVI\" HDF4_EOS:EOS_GRID:\"/media/sg/91d62d44-8446-4f66-8327-bc09e774cbb1/home/df/Projects/modis_ndvi/MYD13A1.A2021153.h19v04.006.2021170011821.hdf\":MODIS_Grid_16DAY_500m_VI:\"500m 16 days EVI\"\n",
      "0...10...20...30...40...50...60...70...80...90...100 - done.\n",
      "Creating output file that is 2168P x 1832L.\n",
      "Processing A2021153_evi_merge.tif [1/1] : 0...10...20...30...40...50...60...70...80...90...100 - done.\n",
      "A2021161_ndvi_merge.tif\n",
      "gdal_merge.py -o A2021161_ndvi_merge.tif HDF4_EOS:EOS_GRID:\"/media/sg/91d62d44-8446-4f66-8327-bc09e774cbb1/home/df/Projects/modis_ndvi/MOD13A1.A2021161.h20v05.006.2021178025628.hdf\":MODIS_Grid_16DAY_500m_VI:\"500m 16 days NDVI\" HDF4_EOS:EOS_GRID:\"/media/sg/91d62d44-8446-4f66-8327-bc09e774cbb1/home/df/Projects/modis_ndvi/MOD13A1.A2021161.h19v04.006.2021178014026.hdf\":MODIS_Grid_16DAY_500m_VI:\"500m 16 days NDVI\" HDF4_EOS:EOS_GRID:\"/media/sg/91d62d44-8446-4f66-8327-bc09e774cbb1/home/df/Projects/modis_ndvi/MOD13A1.A2021161.h19v05.006.2021178011932.hdf\":MODIS_Grid_16DAY_500m_VI:\"500m 16 days NDVI\"\n",
      "0...10...20...30...40...50...60...70...80...90...100 - done.\n",
      "Creating output file that is 2168P x 1832L.\n",
      "Processing A2021161_ndvi_merge.tif [1/1] : 0...10...20...30...40...50...60...70...80...90...100 - done.\n",
      "A2021161_evi_merge.tif\n",
      "gdal_merge.py -o A2021161_evi_merge.tif HDF4_EOS:EOS_GRID:\"/media/sg/91d62d44-8446-4f66-8327-bc09e774cbb1/home/df/Projects/modis_ndvi/MOD13A1.A2021161.h20v05.006.2021178025628.hdf\":MODIS_Grid_16DAY_500m_VI:\"500m 16 days EVI\" HDF4_EOS:EOS_GRID:\"/media/sg/91d62d44-8446-4f66-8327-bc09e774cbb1/home/df/Projects/modis_ndvi/MOD13A1.A2021161.h19v04.006.2021178014026.hdf\":MODIS_Grid_16DAY_500m_VI:\"500m 16 days EVI\" HDF4_EOS:EOS_GRID:\"/media/sg/91d62d44-8446-4f66-8327-bc09e774cbb1/home/df/Projects/modis_ndvi/MOD13A1.A2021161.h19v05.006.2021178011932.hdf\":MODIS_Grid_16DAY_500m_VI:\"500m 16 days EVI\"\n",
      "0...10...20...30...40...50...60...70...80...90...100 - done.\n",
      "Creating output file that is 2168P x 1832L.\n",
      "Processing A2021161_evi_merge.tif [1/1] : 0...10...20...30...40...50...60...70...80...90...100 - done.\n",
      "A2021169_ndvi_merge.tif\n",
      "gdal_merge.py -o A2021169_ndvi_merge.tif HDF4_EOS:EOS_GRID:\"/media/sg/91d62d44-8446-4f66-8327-bc09e774cbb1/home/df/Projects/modis_ndvi/MYD13A1.A2021169.h19v04.006.2021188090435.hdf\":MODIS_Grid_16DAY_500m_VI:\"500m 16 days NDVI\" HDF4_EOS:EOS_GRID:\"/media/sg/91d62d44-8446-4f66-8327-bc09e774cbb1/home/df/Projects/modis_ndvi/MYD13A1.A2021169.h20v05.006.2021188090414.hdf\":MODIS_Grid_16DAY_500m_VI:\"500m 16 days NDVI\" HDF4_EOS:EOS_GRID:\"/media/sg/91d62d44-8446-4f66-8327-bc09e774cbb1/home/df/Projects/modis_ndvi/MYD13A1.A2021169.h19v05.006.2021188085635.hdf\":MODIS_Grid_16DAY_500m_VI:\"500m 16 days NDVI\"\n",
      "0...10...20...30...40...50...60...70...80...90...100 - done.\n",
      "Creating output file that is 2168P x 1832L.\n",
      "Processing A2021169_ndvi_merge.tif [1/1] : 0...10...20...30...40...50...60...70...80...90...100 - done.\n",
      "A2021169_evi_merge.tif\n",
      "gdal_merge.py -o A2021169_evi_merge.tif HDF4_EOS:EOS_GRID:\"/media/sg/91d62d44-8446-4f66-8327-bc09e774cbb1/home/df/Projects/modis_ndvi/MYD13A1.A2021169.h19v04.006.2021188090435.hdf\":MODIS_Grid_16DAY_500m_VI:\"500m 16 days EVI\" HDF4_EOS:EOS_GRID:\"/media/sg/91d62d44-8446-4f66-8327-bc09e774cbb1/home/df/Projects/modis_ndvi/MYD13A1.A2021169.h20v05.006.2021188090414.hdf\":MODIS_Grid_16DAY_500m_VI:\"500m 16 days EVI\" HDF4_EOS:EOS_GRID:\"/media/sg/91d62d44-8446-4f66-8327-bc09e774cbb1/home/df/Projects/modis_ndvi/MYD13A1.A2021169.h19v05.006.2021188085635.hdf\":MODIS_Grid_16DAY_500m_VI:\"500m 16 days EVI\"\n",
      "0...10...20...30...40...50...60...70...80...90...100 - done.\n",
      "Creating output file that is 2168P x 1832L.\n",
      "Processing A2021169_evi_merge.tif [1/1] : 0...10...20...30...40...50...60...70...80...90...100 - done.\n",
      "A2021177_ndvi_merge.tif\n",
      "gdal_merge.py -o A2021177_ndvi_merge.tif HDF4_EOS:EOS_GRID:\"/media/sg/91d62d44-8446-4f66-8327-bc09e774cbb1/home/df/Projects/modis_ndvi/MOD13A1.A2021177.h19v05.006.2021194031920.hdf\":MODIS_Grid_16DAY_500m_VI:\"500m 16 days NDVI\" HDF4_EOS:EOS_GRID:\"/media/sg/91d62d44-8446-4f66-8327-bc09e774cbb1/home/df/Projects/modis_ndvi/MOD13A1.A2021177.h19v04.006.2021194031959.hdf\":MODIS_Grid_16DAY_500m_VI:\"500m 16 days NDVI\" HDF4_EOS:EOS_GRID:\"/media/sg/91d62d44-8446-4f66-8327-bc09e774cbb1/home/df/Projects/modis_ndvi/MOD13A1.A2021177.h20v05.006.2021194032004.hdf\":MODIS_Grid_16DAY_500m_VI:\"500m 16 days NDVI\"\n",
      "0...10...20...30...40...50...60...70...80...90...100 - done.\n",
      "Creating output file that is 2168P x 1832L.\n",
      "Processing A2021177_ndvi_merge.tif [1/1] : 0...10...20...30...40...50...60...70...80...90...100 - done.\n",
      "A2021177_evi_merge.tif\n",
      "gdal_merge.py -o A2021177_evi_merge.tif HDF4_EOS:EOS_GRID:\"/media/sg/91d62d44-8446-4f66-8327-bc09e774cbb1/home/df/Projects/modis_ndvi/MOD13A1.A2021177.h19v05.006.2021194031920.hdf\":MODIS_Grid_16DAY_500m_VI:\"500m 16 days EVI\" HDF4_EOS:EOS_GRID:\"/media/sg/91d62d44-8446-4f66-8327-bc09e774cbb1/home/df/Projects/modis_ndvi/MOD13A1.A2021177.h19v04.006.2021194031959.hdf\":MODIS_Grid_16DAY_500m_VI:\"500m 16 days EVI\" HDF4_EOS:EOS_GRID:\"/media/sg/91d62d44-8446-4f66-8327-bc09e774cbb1/home/df/Projects/modis_ndvi/MOD13A1.A2021177.h20v05.006.2021194032004.hdf\":MODIS_Grid_16DAY_500m_VI:\"500m 16 days EVI\"\n",
      "0...10...20...30...40...50...60...70...80...90...100 - done.\n",
      "Creating output file that is 2168P x 1832L.\n",
      "Processing A2021177_evi_merge.tif [1/1] : 0...10...20...30...40...50...60...70...80...90...100 - done.\n",
      "A2021185_ndvi_merge.tif\n",
      "gdal_merge.py -o A2021185_ndvi_merge.tif HDF4_EOS:EOS_GRID:\"/media/sg/91d62d44-8446-4f66-8327-bc09e774cbb1/home/df/Projects/modis_ndvi/MYD13A1.A2021185.h19v04.006.2021202205503.hdf\":MODIS_Grid_16DAY_500m_VI:\"500m 16 days NDVI\" HDF4_EOS:EOS_GRID:\"/media/sg/91d62d44-8446-4f66-8327-bc09e774cbb1/home/df/Projects/modis_ndvi/MYD13A1.A2021185.h19v05.006.2021202204747.hdf\":MODIS_Grid_16DAY_500m_VI:\"500m 16 days NDVI\" HDF4_EOS:EOS_GRID:\"/media/sg/91d62d44-8446-4f66-8327-bc09e774cbb1/home/df/Projects/modis_ndvi/MYD13A1.A2021185.h20v05.006.2021202210156.hdf\":MODIS_Grid_16DAY_500m_VI:\"500m 16 days NDVI\"\n",
      "0...10...20...30...40...50...60...70...80...90...100 - done.\n",
      "Creating output file that is 2168P x 1832L.\n",
      "Processing A2021185_ndvi_merge.tif [1/1] : 0...10...20...30...40...50...60...70...80...90...100 - done.\n",
      "A2021185_evi_merge.tif\n",
      "gdal_merge.py -o A2021185_evi_merge.tif HDF4_EOS:EOS_GRID:\"/media/sg/91d62d44-8446-4f66-8327-bc09e774cbb1/home/df/Projects/modis_ndvi/MYD13A1.A2021185.h19v04.006.2021202205503.hdf\":MODIS_Grid_16DAY_500m_VI:\"500m 16 days EVI\" HDF4_EOS:EOS_GRID:\"/media/sg/91d62d44-8446-4f66-8327-bc09e774cbb1/home/df/Projects/modis_ndvi/MYD13A1.A2021185.h19v05.006.2021202204747.hdf\":MODIS_Grid_16DAY_500m_VI:\"500m 16 days EVI\" HDF4_EOS:EOS_GRID:\"/media/sg/91d62d44-8446-4f66-8327-bc09e774cbb1/home/df/Projects/modis_ndvi/MYD13A1.A2021185.h20v05.006.2021202210156.hdf\":MODIS_Grid_16DAY_500m_VI:\"500m 16 days EVI\"\n",
      "0...10...20...30...40...50...60...70...80...90...100 - done.\n",
      "Creating output file that is 2168P x 1832L.\n",
      "Processing A2021185_evi_merge.tif [1/1] : 0...10...20...30...40...50...60...70...80...90...100 - done.\n",
      "A2021193_ndvi_merge.tif\n",
      "gdal_merge.py -o A2021193_ndvi_merge.tif HDF4_EOS:EOS_GRID:\"/media/sg/91d62d44-8446-4f66-8327-bc09e774cbb1/home/df/Projects/modis_ndvi/MOD13A1.A2021193.h19v05.006.2021213232208.hdf\":MODIS_Grid_16DAY_500m_VI:\"500m 16 days NDVI\" HDF4_EOS:EOS_GRID:\"/media/sg/91d62d44-8446-4f66-8327-bc09e774cbb1/home/df/Projects/modis_ndvi/MOD13A1.A2021193.h19v04.006.2021213231815.hdf\":MODIS_Grid_16DAY_500m_VI:\"500m 16 days NDVI\" HDF4_EOS:EOS_GRID:\"/media/sg/91d62d44-8446-4f66-8327-bc09e774cbb1/home/df/Projects/modis_ndvi/MOD13A1.A2021193.h20v05.006.2021213233245.hdf\":MODIS_Grid_16DAY_500m_VI:\"500m 16 days NDVI\"\n"
     ]
    },
    {
     "name": "stdout",
     "output_type": "stream",
     "text": [
      "0...10...20...30...40...50...60...70...80...90...100 - done.\n",
      "Creating output file that is 2168P x 1832L.\n",
      "Processing A2021193_ndvi_merge.tif [1/1] : 0...10...20...30...40...50...60...70...80...90...100 - done.\n",
      "A2021193_evi_merge.tif\n",
      "gdal_merge.py -o A2021193_evi_merge.tif HDF4_EOS:EOS_GRID:\"/media/sg/91d62d44-8446-4f66-8327-bc09e774cbb1/home/df/Projects/modis_ndvi/MOD13A1.A2021193.h19v05.006.2021213232208.hdf\":MODIS_Grid_16DAY_500m_VI:\"500m 16 days EVI\" HDF4_EOS:EOS_GRID:\"/media/sg/91d62d44-8446-4f66-8327-bc09e774cbb1/home/df/Projects/modis_ndvi/MOD13A1.A2021193.h19v04.006.2021213231815.hdf\":MODIS_Grid_16DAY_500m_VI:\"500m 16 days EVI\" HDF4_EOS:EOS_GRID:\"/media/sg/91d62d44-8446-4f66-8327-bc09e774cbb1/home/df/Projects/modis_ndvi/MOD13A1.A2021193.h20v05.006.2021213233245.hdf\":MODIS_Grid_16DAY_500m_VI:\"500m 16 days EVI\"\n",
      "0...10...20...30...40...50...60...70...80...90...100 - done.\n",
      "Creating output file that is 2168P x 1832L.\n",
      "Processing A2021193_evi_merge.tif [1/1] : 0...10...20...30...40...50...60...70...80...90...100 - done.\n",
      "A2021201_ndvi_merge.tif\n",
      "gdal_merge.py -o A2021201_ndvi_merge.tif HDF4_EOS:EOS_GRID:\"/media/sg/91d62d44-8446-4f66-8327-bc09e774cbb1/home/df/Projects/modis_ndvi/MYD13A1.A2021201.h20v05.006.2021221155931.hdf\":MODIS_Grid_16DAY_500m_VI:\"500m 16 days NDVI\" HDF4_EOS:EOS_GRID:\"/media/sg/91d62d44-8446-4f66-8327-bc09e774cbb1/home/df/Projects/modis_ndvi/MYD13A1.A2021201.h19v04.006.2021221155950.hdf\":MODIS_Grid_16DAY_500m_VI:\"500m 16 days NDVI\" HDF4_EOS:EOS_GRID:\"/media/sg/91d62d44-8446-4f66-8327-bc09e774cbb1/home/df/Projects/modis_ndvi/MYD13A1.A2021201.h19v05.006.2021221160115.hdf\":MODIS_Grid_16DAY_500m_VI:\"500m 16 days NDVI\"\n",
      "0...10...20...30...40...50...60...70...80...90...100 - done.\n",
      "Creating output file that is 2168P x 1832L.\n",
      "Processing A2021201_ndvi_merge.tif [1/1] : 0...10...20...30...40...50...60...70...80...90...100 - done.\n",
      "A2021201_evi_merge.tif\n",
      "gdal_merge.py -o A2021201_evi_merge.tif HDF4_EOS:EOS_GRID:\"/media/sg/91d62d44-8446-4f66-8327-bc09e774cbb1/home/df/Projects/modis_ndvi/MYD13A1.A2021201.h20v05.006.2021221155931.hdf\":MODIS_Grid_16DAY_500m_VI:\"500m 16 days EVI\" HDF4_EOS:EOS_GRID:\"/media/sg/91d62d44-8446-4f66-8327-bc09e774cbb1/home/df/Projects/modis_ndvi/MYD13A1.A2021201.h19v04.006.2021221155950.hdf\":MODIS_Grid_16DAY_500m_VI:\"500m 16 days EVI\" HDF4_EOS:EOS_GRID:\"/media/sg/91d62d44-8446-4f66-8327-bc09e774cbb1/home/df/Projects/modis_ndvi/MYD13A1.A2021201.h19v05.006.2021221160115.hdf\":MODIS_Grid_16DAY_500m_VI:\"500m 16 days EVI\"\n",
      "0...10...20...30...40...50...60...70...80...90...100 - done.\n",
      "Creating output file that is 2168P x 1832L.\n",
      "Processing A2021201_evi_merge.tif [1/1] : 0...10...20...30...40...50...60...70...80...90...100 - done.\n",
      "A2021209_ndvi_merge.tif\n",
      "gdal_merge.py -o A2021209_ndvi_merge.tif HDF4_EOS:EOS_GRID:\"/media/sg/91d62d44-8446-4f66-8327-bc09e774cbb1/home/df/Projects/modis_ndvi/MOD13A1.A2021209.h19v04.006.2021226040400.hdf\":MODIS_Grid_16DAY_500m_VI:\"500m 16 days NDVI\" HDF4_EOS:EOS_GRID:\"/media/sg/91d62d44-8446-4f66-8327-bc09e774cbb1/home/df/Projects/modis_ndvi/MOD13A1.A2021209.h19v05.006.2021226035629.hdf\":MODIS_Grid_16DAY_500m_VI:\"500m 16 days NDVI\" HDF4_EOS:EOS_GRID:\"/media/sg/91d62d44-8446-4f66-8327-bc09e774cbb1/home/df/Projects/modis_ndvi/MOD13A1.A2021209.h20v05.006.2021226035620.hdf\":MODIS_Grid_16DAY_500m_VI:\"500m 16 days NDVI\"\n",
      "0...10...20...30...40...50...60...70...80...90...100 - done.\n",
      "Creating output file that is 2168P x 1832L.\n",
      "Processing A2021209_ndvi_merge.tif [1/1] : 0...10...20...30...40...50...60...70...80...90...100 - done.\n",
      "A2021209_evi_merge.tif\n",
      "gdal_merge.py -o A2021209_evi_merge.tif HDF4_EOS:EOS_GRID:\"/media/sg/91d62d44-8446-4f66-8327-bc09e774cbb1/home/df/Projects/modis_ndvi/MOD13A1.A2021209.h19v04.006.2021226040400.hdf\":MODIS_Grid_16DAY_500m_VI:\"500m 16 days EVI\" HDF4_EOS:EOS_GRID:\"/media/sg/91d62d44-8446-4f66-8327-bc09e774cbb1/home/df/Projects/modis_ndvi/MOD13A1.A2021209.h19v05.006.2021226035629.hdf\":MODIS_Grid_16DAY_500m_VI:\"500m 16 days EVI\" HDF4_EOS:EOS_GRID:\"/media/sg/91d62d44-8446-4f66-8327-bc09e774cbb1/home/df/Projects/modis_ndvi/MOD13A1.A2021209.h20v05.006.2021226035620.hdf\":MODIS_Grid_16DAY_500m_VI:\"500m 16 days EVI\"\n",
      "0...10...20...30...40...50...60...70...80...90...100 - done.\n",
      "Creating output file that is 2168P x 1832L.\n",
      "Processing A2021209_evi_merge.tif [1/1] : 0...10...20...30...40...50...60...70...80...90...100 - done.\n",
      "A2021217_ndvi_merge.tif\n",
      "gdal_merge.py -o A2021217_ndvi_merge.tif HDF4_EOS:EOS_GRID:\"/media/sg/91d62d44-8446-4f66-8327-bc09e774cbb1/home/df/Projects/modis_ndvi/MYD13A1.A2021217.h19v04.006.2021234032359.hdf\":MODIS_Grid_16DAY_500m_VI:\"500m 16 days NDVI\" HDF4_EOS:EOS_GRID:\"/media/sg/91d62d44-8446-4f66-8327-bc09e774cbb1/home/df/Projects/modis_ndvi/MYD13A1.A2021217.h19v05.006.2021234030353.hdf\":MODIS_Grid_16DAY_500m_VI:\"500m 16 days NDVI\" HDF4_EOS:EOS_GRID:\"/media/sg/91d62d44-8446-4f66-8327-bc09e774cbb1/home/df/Projects/modis_ndvi/MYD13A1.A2021217.h20v05.006.2021234025654.hdf\":MODIS_Grid_16DAY_500m_VI:\"500m 16 days NDVI\"\n",
      "0...10...20...30...40...50...60...70...80...90...100 - done.\n",
      "Creating output file that is 2168P x 1832L.\n",
      "Processing A2021217_ndvi_merge.tif [1/1] : 0...10...20...30...40...50...60...70...80...90...100 - done.\n",
      "A2021217_evi_merge.tif\n",
      "gdal_merge.py -o A2021217_evi_merge.tif HDF4_EOS:EOS_GRID:\"/media/sg/91d62d44-8446-4f66-8327-bc09e774cbb1/home/df/Projects/modis_ndvi/MYD13A1.A2021217.h19v04.006.2021234032359.hdf\":MODIS_Grid_16DAY_500m_VI:\"500m 16 days EVI\" HDF4_EOS:EOS_GRID:\"/media/sg/91d62d44-8446-4f66-8327-bc09e774cbb1/home/df/Projects/modis_ndvi/MYD13A1.A2021217.h19v05.006.2021234030353.hdf\":MODIS_Grid_16DAY_500m_VI:\"500m 16 days EVI\" HDF4_EOS:EOS_GRID:\"/media/sg/91d62d44-8446-4f66-8327-bc09e774cbb1/home/df/Projects/modis_ndvi/MYD13A1.A2021217.h20v05.006.2021234025654.hdf\":MODIS_Grid_16DAY_500m_VI:\"500m 16 days EVI\"\n",
      "0...10...20...30...40...50...60...70...80...90...100 - done.\n",
      "Creating output file that is 2168P x 1832L.\n",
      "Processing A2021217_evi_merge.tif [1/1] : 0...10...20...30...40...50...60...70...80...90...100 - done.\n",
      "A2021225_ndvi_merge.tif\n",
      "gdal_merge.py -o A2021225_ndvi_merge.tif HDF4_EOS:EOS_GRID:\"/media/sg/91d62d44-8446-4f66-8327-bc09e774cbb1/home/df/Projects/modis_ndvi/MOD13A1.A2021225.h19v05.006.2021243132251.hdf\":MODIS_Grid_16DAY_500m_VI:\"500m 16 days NDVI\" HDF4_EOS:EOS_GRID:\"/media/sg/91d62d44-8446-4f66-8327-bc09e774cbb1/home/df/Projects/modis_ndvi/MOD13A1.A2021225.h20v05.006.2021243132922.hdf\":MODIS_Grid_16DAY_500m_VI:\"500m 16 days NDVI\" HDF4_EOS:EOS_GRID:\"/media/sg/91d62d44-8446-4f66-8327-bc09e774cbb1/home/df/Projects/modis_ndvi/MOD13A1.A2021225.h19v04.006.2021243132443.hdf\":MODIS_Grid_16DAY_500m_VI:\"500m 16 days NDVI\"\n",
      "0...10...20...30...40...50...60...70...80...90...100 - done.\n",
      "Creating output file that is 2168P x 1832L.\n",
      "Processing A2021225_ndvi_merge.tif [1/1] : 0...10...20...30...40...50...60...70...80...90...100 - done.\n",
      "A2021225_evi_merge.tif\n",
      "gdal_merge.py -o A2021225_evi_merge.tif HDF4_EOS:EOS_GRID:\"/media/sg/91d62d44-8446-4f66-8327-bc09e774cbb1/home/df/Projects/modis_ndvi/MOD13A1.A2021225.h19v05.006.2021243132251.hdf\":MODIS_Grid_16DAY_500m_VI:\"500m 16 days EVI\" HDF4_EOS:EOS_GRID:\"/media/sg/91d62d44-8446-4f66-8327-bc09e774cbb1/home/df/Projects/modis_ndvi/MOD13A1.A2021225.h20v05.006.2021243132922.hdf\":MODIS_Grid_16DAY_500m_VI:\"500m 16 days EVI\" HDF4_EOS:EOS_GRID:\"/media/sg/91d62d44-8446-4f66-8327-bc09e774cbb1/home/df/Projects/modis_ndvi/MOD13A1.A2021225.h19v04.006.2021243132443.hdf\":MODIS_Grid_16DAY_500m_VI:\"500m 16 days EVI\"\n",
      "0...10...20...30...40...50...60...70...80...90...100 - done.\n",
      "Creating output file that is 2168P x 1832L.\n",
      "Processing A2021225_evi_merge.tif [1/1] : 0...10...20...30...40...50...60...70...80...90...100 - done.\n",
      "A2021233_ndvi_merge.tif\n",
      "gdal_merge.py -o A2021233_ndvi_merge.tif HDF4_EOS:EOS_GRID:\"/media/sg/91d62d44-8446-4f66-8327-bc09e774cbb1/home/df/Projects/modis_ndvi/MYD13A1.A2021233.h19v05.006.2021251131747.hdf\":MODIS_Grid_16DAY_500m_VI:\"500m 16 days NDVI\" HDF4_EOS:EOS_GRID:\"/media/sg/91d62d44-8446-4f66-8327-bc09e774cbb1/home/df/Projects/modis_ndvi/MYD13A1.A2021233.h20v05.006.2021251131717.hdf\":MODIS_Grid_16DAY_500m_VI:\"500m 16 days NDVI\" HDF4_EOS:EOS_GRID:\"/media/sg/91d62d44-8446-4f66-8327-bc09e774cbb1/home/df/Projects/modis_ndvi/MYD13A1.A2021233.h19v04.006.2021251134604.hdf\":MODIS_Grid_16DAY_500m_VI:\"500m 16 days NDVI\"\n"
     ]
    },
    {
     "name": "stdout",
     "output_type": "stream",
     "text": [
      "0...10...20...30...40...50...60...70...80...90...100 - done.\n",
      "Creating output file that is 2168P x 1832L.\n",
      "Processing A2021233_ndvi_merge.tif [1/1] : 0...10...20...30...40...50...60...70...80...90...100 - done.\n",
      "A2021233_evi_merge.tif\n",
      "gdal_merge.py -o A2021233_evi_merge.tif HDF4_EOS:EOS_GRID:\"/media/sg/91d62d44-8446-4f66-8327-bc09e774cbb1/home/df/Projects/modis_ndvi/MYD13A1.A2021233.h19v05.006.2021251131747.hdf\":MODIS_Grid_16DAY_500m_VI:\"500m 16 days EVI\" HDF4_EOS:EOS_GRID:\"/media/sg/91d62d44-8446-4f66-8327-bc09e774cbb1/home/df/Projects/modis_ndvi/MYD13A1.A2021233.h20v05.006.2021251131717.hdf\":MODIS_Grid_16DAY_500m_VI:\"500m 16 days EVI\" HDF4_EOS:EOS_GRID:\"/media/sg/91d62d44-8446-4f66-8327-bc09e774cbb1/home/df/Projects/modis_ndvi/MYD13A1.A2021233.h19v04.006.2021251134604.hdf\":MODIS_Grid_16DAY_500m_VI:\"500m 16 days EVI\"\n",
      "0...10...20...30...40...50...60...70...80...90...100 - done.\n",
      "Creating output file that is 2168P x 1832L.\n",
      "Processing A2021233_evi_merge.tif [1/1] : 0...10...20...30...40...50...60...70...80...90...100 - done.\n",
      "A2021241_ndvi_merge.tif\n",
      "gdal_merge.py -o A2021241_ndvi_merge.tif HDF4_EOS:EOS_GRID:\"/media/sg/91d62d44-8446-4f66-8327-bc09e774cbb1/home/df/Projects/modis_ndvi/MOD13A1.A2021241.h20v05.006.2021258032823.hdf\":MODIS_Grid_16DAY_500m_VI:\"500m 16 days NDVI\" HDF4_EOS:EOS_GRID:\"/media/sg/91d62d44-8446-4f66-8327-bc09e774cbb1/home/df/Projects/modis_ndvi/MOD13A1.A2021241.h19v05.006.2021258032311.hdf\":MODIS_Grid_16DAY_500m_VI:\"500m 16 days NDVI\" HDF4_EOS:EOS_GRID:\"/media/sg/91d62d44-8446-4f66-8327-bc09e774cbb1/home/df/Projects/modis_ndvi/MOD13A1.A2021241.h19v04.006.2021258032052.hdf\":MODIS_Grid_16DAY_500m_VI:\"500m 16 days NDVI\"\n",
      "0...10...20...30...40...50...60...70...80...90...100 - done.\n",
      "Creating output file that is 2168P x 1832L.\n",
      "Processing A2021241_ndvi_merge.tif [1/1] : 0...10...20...30...40...50...60...70...80...90...100 - done.\n",
      "A2021241_evi_merge.tif\n",
      "gdal_merge.py -o A2021241_evi_merge.tif HDF4_EOS:EOS_GRID:\"/media/sg/91d62d44-8446-4f66-8327-bc09e774cbb1/home/df/Projects/modis_ndvi/MOD13A1.A2021241.h20v05.006.2021258032823.hdf\":MODIS_Grid_16DAY_500m_VI:\"500m 16 days EVI\" HDF4_EOS:EOS_GRID:\"/media/sg/91d62d44-8446-4f66-8327-bc09e774cbb1/home/df/Projects/modis_ndvi/MOD13A1.A2021241.h19v05.006.2021258032311.hdf\":MODIS_Grid_16DAY_500m_VI:\"500m 16 days EVI\" HDF4_EOS:EOS_GRID:\"/media/sg/91d62d44-8446-4f66-8327-bc09e774cbb1/home/df/Projects/modis_ndvi/MOD13A1.A2021241.h19v04.006.2021258032052.hdf\":MODIS_Grid_16DAY_500m_VI:\"500m 16 days EVI\"\n",
      "0...10...20...30...40...50...60...70...80...90...100 - done.\n",
      "Creating output file that is 2168P x 1832L.\n",
      "Processing A2021241_evi_merge.tif [1/1] : 0...10...20...30...40...50...60...70...80...90...100 - done.\n",
      "A2021249_ndvi_merge.tif\n",
      "gdal_merge.py -o A2021249_ndvi_merge.tif HDF4_EOS:EOS_GRID:\"/media/sg/91d62d44-8446-4f66-8327-bc09e774cbb1/home/df/Projects/modis_ndvi/MYD13A1.A2021249.h19v04.006.2021266003653.hdf\":MODIS_Grid_16DAY_500m_VI:\"500m 16 days NDVI\" HDF4_EOS:EOS_GRID:\"/media/sg/91d62d44-8446-4f66-8327-bc09e774cbb1/home/df/Projects/modis_ndvi/MYD13A1.A2021249.h20v05.006.2021266004116.hdf\":MODIS_Grid_16DAY_500m_VI:\"500m 16 days NDVI\" HDF4_EOS:EOS_GRID:\"/media/sg/91d62d44-8446-4f66-8327-bc09e774cbb1/home/df/Projects/modis_ndvi/MYD13A1.A2021249.h19v05.006.2021266004626.hdf\":MODIS_Grid_16DAY_500m_VI:\"500m 16 days NDVI\"\n",
      "0...10...20...30...40...50...60...70...80...90...100 - done.\n",
      "Creating output file that is 2168P x 1832L.\n",
      "Processing A2021249_ndvi_merge.tif [1/1] : 0...10...20...30...40...50...60...70...80...90...100 - done.\n",
      "A2021249_evi_merge.tif\n",
      "gdal_merge.py -o A2021249_evi_merge.tif HDF4_EOS:EOS_GRID:\"/media/sg/91d62d44-8446-4f66-8327-bc09e774cbb1/home/df/Projects/modis_ndvi/MYD13A1.A2021249.h19v04.006.2021266003653.hdf\":MODIS_Grid_16DAY_500m_VI:\"500m 16 days EVI\" HDF4_EOS:EOS_GRID:\"/media/sg/91d62d44-8446-4f66-8327-bc09e774cbb1/home/df/Projects/modis_ndvi/MYD13A1.A2021249.h20v05.006.2021266004116.hdf\":MODIS_Grid_16DAY_500m_VI:\"500m 16 days EVI\" HDF4_EOS:EOS_GRID:\"/media/sg/91d62d44-8446-4f66-8327-bc09e774cbb1/home/df/Projects/modis_ndvi/MYD13A1.A2021249.h19v05.006.2021266004626.hdf\":MODIS_Grid_16DAY_500m_VI:\"500m 16 days EVI\"\n",
      "0...10...20...30...40...50...60...70...80...90...100 - done.\n",
      "Creating output file that is 2168P x 1832L.\n",
      "Processing A2021249_evi_merge.tif [1/1] : 0...10...20...30...40...50...60...70...80...90...100 - done.\n",
      "A2021257_ndvi_merge.tif\n",
      "gdal_merge.py -o A2021257_ndvi_merge.tif HDF4_EOS:EOS_GRID:\"/media/sg/91d62d44-8446-4f66-8327-bc09e774cbb1/home/df/Projects/modis_ndvi/MOD13A1.A2021257.h20v05.006.2021320111309.hdf\":MODIS_Grid_16DAY_500m_VI:\"500m 16 days NDVI\" HDF4_EOS:EOS_GRID:\"/media/sg/91d62d44-8446-4f66-8327-bc09e774cbb1/home/df/Projects/modis_ndvi/MOD13A1.A2021257.h19v05.006.2021320110828.hdf\":MODIS_Grid_16DAY_500m_VI:\"500m 16 days NDVI\" HDF4_EOS:EOS_GRID:\"/media/sg/91d62d44-8446-4f66-8327-bc09e774cbb1/home/df/Projects/modis_ndvi/MOD13A1.A2021257.h19v04.006.2021320111014.hdf\":MODIS_Grid_16DAY_500m_VI:\"500m 16 days NDVI\"\n",
      "0...10...20...30...40...50...60...70...80...90...100 - done.\n",
      "Creating output file that is 2168P x 1832L.\n",
      "Processing A2021257_ndvi_merge.tif [1/1] : 0...10...20...30...40...50...60...70...80...90...100 - done.\n",
      "A2021257_evi_merge.tif\n",
      "gdal_merge.py -o A2021257_evi_merge.tif HDF4_EOS:EOS_GRID:\"/media/sg/91d62d44-8446-4f66-8327-bc09e774cbb1/home/df/Projects/modis_ndvi/MOD13A1.A2021257.h20v05.006.2021320111309.hdf\":MODIS_Grid_16DAY_500m_VI:\"500m 16 days EVI\" HDF4_EOS:EOS_GRID:\"/media/sg/91d62d44-8446-4f66-8327-bc09e774cbb1/home/df/Projects/modis_ndvi/MOD13A1.A2021257.h19v05.006.2021320110828.hdf\":MODIS_Grid_16DAY_500m_VI:\"500m 16 days EVI\" HDF4_EOS:EOS_GRID:\"/media/sg/91d62d44-8446-4f66-8327-bc09e774cbb1/home/df/Projects/modis_ndvi/MOD13A1.A2021257.h19v04.006.2021320111014.hdf\":MODIS_Grid_16DAY_500m_VI:\"500m 16 days EVI\"\n",
      "0...10...20...30...40...50...60...70...80...90...100 - done.\n",
      "Creating output file that is 2168P x 1832L.\n",
      "Processing A2021257_evi_merge.tif [1/1] : 0...10...20...30...40...50...60...70...80...90...100 - done.\n",
      "A2021265_ndvi_merge.tif\n",
      "gdal_merge.py -o A2021265_ndvi_merge.tif HDF4_EOS:EOS_GRID:\"/media/sg/91d62d44-8446-4f66-8327-bc09e774cbb1/home/df/Projects/modis_ndvi/MYD13A1.A2021265.h19v05.006.2021282010245.hdf\":MODIS_Grid_16DAY_500m_VI:\"500m 16 days NDVI\" HDF4_EOS:EOS_GRID:\"/media/sg/91d62d44-8446-4f66-8327-bc09e774cbb1/home/df/Projects/modis_ndvi/MYD13A1.A2021265.h19v04.006.2021282011831.hdf\":MODIS_Grid_16DAY_500m_VI:\"500m 16 days NDVI\" HDF4_EOS:EOS_GRID:\"/media/sg/91d62d44-8446-4f66-8327-bc09e774cbb1/home/df/Projects/modis_ndvi/MYD13A1.A2021265.h20v05.006.2021282010205.hdf\":MODIS_Grid_16DAY_500m_VI:\"500m 16 days NDVI\"\n",
      "0...10...20...30...40...50...60...70...80...90...100 - done.\n",
      "Creating output file that is 2168P x 1832L.\n",
      "Processing A2021265_ndvi_merge.tif [1/1] : 0...10...20...30...40...50...60...70...80...90...100 - done.\n",
      "A2021265_evi_merge.tif\n",
      "gdal_merge.py -o A2021265_evi_merge.tif HDF4_EOS:EOS_GRID:\"/media/sg/91d62d44-8446-4f66-8327-bc09e774cbb1/home/df/Projects/modis_ndvi/MYD13A1.A2021265.h19v05.006.2021282010245.hdf\":MODIS_Grid_16DAY_500m_VI:\"500m 16 days EVI\" HDF4_EOS:EOS_GRID:\"/media/sg/91d62d44-8446-4f66-8327-bc09e774cbb1/home/df/Projects/modis_ndvi/MYD13A1.A2021265.h19v04.006.2021282011831.hdf\":MODIS_Grid_16DAY_500m_VI:\"500m 16 days EVI\" HDF4_EOS:EOS_GRID:\"/media/sg/91d62d44-8446-4f66-8327-bc09e774cbb1/home/df/Projects/modis_ndvi/MYD13A1.A2021265.h20v05.006.2021282010205.hdf\":MODIS_Grid_16DAY_500m_VI:\"500m 16 days EVI\"\n",
      "0...10...20...30...40...50...60...70...80...90...100 - done.\n",
      "Creating output file that is 2168P x 1832L.\n",
      "Processing A2021265_evi_merge.tif [1/1] : 0...10...20...30...40...50...60...70...80...90...100 - done.\n",
      "A2021273_ndvi_merge.tif\n",
      "gdal_merge.py -o A2021273_ndvi_merge.tif HDF4_EOS:EOS_GRID:\"/media/sg/91d62d44-8446-4f66-8327-bc09e774cbb1/home/df/Projects/modis_ndvi/MOD13A1.A2021273.h19v04.006.2021341094635.hdf\":MODIS_Grid_16DAY_500m_VI:\"500m 16 days NDVI\" HDF4_EOS:EOS_GRID:\"/media/sg/91d62d44-8446-4f66-8327-bc09e774cbb1/home/df/Projects/modis_ndvi/MOD13A1.A2021273.h19v05.006.2021341094533.hdf\":MODIS_Grid_16DAY_500m_VI:\"500m 16 days NDVI\" HDF4_EOS:EOS_GRID:\"/media/sg/91d62d44-8446-4f66-8327-bc09e774cbb1/home/df/Projects/modis_ndvi/MOD13A1.A2021273.h20v05.006.2021341094513.hdf\":MODIS_Grid_16DAY_500m_VI:\"500m 16 days NDVI\"\n"
     ]
    },
    {
     "name": "stdout",
     "output_type": "stream",
     "text": [
      "0...10...20...30...40...50...60...70...80...90...100 - done.\n",
      "Creating output file that is 2168P x 1832L.\n",
      "Processing A2021273_ndvi_merge.tif [1/1] : 0...10...20...30...40...50...60...70...80...90...100 - done.\n",
      "A2021273_evi_merge.tif\n",
      "gdal_merge.py -o A2021273_evi_merge.tif HDF4_EOS:EOS_GRID:\"/media/sg/91d62d44-8446-4f66-8327-bc09e774cbb1/home/df/Projects/modis_ndvi/MOD13A1.A2021273.h19v04.006.2021341094635.hdf\":MODIS_Grid_16DAY_500m_VI:\"500m 16 days EVI\" HDF4_EOS:EOS_GRID:\"/media/sg/91d62d44-8446-4f66-8327-bc09e774cbb1/home/df/Projects/modis_ndvi/MOD13A1.A2021273.h19v05.006.2021341094533.hdf\":MODIS_Grid_16DAY_500m_VI:\"500m 16 days EVI\" HDF4_EOS:EOS_GRID:\"/media/sg/91d62d44-8446-4f66-8327-bc09e774cbb1/home/df/Projects/modis_ndvi/MOD13A1.A2021273.h20v05.006.2021341094513.hdf\":MODIS_Grid_16DAY_500m_VI:\"500m 16 days EVI\"\n",
      "0...10...20...30...40...50...60...70...80...90...100 - done.\n",
      "Creating output file that is 2168P x 1832L.\n",
      "Processing A2021273_evi_merge.tif [1/1] : 0...10...20...30...40...50...60...70...80...90...100 - done.\n",
      "A2022097_ndvi_merge.tif\n",
      "gdal_merge.py -o A2022097_ndvi_merge.tif HDF4_EOS:EOS_GRID:\"/media/sg/91d62d44-8446-4f66-8327-bc09e774cbb1/home/df/Projects/modis_ndvi/MOD13A1.A2022097.h19v05.006.2022121230120.hdf\":MODIS_Grid_16DAY_500m_VI:\"500m 16 days NDVI\" HDF4_EOS:EOS_GRID:\"/media/sg/91d62d44-8446-4f66-8327-bc09e774cbb1/home/df/Projects/modis_ndvi/MOD13A1.A2022097.h20v05.006.2022121225621.hdf\":MODIS_Grid_16DAY_500m_VI:\"500m 16 days NDVI\" HDF4_EOS:EOS_GRID:\"/media/sg/91d62d44-8446-4f66-8327-bc09e774cbb1/home/df/Projects/modis_ndvi/MOD13A1.A2022097.h19v04.006.2022121225829.hdf\":MODIS_Grid_16DAY_500m_VI:\"500m 16 days NDVI\"\n",
      "0...10...20...30...40...50...60...70...80...90...100 - done.\n",
      "Creating output file that is 2168P x 1832L.\n",
      "Processing A2022097_ndvi_merge.tif [1/1] : 0...10...20...30...40...50...60...70...80...90...100 - done.\n",
      "A2022097_evi_merge.tif\n",
      "gdal_merge.py -o A2022097_evi_merge.tif HDF4_EOS:EOS_GRID:\"/media/sg/91d62d44-8446-4f66-8327-bc09e774cbb1/home/df/Projects/modis_ndvi/MOD13A1.A2022097.h19v05.006.2022121230120.hdf\":MODIS_Grid_16DAY_500m_VI:\"500m 16 days EVI\" HDF4_EOS:EOS_GRID:\"/media/sg/91d62d44-8446-4f66-8327-bc09e774cbb1/home/df/Projects/modis_ndvi/MOD13A1.A2022097.h20v05.006.2022121225621.hdf\":MODIS_Grid_16DAY_500m_VI:\"500m 16 days EVI\" HDF4_EOS:EOS_GRID:\"/media/sg/91d62d44-8446-4f66-8327-bc09e774cbb1/home/df/Projects/modis_ndvi/MOD13A1.A2022097.h19v04.006.2022121225829.hdf\":MODIS_Grid_16DAY_500m_VI:\"500m 16 days EVI\"\n",
      "0...10...20...30...40...50...60...70...80...90...100 - done.\n",
      "Creating output file that is 2168P x 1832L.\n",
      "Processing A2022097_evi_merge.tif [1/1] : 0...10...20...30...40...50...60...70...80...90...100 - done.\n",
      "A2022105_ndvi_merge.tif\n",
      "gdal_merge.py -o A2022105_ndvi_merge.tif HDF4_EOS:EOS_GRID:\"/media/sg/91d62d44-8446-4f66-8327-bc09e774cbb1/home/df/Projects/modis_ndvi/MYD13A1.A2022105.h20v05.006.2022125093350.hdf\":MODIS_Grid_16DAY_500m_VI:\"500m 16 days NDVI\" HDF4_EOS:EOS_GRID:\"/media/sg/91d62d44-8446-4f66-8327-bc09e774cbb1/home/df/Projects/modis_ndvi/MYD13A1.A2022105.h19v05.006.2022125093434.hdf\":MODIS_Grid_16DAY_500m_VI:\"500m 16 days NDVI\" HDF4_EOS:EOS_GRID:\"/media/sg/91d62d44-8446-4f66-8327-bc09e774cbb1/home/df/Projects/modis_ndvi/MYD13A1.A2022105.h19v04.006.2022125093415.hdf\":MODIS_Grid_16DAY_500m_VI:\"500m 16 days NDVI\"\n",
      "0...10...20...30...40...50...60...70...80...90...100 - done.\n",
      "Creating output file that is 2168P x 1832L.\n",
      "Processing A2022105_ndvi_merge.tif [1/1] : 0...10...20...30...40...50...60...70...80...90...100 - done.\n",
      "A2022105_evi_merge.tif\n",
      "gdal_merge.py -o A2022105_evi_merge.tif HDF4_EOS:EOS_GRID:\"/media/sg/91d62d44-8446-4f66-8327-bc09e774cbb1/home/df/Projects/modis_ndvi/MYD13A1.A2022105.h20v05.006.2022125093350.hdf\":MODIS_Grid_16DAY_500m_VI:\"500m 16 days EVI\" HDF4_EOS:EOS_GRID:\"/media/sg/91d62d44-8446-4f66-8327-bc09e774cbb1/home/df/Projects/modis_ndvi/MYD13A1.A2022105.h19v05.006.2022125093434.hdf\":MODIS_Grid_16DAY_500m_VI:\"500m 16 days EVI\" HDF4_EOS:EOS_GRID:\"/media/sg/91d62d44-8446-4f66-8327-bc09e774cbb1/home/df/Projects/modis_ndvi/MYD13A1.A2022105.h19v04.006.2022125093415.hdf\":MODIS_Grid_16DAY_500m_VI:\"500m 16 days EVI\"\n",
      "0...10...20...30...40...50...60...70...80...90...100 - done.\n",
      "Creating output file that is 2168P x 1832L.\n",
      "Processing A2022105_evi_merge.tif [1/1] : 0...10...20...30...40...50...60...70...80...90...100 - done.\n",
      "A2022113_ndvi_merge.tif\n",
      "gdal_merge.py -o A2022113_ndvi_merge.tif HDF4_EOS:EOS_GRID:\"/media/sg/91d62d44-8446-4f66-8327-bc09e774cbb1/home/df/Projects/modis_ndvi/MOD13A1.A2022113.h20v05.006.2022134004354.hdf\":MODIS_Grid_16DAY_500m_VI:\"500m 16 days NDVI\" HDF4_EOS:EOS_GRID:\"/media/sg/91d62d44-8446-4f66-8327-bc09e774cbb1/home/df/Projects/modis_ndvi/MOD13A1.A2022113.h19v05.006.2022134004627.hdf\":MODIS_Grid_16DAY_500m_VI:\"500m 16 days NDVI\" HDF4_EOS:EOS_GRID:\"/media/sg/91d62d44-8446-4f66-8327-bc09e774cbb1/home/df/Projects/modis_ndvi/MOD13A1.A2022113.h19v04.006.2022134004343.hdf\":MODIS_Grid_16DAY_500m_VI:\"500m 16 days NDVI\"\n",
      "0...10...20...30...40...50...60...70...80...90...100 - done.\n",
      "Creating output file that is 2168P x 1832L.\n",
      "Processing A2022113_ndvi_merge.tif [1/1] : 0...10...20...30...40...50...60...70...80...90...100 - done.\n",
      "A2022113_evi_merge.tif\n",
      "gdal_merge.py -o A2022113_evi_merge.tif HDF4_EOS:EOS_GRID:\"/media/sg/91d62d44-8446-4f66-8327-bc09e774cbb1/home/df/Projects/modis_ndvi/MOD13A1.A2022113.h20v05.006.2022134004354.hdf\":MODIS_Grid_16DAY_500m_VI:\"500m 16 days EVI\" HDF4_EOS:EOS_GRID:\"/media/sg/91d62d44-8446-4f66-8327-bc09e774cbb1/home/df/Projects/modis_ndvi/MOD13A1.A2022113.h19v05.006.2022134004627.hdf\":MODIS_Grid_16DAY_500m_VI:\"500m 16 days EVI\" HDF4_EOS:EOS_GRID:\"/media/sg/91d62d44-8446-4f66-8327-bc09e774cbb1/home/df/Projects/modis_ndvi/MOD13A1.A2022113.h19v04.006.2022134004343.hdf\":MODIS_Grid_16DAY_500m_VI:\"500m 16 days EVI\"\n",
      "0...10...20...30...40...50...60...70...80...90...100 - done.\n",
      "Creating output file that is 2168P x 1832L.\n",
      "Processing A2022113_evi_merge.tif [1/1] : 0...10...20...30...40...50...60...70...80...90...100 - done.\n",
      "A2022121_ndvi_merge.tif\n",
      "gdal_merge.py -o A2022121_ndvi_merge.tif HDF4_EOS:EOS_GRID:\"/media/sg/91d62d44-8446-4f66-8327-bc09e774cbb1/home/df/Projects/modis_ndvi/MYD13A1.A2022121.h19v04.006.2022141123332.hdf\":MODIS_Grid_16DAY_500m_VI:\"500m 16 days NDVI\" HDF4_EOS:EOS_GRID:\"/media/sg/91d62d44-8446-4f66-8327-bc09e774cbb1/home/df/Projects/modis_ndvi/MYD13A1.A2022121.h19v05.006.2022141123543.hdf\":MODIS_Grid_16DAY_500m_VI:\"500m 16 days NDVI\" HDF4_EOS:EOS_GRID:\"/media/sg/91d62d44-8446-4f66-8327-bc09e774cbb1/home/df/Projects/modis_ndvi/MYD13A1.A2022121.h20v05.006.2022141123352.hdf\":MODIS_Grid_16DAY_500m_VI:\"500m 16 days NDVI\"\n",
      "0...10...20...30...40...50...60...70...80...90...100 - done.\n",
      "Creating output file that is 2168P x 1832L.\n",
      "Processing A2022121_ndvi_merge.tif [1/1] : 0...10...20...30...40...50...60...70...80...90...100 - done.\n",
      "A2022121_evi_merge.tif\n",
      "gdal_merge.py -o A2022121_evi_merge.tif HDF4_EOS:EOS_GRID:\"/media/sg/91d62d44-8446-4f66-8327-bc09e774cbb1/home/df/Projects/modis_ndvi/MYD13A1.A2022121.h19v04.006.2022141123332.hdf\":MODIS_Grid_16DAY_500m_VI:\"500m 16 days EVI\" HDF4_EOS:EOS_GRID:\"/media/sg/91d62d44-8446-4f66-8327-bc09e774cbb1/home/df/Projects/modis_ndvi/MYD13A1.A2022121.h19v05.006.2022141123543.hdf\":MODIS_Grid_16DAY_500m_VI:\"500m 16 days EVI\" HDF4_EOS:EOS_GRID:\"/media/sg/91d62d44-8446-4f66-8327-bc09e774cbb1/home/df/Projects/modis_ndvi/MYD13A1.A2022121.h20v05.006.2022141123352.hdf\":MODIS_Grid_16DAY_500m_VI:\"500m 16 days EVI\"\n",
      "0...10...20...30...40...50...60...70...80...90...100 - done.\n",
      "Creating output file that is 2168P x 1832L.\n",
      "Processing A2022121_evi_merge.tif [1/1] : 0...10...20...30...40...50...60...70...80...90...100 - done.\n",
      "A2022129_ndvi_merge.tif\n",
      "gdal_merge.py -o A2022129_ndvi_merge.tif HDF4_EOS:EOS_GRID:\"/media/sg/91d62d44-8446-4f66-8327-bc09e774cbb1/home/df/Projects/modis_ndvi/MOD13A1.A2022129.h19v05.006.2022146004851.hdf\":MODIS_Grid_16DAY_500m_VI:\"500m 16 days NDVI\" HDF4_EOS:EOS_GRID:\"/media/sg/91d62d44-8446-4f66-8327-bc09e774cbb1/home/df/Projects/modis_ndvi/MOD13A1.A2022129.h20v05.006.2022146011921.hdf\":MODIS_Grid_16DAY_500m_VI:\"500m 16 days NDVI\" HDF4_EOS:EOS_GRID:\"/media/sg/91d62d44-8446-4f66-8327-bc09e774cbb1/home/df/Projects/modis_ndvi/MOD13A1.A2022129.h19v04.006.2022146011826.hdf\":MODIS_Grid_16DAY_500m_VI:\"500m 16 days NDVI\"\n"
     ]
    },
    {
     "name": "stdout",
     "output_type": "stream",
     "text": [
      "0...10...20...30...40...50...60...70...80...90...100 - done.\n",
      "Creating output file that is 2168P x 1832L.\n",
      "Processing A2022129_ndvi_merge.tif [1/1] : 0...10...20...30...40...50...60...70...80...90...100 - done.\n",
      "A2022129_evi_merge.tif\n",
      "gdal_merge.py -o A2022129_evi_merge.tif HDF4_EOS:EOS_GRID:\"/media/sg/91d62d44-8446-4f66-8327-bc09e774cbb1/home/df/Projects/modis_ndvi/MOD13A1.A2022129.h19v05.006.2022146004851.hdf\":MODIS_Grid_16DAY_500m_VI:\"500m 16 days EVI\" HDF4_EOS:EOS_GRID:\"/media/sg/91d62d44-8446-4f66-8327-bc09e774cbb1/home/df/Projects/modis_ndvi/MOD13A1.A2022129.h20v05.006.2022146011921.hdf\":MODIS_Grid_16DAY_500m_VI:\"500m 16 days EVI\" HDF4_EOS:EOS_GRID:\"/media/sg/91d62d44-8446-4f66-8327-bc09e774cbb1/home/df/Projects/modis_ndvi/MOD13A1.A2022129.h19v04.006.2022146011826.hdf\":MODIS_Grid_16DAY_500m_VI:\"500m 16 days EVI\"\n",
      "0...10...20...30...40...50...60...70...80...90...100 - done.\n",
      "Creating output file that is 2168P x 1832L.\n",
      "Processing A2022129_evi_merge.tif [1/1] : 0...10...20...30...40...50...60...70...80...90...100 - done.\n",
      "A2022137_ndvi_merge.tif\n",
      "gdal_merge.py -o A2022137_ndvi_merge.tif HDF4_EOS:EOS_GRID:\"/media/sg/91d62d44-8446-4f66-8327-bc09e774cbb1/home/df/Projects/modis_ndvi/MYD13A1.A2022137.h19v05.006.2022157193135.hdf\":MODIS_Grid_16DAY_500m_VI:\"500m 16 days NDVI\" HDF4_EOS:EOS_GRID:\"/media/sg/91d62d44-8446-4f66-8327-bc09e774cbb1/home/df/Projects/modis_ndvi/MYD13A1.A2022137.h19v04.006.2022157193217.hdf\":MODIS_Grid_16DAY_500m_VI:\"500m 16 days NDVI\" HDF4_EOS:EOS_GRID:\"/media/sg/91d62d44-8446-4f66-8327-bc09e774cbb1/home/df/Projects/modis_ndvi/MYD13A1.A2022137.h20v05.006.2022157193159.hdf\":MODIS_Grid_16DAY_500m_VI:\"500m 16 days NDVI\"\n",
      "0...10...20...30...40...50...60...70...80...90...100 - done.\n",
      "Creating output file that is 2168P x 1832L.\n",
      "Processing A2022137_ndvi_merge.tif [1/1] : 0...10...20...30...40...50...60...70...80...90...100 - done.\n",
      "A2022137_evi_merge.tif\n",
      "gdal_merge.py -o A2022137_evi_merge.tif HDF4_EOS:EOS_GRID:\"/media/sg/91d62d44-8446-4f66-8327-bc09e774cbb1/home/df/Projects/modis_ndvi/MYD13A1.A2022137.h19v05.006.2022157193135.hdf\":MODIS_Grid_16DAY_500m_VI:\"500m 16 days EVI\" HDF4_EOS:EOS_GRID:\"/media/sg/91d62d44-8446-4f66-8327-bc09e774cbb1/home/df/Projects/modis_ndvi/MYD13A1.A2022137.h19v04.006.2022157193217.hdf\":MODIS_Grid_16DAY_500m_VI:\"500m 16 days EVI\" HDF4_EOS:EOS_GRID:\"/media/sg/91d62d44-8446-4f66-8327-bc09e774cbb1/home/df/Projects/modis_ndvi/MYD13A1.A2022137.h20v05.006.2022157193159.hdf\":MODIS_Grid_16DAY_500m_VI:\"500m 16 days EVI\"\n",
      "0...10...20...30...40...50...60...70...80...90...100 - done.\n",
      "Creating output file that is 2168P x 1832L.\n",
      "Processing A2022137_evi_merge.tif [1/1] : 0...10...20...30...40...50...60...70...80...90...100 - done.\n",
      "A2022145_ndvi_merge.tif\n",
      "gdal_merge.py -o A2022145_ndvi_merge.tif HDF4_EOS:EOS_GRID:\"/media/sg/91d62d44-8446-4f66-8327-bc09e774cbb1/home/df/Projects/modis_ndvi/MOD13A1.A2022145.h20v05.006.2022162033617.hdf\":MODIS_Grid_16DAY_500m_VI:\"500m 16 days NDVI\" HDF4_EOS:EOS_GRID:\"/media/sg/91d62d44-8446-4f66-8327-bc09e774cbb1/home/df/Projects/modis_ndvi/MOD13A1.A2022145.h19v05.006.2022162033852.hdf\":MODIS_Grid_16DAY_500m_VI:\"500m 16 days NDVI\" HDF4_EOS:EOS_GRID:\"/media/sg/91d62d44-8446-4f66-8327-bc09e774cbb1/home/df/Projects/modis_ndvi/MOD13A1.A2022145.h19v04.006.2022162034301.hdf\":MODIS_Grid_16DAY_500m_VI:\"500m 16 days NDVI\"\n",
      "0...10...20...30...40...50...60...70...80...90...100 - done.\n",
      "Creating output file that is 2168P x 1832L.\n",
      "Processing A2022145_ndvi_merge.tif [1/1] : 0...10...20...30...40...50...60...70...80...90...100 - done.\n",
      "A2022145_evi_merge.tif\n",
      "gdal_merge.py -o A2022145_evi_merge.tif HDF4_EOS:EOS_GRID:\"/media/sg/91d62d44-8446-4f66-8327-bc09e774cbb1/home/df/Projects/modis_ndvi/MOD13A1.A2022145.h20v05.006.2022162033617.hdf\":MODIS_Grid_16DAY_500m_VI:\"500m 16 days EVI\" HDF4_EOS:EOS_GRID:\"/media/sg/91d62d44-8446-4f66-8327-bc09e774cbb1/home/df/Projects/modis_ndvi/MOD13A1.A2022145.h19v05.006.2022162033852.hdf\":MODIS_Grid_16DAY_500m_VI:\"500m 16 days EVI\" HDF4_EOS:EOS_GRID:\"/media/sg/91d62d44-8446-4f66-8327-bc09e774cbb1/home/df/Projects/modis_ndvi/MOD13A1.A2022145.h19v04.006.2022162034301.hdf\":MODIS_Grid_16DAY_500m_VI:\"500m 16 days EVI\"\n",
      "0...10...20...30...40...50...60...70...80...90...100 - done.\n",
      "Creating output file that is 2168P x 1832L.\n",
      "Processing A2022145_evi_merge.tif [1/1] : 0...10...20...30...40...50...60...70...80...90...100 - done.\n",
      "A2022153_ndvi_merge.tif\n",
      "gdal_merge.py -o A2022153_ndvi_merge.tif HDF4_EOS:EOS_GRID:\"/media/sg/91d62d44-8446-4f66-8327-bc09e774cbb1/home/df/Projects/modis_ndvi/MYD13A1.A2022153.h19v04.006.2022170005639.hdf\":MODIS_Grid_16DAY_500m_VI:\"500m 16 days NDVI\" HDF4_EOS:EOS_GRID:\"/media/sg/91d62d44-8446-4f66-8327-bc09e774cbb1/home/df/Projects/modis_ndvi/MYD13A1.A2022153.h20v05.006.2022170011110.hdf\":MODIS_Grid_16DAY_500m_VI:\"500m 16 days NDVI\" HDF4_EOS:EOS_GRID:\"/media/sg/91d62d44-8446-4f66-8327-bc09e774cbb1/home/df/Projects/modis_ndvi/MYD13A1.A2022153.h19v05.006.2022170005559.hdf\":MODIS_Grid_16DAY_500m_VI:\"500m 16 days NDVI\"\n",
      "0...10...20...30...40...50...60...70...80...90...100 - done.\n",
      "Creating output file that is 2168P x 1832L.\n",
      "Processing A2022153_ndvi_merge.tif [1/1] : 0...10...20...30...40...50...60...70...80...90...100 - done.\n",
      "A2022153_evi_merge.tif\n",
      "gdal_merge.py -o A2022153_evi_merge.tif HDF4_EOS:EOS_GRID:\"/media/sg/91d62d44-8446-4f66-8327-bc09e774cbb1/home/df/Projects/modis_ndvi/MYD13A1.A2022153.h19v04.006.2022170005639.hdf\":MODIS_Grid_16DAY_500m_VI:\"500m 16 days EVI\" HDF4_EOS:EOS_GRID:\"/media/sg/91d62d44-8446-4f66-8327-bc09e774cbb1/home/df/Projects/modis_ndvi/MYD13A1.A2022153.h20v05.006.2022170011110.hdf\":MODIS_Grid_16DAY_500m_VI:\"500m 16 days EVI\" HDF4_EOS:EOS_GRID:\"/media/sg/91d62d44-8446-4f66-8327-bc09e774cbb1/home/df/Projects/modis_ndvi/MYD13A1.A2022153.h19v05.006.2022170005559.hdf\":MODIS_Grid_16DAY_500m_VI:\"500m 16 days EVI\"\n",
      "0...10...20...30...40...50...60...70...80...90...100 - done.\n",
      "Creating output file that is 2168P x 1832L.\n",
      "Processing A2022153_evi_merge.tif [1/1] : 0...10...20...30...40...50...60...70...80...90...100 - done.\n",
      "A2022161_ndvi_merge.tif\n",
      "gdal_merge.py -o A2022161_ndvi_merge.tif HDF4_EOS:EOS_GRID:\"/media/sg/91d62d44-8446-4f66-8327-bc09e774cbb1/home/df/Projects/modis_ndvi/MOD13A1.A2022161.h20v05.006.2022178003615.hdf\":MODIS_Grid_16DAY_500m_VI:\"500m 16 days NDVI\" HDF4_EOS:EOS_GRID:\"/media/sg/91d62d44-8446-4f66-8327-bc09e774cbb1/home/df/Projects/modis_ndvi/MOD13A1.A2022161.h19v04.006.2022178003614.hdf\":MODIS_Grid_16DAY_500m_VI:\"500m 16 days NDVI\" HDF4_EOS:EOS_GRID:\"/media/sg/91d62d44-8446-4f66-8327-bc09e774cbb1/home/df/Projects/modis_ndvi/MOD13A1.A2022161.h19v05.006.2022178003545.hdf\":MODIS_Grid_16DAY_500m_VI:\"500m 16 days NDVI\"\n",
      "0...10...20...30...40...50...60...70...80...90...100 - done.\n",
      "Creating output file that is 2168P x 1832L.\n",
      "Processing A2022161_ndvi_merge.tif [1/1] : 0...10...20...30...40...50...60...70...80...90...100 - done.\n",
      "A2022161_evi_merge.tif\n",
      "gdal_merge.py -o A2022161_evi_merge.tif HDF4_EOS:EOS_GRID:\"/media/sg/91d62d44-8446-4f66-8327-bc09e774cbb1/home/df/Projects/modis_ndvi/MOD13A1.A2022161.h20v05.006.2022178003615.hdf\":MODIS_Grid_16DAY_500m_VI:\"500m 16 days EVI\" HDF4_EOS:EOS_GRID:\"/media/sg/91d62d44-8446-4f66-8327-bc09e774cbb1/home/df/Projects/modis_ndvi/MOD13A1.A2022161.h19v04.006.2022178003614.hdf\":MODIS_Grid_16DAY_500m_VI:\"500m 16 days EVI\" HDF4_EOS:EOS_GRID:\"/media/sg/91d62d44-8446-4f66-8327-bc09e774cbb1/home/df/Projects/modis_ndvi/MOD13A1.A2022161.h19v05.006.2022178003545.hdf\":MODIS_Grid_16DAY_500m_VI:\"500m 16 days EVI\"\n",
      "0...10...20...30...40...50...60...70...80...90...100 - done.\n",
      "Creating output file that is 2168P x 1832L.\n",
      "Processing A2022161_evi_merge.tif [1/1] : 0...10...20...30...40...50...60...70...80...90...100 - done.\n",
      "A2022169_ndvi_merge.tif\n",
      "gdal_merge.py -o A2022169_ndvi_merge.tif HDF4_EOS:EOS_GRID:\"/media/sg/91d62d44-8446-4f66-8327-bc09e774cbb1/home/df/Projects/modis_ndvi/MYD13A1.A2022169.h19v04.006.2022186013906.hdf\":MODIS_Grid_16DAY_500m_VI:\"500m 16 days NDVI\" HDF4_EOS:EOS_GRID:\"/media/sg/91d62d44-8446-4f66-8327-bc09e774cbb1/home/df/Projects/modis_ndvi/MYD13A1.A2022169.h19v05.006.2022186013338.hdf\":MODIS_Grid_16DAY_500m_VI:\"500m 16 days NDVI\" HDF4_EOS:EOS_GRID:\"/media/sg/91d62d44-8446-4f66-8327-bc09e774cbb1/home/df/Projects/modis_ndvi/MYD13A1.A2022169.h20v05.006.2022186013346.hdf\":MODIS_Grid_16DAY_500m_VI:\"500m 16 days NDVI\"\n"
     ]
    },
    {
     "name": "stdout",
     "output_type": "stream",
     "text": [
      "0...10...20...30...40...50...60...70...80...90...100 - done.\n",
      "Creating output file that is 2168P x 1832L.\n",
      "Processing A2022169_ndvi_merge.tif [1/1] : 0...10...20...30...40...50...60...70...80...90...100 - done.\n",
      "A2022169_evi_merge.tif\n",
      "gdal_merge.py -o A2022169_evi_merge.tif HDF4_EOS:EOS_GRID:\"/media/sg/91d62d44-8446-4f66-8327-bc09e774cbb1/home/df/Projects/modis_ndvi/MYD13A1.A2022169.h19v04.006.2022186013906.hdf\":MODIS_Grid_16DAY_500m_VI:\"500m 16 days EVI\" HDF4_EOS:EOS_GRID:\"/media/sg/91d62d44-8446-4f66-8327-bc09e774cbb1/home/df/Projects/modis_ndvi/MYD13A1.A2022169.h19v05.006.2022186013338.hdf\":MODIS_Grid_16DAY_500m_VI:\"500m 16 days EVI\" HDF4_EOS:EOS_GRID:\"/media/sg/91d62d44-8446-4f66-8327-bc09e774cbb1/home/df/Projects/modis_ndvi/MYD13A1.A2022169.h20v05.006.2022186013346.hdf\":MODIS_Grid_16DAY_500m_VI:\"500m 16 days EVI\"\n",
      "0...10...20...30...40...50...60...70...80...90...100 - done.\n",
      "Creating output file that is 2168P x 1832L.\n",
      "Processing A2022169_evi_merge.tif [1/1] : 0...10...20...30...40...50...60...70...80...90...100 - done.\n",
      "A2022177_ndvi_merge.tif\n",
      "gdal_merge.py -o A2022177_ndvi_merge.tif HDF4_EOS:EOS_GRID:\"/media/sg/91d62d44-8446-4f66-8327-bc09e774cbb1/home/df/Projects/modis_ndvi/MOD13A1.A2022177.h19v04.006.2022195114827.hdf\":MODIS_Grid_16DAY_500m_VI:\"500m 16 days NDVI\" HDF4_EOS:EOS_GRID:\"/media/sg/91d62d44-8446-4f66-8327-bc09e774cbb1/home/df/Projects/modis_ndvi/MOD13A1.A2022177.h20v05.006.2022195114830.hdf\":MODIS_Grid_16DAY_500m_VI:\"500m 16 days NDVI\" HDF4_EOS:EOS_GRID:\"/media/sg/91d62d44-8446-4f66-8327-bc09e774cbb1/home/df/Projects/modis_ndvi/MOD13A1.A2022177.h19v05.006.2022195114741.hdf\":MODIS_Grid_16DAY_500m_VI:\"500m 16 days NDVI\"\n",
      "0...10...20...30...40...50...60...70...80...90...100 - done.\n",
      "Creating output file that is 2168P x 1832L.\n",
      "Processing A2022177_ndvi_merge.tif [1/1] : 0...10...20...30...40...50...60...70...80...90...100 - done.\n",
      "A2022177_evi_merge.tif\n",
      "gdal_merge.py -o A2022177_evi_merge.tif HDF4_EOS:EOS_GRID:\"/media/sg/91d62d44-8446-4f66-8327-bc09e774cbb1/home/df/Projects/modis_ndvi/MOD13A1.A2022177.h19v04.006.2022195114827.hdf\":MODIS_Grid_16DAY_500m_VI:\"500m 16 days EVI\" HDF4_EOS:EOS_GRID:\"/media/sg/91d62d44-8446-4f66-8327-bc09e774cbb1/home/df/Projects/modis_ndvi/MOD13A1.A2022177.h20v05.006.2022195114830.hdf\":MODIS_Grid_16DAY_500m_VI:\"500m 16 days EVI\" HDF4_EOS:EOS_GRID:\"/media/sg/91d62d44-8446-4f66-8327-bc09e774cbb1/home/df/Projects/modis_ndvi/MOD13A1.A2022177.h19v05.006.2022195114741.hdf\":MODIS_Grid_16DAY_500m_VI:\"500m 16 days EVI\"\n",
      "0...10...20...30...40...50...60...70...80...90...100 - done.\n",
      "Creating output file that is 2168P x 1832L.\n",
      "Processing A2022177_evi_merge.tif [1/1] : 0...10...20...30...40...50...60...70...80...90...100 - done.\n",
      "A2022185_ndvi_merge.tif\n",
      "gdal_merge.py -o A2022185_ndvi_merge.tif HDF4_EOS:EOS_GRID:\"/media/sg/91d62d44-8446-4f66-8327-bc09e774cbb1/home/df/Projects/modis_ndvi/MYD13A1.A2022185.h19v05.006.2022202014837.hdf\":MODIS_Grid_16DAY_500m_VI:\"500m 16 days NDVI\" HDF4_EOS:EOS_GRID:\"/media/sg/91d62d44-8446-4f66-8327-bc09e774cbb1/home/df/Projects/modis_ndvi/MYD13A1.A2022185.h19v04.006.2022202021200.hdf\":MODIS_Grid_16DAY_500m_VI:\"500m 16 days NDVI\" HDF4_EOS:EOS_GRID:\"/media/sg/91d62d44-8446-4f66-8327-bc09e774cbb1/home/df/Projects/modis_ndvi/MYD13A1.A2022185.h20v05.006.2022202023743.hdf\":MODIS_Grid_16DAY_500m_VI:\"500m 16 days NDVI\"\n",
      "0...10...20...30...40...50...60...70...80...90...100 - done.\n",
      "Creating output file that is 2168P x 1832L.\n",
      "Processing A2022185_ndvi_merge.tif [1/1] : 0...10...20...30...40...50...60...70...80...90...100 - done.\n",
      "A2022185_evi_merge.tif\n",
      "gdal_merge.py -o A2022185_evi_merge.tif HDF4_EOS:EOS_GRID:\"/media/sg/91d62d44-8446-4f66-8327-bc09e774cbb1/home/df/Projects/modis_ndvi/MYD13A1.A2022185.h19v05.006.2022202014837.hdf\":MODIS_Grid_16DAY_500m_VI:\"500m 16 days EVI\" HDF4_EOS:EOS_GRID:\"/media/sg/91d62d44-8446-4f66-8327-bc09e774cbb1/home/df/Projects/modis_ndvi/MYD13A1.A2022185.h19v04.006.2022202021200.hdf\":MODIS_Grid_16DAY_500m_VI:\"500m 16 days EVI\" HDF4_EOS:EOS_GRID:\"/media/sg/91d62d44-8446-4f66-8327-bc09e774cbb1/home/df/Projects/modis_ndvi/MYD13A1.A2022185.h20v05.006.2022202023743.hdf\":MODIS_Grid_16DAY_500m_VI:\"500m 16 days EVI\"\n",
      "0...10...20...30...40...50...60...70...80...90...100 - done.\n",
      "Creating output file that is 2168P x 1832L.\n",
      "Processing A2022185_evi_merge.tif [1/1] : 0...10...20...30...40...50...60...70...80...90...100 - done.\n",
      "A2022193_ndvi_merge.tif\n",
      "gdal_merge.py -o A2022193_ndvi_merge.tif HDF4_EOS:EOS_GRID:\"/media/sg/91d62d44-8446-4f66-8327-bc09e774cbb1/home/df/Projects/modis_ndvi/MOD13A1.A2022193.h19v05.006.2022215005129.hdf\":MODIS_Grid_16DAY_500m_VI:\"500m 16 days NDVI\" HDF4_EOS:EOS_GRID:\"/media/sg/91d62d44-8446-4f66-8327-bc09e774cbb1/home/df/Projects/modis_ndvi/MOD13A1.A2022193.h19v04.006.2022215005054.hdf\":MODIS_Grid_16DAY_500m_VI:\"500m 16 days NDVI\" HDF4_EOS:EOS_GRID:\"/media/sg/91d62d44-8446-4f66-8327-bc09e774cbb1/home/df/Projects/modis_ndvi/MOD13A1.A2022193.h20v05.006.2022215004946.hdf\":MODIS_Grid_16DAY_500m_VI:\"500m 16 days NDVI\"\n",
      "0...10...20...30...40...50...60...70...80...90...100 - done.\n",
      "Creating output file that is 2168P x 1832L.\n",
      "Processing A2022193_ndvi_merge.tif [1/1] : 0...10...20...30...40...50...60...70...80...90...100 - done.\n",
      "A2022193_evi_merge.tif\n",
      "gdal_merge.py -o A2022193_evi_merge.tif HDF4_EOS:EOS_GRID:\"/media/sg/91d62d44-8446-4f66-8327-bc09e774cbb1/home/df/Projects/modis_ndvi/MOD13A1.A2022193.h19v05.006.2022215005129.hdf\":MODIS_Grid_16DAY_500m_VI:\"500m 16 days EVI\" HDF4_EOS:EOS_GRID:\"/media/sg/91d62d44-8446-4f66-8327-bc09e774cbb1/home/df/Projects/modis_ndvi/MOD13A1.A2022193.h19v04.006.2022215005054.hdf\":MODIS_Grid_16DAY_500m_VI:\"500m 16 days EVI\" HDF4_EOS:EOS_GRID:\"/media/sg/91d62d44-8446-4f66-8327-bc09e774cbb1/home/df/Projects/modis_ndvi/MOD13A1.A2022193.h20v05.006.2022215004946.hdf\":MODIS_Grid_16DAY_500m_VI:\"500m 16 days EVI\"\n",
      "0...10...20...30...40...50...60...70...80...90...100 - done.\n",
      "Creating output file that is 2168P x 1832L.\n",
      "Processing A2022193_evi_merge.tif [1/1] : 0...10...20...30...40...50...60...70...80...90...100 - done.\n",
      "A2022201_ndvi_merge.tif\n",
      "gdal_merge.py -o A2022201_ndvi_merge.tif HDF4_EOS:EOS_GRID:\"/media/sg/91d62d44-8446-4f66-8327-bc09e774cbb1/home/df/Projects/modis_ndvi/MYD13A1.A2022201.h19v04.006.2022218011451.hdf\":MODIS_Grid_16DAY_500m_VI:\"500m 16 days NDVI\" HDF4_EOS:EOS_GRID:\"/media/sg/91d62d44-8446-4f66-8327-bc09e774cbb1/home/df/Projects/modis_ndvi/MYD13A1.A2022201.h20v05.006.2022218011115.hdf\":MODIS_Grid_16DAY_500m_VI:\"500m 16 days NDVI\" HDF4_EOS:EOS_GRID:\"/media/sg/91d62d44-8446-4f66-8327-bc09e774cbb1/home/df/Projects/modis_ndvi/MYD13A1.A2022201.h19v05.006.2022218014258.hdf\":MODIS_Grid_16DAY_500m_VI:\"500m 16 days NDVI\"\n",
      "0...10...20...30...40...50...60...70...80...90...100 - done.\n",
      "Creating output file that is 2168P x 1832L.\n",
      "Processing A2022201_ndvi_merge.tif [1/1] : 0...10...20...30...40...50...60...70...80...90...100 - done.\n",
      "A2022201_evi_merge.tif\n",
      "gdal_merge.py -o A2022201_evi_merge.tif HDF4_EOS:EOS_GRID:\"/media/sg/91d62d44-8446-4f66-8327-bc09e774cbb1/home/df/Projects/modis_ndvi/MYD13A1.A2022201.h19v04.006.2022218011451.hdf\":MODIS_Grid_16DAY_500m_VI:\"500m 16 days EVI\" HDF4_EOS:EOS_GRID:\"/media/sg/91d62d44-8446-4f66-8327-bc09e774cbb1/home/df/Projects/modis_ndvi/MYD13A1.A2022201.h20v05.006.2022218011115.hdf\":MODIS_Grid_16DAY_500m_VI:\"500m 16 days EVI\" HDF4_EOS:EOS_GRID:\"/media/sg/91d62d44-8446-4f66-8327-bc09e774cbb1/home/df/Projects/modis_ndvi/MYD13A1.A2022201.h19v05.006.2022218014258.hdf\":MODIS_Grid_16DAY_500m_VI:\"500m 16 days EVI\"\n",
      "0...10...20...30...40...50...60...70...80...90...100 - done.\n",
      "Creating output file that is 2168P x 1832L.\n",
      "Processing A2022201_evi_merge.tif [1/1] : 0...10...20...30...40...50...60...70...80...90...100 - done.\n",
      "A2022209_ndvi_merge.tif\n",
      "gdal_merge.py -o A2022209_ndvi_merge.tif HDF4_EOS:EOS_GRID:\"/media/sg/91d62d44-8446-4f66-8327-bc09e774cbb1/home/df/Projects/modis_ndvi/MOD13A1.A2022209.h20v05.006.2022231222906.hdf\":MODIS_Grid_16DAY_500m_VI:\"500m 16 days NDVI\" HDF4_EOS:EOS_GRID:\"/media/sg/91d62d44-8446-4f66-8327-bc09e774cbb1/home/df/Projects/modis_ndvi/MOD13A1.A2022209.h19v05.006.2022231222858.hdf\":MODIS_Grid_16DAY_500m_VI:\"500m 16 days NDVI\" HDF4_EOS:EOS_GRID:\"/media/sg/91d62d44-8446-4f66-8327-bc09e774cbb1/home/df/Projects/modis_ndvi/MOD13A1.A2022209.h19v04.006.2022231224205.hdf\":MODIS_Grid_16DAY_500m_VI:\"500m 16 days NDVI\"\n"
     ]
    },
    {
     "name": "stdout",
     "output_type": "stream",
     "text": [
      "0...10...20...30...40...50...60...70...80...90...100 - done.\n",
      "Creating output file that is 2168P x 1832L.\n",
      "Processing A2022209_ndvi_merge.tif [1/1] : 0...10...20...30...40...50...60...70...80...90...100 - done.\n",
      "A2022209_evi_merge.tif\n",
      "gdal_merge.py -o A2022209_evi_merge.tif HDF4_EOS:EOS_GRID:\"/media/sg/91d62d44-8446-4f66-8327-bc09e774cbb1/home/df/Projects/modis_ndvi/MOD13A1.A2022209.h20v05.006.2022231222906.hdf\":MODIS_Grid_16DAY_500m_VI:\"500m 16 days EVI\" HDF4_EOS:EOS_GRID:\"/media/sg/91d62d44-8446-4f66-8327-bc09e774cbb1/home/df/Projects/modis_ndvi/MOD13A1.A2022209.h19v05.006.2022231222858.hdf\":MODIS_Grid_16DAY_500m_VI:\"500m 16 days EVI\" HDF4_EOS:EOS_GRID:\"/media/sg/91d62d44-8446-4f66-8327-bc09e774cbb1/home/df/Projects/modis_ndvi/MOD13A1.A2022209.h19v04.006.2022231224205.hdf\":MODIS_Grid_16DAY_500m_VI:\"500m 16 days EVI\"\n",
      "0...10...20...30...40...50...60...70...80...90...100 - done.\n",
      "Creating output file that is 2168P x 1832L.\n",
      "Processing A2022209_evi_merge.tif [1/1] : 0...10...20...30...40...50...60...70...80...90...100 - done.\n",
      "A2022217_ndvi_merge.tif\n",
      "gdal_merge.py -o A2022217_ndvi_merge.tif HDF4_EOS:EOS_GRID:\"/media/sg/91d62d44-8446-4f66-8327-bc09e774cbb1/home/df/Projects/modis_ndvi/MYD13A1.A2022217.h20v05.006.2022241150054.hdf\":MODIS_Grid_16DAY_500m_VI:\"500m 16 days NDVI\" HDF4_EOS:EOS_GRID:\"/media/sg/91d62d44-8446-4f66-8327-bc09e774cbb1/home/df/Projects/modis_ndvi/MYD13A1.A2022217.h19v04.006.2022241150053.hdf\":MODIS_Grid_16DAY_500m_VI:\"500m 16 days NDVI\" HDF4_EOS:EOS_GRID:\"/media/sg/91d62d44-8446-4f66-8327-bc09e774cbb1/home/df/Projects/modis_ndvi/MYD13A1.A2022217.h19v05.006.2022241150048.hdf\":MODIS_Grid_16DAY_500m_VI:\"500m 16 days NDVI\"\n",
      "0...10...20...30...40...50...60...70...80...90...100 - done.\n",
      "Creating output file that is 2168P x 1832L.\n",
      "Processing A2022217_ndvi_merge.tif [1/1] : 0...10...20...30...40...50...60...70...80...90...100 - done.\n",
      "A2022217_evi_merge.tif\n",
      "gdal_merge.py -o A2022217_evi_merge.tif HDF4_EOS:EOS_GRID:\"/media/sg/91d62d44-8446-4f66-8327-bc09e774cbb1/home/df/Projects/modis_ndvi/MYD13A1.A2022217.h20v05.006.2022241150054.hdf\":MODIS_Grid_16DAY_500m_VI:\"500m 16 days EVI\" HDF4_EOS:EOS_GRID:\"/media/sg/91d62d44-8446-4f66-8327-bc09e774cbb1/home/df/Projects/modis_ndvi/MYD13A1.A2022217.h19v04.006.2022241150053.hdf\":MODIS_Grid_16DAY_500m_VI:\"500m 16 days EVI\" HDF4_EOS:EOS_GRID:\"/media/sg/91d62d44-8446-4f66-8327-bc09e774cbb1/home/df/Projects/modis_ndvi/MYD13A1.A2022217.h19v05.006.2022241150048.hdf\":MODIS_Grid_16DAY_500m_VI:\"500m 16 days EVI\"\n",
      "0...10...20...30...40...50...60...70...80...90...100 - done.\n",
      "Creating output file that is 2168P x 1832L.\n",
      "Processing A2022217_evi_merge.tif [1/1] : 0...10...20...30...40...50...60...70...80...90...100 - done.\n",
      "A2022225_ndvi_merge.tif\n",
      "gdal_merge.py -o A2022225_ndvi_merge.tif HDF4_EOS:EOS_GRID:\"/media/sg/91d62d44-8446-4f66-8327-bc09e774cbb1/home/df/Projects/modis_ndvi/MOD13A1.A2022225.h20v05.006.2022244104150.hdf\":MODIS_Grid_16DAY_500m_VI:\"500m 16 days NDVI\" HDF4_EOS:EOS_GRID:\"/media/sg/91d62d44-8446-4f66-8327-bc09e774cbb1/home/df/Projects/modis_ndvi/MOD13A1.A2022225.h19v05.006.2022244104132.hdf\":MODIS_Grid_16DAY_500m_VI:\"500m 16 days NDVI\" HDF4_EOS:EOS_GRID:\"/media/sg/91d62d44-8446-4f66-8327-bc09e774cbb1/home/df/Projects/modis_ndvi/MOD13A1.A2022225.h19v04.006.2022244104209.hdf\":MODIS_Grid_16DAY_500m_VI:\"500m 16 days NDVI\"\n",
      "0...10...20...30...40...50...60...70...80...90...100 - done.\n",
      "Creating output file that is 2168P x 1832L.\n",
      "Processing A2022225_ndvi_merge.tif [1/1] : 0...10...20...30...40...50...60...70...80...90...100 - done.\n",
      "A2022225_evi_merge.tif\n",
      "gdal_merge.py -o A2022225_evi_merge.tif HDF4_EOS:EOS_GRID:\"/media/sg/91d62d44-8446-4f66-8327-bc09e774cbb1/home/df/Projects/modis_ndvi/MOD13A1.A2022225.h20v05.006.2022244104150.hdf\":MODIS_Grid_16DAY_500m_VI:\"500m 16 days EVI\" HDF4_EOS:EOS_GRID:\"/media/sg/91d62d44-8446-4f66-8327-bc09e774cbb1/home/df/Projects/modis_ndvi/MOD13A1.A2022225.h19v05.006.2022244104132.hdf\":MODIS_Grid_16DAY_500m_VI:\"500m 16 days EVI\" HDF4_EOS:EOS_GRID:\"/media/sg/91d62d44-8446-4f66-8327-bc09e774cbb1/home/df/Projects/modis_ndvi/MOD13A1.A2022225.h19v04.006.2022244104209.hdf\":MODIS_Grid_16DAY_500m_VI:\"500m 16 days EVI\"\n",
      "0...10...20...30...40...50...60...70...80...90...100 - done.\n",
      "Creating output file that is 2168P x 1832L.\n",
      "Processing A2022225_evi_merge.tif [1/1] : 0...10...20...30...40...50...60...70...80...90...100 - done.\n",
      "A2022233_ndvi_merge.tif\n",
      "gdal_merge.py -o A2022233_ndvi_merge.tif HDF4_EOS:EOS_GRID:\"/media/sg/91d62d44-8446-4f66-8327-bc09e774cbb1/home/df/Projects/modis_ndvi/MYD13A1.A2022233.h19v04.006.2022251105505.hdf\":MODIS_Grid_16DAY_500m_VI:\"500m 16 days NDVI\" HDF4_EOS:EOS_GRID:\"/media/sg/91d62d44-8446-4f66-8327-bc09e774cbb1/home/df/Projects/modis_ndvi/MYD13A1.A2022233.h19v05.006.2022251105230.hdf\":MODIS_Grid_16DAY_500m_VI:\"500m 16 days NDVI\" HDF4_EOS:EOS_GRID:\"/media/sg/91d62d44-8446-4f66-8327-bc09e774cbb1/home/df/Projects/modis_ndvi/MYD13A1.A2022233.h20v05.006.2022251102827.hdf\":MODIS_Grid_16DAY_500m_VI:\"500m 16 days NDVI\"\n",
      "0...10...20...30...40...50...60...70...80...90...100 - done.\n",
      "Creating output file that is 2168P x 1832L.\n",
      "Processing A2022233_ndvi_merge.tif [1/1] : 0...10...20...30...40...50...60...70...80...90...100 - done.\n",
      "A2022233_evi_merge.tif\n",
      "gdal_merge.py -o A2022233_evi_merge.tif HDF4_EOS:EOS_GRID:\"/media/sg/91d62d44-8446-4f66-8327-bc09e774cbb1/home/df/Projects/modis_ndvi/MYD13A1.A2022233.h19v04.006.2022251105505.hdf\":MODIS_Grid_16DAY_500m_VI:\"500m 16 days EVI\" HDF4_EOS:EOS_GRID:\"/media/sg/91d62d44-8446-4f66-8327-bc09e774cbb1/home/df/Projects/modis_ndvi/MYD13A1.A2022233.h19v05.006.2022251105230.hdf\":MODIS_Grid_16DAY_500m_VI:\"500m 16 days EVI\" HDF4_EOS:EOS_GRID:\"/media/sg/91d62d44-8446-4f66-8327-bc09e774cbb1/home/df/Projects/modis_ndvi/MYD13A1.A2022233.h20v05.006.2022251102827.hdf\":MODIS_Grid_16DAY_500m_VI:\"500m 16 days EVI\"\n",
      "0...10...20...30...40...50...60...70...80...90...100 - done.\n",
      "Creating output file that is 2168P x 1832L.\n",
      "Processing A2022233_evi_merge.tif [1/1] : 0...10...20...30...40...50...60...70...80...90...100 - done.\n",
      "A2022241_ndvi_merge.tif\n",
      "gdal_merge.py -o A2022241_ndvi_merge.tif HDF4_EOS:EOS_GRID:\"/media/sg/91d62d44-8446-4f66-8327-bc09e774cbb1/home/df/Projects/modis_ndvi/MOD13A1.A2022241.h19v04.006.2022258224846.hdf\":MODIS_Grid_16DAY_500m_VI:\"500m 16 days NDVI\" HDF4_EOS:EOS_GRID:\"/media/sg/91d62d44-8446-4f66-8327-bc09e774cbb1/home/df/Projects/modis_ndvi/MOD13A1.A2022241.h20v05.006.2022258224918.hdf\":MODIS_Grid_16DAY_500m_VI:\"500m 16 days NDVI\" HDF4_EOS:EOS_GRID:\"/media/sg/91d62d44-8446-4f66-8327-bc09e774cbb1/home/df/Projects/modis_ndvi/MOD13A1.A2022241.h19v05.006.2022258224814.hdf\":MODIS_Grid_16DAY_500m_VI:\"500m 16 days NDVI\"\n",
      "0...10...20...30...40...50...60...70...80...90...100 - done.\n",
      "Creating output file that is 2168P x 1832L.\n",
      "Processing A2022241_ndvi_merge.tif [1/1] : 0...10...20...30...40...50...60...70...80...90...100 - done.\n",
      "A2022241_evi_merge.tif\n",
      "gdal_merge.py -o A2022241_evi_merge.tif HDF4_EOS:EOS_GRID:\"/media/sg/91d62d44-8446-4f66-8327-bc09e774cbb1/home/df/Projects/modis_ndvi/MOD13A1.A2022241.h19v04.006.2022258224846.hdf\":MODIS_Grid_16DAY_500m_VI:\"500m 16 days EVI\" HDF4_EOS:EOS_GRID:\"/media/sg/91d62d44-8446-4f66-8327-bc09e774cbb1/home/df/Projects/modis_ndvi/MOD13A1.A2022241.h20v05.006.2022258224918.hdf\":MODIS_Grid_16DAY_500m_VI:\"500m 16 days EVI\" HDF4_EOS:EOS_GRID:\"/media/sg/91d62d44-8446-4f66-8327-bc09e774cbb1/home/df/Projects/modis_ndvi/MOD13A1.A2022241.h19v05.006.2022258224814.hdf\":MODIS_Grid_16DAY_500m_VI:\"500m 16 days EVI\"\n",
      "0...10...20...30...40...50...60...70...80...90...100 - done.\n",
      "Creating output file that is 2168P x 1832L.\n",
      "Processing A2022241_evi_merge.tif [1/1] : 0...10...20...30...40...50...60...70...80...90...100 - done.\n",
      "A2022249_ndvi_merge.tif\n",
      "gdal_merge.py -o A2022249_ndvi_merge.tif HDF4_EOS:EOS_GRID:\"/media/sg/91d62d44-8446-4f66-8327-bc09e774cbb1/home/df/Projects/modis_ndvi/MYD13A1.A2022249.h19v04.006.2022266032936.hdf\":MODIS_Grid_16DAY_500m_VI:\"500m 16 days NDVI\" HDF4_EOS:EOS_GRID:\"/media/sg/91d62d44-8446-4f66-8327-bc09e774cbb1/home/df/Projects/modis_ndvi/MYD13A1.A2022249.h20v05.006.2022266032736.hdf\":MODIS_Grid_16DAY_500m_VI:\"500m 16 days NDVI\" HDF4_EOS:EOS_GRID:\"/media/sg/91d62d44-8446-4f66-8327-bc09e774cbb1/home/df/Projects/modis_ndvi/MYD13A1.A2022249.h19v05.006.2022266032840.hdf\":MODIS_Grid_16DAY_500m_VI:\"500m 16 days NDVI\"\n"
     ]
    },
    {
     "name": "stdout",
     "output_type": "stream",
     "text": [
      "0...10...20...30...40...50...60...70...80...90...100 - done.\n",
      "Creating output file that is 2168P x 1832L.\n",
      "Processing A2022249_ndvi_merge.tif [1/1] : 0...10...20...30...40...50...60...70...80...90...100 - done.\n",
      "A2022249_evi_merge.tif\n",
      "gdal_merge.py -o A2022249_evi_merge.tif HDF4_EOS:EOS_GRID:\"/media/sg/91d62d44-8446-4f66-8327-bc09e774cbb1/home/df/Projects/modis_ndvi/MYD13A1.A2022249.h19v04.006.2022266032936.hdf\":MODIS_Grid_16DAY_500m_VI:\"500m 16 days EVI\" HDF4_EOS:EOS_GRID:\"/media/sg/91d62d44-8446-4f66-8327-bc09e774cbb1/home/df/Projects/modis_ndvi/MYD13A1.A2022249.h20v05.006.2022266032736.hdf\":MODIS_Grid_16DAY_500m_VI:\"500m 16 days EVI\" HDF4_EOS:EOS_GRID:\"/media/sg/91d62d44-8446-4f66-8327-bc09e774cbb1/home/df/Projects/modis_ndvi/MYD13A1.A2022249.h19v05.006.2022266032840.hdf\":MODIS_Grid_16DAY_500m_VI:\"500m 16 days EVI\"\n",
      "0...10...20...30...40...50...60...70...80...90...100 - done.\n",
      "Creating output file that is 2168P x 1832L.\n",
      "Processing A2022249_evi_merge.tif [1/1] : 0...10...20...30...40...50...60...70...80...90...100 - done.\n",
      "A2022257_ndvi_merge.tif\n",
      "gdal_merge.py -o A2022257_ndvi_merge.tif HDF4_EOS:EOS_GRID:\"/media/sg/91d62d44-8446-4f66-8327-bc09e774cbb1/home/df/Projects/modis_ndvi/MOD13A1.A2022257.h19v04.006.2022274031609.hdf\":MODIS_Grid_16DAY_500m_VI:\"500m 16 days NDVI\" HDF4_EOS:EOS_GRID:\"/media/sg/91d62d44-8446-4f66-8327-bc09e774cbb1/home/df/Projects/modis_ndvi/MOD13A1.A2022257.h19v05.006.2022274024544.hdf\":MODIS_Grid_16DAY_500m_VI:\"500m 16 days NDVI\" HDF4_EOS:EOS_GRID:\"/media/sg/91d62d44-8446-4f66-8327-bc09e774cbb1/home/df/Projects/modis_ndvi/MOD13A1.A2022257.h20v05.006.2022274024553.hdf\":MODIS_Grid_16DAY_500m_VI:\"500m 16 days NDVI\"\n",
      "0...10...20...30...40...50...60...70...80...90...100 - done.\n",
      "Creating output file that is 2168P x 1832L.\n",
      "Processing A2022257_ndvi_merge.tif [1/1] : 0...10...20...30...40...50...60...70...80...90...100 - done.\n",
      "A2022257_evi_merge.tif\n",
      "gdal_merge.py -o A2022257_evi_merge.tif HDF4_EOS:EOS_GRID:\"/media/sg/91d62d44-8446-4f66-8327-bc09e774cbb1/home/df/Projects/modis_ndvi/MOD13A1.A2022257.h19v04.006.2022274031609.hdf\":MODIS_Grid_16DAY_500m_VI:\"500m 16 days EVI\" HDF4_EOS:EOS_GRID:\"/media/sg/91d62d44-8446-4f66-8327-bc09e774cbb1/home/df/Projects/modis_ndvi/MOD13A1.A2022257.h19v05.006.2022274024544.hdf\":MODIS_Grid_16DAY_500m_VI:\"500m 16 days EVI\" HDF4_EOS:EOS_GRID:\"/media/sg/91d62d44-8446-4f66-8327-bc09e774cbb1/home/df/Projects/modis_ndvi/MOD13A1.A2022257.h20v05.006.2022274024553.hdf\":MODIS_Grid_16DAY_500m_VI:\"500m 16 days EVI\"\n",
      "0...10...20...30...40...50...60...70...80...90...100 - done.\n",
      "Creating output file that is 2168P x 1832L.\n",
      "Processing A2022257_evi_merge.tif [1/1] : 0...10...20...30...40...50...60...70...80...90...100 - done.\n",
      "A2022265_ndvi_merge.tif\n",
      "gdal_merge.py -o A2022265_ndvi_merge.tif HDF4_EOS:EOS_GRID:\"/media/sg/91d62d44-8446-4f66-8327-bc09e774cbb1/home/df/Projects/modis_ndvi/MYD13A1.A2022265.h19v05.006.2022282004546.hdf\":MODIS_Grid_16DAY_500m_VI:\"500m 16 days NDVI\" HDF4_EOS:EOS_GRID:\"/media/sg/91d62d44-8446-4f66-8327-bc09e774cbb1/home/df/Projects/modis_ndvi/MYD13A1.A2022265.h20v05.006.2022281235635.hdf\":MODIS_Grid_16DAY_500m_VI:\"500m 16 days NDVI\" HDF4_EOS:EOS_GRID:\"/media/sg/91d62d44-8446-4f66-8327-bc09e774cbb1/home/df/Projects/modis_ndvi/MYD13A1.A2022265.h19v04.006.2022282004556.hdf\":MODIS_Grid_16DAY_500m_VI:\"500m 16 days NDVI\"\n",
      "0...10...20...30...40...50...60...70...80...90...100 - done.\n",
      "Creating output file that is 2168P x 1832L.\n",
      "Processing A2022265_ndvi_merge.tif [1/1] : 0...10...20...30...40...50...60...70...80...90...100 - done.\n",
      "A2022265_evi_merge.tif\n",
      "gdal_merge.py -o A2022265_evi_merge.tif HDF4_EOS:EOS_GRID:\"/media/sg/91d62d44-8446-4f66-8327-bc09e774cbb1/home/df/Projects/modis_ndvi/MYD13A1.A2022265.h19v05.006.2022282004546.hdf\":MODIS_Grid_16DAY_500m_VI:\"500m 16 days EVI\" HDF4_EOS:EOS_GRID:\"/media/sg/91d62d44-8446-4f66-8327-bc09e774cbb1/home/df/Projects/modis_ndvi/MYD13A1.A2022265.h20v05.006.2022281235635.hdf\":MODIS_Grid_16DAY_500m_VI:\"500m 16 days EVI\" HDF4_EOS:EOS_GRID:\"/media/sg/91d62d44-8446-4f66-8327-bc09e774cbb1/home/df/Projects/modis_ndvi/MYD13A1.A2022265.h19v04.006.2022282004556.hdf\":MODIS_Grid_16DAY_500m_VI:\"500m 16 days EVI\"\n",
      "0...10...20...30...40...50...60...70...80...90...100 - done.\n",
      "Creating output file that is 2168P x 1832L.\n",
      "Processing A2022265_evi_merge.tif [1/1] : 0...10...20...30...40...50...60...70...80...90...100 - done.\n",
      "A2022273_ndvi_merge.tif\n",
      "gdal_merge.py -o A2022273_ndvi_merge.tif HDF4_EOS:EOS_GRID:\"/media/sg/91d62d44-8446-4f66-8327-bc09e774cbb1/home/df/Projects/modis_ndvi/MOD13A1.A2022273.h20v05.006.2022297221650.hdf\":MODIS_Grid_16DAY_500m_VI:\"500m 16 days NDVI\" HDF4_EOS:EOS_GRID:\"/media/sg/91d62d44-8446-4f66-8327-bc09e774cbb1/home/df/Projects/modis_ndvi/MOD13A1.A2022273.h19v05.006.2022297221353.hdf\":MODIS_Grid_16DAY_500m_VI:\"500m 16 days NDVI\" HDF4_EOS:EOS_GRID:\"/media/sg/91d62d44-8446-4f66-8327-bc09e774cbb1/home/df/Projects/modis_ndvi/MOD13A1.A2022273.h19v04.006.2022297221424.hdf\":MODIS_Grid_16DAY_500m_VI:\"500m 16 days NDVI\"\n",
      "0...10...20...30...40...50...60...70...80...90...100 - done.\n",
      "Creating output file that is 2168P x 1832L.\n",
      "Processing A2022273_ndvi_merge.tif [1/1] : 0...10...20...30...40...50...60...70...80...90...100 - done.\n",
      "A2022273_evi_merge.tif\n",
      "gdal_merge.py -o A2022273_evi_merge.tif HDF4_EOS:EOS_GRID:\"/media/sg/91d62d44-8446-4f66-8327-bc09e774cbb1/home/df/Projects/modis_ndvi/MOD13A1.A2022273.h20v05.006.2022297221650.hdf\":MODIS_Grid_16DAY_500m_VI:\"500m 16 days EVI\" HDF4_EOS:EOS_GRID:\"/media/sg/91d62d44-8446-4f66-8327-bc09e774cbb1/home/df/Projects/modis_ndvi/MOD13A1.A2022273.h19v05.006.2022297221353.hdf\":MODIS_Grid_16DAY_500m_VI:\"500m 16 days EVI\" HDF4_EOS:EOS_GRID:\"/media/sg/91d62d44-8446-4f66-8327-bc09e774cbb1/home/df/Projects/modis_ndvi/MOD13A1.A2022273.h19v04.006.2022297221424.hdf\":MODIS_Grid_16DAY_500m_VI:\"500m 16 days EVI\"\n",
      "0...10...20...30...40...50...60...70...80...90...100 - done.\n",
      "Creating output file that is 2168P x 1832L.\n",
      "Processing A2022273_evi_merge.tif [1/1] : 0...10...20...30...40...50...60...70...80...90...100 - done.\n",
      "A2020097_ndvi_merge.tif\n",
      "gdal_merge.py -o A2020097_ndvi_merge.tif HDF4_EOS:EOS_GRID:\"/media/sg/91d62d44-8446-4f66-8327-bc09e774cbb1/home/df/Projects/modis_ndvi/MOD13A1.A2020097.h19v04.006.2020114012305.hdf\":MODIS_Grid_16DAY_500m_VI:\"500m 16 days NDVI\" HDF4_EOS:EOS_GRID:\"/media/sg/91d62d44-8446-4f66-8327-bc09e774cbb1/home/df/Projects/modis_ndvi/MOD13A1.A2020097.h20v05.006.2020114012517.hdf\":MODIS_Grid_16DAY_500m_VI:\"500m 16 days NDVI\" HDF4_EOS:EOS_GRID:\"/media/sg/91d62d44-8446-4f66-8327-bc09e774cbb1/home/df/Projects/modis_ndvi/MOD13A1.A2020097.h19v05.006.2020114011403.hdf\":MODIS_Grid_16DAY_500m_VI:\"500m 16 days NDVI\"\n",
      "0...10...20...30...40...50...60...70...80...90...100 - done.\n",
      "A2020097_evi_merge.tif\n",
      "gdal_merge.py -o A2020097_evi_merge.tif HDF4_EOS:EOS_GRID:\"/media/sg/91d62d44-8446-4f66-8327-bc09e774cbb1/home/df/Projects/modis_ndvi/MOD13A1.A2020097.h19v04.006.2020114012305.hdf\":MODIS_Grid_16DAY_500m_VI:\"500m 16 days EVI\" HDF4_EOS:EOS_GRID:\"/media/sg/91d62d44-8446-4f66-8327-bc09e774cbb1/home/df/Projects/modis_ndvi/MOD13A1.A2020097.h20v05.006.2020114012517.hdf\":MODIS_Grid_16DAY_500m_VI:\"500m 16 days EVI\" HDF4_EOS:EOS_GRID:\"/media/sg/91d62d44-8446-4f66-8327-bc09e774cbb1/home/df/Projects/modis_ndvi/MOD13A1.A2020097.h19v05.006.2020114011403.hdf\":MODIS_Grid_16DAY_500m_VI:\"500m 16 days EVI\"\n"
     ]
    },
    {
     "name": "stderr",
     "output_type": "stream",
     "text": [
      "ERROR 1: Output dataset A2020097_ndvi_merge_warp.tif exists,\n",
      "but some command line options were provided indicating a new dataset\n",
      "should be created.  Please delete existing dataset and run again.\n",
      "\n"
     ]
    },
    {
     "name": "stdout",
     "output_type": "stream",
     "text": [
      "0...10...20...30...40...50...60...70...80...90...100 - done.\n",
      "A2020105_ndvi_merge.tif\n",
      "gdal_merge.py -o A2020105_ndvi_merge.tif HDF4_EOS:EOS_GRID:\"/media/sg/91d62d44-8446-4f66-8327-bc09e774cbb1/home/df/Projects/modis_ndvi/MYD13A1.A2020105.h20v05.006.2020122002226.hdf\":MODIS_Grid_16DAY_500m_VI:\"500m 16 days NDVI\" HDF4_EOS:EOS_GRID:\"/media/sg/91d62d44-8446-4f66-8327-bc09e774cbb1/home/df/Projects/modis_ndvi/MYD13A1.A2020105.h19v05.006.2020122002203.hdf\":MODIS_Grid_16DAY_500m_VI:\"500m 16 days NDVI\" HDF4_EOS:EOS_GRID:\"/media/sg/91d62d44-8446-4f66-8327-bc09e774cbb1/home/df/Projects/modis_ndvi/MYD13A1.A2020105.h19v04.006.2020122001824.hdf\":MODIS_Grid_16DAY_500m_VI:\"500m 16 days NDVI\"\n"
     ]
    },
    {
     "name": "stderr",
     "output_type": "stream",
     "text": [
      "ERROR 1: Output dataset A2020097_evi_merge_warp.tif exists,\n",
      "but some command line options were provided indicating a new dataset\n",
      "should be created.  Please delete existing dataset and run again.\n",
      "\n"
     ]
    },
    {
     "name": "stdout",
     "output_type": "stream",
     "text": [
      "0...10...20...30...40...50...60...70...80...90...100 - done.\n",
      "A2020105_evi_merge.tif\n",
      "gdal_merge.py -o A2020105_evi_merge.tif HDF4_EOS:EOS_GRID:\"/media/sg/91d62d44-8446-4f66-8327-bc09e774cbb1/home/df/Projects/modis_ndvi/MYD13A1.A2020105.h20v05.006.2020122002226.hdf\":MODIS_Grid_16DAY_500m_VI:\"500m 16 days EVI\" HDF4_EOS:EOS_GRID:\"/media/sg/91d62d44-8446-4f66-8327-bc09e774cbb1/home/df/Projects/modis_ndvi/MYD13A1.A2020105.h19v05.006.2020122002203.hdf\":MODIS_Grid_16DAY_500m_VI:\"500m 16 days EVI\" HDF4_EOS:EOS_GRID:\"/media/sg/91d62d44-8446-4f66-8327-bc09e774cbb1/home/df/Projects/modis_ndvi/MYD13A1.A2020105.h19v04.006.2020122001824.hdf\":MODIS_Grid_16DAY_500m_VI:\"500m 16 days EVI\"\n"
     ]
    },
    {
     "name": "stderr",
     "output_type": "stream",
     "text": [
      "ERROR 1: Output dataset A2020105_ndvi_merge_warp.tif exists,\n",
      "but some command line options were provided indicating a new dataset\n",
      "should be created.  Please delete existing dataset and run again.\n",
      "\n"
     ]
    },
    {
     "name": "stdout",
     "output_type": "stream",
     "text": [
      "0...10...20...30...40...50...60...70...80...90...100 - done.\n",
      "A2020113_ndvi_merge.tif\n",
      "gdal_merge.py -o A2020113_ndvi_merge.tif HDF4_EOS:EOS_GRID:\"/media/sg/91d62d44-8446-4f66-8327-bc09e774cbb1/home/df/Projects/modis_ndvi/MOD13A1.A2020113.h20v05.006.2020130014754.hdf\":MODIS_Grid_16DAY_500m_VI:\"500m 16 days NDVI\" HDF4_EOS:EOS_GRID:\"/media/sg/91d62d44-8446-4f66-8327-bc09e774cbb1/home/df/Projects/modis_ndvi/MOD13A1.A2020113.h19v05.006.2020130015758.hdf\":MODIS_Grid_16DAY_500m_VI:\"500m 16 days NDVI\" HDF4_EOS:EOS_GRID:\"/media/sg/91d62d44-8446-4f66-8327-bc09e774cbb1/home/df/Projects/modis_ndvi/MOD13A1.A2020113.h19v04.006.2020130014216.hdf\":MODIS_Grid_16DAY_500m_VI:\"500m 16 days NDVI\"\n"
     ]
    },
    {
     "name": "stderr",
     "output_type": "stream",
     "text": [
      "ERROR 1: Output dataset A2020105_evi_merge_warp.tif exists,\n",
      "but some command line options were provided indicating a new dataset\n",
      "should be created.  Please delete existing dataset and run again.\n",
      "\n"
     ]
    },
    {
     "name": "stdout",
     "output_type": "stream",
     "text": [
      "0...10...20...30...40...50...60...70...80...90...100 - done.\n",
      "A2020113_evi_merge.tif\n",
      "gdal_merge.py -o A2020113_evi_merge.tif HDF4_EOS:EOS_GRID:\"/media/sg/91d62d44-8446-4f66-8327-bc09e774cbb1/home/df/Projects/modis_ndvi/MOD13A1.A2020113.h20v05.006.2020130014754.hdf\":MODIS_Grid_16DAY_500m_VI:\"500m 16 days EVI\" HDF4_EOS:EOS_GRID:\"/media/sg/91d62d44-8446-4f66-8327-bc09e774cbb1/home/df/Projects/modis_ndvi/MOD13A1.A2020113.h19v05.006.2020130015758.hdf\":MODIS_Grid_16DAY_500m_VI:\"500m 16 days EVI\" HDF4_EOS:EOS_GRID:\"/media/sg/91d62d44-8446-4f66-8327-bc09e774cbb1/home/df/Projects/modis_ndvi/MOD13A1.A2020113.h19v04.006.2020130014216.hdf\":MODIS_Grid_16DAY_500m_VI:\"500m 16 days EVI\"\n"
     ]
    },
    {
     "name": "stderr",
     "output_type": "stream",
     "text": [
      "ERROR 1: Output dataset A2020113_ndvi_merge_warp.tif exists,\n",
      "but some command line options were provided indicating a new dataset\n",
      "should be created.  Please delete existing dataset and run again.\n",
      "\n"
     ]
    },
    {
     "name": "stdout",
     "output_type": "stream",
     "text": [
      "0...10...20...30...40...50...60...70...80...90...100 - done.\n",
      "A2020121_ndvi_merge.tif\n",
      "gdal_merge.py -o A2020121_ndvi_merge.tif HDF4_EOS:EOS_GRID:\"/media/sg/91d62d44-8446-4f66-8327-bc09e774cbb1/home/df/Projects/modis_ndvi/MYD13A1.A2020121.h19v04.006.2020139063426.hdf\":MODIS_Grid_16DAY_500m_VI:\"500m 16 days NDVI\" HDF4_EOS:EOS_GRID:\"/media/sg/91d62d44-8446-4f66-8327-bc09e774cbb1/home/df/Projects/modis_ndvi/MYD13A1.A2020121.h19v05.006.2020139064302.hdf\":MODIS_Grid_16DAY_500m_VI:\"500m 16 days NDVI\" HDF4_EOS:EOS_GRID:\"/media/sg/91d62d44-8446-4f66-8327-bc09e774cbb1/home/df/Projects/modis_ndvi/MYD13A1.A2020121.h20v05.006.2020139064719.hdf\":MODIS_Grid_16DAY_500m_VI:\"500m 16 days NDVI\"\n"
     ]
    },
    {
     "name": "stderr",
     "output_type": "stream",
     "text": [
      "ERROR 1: Output dataset A2020113_evi_merge_warp.tif exists,\n",
      "but some command line options were provided indicating a new dataset\n",
      "should be created.  Please delete existing dataset and run again.\n",
      "\n"
     ]
    },
    {
     "name": "stdout",
     "output_type": "stream",
     "text": [
      "0...10...20...30...40...50...60...70...80...90...100 - done.\n",
      "A2020121_evi_merge.tif\n",
      "gdal_merge.py -o A2020121_evi_merge.tif HDF4_EOS:EOS_GRID:\"/media/sg/91d62d44-8446-4f66-8327-bc09e774cbb1/home/df/Projects/modis_ndvi/MYD13A1.A2020121.h19v04.006.2020139063426.hdf\":MODIS_Grid_16DAY_500m_VI:\"500m 16 days EVI\" HDF4_EOS:EOS_GRID:\"/media/sg/91d62d44-8446-4f66-8327-bc09e774cbb1/home/df/Projects/modis_ndvi/MYD13A1.A2020121.h19v05.006.2020139064302.hdf\":MODIS_Grid_16DAY_500m_VI:\"500m 16 days EVI\" HDF4_EOS:EOS_GRID:\"/media/sg/91d62d44-8446-4f66-8327-bc09e774cbb1/home/df/Projects/modis_ndvi/MYD13A1.A2020121.h20v05.006.2020139064719.hdf\":MODIS_Grid_16DAY_500m_VI:\"500m 16 days EVI\"\n"
     ]
    },
    {
     "name": "stderr",
     "output_type": "stream",
     "text": [
      "ERROR 1: Output dataset A2020121_ndvi_merge_warp.tif exists,\n",
      "but some command line options were provided indicating a new dataset\n",
      "should be created.  Please delete existing dataset and run again.\n",
      "\n"
     ]
    },
    {
     "name": "stdout",
     "output_type": "stream",
     "text": [
      "0...10...20...30...40...50...60...70...80...90...100 - done.\n",
      "A2020129_ndvi_merge.tif\n",
      "gdal_merge.py -o A2020129_ndvi_merge.tif HDF4_EOS:EOS_GRID:\"/media/sg/91d62d44-8446-4f66-8327-bc09e774cbb1/home/df/Projects/modis_ndvi/MOD13A1.A2020129.h19v05.006.2020145234147.hdf\":MODIS_Grid_16DAY_500m_VI:\"500m 16 days NDVI\" HDF4_EOS:EOS_GRID:\"/media/sg/91d62d44-8446-4f66-8327-bc09e774cbb1/home/df/Projects/modis_ndvi/MOD13A1.A2020129.h19v04.006.2020145233859.hdf\":MODIS_Grid_16DAY_500m_VI:\"500m 16 days NDVI\" HDF4_EOS:EOS_GRID:\"/media/sg/91d62d44-8446-4f66-8327-bc09e774cbb1/home/df/Projects/modis_ndvi/MOD13A1.A2020129.h20v05.006.2020145235819.hdf\":MODIS_Grid_16DAY_500m_VI:\"500m 16 days NDVI\"\n"
     ]
    },
    {
     "name": "stderr",
     "output_type": "stream",
     "text": [
      "ERROR 1: Output dataset A2020121_evi_merge_warp.tif exists,\n",
      "but some command line options were provided indicating a new dataset\n",
      "should be created.  Please delete existing dataset and run again.\n",
      "\n"
     ]
    },
    {
     "name": "stdout",
     "output_type": "stream",
     "text": [
      "0...10...20...30...40...50...60...70...80...90...100 - done.\n",
      "A2020129_evi_merge.tif\n",
      "gdal_merge.py -o A2020129_evi_merge.tif HDF4_EOS:EOS_GRID:\"/media/sg/91d62d44-8446-4f66-8327-bc09e774cbb1/home/df/Projects/modis_ndvi/MOD13A1.A2020129.h19v05.006.2020145234147.hdf\":MODIS_Grid_16DAY_500m_VI:\"500m 16 days EVI\" HDF4_EOS:EOS_GRID:\"/media/sg/91d62d44-8446-4f66-8327-bc09e774cbb1/home/df/Projects/modis_ndvi/MOD13A1.A2020129.h19v04.006.2020145233859.hdf\":MODIS_Grid_16DAY_500m_VI:\"500m 16 days EVI\" HDF4_EOS:EOS_GRID:\"/media/sg/91d62d44-8446-4f66-8327-bc09e774cbb1/home/df/Projects/modis_ndvi/MOD13A1.A2020129.h20v05.006.2020145235819.hdf\":MODIS_Grid_16DAY_500m_VI:\"500m 16 days EVI\"\n"
     ]
    },
    {
     "name": "stderr",
     "output_type": "stream",
     "text": [
      "ERROR 1: Output dataset A2020129_ndvi_merge_warp.tif exists,\n",
      "but some command line options were provided indicating a new dataset\n",
      "should be created.  Please delete existing dataset and run again.\n",
      "\n"
     ]
    },
    {
     "name": "stdout",
     "output_type": "stream",
     "text": [
      "0...10...20...30...40...50...60...70...80...90...100 - done.\n",
      "A2020137_ndvi_merge.tif\n",
      "gdal_merge.py -o A2020137_ndvi_merge.tif HDF4_EOS:EOS_GRID:\"/media/sg/91d62d44-8446-4f66-8327-bc09e774cbb1/home/df/Projects/modis_ndvi/MYD13A1.A2020137.h19v04.006.2020154001203.hdf\":MODIS_Grid_16DAY_500m_VI:\"500m 16 days NDVI\" HDF4_EOS:EOS_GRID:\"/media/sg/91d62d44-8446-4f66-8327-bc09e774cbb1/home/df/Projects/modis_ndvi/MYD13A1.A2020137.h20v05.006.2020154001216.hdf\":MODIS_Grid_16DAY_500m_VI:\"500m 16 days NDVI\" HDF4_EOS:EOS_GRID:\"/media/sg/91d62d44-8446-4f66-8327-bc09e774cbb1/home/df/Projects/modis_ndvi/MYD13A1.A2020137.h19v05.006.2020154000617.hdf\":MODIS_Grid_16DAY_500m_VI:\"500m 16 days NDVI\"\n"
     ]
    },
    {
     "name": "stderr",
     "output_type": "stream",
     "text": [
      "ERROR 1: Output dataset A2020129_evi_merge_warp.tif exists,\n",
      "but some command line options were provided indicating a new dataset\n",
      "should be created.  Please delete existing dataset and run again.\n",
      "\n"
     ]
    },
    {
     "name": "stdout",
     "output_type": "stream",
     "text": [
      "0...10...20...30...40...50...60...70...80...90...100 - done.\n",
      "A2020137_evi_merge.tif\n",
      "gdal_merge.py -o A2020137_evi_merge.tif HDF4_EOS:EOS_GRID:\"/media/sg/91d62d44-8446-4f66-8327-bc09e774cbb1/home/df/Projects/modis_ndvi/MYD13A1.A2020137.h19v04.006.2020154001203.hdf\":MODIS_Grid_16DAY_500m_VI:\"500m 16 days EVI\" HDF4_EOS:EOS_GRID:\"/media/sg/91d62d44-8446-4f66-8327-bc09e774cbb1/home/df/Projects/modis_ndvi/MYD13A1.A2020137.h20v05.006.2020154001216.hdf\":MODIS_Grid_16DAY_500m_VI:\"500m 16 days EVI\" HDF4_EOS:EOS_GRID:\"/media/sg/91d62d44-8446-4f66-8327-bc09e774cbb1/home/df/Projects/modis_ndvi/MYD13A1.A2020137.h19v05.006.2020154000617.hdf\":MODIS_Grid_16DAY_500m_VI:\"500m 16 days EVI\"\n"
     ]
    },
    {
     "name": "stderr",
     "output_type": "stream",
     "text": [
      "ERROR 1: Output dataset A2020137_ndvi_merge_warp.tif exists,\n",
      "but some command line options were provided indicating a new dataset\n",
      "should be created.  Please delete existing dataset and run again.\n",
      "\n"
     ]
    },
    {
     "name": "stdout",
     "output_type": "stream",
     "text": [
      "0...10...20...30...40...50...60...70...80...90...100 - done.\n",
      "A2020145_ndvi_merge.tif\n",
      "gdal_merge.py -o A2020145_ndvi_merge.tif HDF4_EOS:EOS_GRID:\"/media/sg/91d62d44-8446-4f66-8327-bc09e774cbb1/home/df/Projects/modis_ndvi/MOD13A1.A2020145.h20v05.006.2020162014130.hdf\":MODIS_Grid_16DAY_500m_VI:\"500m 16 days NDVI\" HDF4_EOS:EOS_GRID:\"/media/sg/91d62d44-8446-4f66-8327-bc09e774cbb1/home/df/Projects/modis_ndvi/MOD13A1.A2020145.h19v04.006.2020162015233.hdf\":MODIS_Grid_16DAY_500m_VI:\"500m 16 days NDVI\" HDF4_EOS:EOS_GRID:\"/media/sg/91d62d44-8446-4f66-8327-bc09e774cbb1/home/df/Projects/modis_ndvi/MOD13A1.A2020145.h19v05.006.2020162020312.hdf\":MODIS_Grid_16DAY_500m_VI:\"500m 16 days NDVI\"\n"
     ]
    },
    {
     "name": "stderr",
     "output_type": "stream",
     "text": [
      "ERROR 1: Output dataset A2020137_evi_merge_warp.tif exists,\n",
      "but some command line options were provided indicating a new dataset\n",
      "should be created.  Please delete existing dataset and run again.\n",
      "\n"
     ]
    },
    {
     "name": "stdout",
     "output_type": "stream",
     "text": [
      "0...10...20...30...40...50...60...70...80...90...100 - done.\n",
      "A2020145_evi_merge.tif\n",
      "gdal_merge.py -o A2020145_evi_merge.tif HDF4_EOS:EOS_GRID:\"/media/sg/91d62d44-8446-4f66-8327-bc09e774cbb1/home/df/Projects/modis_ndvi/MOD13A1.A2020145.h20v05.006.2020162014130.hdf\":MODIS_Grid_16DAY_500m_VI:\"500m 16 days EVI\" HDF4_EOS:EOS_GRID:\"/media/sg/91d62d44-8446-4f66-8327-bc09e774cbb1/home/df/Projects/modis_ndvi/MOD13A1.A2020145.h19v04.006.2020162015233.hdf\":MODIS_Grid_16DAY_500m_VI:\"500m 16 days EVI\" HDF4_EOS:EOS_GRID:\"/media/sg/91d62d44-8446-4f66-8327-bc09e774cbb1/home/df/Projects/modis_ndvi/MOD13A1.A2020145.h19v05.006.2020162020312.hdf\":MODIS_Grid_16DAY_500m_VI:\"500m 16 days EVI\"\n"
     ]
    },
    {
     "name": "stderr",
     "output_type": "stream",
     "text": [
      "ERROR 1: Output dataset A2020145_ndvi_merge_warp.tif exists,\n",
      "but some command line options were provided indicating a new dataset\n",
      "should be created.  Please delete existing dataset and run again.\n",
      "\n"
     ]
    },
    {
     "name": "stdout",
     "output_type": "stream",
     "text": [
      "0...10...20...30...40...50...60...70...80...90...100 - done.\n",
      "A2020153_ndvi_merge.tif\n",
      "gdal_merge.py -o A2020153_ndvi_merge.tif HDF4_EOS:EOS_GRID:\"/media/sg/91d62d44-8446-4f66-8327-bc09e774cbb1/home/df/Projects/modis_ndvi/MYD13A1.A2020153.h19v04.006.2020170021629.hdf\":MODIS_Grid_16DAY_500m_VI:\"500m 16 days NDVI\" HDF4_EOS:EOS_GRID:\"/media/sg/91d62d44-8446-4f66-8327-bc09e774cbb1/home/df/Projects/modis_ndvi/MYD13A1.A2020153.h19v05.006.2020170014559.hdf\":MODIS_Grid_16DAY_500m_VI:\"500m 16 days NDVI\" HDF4_EOS:EOS_GRID:\"/media/sg/91d62d44-8446-4f66-8327-bc09e774cbb1/home/df/Projects/modis_ndvi/MYD13A1.A2020153.h20v05.006.2020170015150.hdf\":MODIS_Grid_16DAY_500m_VI:\"500m 16 days NDVI\"\n"
     ]
    },
    {
     "name": "stderr",
     "output_type": "stream",
     "text": [
      "ERROR 1: Output dataset A2020145_evi_merge_warp.tif exists,\n",
      "but some command line options were provided indicating a new dataset\n",
      "should be created.  Please delete existing dataset and run again.\n",
      "\n"
     ]
    },
    {
     "name": "stdout",
     "output_type": "stream",
     "text": [
      "0...10...20...30...40...50...60...70...80...90...100 - done.\n",
      "A2020153_evi_merge.tif\n",
      "gdal_merge.py -o A2020153_evi_merge.tif HDF4_EOS:EOS_GRID:\"/media/sg/91d62d44-8446-4f66-8327-bc09e774cbb1/home/df/Projects/modis_ndvi/MYD13A1.A2020153.h19v04.006.2020170021629.hdf\":MODIS_Grid_16DAY_500m_VI:\"500m 16 days EVI\" HDF4_EOS:EOS_GRID:\"/media/sg/91d62d44-8446-4f66-8327-bc09e774cbb1/home/df/Projects/modis_ndvi/MYD13A1.A2020153.h19v05.006.2020170014559.hdf\":MODIS_Grid_16DAY_500m_VI:\"500m 16 days EVI\" HDF4_EOS:EOS_GRID:\"/media/sg/91d62d44-8446-4f66-8327-bc09e774cbb1/home/df/Projects/modis_ndvi/MYD13A1.A2020153.h20v05.006.2020170015150.hdf\":MODIS_Grid_16DAY_500m_VI:\"500m 16 days EVI\"\n"
     ]
    },
    {
     "name": "stderr",
     "output_type": "stream",
     "text": [
      "ERROR 1: Output dataset A2020153_ndvi_merge_warp.tif exists,\n",
      "but some command line options were provided indicating a new dataset\n",
      "should be created.  Please delete existing dataset and run again.\n",
      "\n"
     ]
    },
    {
     "name": "stdout",
     "output_type": "stream",
     "text": [
      "0...10...20...30...40...50...60...70...80...90...100 - done.\n",
      "A2020161_ndvi_merge.tif\n",
      "gdal_merge.py -o A2020161_ndvi_merge.tif HDF4_EOS:EOS_GRID:\"/media/sg/91d62d44-8446-4f66-8327-bc09e774cbb1/home/df/Projects/modis_ndvi/MOD13A1.A2020161.h19v05.006.2020178013556.hdf\":MODIS_Grid_16DAY_500m_VI:\"500m 16 days NDVI\" HDF4_EOS:EOS_GRID:\"/media/sg/91d62d44-8446-4f66-8327-bc09e774cbb1/home/df/Projects/modis_ndvi/MOD13A1.A2020161.h19v04.006.2020178014319.hdf\":MODIS_Grid_16DAY_500m_VI:\"500m 16 days NDVI\" HDF4_EOS:EOS_GRID:\"/media/sg/91d62d44-8446-4f66-8327-bc09e774cbb1/home/df/Projects/modis_ndvi/MOD13A1.A2020161.h20v05.006.2020178013023.hdf\":MODIS_Grid_16DAY_500m_VI:\"500m 16 days NDVI\"\n"
     ]
    },
    {
     "name": "stderr",
     "output_type": "stream",
     "text": [
      "ERROR 1: Output dataset A2020153_evi_merge_warp.tif exists,\n",
      "but some command line options were provided indicating a new dataset\n",
      "should be created.  Please delete existing dataset and run again.\n",
      "\n"
     ]
    },
    {
     "name": "stdout",
     "output_type": "stream",
     "text": [
      "0...10...20...30...40...50...60...70...80...90...100 - done.\n",
      "A2020161_evi_merge.tif\n",
      "gdal_merge.py -o A2020161_evi_merge.tif HDF4_EOS:EOS_GRID:\"/media/sg/91d62d44-8446-4f66-8327-bc09e774cbb1/home/df/Projects/modis_ndvi/MOD13A1.A2020161.h19v05.006.2020178013556.hdf\":MODIS_Grid_16DAY_500m_VI:\"500m 16 days EVI\" HDF4_EOS:EOS_GRID:\"/media/sg/91d62d44-8446-4f66-8327-bc09e774cbb1/home/df/Projects/modis_ndvi/MOD13A1.A2020161.h19v04.006.2020178014319.hdf\":MODIS_Grid_16DAY_500m_VI:\"500m 16 days EVI\" HDF4_EOS:EOS_GRID:\"/media/sg/91d62d44-8446-4f66-8327-bc09e774cbb1/home/df/Projects/modis_ndvi/MOD13A1.A2020161.h20v05.006.2020178013023.hdf\":MODIS_Grid_16DAY_500m_VI:\"500m 16 days EVI\"\n"
     ]
    },
    {
     "name": "stderr",
     "output_type": "stream",
     "text": [
      "ERROR 1: Output dataset A2020161_ndvi_merge_warp.tif exists,\n",
      "but some command line options were provided indicating a new dataset\n",
      "should be created.  Please delete existing dataset and run again.\n",
      "\n"
     ]
    },
    {
     "name": "stdout",
     "output_type": "stream",
     "text": [
      "0...10...20...30...40...50...60...70...80...90...100 - done.\n",
      "A2020169_ndvi_merge.tif\n",
      "gdal_merge.py -o A2020169_ndvi_merge.tif HDF4_EOS:EOS_GRID:\"/media/sg/91d62d44-8446-4f66-8327-bc09e774cbb1/home/df/Projects/modis_ndvi/MYD13A1.A2020169.h19v05.006.2020188233625.hdf\":MODIS_Grid_16DAY_500m_VI:\"500m 16 days NDVI\" HDF4_EOS:EOS_GRID:\"/media/sg/91d62d44-8446-4f66-8327-bc09e774cbb1/home/df/Projects/modis_ndvi/MYD13A1.A2020169.h20v05.006.2020188233543.hdf\":MODIS_Grid_16DAY_500m_VI:\"500m 16 days NDVI\" HDF4_EOS:EOS_GRID:\"/media/sg/91d62d44-8446-4f66-8327-bc09e774cbb1/home/df/Projects/modis_ndvi/MYD13A1.A2020169.h19v04.006.2020188232453.hdf\":MODIS_Grid_16DAY_500m_VI:\"500m 16 days NDVI\"\n"
     ]
    },
    {
     "name": "stderr",
     "output_type": "stream",
     "text": [
      "ERROR 1: Output dataset A2020161_evi_merge_warp.tif exists,\n",
      "but some command line options were provided indicating a new dataset\n",
      "should be created.  Please delete existing dataset and run again.\n",
      "\n"
     ]
    },
    {
     "name": "stdout",
     "output_type": "stream",
     "text": [
      "0...10...20...30...40...50...60...70...80...90...100 - done.\n",
      "A2020169_evi_merge.tif\n",
      "gdal_merge.py -o A2020169_evi_merge.tif HDF4_EOS:EOS_GRID:\"/media/sg/91d62d44-8446-4f66-8327-bc09e774cbb1/home/df/Projects/modis_ndvi/MYD13A1.A2020169.h19v05.006.2020188233625.hdf\":MODIS_Grid_16DAY_500m_VI:\"500m 16 days EVI\" HDF4_EOS:EOS_GRID:\"/media/sg/91d62d44-8446-4f66-8327-bc09e774cbb1/home/df/Projects/modis_ndvi/MYD13A1.A2020169.h20v05.006.2020188233543.hdf\":MODIS_Grid_16DAY_500m_VI:\"500m 16 days EVI\" HDF4_EOS:EOS_GRID:\"/media/sg/91d62d44-8446-4f66-8327-bc09e774cbb1/home/df/Projects/modis_ndvi/MYD13A1.A2020169.h19v04.006.2020188232453.hdf\":MODIS_Grid_16DAY_500m_VI:\"500m 16 days EVI\"\n"
     ]
    },
    {
     "name": "stderr",
     "output_type": "stream",
     "text": [
      "ERROR 1: Output dataset A2020169_ndvi_merge_warp.tif exists,\n",
      "but some command line options were provided indicating a new dataset\n",
      "should be created.  Please delete existing dataset and run again.\n",
      "\n"
     ]
    },
    {
     "name": "stdout",
     "output_type": "stream",
     "text": [
      "0...10...20...30...40...50...60...70...80...90...100 - done.\n",
      "A2020177_ndvi_merge.tif\n",
      "gdal_merge.py -o A2020177_ndvi_merge.tif HDF4_EOS:EOS_GRID:\"/media/sg/91d62d44-8446-4f66-8327-bc09e774cbb1/home/df/Projects/modis_ndvi/MOD13A1.A2020177.h19v05.006.2020196233452.hdf\":MODIS_Grid_16DAY_500m_VI:\"500m 16 days NDVI\" HDF4_EOS:EOS_GRID:\"/media/sg/91d62d44-8446-4f66-8327-bc09e774cbb1/home/df/Projects/modis_ndvi/MOD13A1.A2020177.h19v04.006.2020196234141.hdf\":MODIS_Grid_16DAY_500m_VI:\"500m 16 days NDVI\" HDF4_EOS:EOS_GRID:\"/media/sg/91d62d44-8446-4f66-8327-bc09e774cbb1/home/df/Projects/modis_ndvi/MOD13A1.A2020177.h20v05.006.2020196233128.hdf\":MODIS_Grid_16DAY_500m_VI:\"500m 16 days NDVI\"\n"
     ]
    },
    {
     "name": "stderr",
     "output_type": "stream",
     "text": [
      "ERROR 1: Output dataset A2020169_evi_merge_warp.tif exists,\n",
      "but some command line options were provided indicating a new dataset\n",
      "should be created.  Please delete existing dataset and run again.\n",
      "\n"
     ]
    },
    {
     "name": "stdout",
     "output_type": "stream",
     "text": [
      "0...10...20...30...40...50...60...70...80...90...100 - done.\n",
      "A2020177_evi_merge.tif\n",
      "gdal_merge.py -o A2020177_evi_merge.tif HDF4_EOS:EOS_GRID:\"/media/sg/91d62d44-8446-4f66-8327-bc09e774cbb1/home/df/Projects/modis_ndvi/MOD13A1.A2020177.h19v05.006.2020196233452.hdf\":MODIS_Grid_16DAY_500m_VI:\"500m 16 days EVI\" HDF4_EOS:EOS_GRID:\"/media/sg/91d62d44-8446-4f66-8327-bc09e774cbb1/home/df/Projects/modis_ndvi/MOD13A1.A2020177.h19v04.006.2020196234141.hdf\":MODIS_Grid_16DAY_500m_VI:\"500m 16 days EVI\" HDF4_EOS:EOS_GRID:\"/media/sg/91d62d44-8446-4f66-8327-bc09e774cbb1/home/df/Projects/modis_ndvi/MOD13A1.A2020177.h20v05.006.2020196233128.hdf\":MODIS_Grid_16DAY_500m_VI:\"500m 16 days EVI\"\n"
     ]
    },
    {
     "name": "stderr",
     "output_type": "stream",
     "text": [
      "ERROR 1: Output dataset A2020177_ndvi_merge_warp.tif exists,\n",
      "but some command line options were provided indicating a new dataset\n",
      "should be created.  Please delete existing dataset and run again.\n",
      "\n"
     ]
    },
    {
     "name": "stdout",
     "output_type": "stream",
     "text": [
      "0...10...20...30...40...50...60...70...80...90...100 - done.\n",
      "A2020185_ndvi_merge.tif\n",
      "gdal_merge.py -o A2020185_ndvi_merge.tif HDF4_EOS:EOS_GRID:\"/media/sg/91d62d44-8446-4f66-8327-bc09e774cbb1/home/df/Projects/modis_ndvi/MYD13A1.A2020185.h19v05.006.2020202050458.hdf\":MODIS_Grid_16DAY_500m_VI:\"500m 16 days NDVI\" HDF4_EOS:EOS_GRID:\"/media/sg/91d62d44-8446-4f66-8327-bc09e774cbb1/home/df/Projects/modis_ndvi/MYD13A1.A2020185.h20v05.006.2020202043731.hdf\":MODIS_Grid_16DAY_500m_VI:\"500m 16 days NDVI\" HDF4_EOS:EOS_GRID:\"/media/sg/91d62d44-8446-4f66-8327-bc09e774cbb1/home/df/Projects/modis_ndvi/MYD13A1.A2020185.h19v04.006.2020202050846.hdf\":MODIS_Grid_16DAY_500m_VI:\"500m 16 days NDVI\"\n"
     ]
    },
    {
     "name": "stderr",
     "output_type": "stream",
     "text": [
      "ERROR 1: Output dataset A2020177_evi_merge_warp.tif exists,\n",
      "but some command line options were provided indicating a new dataset\n",
      "should be created.  Please delete existing dataset and run again.\n",
      "\n"
     ]
    },
    {
     "name": "stdout",
     "output_type": "stream",
     "text": [
      "0...10...20...30...40...50...60...70...80...90...100 - done.\n",
      "A2020185_evi_merge.tif\n",
      "gdal_merge.py -o A2020185_evi_merge.tif HDF4_EOS:EOS_GRID:\"/media/sg/91d62d44-8446-4f66-8327-bc09e774cbb1/home/df/Projects/modis_ndvi/MYD13A1.A2020185.h19v05.006.2020202050458.hdf\":MODIS_Grid_16DAY_500m_VI:\"500m 16 days EVI\" HDF4_EOS:EOS_GRID:\"/media/sg/91d62d44-8446-4f66-8327-bc09e774cbb1/home/df/Projects/modis_ndvi/MYD13A1.A2020185.h20v05.006.2020202043731.hdf\":MODIS_Grid_16DAY_500m_VI:\"500m 16 days EVI\" HDF4_EOS:EOS_GRID:\"/media/sg/91d62d44-8446-4f66-8327-bc09e774cbb1/home/df/Projects/modis_ndvi/MYD13A1.A2020185.h19v04.006.2020202050846.hdf\":MODIS_Grid_16DAY_500m_VI:\"500m 16 days EVI\"\n"
     ]
    },
    {
     "name": "stderr",
     "output_type": "stream",
     "text": [
      "ERROR 1: Output dataset A2020185_ndvi_merge_warp.tif exists,\n",
      "but some command line options were provided indicating a new dataset\n",
      "should be created.  Please delete existing dataset and run again.\n",
      "\n"
     ]
    },
    {
     "name": "stdout",
     "output_type": "stream",
     "text": [
      "0...10...20...30...40...50...60...70...80...90...100 - done.\n",
      "A2020193_ndvi_merge.tif\n",
      "gdal_merge.py -o A2020193_ndvi_merge.tif HDF4_EOS:EOS_GRID:\"/media/sg/91d62d44-8446-4f66-8327-bc09e774cbb1/home/df/Projects/modis_ndvi/MOD13A1.A2020193.h20v05.006.2020210010237.hdf\":MODIS_Grid_16DAY_500m_VI:\"500m 16 days NDVI\" HDF4_EOS:EOS_GRID:\"/media/sg/91d62d44-8446-4f66-8327-bc09e774cbb1/home/df/Projects/modis_ndvi/MOD13A1.A2020193.h19v05.006.2020210005837.hdf\":MODIS_Grid_16DAY_500m_VI:\"500m 16 days NDVI\" HDF4_EOS:EOS_GRID:\"/media/sg/91d62d44-8446-4f66-8327-bc09e774cbb1/home/df/Projects/modis_ndvi/MOD13A1.A2020193.h19v04.006.2020210011716.hdf\":MODIS_Grid_16DAY_500m_VI:\"500m 16 days NDVI\"\n"
     ]
    },
    {
     "name": "stderr",
     "output_type": "stream",
     "text": [
      "ERROR 1: Output dataset A2020185_evi_merge_warp.tif exists,\n",
      "but some command line options were provided indicating a new dataset\n",
      "should be created.  Please delete existing dataset and run again.\n",
      "\n"
     ]
    },
    {
     "name": "stdout",
     "output_type": "stream",
     "text": [
      "0...10...20...30...40...50...60...70...80...90...100 - done.\n",
      "A2020193_evi_merge.tif\n",
      "gdal_merge.py -o A2020193_evi_merge.tif HDF4_EOS:EOS_GRID:\"/media/sg/91d62d44-8446-4f66-8327-bc09e774cbb1/home/df/Projects/modis_ndvi/MOD13A1.A2020193.h20v05.006.2020210010237.hdf\":MODIS_Grid_16DAY_500m_VI:\"500m 16 days EVI\" HDF4_EOS:EOS_GRID:\"/media/sg/91d62d44-8446-4f66-8327-bc09e774cbb1/home/df/Projects/modis_ndvi/MOD13A1.A2020193.h19v05.006.2020210005837.hdf\":MODIS_Grid_16DAY_500m_VI:\"500m 16 days EVI\" HDF4_EOS:EOS_GRID:\"/media/sg/91d62d44-8446-4f66-8327-bc09e774cbb1/home/df/Projects/modis_ndvi/MOD13A1.A2020193.h19v04.006.2020210011716.hdf\":MODIS_Grid_16DAY_500m_VI:\"500m 16 days EVI\"\n"
     ]
    },
    {
     "name": "stderr",
     "output_type": "stream",
     "text": [
      "ERROR 1: Output dataset A2020193_ndvi_merge_warp.tif exists,\n",
      "but some command line options were provided indicating a new dataset\n",
      "should be created.  Please delete existing dataset and run again.\n",
      "\n"
     ]
    },
    {
     "name": "stdout",
     "output_type": "stream",
     "text": [
      "0...10...20...30...40...50...60...70...80...90...100 - done.\n",
      "A2020201_ndvi_merge.tif\n",
      "gdal_merge.py -o A2020201_ndvi_merge.tif HDF4_EOS:EOS_GRID:\"/media/sg/91d62d44-8446-4f66-8327-bc09e774cbb1/home/df/Projects/modis_ndvi/MYD13A1.A2020201.h19v05.006.2020218015404.hdf\":MODIS_Grid_16DAY_500m_VI:\"500m 16 days NDVI\" HDF4_EOS:EOS_GRID:\"/media/sg/91d62d44-8446-4f66-8327-bc09e774cbb1/home/df/Projects/modis_ndvi/MYD13A1.A2020201.h19v04.006.2020218013639.hdf\":MODIS_Grid_16DAY_500m_VI:\"500m 16 days NDVI\" HDF4_EOS:EOS_GRID:\"/media/sg/91d62d44-8446-4f66-8327-bc09e774cbb1/home/df/Projects/modis_ndvi/MYD13A1.A2020201.h20v05.006.2020218020904.hdf\":MODIS_Grid_16DAY_500m_VI:\"500m 16 days NDVI\"\n"
     ]
    },
    {
     "name": "stderr",
     "output_type": "stream",
     "text": [
      "ERROR 1: Output dataset A2020193_evi_merge_warp.tif exists,\n",
      "but some command line options were provided indicating a new dataset\n",
      "should be created.  Please delete existing dataset and run again.\n",
      "\n"
     ]
    },
    {
     "name": "stdout",
     "output_type": "stream",
     "text": [
      "0...10...20...30...40...50...60...70...80...90...100 - done.\n",
      "A2020201_evi_merge.tif\n",
      "gdal_merge.py -o A2020201_evi_merge.tif HDF4_EOS:EOS_GRID:\"/media/sg/91d62d44-8446-4f66-8327-bc09e774cbb1/home/df/Projects/modis_ndvi/MYD13A1.A2020201.h19v05.006.2020218015404.hdf\":MODIS_Grid_16DAY_500m_VI:\"500m 16 days EVI\" HDF4_EOS:EOS_GRID:\"/media/sg/91d62d44-8446-4f66-8327-bc09e774cbb1/home/df/Projects/modis_ndvi/MYD13A1.A2020201.h19v04.006.2020218013639.hdf\":MODIS_Grid_16DAY_500m_VI:\"500m 16 days EVI\" HDF4_EOS:EOS_GRID:\"/media/sg/91d62d44-8446-4f66-8327-bc09e774cbb1/home/df/Projects/modis_ndvi/MYD13A1.A2020201.h20v05.006.2020218020904.hdf\":MODIS_Grid_16DAY_500m_VI:\"500m 16 days EVI\"\n"
     ]
    },
    {
     "name": "stderr",
     "output_type": "stream",
     "text": [
      "ERROR 1: Output dataset A2020201_ndvi_merge_warp.tif exists,\n",
      "but some command line options were provided indicating a new dataset\n",
      "should be created.  Please delete existing dataset and run again.\n",
      "\n"
     ]
    },
    {
     "name": "stdout",
     "output_type": "stream",
     "text": [
      "0...10...20...30...40...50...60...70...80...90...100 - done.\n",
      "A2020209_ndvi_merge.tif\n",
      "gdal_merge.py -o A2020209_ndvi_merge.tif HDF4_EOS:EOS_GRID:\"/media/sg/91d62d44-8446-4f66-8327-bc09e774cbb1/home/df/Projects/modis_ndvi/MOD13A1.A2020209.h19v05.006.2020226012619.hdf\":MODIS_Grid_16DAY_500m_VI:\"500m 16 days NDVI\" HDF4_EOS:EOS_GRID:\"/media/sg/91d62d44-8446-4f66-8327-bc09e774cbb1/home/df/Projects/modis_ndvi/MOD13A1.A2020209.h20v05.006.2020226010828.hdf\":MODIS_Grid_16DAY_500m_VI:\"500m 16 days NDVI\" HDF4_EOS:EOS_GRID:\"/media/sg/91d62d44-8446-4f66-8327-bc09e774cbb1/home/df/Projects/modis_ndvi/MOD13A1.A2020209.h19v04.006.2020226011201.hdf\":MODIS_Grid_16DAY_500m_VI:\"500m 16 days NDVI\"\n"
     ]
    },
    {
     "name": "stderr",
     "output_type": "stream",
     "text": [
      "ERROR 1: Output dataset A2020201_evi_merge_warp.tif exists,\n",
      "but some command line options were provided indicating a new dataset\n",
      "should be created.  Please delete existing dataset and run again.\n",
      "\n"
     ]
    },
    {
     "name": "stdout",
     "output_type": "stream",
     "text": [
      "0...10...20...30...40...50...60...70...80...90...100 - done.\n",
      "A2020209_evi_merge.tif\n",
      "gdal_merge.py -o A2020209_evi_merge.tif HDF4_EOS:EOS_GRID:\"/media/sg/91d62d44-8446-4f66-8327-bc09e774cbb1/home/df/Projects/modis_ndvi/MOD13A1.A2020209.h19v05.006.2020226012619.hdf\":MODIS_Grid_16DAY_500m_VI:\"500m 16 days EVI\" HDF4_EOS:EOS_GRID:\"/media/sg/91d62d44-8446-4f66-8327-bc09e774cbb1/home/df/Projects/modis_ndvi/MOD13A1.A2020209.h20v05.006.2020226010828.hdf\":MODIS_Grid_16DAY_500m_VI:\"500m 16 days EVI\" HDF4_EOS:EOS_GRID:\"/media/sg/91d62d44-8446-4f66-8327-bc09e774cbb1/home/df/Projects/modis_ndvi/MOD13A1.A2020209.h19v04.006.2020226011201.hdf\":MODIS_Grid_16DAY_500m_VI:\"500m 16 days EVI\"\n"
     ]
    },
    {
     "name": "stderr",
     "output_type": "stream",
     "text": [
      "ERROR 1: Output dataset A2020209_ndvi_merge_warp.tif exists,\n",
      "but some command line options were provided indicating a new dataset\n",
      "should be created.  Please delete existing dataset and run again.\n",
      "\n"
     ]
    },
    {
     "name": "stdout",
     "output_type": "stream",
     "text": [
      "0...10...20...30...40...50...60...70...80...90...100 - done.\n",
      "A2020217_ndvi_merge.tif\n",
      "gdal_merge.py -o A2020217_ndvi_merge.tif HDF4_EOS:EOS_GRID:\"/media/sg/91d62d44-8446-4f66-8327-bc09e774cbb1/home/df/Projects/modis_ndvi/MYD13A1.A2020217.h20v05.006.2020323151553.hdf\":MODIS_Grid_16DAY_500m_VI:\"500m 16 days NDVI\" HDF4_EOS:EOS_GRID:\"/media/sg/91d62d44-8446-4f66-8327-bc09e774cbb1/home/df/Projects/modis_ndvi/MYD13A1.A2020217.h19v05.006.2020323151122.hdf\":MODIS_Grid_16DAY_500m_VI:\"500m 16 days NDVI\" HDF4_EOS:EOS_GRID:\"/media/sg/91d62d44-8446-4f66-8327-bc09e774cbb1/home/df/Projects/modis_ndvi/MYD13A1.A2020217.h19v04.006.2020323151102.hdf\":MODIS_Grid_16DAY_500m_VI:\"500m 16 days NDVI\"\n"
     ]
    },
    {
     "name": "stderr",
     "output_type": "stream",
     "text": [
      "ERROR 1: Output dataset A2020209_evi_merge_warp.tif exists,\n",
      "but some command line options were provided indicating a new dataset\n",
      "should be created.  Please delete existing dataset and run again.\n",
      "\n"
     ]
    },
    {
     "name": "stdout",
     "output_type": "stream",
     "text": [
      "0...10...20...30...40...50...60...70...80...90...100 - done.\n",
      "A2020217_evi_merge.tif\n",
      "gdal_merge.py -o A2020217_evi_merge.tif HDF4_EOS:EOS_GRID:\"/media/sg/91d62d44-8446-4f66-8327-bc09e774cbb1/home/df/Projects/modis_ndvi/MYD13A1.A2020217.h20v05.006.2020323151553.hdf\":MODIS_Grid_16DAY_500m_VI:\"500m 16 days EVI\" HDF4_EOS:EOS_GRID:\"/media/sg/91d62d44-8446-4f66-8327-bc09e774cbb1/home/df/Projects/modis_ndvi/MYD13A1.A2020217.h19v05.006.2020323151122.hdf\":MODIS_Grid_16DAY_500m_VI:\"500m 16 days EVI\" HDF4_EOS:EOS_GRID:\"/media/sg/91d62d44-8446-4f66-8327-bc09e774cbb1/home/df/Projects/modis_ndvi/MYD13A1.A2020217.h19v04.006.2020323151102.hdf\":MODIS_Grid_16DAY_500m_VI:\"500m 16 days EVI\"\n"
     ]
    },
    {
     "name": "stderr",
     "output_type": "stream",
     "text": [
      "ERROR 1: Output dataset A2020217_ndvi_merge_warp.tif exists,\n",
      "but some command line options were provided indicating a new dataset\n",
      "should be created.  Please delete existing dataset and run again.\n",
      "\n"
     ]
    },
    {
     "name": "stdout",
     "output_type": "stream",
     "text": [
      "0...10...20...30...40...50...60...70...80...90...100 - done.\n",
      "A2020225_ndvi_merge.tif\n",
      "gdal_merge.py -o A2020225_ndvi_merge.tif HDF4_EOS:EOS_GRID:\"/media/sg/91d62d44-8446-4f66-8327-bc09e774cbb1/home/df/Projects/modis_ndvi/MOD13A1.A2020225.h20v05.006.2020241232144.hdf\":MODIS_Grid_16DAY_500m_VI:\"500m 16 days NDVI\" HDF4_EOS:EOS_GRID:\"/media/sg/91d62d44-8446-4f66-8327-bc09e774cbb1/home/df/Projects/modis_ndvi/MOD13A1.A2020225.h19v05.006.2020241233524.hdf\":MODIS_Grid_16DAY_500m_VI:\"500m 16 days NDVI\" HDF4_EOS:EOS_GRID:\"/media/sg/91d62d44-8446-4f66-8327-bc09e774cbb1/home/df/Projects/modis_ndvi/MOD13A1.A2020225.h19v04.006.2020241233439.hdf\":MODIS_Grid_16DAY_500m_VI:\"500m 16 days NDVI\"\n"
     ]
    },
    {
     "name": "stderr",
     "output_type": "stream",
     "text": [
      "ERROR 1: Output dataset A2020217_evi_merge_warp.tif exists,\n",
      "but some command line options were provided indicating a new dataset\n",
      "should be created.  Please delete existing dataset and run again.\n",
      "\n"
     ]
    },
    {
     "name": "stdout",
     "output_type": "stream",
     "text": [
      "0...10...20...30...40...50...60...70...80...90...100 - done.\n",
      "A2020225_evi_merge.tif\n",
      "gdal_merge.py -o A2020225_evi_merge.tif HDF4_EOS:EOS_GRID:\"/media/sg/91d62d44-8446-4f66-8327-bc09e774cbb1/home/df/Projects/modis_ndvi/MOD13A1.A2020225.h20v05.006.2020241232144.hdf\":MODIS_Grid_16DAY_500m_VI:\"500m 16 days EVI\" HDF4_EOS:EOS_GRID:\"/media/sg/91d62d44-8446-4f66-8327-bc09e774cbb1/home/df/Projects/modis_ndvi/MOD13A1.A2020225.h19v05.006.2020241233524.hdf\":MODIS_Grid_16DAY_500m_VI:\"500m 16 days EVI\" HDF4_EOS:EOS_GRID:\"/media/sg/91d62d44-8446-4f66-8327-bc09e774cbb1/home/df/Projects/modis_ndvi/MOD13A1.A2020225.h19v04.006.2020241233439.hdf\":MODIS_Grid_16DAY_500m_VI:\"500m 16 days EVI\"\n"
     ]
    },
    {
     "name": "stderr",
     "output_type": "stream",
     "text": [
      "ERROR 1: Output dataset A2020225_ndvi_merge_warp.tif exists,\n",
      "but some command line options were provided indicating a new dataset\n",
      "should be created.  Please delete existing dataset and run again.\n",
      "\n"
     ]
    },
    {
     "name": "stdout",
     "output_type": "stream",
     "text": [
      "0...10...20...30...40...50...60...70...80...90...100 - done.\n",
      "A2020233_ndvi_merge.tif\n",
      "gdal_merge.py -o A2020233_ndvi_merge.tif HDF4_EOS:EOS_GRID:\"/media/sg/91d62d44-8446-4f66-8327-bc09e774cbb1/home/df/Projects/modis_ndvi/MYD13A1.A2020233.h19v05.006.2020323150810.hdf\":MODIS_Grid_16DAY_500m_VI:\"500m 16 days NDVI\" HDF4_EOS:EOS_GRID:\"/media/sg/91d62d44-8446-4f66-8327-bc09e774cbb1/home/df/Projects/modis_ndvi/MYD13A1.A2020233.h19v04.006.2020323150804.hdf\":MODIS_Grid_16DAY_500m_VI:\"500m 16 days NDVI\" HDF4_EOS:EOS_GRID:\"/media/sg/91d62d44-8446-4f66-8327-bc09e774cbb1/home/df/Projects/modis_ndvi/MYD13A1.A2020233.h20v05.006.2020323150830.hdf\":MODIS_Grid_16DAY_500m_VI:\"500m 16 days NDVI\"\n"
     ]
    },
    {
     "name": "stderr",
     "output_type": "stream",
     "text": [
      "ERROR 1: Output dataset A2020225_evi_merge_warp.tif exists,\n",
      "but some command line options were provided indicating a new dataset\n",
      "should be created.  Please delete existing dataset and run again.\n",
      "\n"
     ]
    },
    {
     "name": "stdout",
     "output_type": "stream",
     "text": [
      "0...10...20...30...40...50...60...70...80...90...100 - done.\n",
      "A2020233_evi_merge.tif\n",
      "gdal_merge.py -o A2020233_evi_merge.tif HDF4_EOS:EOS_GRID:\"/media/sg/91d62d44-8446-4f66-8327-bc09e774cbb1/home/df/Projects/modis_ndvi/MYD13A1.A2020233.h19v05.006.2020323150810.hdf\":MODIS_Grid_16DAY_500m_VI:\"500m 16 days EVI\" HDF4_EOS:EOS_GRID:\"/media/sg/91d62d44-8446-4f66-8327-bc09e774cbb1/home/df/Projects/modis_ndvi/MYD13A1.A2020233.h19v04.006.2020323150804.hdf\":MODIS_Grid_16DAY_500m_VI:\"500m 16 days EVI\" HDF4_EOS:EOS_GRID:\"/media/sg/91d62d44-8446-4f66-8327-bc09e774cbb1/home/df/Projects/modis_ndvi/MYD13A1.A2020233.h20v05.006.2020323150830.hdf\":MODIS_Grid_16DAY_500m_VI:\"500m 16 days EVI\"\n"
     ]
    },
    {
     "name": "stderr",
     "output_type": "stream",
     "text": [
      "ERROR 1: Output dataset A2020233_ndvi_merge_warp.tif exists,\n",
      "but some command line options were provided indicating a new dataset\n",
      "should be created.  Please delete existing dataset and run again.\n",
      "\n"
     ]
    },
    {
     "name": "stdout",
     "output_type": "stream",
     "text": [
      "0...10...20...30...40...50...60...70...80...90...100 - done.\n",
      "A2020241_ndvi_merge.tif\n",
      "gdal_merge.py -o A2020241_ndvi_merge.tif HDF4_EOS:EOS_GRID:\"/media/sg/91d62d44-8446-4f66-8327-bc09e774cbb1/home/df/Projects/modis_ndvi/MOD13A1.A2020241.h20v05.006.2020261220859.hdf\":MODIS_Grid_16DAY_500m_VI:\"500m 16 days NDVI\" HDF4_EOS:EOS_GRID:\"/media/sg/91d62d44-8446-4f66-8327-bc09e774cbb1/home/df/Projects/modis_ndvi/MOD13A1.A2020241.h19v04.006.2020261220827.hdf\":MODIS_Grid_16DAY_500m_VI:\"500m 16 days NDVI\" HDF4_EOS:EOS_GRID:\"/media/sg/91d62d44-8446-4f66-8327-bc09e774cbb1/home/df/Projects/modis_ndvi/MOD13A1.A2020241.h19v05.006.2020261220829.hdf\":MODIS_Grid_16DAY_500m_VI:\"500m 16 days NDVI\"\n"
     ]
    },
    {
     "name": "stderr",
     "output_type": "stream",
     "text": [
      "ERROR 1: Output dataset A2020233_evi_merge_warp.tif exists,\n",
      "but some command line options were provided indicating a new dataset\n",
      "should be created.  Please delete existing dataset and run again.\n",
      "\n"
     ]
    },
    {
     "name": "stdout",
     "output_type": "stream",
     "text": [
      "0...10...20...30...40...50...60...70...80...90...100 - done.\n",
      "A2020241_evi_merge.tif\n",
      "gdal_merge.py -o A2020241_evi_merge.tif HDF4_EOS:EOS_GRID:\"/media/sg/91d62d44-8446-4f66-8327-bc09e774cbb1/home/df/Projects/modis_ndvi/MOD13A1.A2020241.h20v05.006.2020261220859.hdf\":MODIS_Grid_16DAY_500m_VI:\"500m 16 days EVI\" HDF4_EOS:EOS_GRID:\"/media/sg/91d62d44-8446-4f66-8327-bc09e774cbb1/home/df/Projects/modis_ndvi/MOD13A1.A2020241.h19v04.006.2020261220827.hdf\":MODIS_Grid_16DAY_500m_VI:\"500m 16 days EVI\" HDF4_EOS:EOS_GRID:\"/media/sg/91d62d44-8446-4f66-8327-bc09e774cbb1/home/df/Projects/modis_ndvi/MOD13A1.A2020241.h19v05.006.2020261220829.hdf\":MODIS_Grid_16DAY_500m_VI:\"500m 16 days EVI\"\n"
     ]
    },
    {
     "name": "stderr",
     "output_type": "stream",
     "text": [
      "ERROR 1: Output dataset A2020241_ndvi_merge_warp.tif exists,\n",
      "but some command line options were provided indicating a new dataset\n",
      "should be created.  Please delete existing dataset and run again.\n",
      "\n"
     ]
    },
    {
     "name": "stdout",
     "output_type": "stream",
     "text": [
      "0...10...20...30...40...50...60...70...80...90...100 - done.\n",
      "A2020249_ndvi_merge.tif\n",
      "gdal_merge.py -o A2020249_ndvi_merge.tif HDF4_EOS:EOS_GRID:\"/media/sg/91d62d44-8446-4f66-8327-bc09e774cbb1/home/df/Projects/modis_ndvi/MYD13A1.A2020249.h19v04.006.2020267042002.hdf\":MODIS_Grid_16DAY_500m_VI:\"500m 16 days NDVI\" HDF4_EOS:EOS_GRID:\"/media/sg/91d62d44-8446-4f66-8327-bc09e774cbb1/home/df/Projects/modis_ndvi/MYD13A1.A2020249.h19v05.006.2020267041951.hdf\":MODIS_Grid_16DAY_500m_VI:\"500m 16 days NDVI\" HDF4_EOS:EOS_GRID:\"/media/sg/91d62d44-8446-4f66-8327-bc09e774cbb1/home/df/Projects/modis_ndvi/MYD13A1.A2020249.h20v05.006.2020267044909.hdf\":MODIS_Grid_16DAY_500m_VI:\"500m 16 days NDVI\"\n"
     ]
    },
    {
     "name": "stderr",
     "output_type": "stream",
     "text": [
      "ERROR 1: Output dataset A2020241_evi_merge_warp.tif exists,\n",
      "but some command line options were provided indicating a new dataset\n",
      "should be created.  Please delete existing dataset and run again.\n",
      "\n"
     ]
    },
    {
     "name": "stdout",
     "output_type": "stream",
     "text": [
      "0...10...20...30...40...50...60...70...80...90...100 - done.\n",
      "A2020249_evi_merge.tif\n",
      "gdal_merge.py -o A2020249_evi_merge.tif HDF4_EOS:EOS_GRID:\"/media/sg/91d62d44-8446-4f66-8327-bc09e774cbb1/home/df/Projects/modis_ndvi/MYD13A1.A2020249.h19v04.006.2020267042002.hdf\":MODIS_Grid_16DAY_500m_VI:\"500m 16 days EVI\" HDF4_EOS:EOS_GRID:\"/media/sg/91d62d44-8446-4f66-8327-bc09e774cbb1/home/df/Projects/modis_ndvi/MYD13A1.A2020249.h19v05.006.2020267041951.hdf\":MODIS_Grid_16DAY_500m_VI:\"500m 16 days EVI\" HDF4_EOS:EOS_GRID:\"/media/sg/91d62d44-8446-4f66-8327-bc09e774cbb1/home/df/Projects/modis_ndvi/MYD13A1.A2020249.h20v05.006.2020267044909.hdf\":MODIS_Grid_16DAY_500m_VI:\"500m 16 days EVI\"\n"
     ]
    },
    {
     "name": "stderr",
     "output_type": "stream",
     "text": [
      "ERROR 1: Output dataset A2020249_ndvi_merge_warp.tif exists,\n",
      "but some command line options were provided indicating a new dataset\n",
      "should be created.  Please delete existing dataset and run again.\n",
      "\n"
     ]
    },
    {
     "name": "stdout",
     "output_type": "stream",
     "text": [
      "0...10...20...30...40...50...60...70...80...90...100 - done.\n",
      "A2020257_ndvi_merge.tif\n",
      "gdal_merge.py -o A2020257_ndvi_merge.tif HDF4_EOS:EOS_GRID:\"/media/sg/91d62d44-8446-4f66-8327-bc09e774cbb1/home/df/Projects/modis_ndvi/MOD13A1.A2020257.h20v05.006.2020280043844.hdf\":MODIS_Grid_16DAY_500m_VI:\"500m 16 days NDVI\" HDF4_EOS:EOS_GRID:\"/media/sg/91d62d44-8446-4f66-8327-bc09e774cbb1/home/df/Projects/modis_ndvi/MOD13A1.A2020257.h19v04.006.2020280044358.hdf\":MODIS_Grid_16DAY_500m_VI:\"500m 16 days NDVI\" HDF4_EOS:EOS_GRID:\"/media/sg/91d62d44-8446-4f66-8327-bc09e774cbb1/home/df/Projects/modis_ndvi/MOD13A1.A2020257.h19v05.006.2020280044408.hdf\":MODIS_Grid_16DAY_500m_VI:\"500m 16 days NDVI\"\n"
     ]
    },
    {
     "name": "stderr",
     "output_type": "stream",
     "text": [
      "ERROR 1: Output dataset A2020249_evi_merge_warp.tif exists,\n",
      "but some command line options were provided indicating a new dataset\n",
      "should be created.  Please delete existing dataset and run again.\n",
      "\n"
     ]
    },
    {
     "name": "stdout",
     "output_type": "stream",
     "text": [
      "0...10...20...30...40...50...60...70...80...90...100 - done.\n",
      "A2020257_evi_merge.tif\n",
      "gdal_merge.py -o A2020257_evi_merge.tif HDF4_EOS:EOS_GRID:\"/media/sg/91d62d44-8446-4f66-8327-bc09e774cbb1/home/df/Projects/modis_ndvi/MOD13A1.A2020257.h20v05.006.2020280043844.hdf\":MODIS_Grid_16DAY_500m_VI:\"500m 16 days EVI\" HDF4_EOS:EOS_GRID:\"/media/sg/91d62d44-8446-4f66-8327-bc09e774cbb1/home/df/Projects/modis_ndvi/MOD13A1.A2020257.h19v04.006.2020280044358.hdf\":MODIS_Grid_16DAY_500m_VI:\"500m 16 days EVI\" HDF4_EOS:EOS_GRID:\"/media/sg/91d62d44-8446-4f66-8327-bc09e774cbb1/home/df/Projects/modis_ndvi/MOD13A1.A2020257.h19v05.006.2020280044408.hdf\":MODIS_Grid_16DAY_500m_VI:\"500m 16 days EVI\"\n"
     ]
    },
    {
     "name": "stderr",
     "output_type": "stream",
     "text": [
      "ERROR 1: Output dataset A2020257_ndvi_merge_warp.tif exists,\n",
      "but some command line options were provided indicating a new dataset\n",
      "should be created.  Please delete existing dataset and run again.\n",
      "\n"
     ]
    },
    {
     "name": "stdout",
     "output_type": "stream",
     "text": [
      "0...10...20...30...40...50...60...70...80...90...100 - done.\n",
      "A2020265_ndvi_merge.tif\n",
      "gdal_merge.py -o A2020265_ndvi_merge.tif HDF4_EOS:EOS_GRID:\"/media/sg/91d62d44-8446-4f66-8327-bc09e774cbb1/home/df/Projects/modis_ndvi/MYD13A1.A2020265.h19v04.006.2020299225453.hdf\":MODIS_Grid_16DAY_500m_VI:\"500m 16 days NDVI\" HDF4_EOS:EOS_GRID:\"/media/sg/91d62d44-8446-4f66-8327-bc09e774cbb1/home/df/Projects/modis_ndvi/MYD13A1.A2020265.h19v05.006.2020299224450.hdf\":MODIS_Grid_16DAY_500m_VI:\"500m 16 days NDVI\" HDF4_EOS:EOS_GRID:\"/media/sg/91d62d44-8446-4f66-8327-bc09e774cbb1/home/df/Projects/modis_ndvi/MYD13A1.A2020265.h20v05.006.2020299224847.hdf\":MODIS_Grid_16DAY_500m_VI:\"500m 16 days NDVI\"\n"
     ]
    },
    {
     "name": "stderr",
     "output_type": "stream",
     "text": [
      "ERROR 1: Output dataset A2020257_evi_merge_warp.tif exists,\n",
      "but some command line options were provided indicating a new dataset\n",
      "should be created.  Please delete existing dataset and run again.\n",
      "\n"
     ]
    },
    {
     "name": "stdout",
     "output_type": "stream",
     "text": [
      "0...10...20...30...40...50...60...70...80...90...100 - done.\n",
      "A2020265_evi_merge.tif\n",
      "gdal_merge.py -o A2020265_evi_merge.tif HDF4_EOS:EOS_GRID:\"/media/sg/91d62d44-8446-4f66-8327-bc09e774cbb1/home/df/Projects/modis_ndvi/MYD13A1.A2020265.h19v04.006.2020299225453.hdf\":MODIS_Grid_16DAY_500m_VI:\"500m 16 days EVI\" HDF4_EOS:EOS_GRID:\"/media/sg/91d62d44-8446-4f66-8327-bc09e774cbb1/home/df/Projects/modis_ndvi/MYD13A1.A2020265.h19v05.006.2020299224450.hdf\":MODIS_Grid_16DAY_500m_VI:\"500m 16 days EVI\" HDF4_EOS:EOS_GRID:\"/media/sg/91d62d44-8446-4f66-8327-bc09e774cbb1/home/df/Projects/modis_ndvi/MYD13A1.A2020265.h20v05.006.2020299224847.hdf\":MODIS_Grid_16DAY_500m_VI:\"500m 16 days EVI\"\n"
     ]
    },
    {
     "name": "stderr",
     "output_type": "stream",
     "text": [
      "ERROR 1: Output dataset A2020265_ndvi_merge_warp.tif exists,\n",
      "but some command line options were provided indicating a new dataset\n",
      "should be created.  Please delete existing dataset and run again.\n",
      "\n"
     ]
    },
    {
     "name": "stdout",
     "output_type": "stream",
     "text": [
      "0...10...20...30...40...50...60...70...80...90...100 - done.\n",
      "A2020273_ndvi_merge.tif\n",
      "gdal_merge.py -o A2020273_ndvi_merge.tif HDF4_EOS:EOS_GRID:\"/media/sg/91d62d44-8446-4f66-8327-bc09e774cbb1/home/df/Projects/modis_ndvi/MOD13A1.A2020273.h19v04.006.2020291075159.hdf\":MODIS_Grid_16DAY_500m_VI:\"500m 16 days NDVI\" HDF4_EOS:EOS_GRID:\"/media/sg/91d62d44-8446-4f66-8327-bc09e774cbb1/home/df/Projects/modis_ndvi/MOD13A1.A2020273.h20v05.006.2020291074909.hdf\":MODIS_Grid_16DAY_500m_VI:\"500m 16 days NDVI\" HDF4_EOS:EOS_GRID:\"/media/sg/91d62d44-8446-4f66-8327-bc09e774cbb1/home/df/Projects/modis_ndvi/MOD13A1.A2020273.h19v05.006.2020291074853.hdf\":MODIS_Grid_16DAY_500m_VI:\"500m 16 days NDVI\"\n"
     ]
    },
    {
     "name": "stderr",
     "output_type": "stream",
     "text": [
      "ERROR 1: Output dataset A2020265_evi_merge_warp.tif exists,\n",
      "but some command line options were provided indicating a new dataset\n",
      "should be created.  Please delete existing dataset and run again.\n",
      "\n"
     ]
    },
    {
     "name": "stdout",
     "output_type": "stream",
     "text": [
      "0...10...20...30...40...50...60...70...80...90...100 - done.\n",
      "A2020273_evi_merge.tif\n",
      "gdal_merge.py -o A2020273_evi_merge.tif HDF4_EOS:EOS_GRID:\"/media/sg/91d62d44-8446-4f66-8327-bc09e774cbb1/home/df/Projects/modis_ndvi/MOD13A1.A2020273.h19v04.006.2020291075159.hdf\":MODIS_Grid_16DAY_500m_VI:\"500m 16 days EVI\" HDF4_EOS:EOS_GRID:\"/media/sg/91d62d44-8446-4f66-8327-bc09e774cbb1/home/df/Projects/modis_ndvi/MOD13A1.A2020273.h20v05.006.2020291074909.hdf\":MODIS_Grid_16DAY_500m_VI:\"500m 16 days EVI\" HDF4_EOS:EOS_GRID:\"/media/sg/91d62d44-8446-4f66-8327-bc09e774cbb1/home/df/Projects/modis_ndvi/MOD13A1.A2020273.h19v05.006.2020291074853.hdf\":MODIS_Grid_16DAY_500m_VI:\"500m 16 days EVI\"\n"
     ]
    },
    {
     "name": "stderr",
     "output_type": "stream",
     "text": [
      "ERROR 1: Output dataset A2020273_ndvi_merge_warp.tif exists,\n",
      "but some command line options were provided indicating a new dataset\n",
      "should be created.  Please delete existing dataset and run again.\n",
      "\n"
     ]
    },
    {
     "name": "stdout",
     "output_type": "stream",
     "text": [
      "0...10...20...30...40...50...60...70...80...90...100 - done.\n",
      "A2021097_ndvi_merge.tif\n",
      "gdal_merge.py -o A2021097_ndvi_merge.tif HDF4_EOS:EOS_GRID:\"/media/sg/91d62d44-8446-4f66-8327-bc09e774cbb1/home/df/Projects/modis_ndvi/MOD13A1.A2021097.h20v05.006.2021115204909.hdf\":MODIS_Grid_16DAY_500m_VI:\"500m 16 days NDVI\" HDF4_EOS:EOS_GRID:\"/media/sg/91d62d44-8446-4f66-8327-bc09e774cbb1/home/df/Projects/modis_ndvi/MOD13A1.A2021097.h19v04.006.2021115204939.hdf\":MODIS_Grid_16DAY_500m_VI:\"500m 16 days NDVI\" HDF4_EOS:EOS_GRID:\"/media/sg/91d62d44-8446-4f66-8327-bc09e774cbb1/home/df/Projects/modis_ndvi/MOD13A1.A2021097.h19v05.006.2021115204944.hdf\":MODIS_Grid_16DAY_500m_VI:\"500m 16 days NDVI\"\n"
     ]
    },
    {
     "name": "stderr",
     "output_type": "stream",
     "text": [
      "ERROR 1: Output dataset A2020273_evi_merge_warp.tif exists,\n",
      "but some command line options were provided indicating a new dataset\n",
      "should be created.  Please delete existing dataset and run again.\n",
      "\n"
     ]
    },
    {
     "name": "stdout",
     "output_type": "stream",
     "text": [
      "0...10...20...30...40...50...60...70...80...90...100 - done.\n",
      "A2021097_evi_merge.tif\n",
      "gdal_merge.py -o A2021097_evi_merge.tif HDF4_EOS:EOS_GRID:\"/media/sg/91d62d44-8446-4f66-8327-bc09e774cbb1/home/df/Projects/modis_ndvi/MOD13A1.A2021097.h20v05.006.2021115204909.hdf\":MODIS_Grid_16DAY_500m_VI:\"500m 16 days EVI\" HDF4_EOS:EOS_GRID:\"/media/sg/91d62d44-8446-4f66-8327-bc09e774cbb1/home/df/Projects/modis_ndvi/MOD13A1.A2021097.h19v04.006.2021115204939.hdf\":MODIS_Grid_16DAY_500m_VI:\"500m 16 days EVI\" HDF4_EOS:EOS_GRID:\"/media/sg/91d62d44-8446-4f66-8327-bc09e774cbb1/home/df/Projects/modis_ndvi/MOD13A1.A2021097.h19v05.006.2021115204944.hdf\":MODIS_Grid_16DAY_500m_VI:\"500m 16 days EVI\"\n"
     ]
    },
    {
     "name": "stderr",
     "output_type": "stream",
     "text": [
      "ERROR 1: Output dataset A2021097_ndvi_merge_warp.tif exists,\n",
      "but some command line options were provided indicating a new dataset\n",
      "should be created.  Please delete existing dataset and run again.\n",
      "\n"
     ]
    },
    {
     "name": "stdout",
     "output_type": "stream",
     "text": [
      "0...10...20...30...40...50...60...70...80...90...100 - done.\n",
      "A2021105_ndvi_merge.tif\n",
      "gdal_merge.py -o A2021105_ndvi_merge.tif HDF4_EOS:EOS_GRID:\"/media/sg/91d62d44-8446-4f66-8327-bc09e774cbb1/home/df/Projects/modis_ndvi/MYD13A1.A2021105.h19v04.006.2021123141611.hdf\":MODIS_Grid_16DAY_500m_VI:\"500m 16 days NDVI\" HDF4_EOS:EOS_GRID:\"/media/sg/91d62d44-8446-4f66-8327-bc09e774cbb1/home/df/Projects/modis_ndvi/MYD13A1.A2021105.h20v05.006.2021123141743.hdf\":MODIS_Grid_16DAY_500m_VI:\"500m 16 days NDVI\" HDF4_EOS:EOS_GRID:\"/media/sg/91d62d44-8446-4f66-8327-bc09e774cbb1/home/df/Projects/modis_ndvi/MYD13A1.A2021105.h19v05.006.2021123141037.hdf\":MODIS_Grid_16DAY_500m_VI:\"500m 16 days NDVI\"\n"
     ]
    },
    {
     "name": "stderr",
     "output_type": "stream",
     "text": [
      "ERROR 1: Output dataset A2021097_evi_merge_warp.tif exists,\n",
      "but some command line options were provided indicating a new dataset\n",
      "should be created.  Please delete existing dataset and run again.\n",
      "\n"
     ]
    },
    {
     "name": "stdout",
     "output_type": "stream",
     "text": [
      "0...10...20...30...40...50...60...70...80...90...100 - done.\n",
      "A2021105_evi_merge.tif\n",
      "gdal_merge.py -o A2021105_evi_merge.tif HDF4_EOS:EOS_GRID:\"/media/sg/91d62d44-8446-4f66-8327-bc09e774cbb1/home/df/Projects/modis_ndvi/MYD13A1.A2021105.h19v04.006.2021123141611.hdf\":MODIS_Grid_16DAY_500m_VI:\"500m 16 days EVI\" HDF4_EOS:EOS_GRID:\"/media/sg/91d62d44-8446-4f66-8327-bc09e774cbb1/home/df/Projects/modis_ndvi/MYD13A1.A2021105.h20v05.006.2021123141743.hdf\":MODIS_Grid_16DAY_500m_VI:\"500m 16 days EVI\" HDF4_EOS:EOS_GRID:\"/media/sg/91d62d44-8446-4f66-8327-bc09e774cbb1/home/df/Projects/modis_ndvi/MYD13A1.A2021105.h19v05.006.2021123141037.hdf\":MODIS_Grid_16DAY_500m_VI:\"500m 16 days EVI\"\n"
     ]
    },
    {
     "name": "stderr",
     "output_type": "stream",
     "text": [
      "ERROR 1: Output dataset A2021105_ndvi_merge_warp.tif exists,\n",
      "but some command line options were provided indicating a new dataset\n",
      "should be created.  Please delete existing dataset and run again.\n",
      "\n"
     ]
    },
    {
     "name": "stdout",
     "output_type": "stream",
     "text": [
      "0...10...20...30...40...50...60...70...80...90...100 - done.\n",
      "A2021113_ndvi_merge.tif\n",
      "gdal_merge.py -o A2021113_ndvi_merge.tif HDF4_EOS:EOS_GRID:\"/media/sg/91d62d44-8446-4f66-8327-bc09e774cbb1/home/df/Projects/modis_ndvi/MOD13A1.A2021113.h19v05.006.2021129234455.hdf\":MODIS_Grid_16DAY_500m_VI:\"500m 16 days NDVI\" HDF4_EOS:EOS_GRID:\"/media/sg/91d62d44-8446-4f66-8327-bc09e774cbb1/home/df/Projects/modis_ndvi/MOD13A1.A2021113.h19v04.006.2021129235225.hdf\":MODIS_Grid_16DAY_500m_VI:\"500m 16 days NDVI\" HDF4_EOS:EOS_GRID:\"/media/sg/91d62d44-8446-4f66-8327-bc09e774cbb1/home/df/Projects/modis_ndvi/MOD13A1.A2021113.h20v05.006.2021129234451.hdf\":MODIS_Grid_16DAY_500m_VI:\"500m 16 days NDVI\"\n"
     ]
    },
    {
     "name": "stderr",
     "output_type": "stream",
     "text": [
      "ERROR 1: Output dataset A2021105_evi_merge_warp.tif exists,\n",
      "but some command line options were provided indicating a new dataset\n",
      "should be created.  Please delete existing dataset and run again.\n",
      "\n"
     ]
    },
    {
     "name": "stdout",
     "output_type": "stream",
     "text": [
      "0...10...20...30...40...50...60...70...80...90...100 - done.\n",
      "A2021113_evi_merge.tif\n",
      "gdal_merge.py -o A2021113_evi_merge.tif HDF4_EOS:EOS_GRID:\"/media/sg/91d62d44-8446-4f66-8327-bc09e774cbb1/home/df/Projects/modis_ndvi/MOD13A1.A2021113.h19v05.006.2021129234455.hdf\":MODIS_Grid_16DAY_500m_VI:\"500m 16 days EVI\" HDF4_EOS:EOS_GRID:\"/media/sg/91d62d44-8446-4f66-8327-bc09e774cbb1/home/df/Projects/modis_ndvi/MOD13A1.A2021113.h19v04.006.2021129235225.hdf\":MODIS_Grid_16DAY_500m_VI:\"500m 16 days EVI\" HDF4_EOS:EOS_GRID:\"/media/sg/91d62d44-8446-4f66-8327-bc09e774cbb1/home/df/Projects/modis_ndvi/MOD13A1.A2021113.h20v05.006.2021129234451.hdf\":MODIS_Grid_16DAY_500m_VI:\"500m 16 days EVI\"\n"
     ]
    },
    {
     "name": "stderr",
     "output_type": "stream",
     "text": [
      "ERROR 1: Output dataset A2021113_ndvi_merge_warp.tif exists,\n",
      "but some command line options were provided indicating a new dataset\n",
      "should be created.  Please delete existing dataset and run again.\n",
      "\n"
     ]
    },
    {
     "name": "stdout",
     "output_type": "stream",
     "text": [
      "0...10...20...30...40...50...60...70...80...90...100 - done.\n",
      "A2021121_ndvi_merge.tif\n",
      "gdal_merge.py -o A2021121_ndvi_merge.tif HDF4_EOS:EOS_GRID:\"/media/sg/91d62d44-8446-4f66-8327-bc09e774cbb1/home/df/Projects/modis_ndvi/MYD13A1.A2021121.h20v05.006.2021138011731.hdf\":MODIS_Grid_16DAY_500m_VI:\"500m 16 days NDVI\" HDF4_EOS:EOS_GRID:\"/media/sg/91d62d44-8446-4f66-8327-bc09e774cbb1/home/df/Projects/modis_ndvi/MYD13A1.A2021121.h19v05.006.2021138010142.hdf\":MODIS_Grid_16DAY_500m_VI:\"500m 16 days NDVI\" HDF4_EOS:EOS_GRID:\"/media/sg/91d62d44-8446-4f66-8327-bc09e774cbb1/home/df/Projects/modis_ndvi/MYD13A1.A2021121.h19v04.006.2021138012044.hdf\":MODIS_Grid_16DAY_500m_VI:\"500m 16 days NDVI\"\n"
     ]
    },
    {
     "name": "stderr",
     "output_type": "stream",
     "text": [
      "ERROR 1: Output dataset A2021113_evi_merge_warp.tif exists,\n",
      "but some command line options were provided indicating a new dataset\n",
      "should be created.  Please delete existing dataset and run again.\n",
      "\n"
     ]
    },
    {
     "name": "stdout",
     "output_type": "stream",
     "text": [
      "0...10...20...30...40...50...60...70...80...90...100 - done.\n",
      "A2021121_evi_merge.tif\n",
      "gdal_merge.py -o A2021121_evi_merge.tif HDF4_EOS:EOS_GRID:\"/media/sg/91d62d44-8446-4f66-8327-bc09e774cbb1/home/df/Projects/modis_ndvi/MYD13A1.A2021121.h20v05.006.2021138011731.hdf\":MODIS_Grid_16DAY_500m_VI:\"500m 16 days EVI\" HDF4_EOS:EOS_GRID:\"/media/sg/91d62d44-8446-4f66-8327-bc09e774cbb1/home/df/Projects/modis_ndvi/MYD13A1.A2021121.h19v05.006.2021138010142.hdf\":MODIS_Grid_16DAY_500m_VI:\"500m 16 days EVI\" HDF4_EOS:EOS_GRID:\"/media/sg/91d62d44-8446-4f66-8327-bc09e774cbb1/home/df/Projects/modis_ndvi/MYD13A1.A2021121.h19v04.006.2021138012044.hdf\":MODIS_Grid_16DAY_500m_VI:\"500m 16 days EVI\"\n"
     ]
    },
    {
     "name": "stderr",
     "output_type": "stream",
     "text": [
      "ERROR 1: Output dataset A2021121_ndvi_merge_warp.tif exists,\n",
      "but some command line options were provided indicating a new dataset\n",
      "should be created.  Please delete existing dataset and run again.\n",
      "\n"
     ]
    },
    {
     "name": "stdout",
     "output_type": "stream",
     "text": [
      "0...10...20...30...40...50...60...70...80...90...100 - done.\n",
      "A2021129_ndvi_merge.tif\n",
      "gdal_merge.py -o A2021129_ndvi_merge.tif HDF4_EOS:EOS_GRID:\"/media/sg/91d62d44-8446-4f66-8327-bc09e774cbb1/home/df/Projects/modis_ndvi/MOD13A1.A2021129.h19v05.006.2021146050935.hdf\":MODIS_Grid_16DAY_500m_VI:\"500m 16 days NDVI\" HDF4_EOS:EOS_GRID:\"/media/sg/91d62d44-8446-4f66-8327-bc09e774cbb1/home/df/Projects/modis_ndvi/MOD13A1.A2021129.h20v05.006.2021146051402.hdf\":MODIS_Grid_16DAY_500m_VI:\"500m 16 days NDVI\" HDF4_EOS:EOS_GRID:\"/media/sg/91d62d44-8446-4f66-8327-bc09e774cbb1/home/df/Projects/modis_ndvi/MOD13A1.A2021129.h19v04.006.2021146053029.hdf\":MODIS_Grid_16DAY_500m_VI:\"500m 16 days NDVI\"\n"
     ]
    },
    {
     "name": "stderr",
     "output_type": "stream",
     "text": [
      "ERROR 1: Output dataset A2021121_evi_merge_warp.tif exists,\n",
      "but some command line options were provided indicating a new dataset\n",
      "should be created.  Please delete existing dataset and run again.\n",
      "\n"
     ]
    },
    {
     "name": "stdout",
     "output_type": "stream",
     "text": [
      "0...10...20...30...40...50...60...70...80...90...100 - done.\n",
      "A2021129_evi_merge.tif\n",
      "gdal_merge.py -o A2021129_evi_merge.tif HDF4_EOS:EOS_GRID:\"/media/sg/91d62d44-8446-4f66-8327-bc09e774cbb1/home/df/Projects/modis_ndvi/MOD13A1.A2021129.h19v05.006.2021146050935.hdf\":MODIS_Grid_16DAY_500m_VI:\"500m 16 days EVI\" HDF4_EOS:EOS_GRID:\"/media/sg/91d62d44-8446-4f66-8327-bc09e774cbb1/home/df/Projects/modis_ndvi/MOD13A1.A2021129.h20v05.006.2021146051402.hdf\":MODIS_Grid_16DAY_500m_VI:\"500m 16 days EVI\" HDF4_EOS:EOS_GRID:\"/media/sg/91d62d44-8446-4f66-8327-bc09e774cbb1/home/df/Projects/modis_ndvi/MOD13A1.A2021129.h19v04.006.2021146053029.hdf\":MODIS_Grid_16DAY_500m_VI:\"500m 16 days EVI\"\n"
     ]
    },
    {
     "name": "stderr",
     "output_type": "stream",
     "text": [
      "ERROR 1: Output dataset A2021129_ndvi_merge_warp.tif exists,\n",
      "but some command line options were provided indicating a new dataset\n",
      "should be created.  Please delete existing dataset and run again.\n",
      "\n"
     ]
    },
    {
     "name": "stdout",
     "output_type": "stream",
     "text": [
      "0...10...20...30...40...50...60...70...80...90...100 - done.\n",
      "A2021137_ndvi_merge.tif\n",
      "gdal_merge.py -o A2021137_ndvi_merge.tif HDF4_EOS:EOS_GRID:\"/media/sg/91d62d44-8446-4f66-8327-bc09e774cbb1/home/df/Projects/modis_ndvi/MYD13A1.A2021137.h20v05.006.2021154014948.hdf\":MODIS_Grid_16DAY_500m_VI:\"500m 16 days NDVI\" HDF4_EOS:EOS_GRID:\"/media/sg/91d62d44-8446-4f66-8327-bc09e774cbb1/home/df/Projects/modis_ndvi/MYD13A1.A2021137.h19v05.006.2021154013643.hdf\":MODIS_Grid_16DAY_500m_VI:\"500m 16 days NDVI\" HDF4_EOS:EOS_GRID:\"/media/sg/91d62d44-8446-4f66-8327-bc09e774cbb1/home/df/Projects/modis_ndvi/MYD13A1.A2021137.h19v04.006.2021154012627.hdf\":MODIS_Grid_16DAY_500m_VI:\"500m 16 days NDVI\"\n"
     ]
    },
    {
     "name": "stderr",
     "output_type": "stream",
     "text": [
      "ERROR 1: Output dataset A2021129_evi_merge_warp.tif exists,\n",
      "but some command line options were provided indicating a new dataset\n",
      "should be created.  Please delete existing dataset and run again.\n",
      "\n"
     ]
    },
    {
     "name": "stdout",
     "output_type": "stream",
     "text": [
      "0...10...20...30...40...50...60...70...80...90...100 - done.\n",
      "A2021137_evi_merge.tif\n",
      "gdal_merge.py -o A2021137_evi_merge.tif HDF4_EOS:EOS_GRID:\"/media/sg/91d62d44-8446-4f66-8327-bc09e774cbb1/home/df/Projects/modis_ndvi/MYD13A1.A2021137.h20v05.006.2021154014948.hdf\":MODIS_Grid_16DAY_500m_VI:\"500m 16 days EVI\" HDF4_EOS:EOS_GRID:\"/media/sg/91d62d44-8446-4f66-8327-bc09e774cbb1/home/df/Projects/modis_ndvi/MYD13A1.A2021137.h19v05.006.2021154013643.hdf\":MODIS_Grid_16DAY_500m_VI:\"500m 16 days EVI\" HDF4_EOS:EOS_GRID:\"/media/sg/91d62d44-8446-4f66-8327-bc09e774cbb1/home/df/Projects/modis_ndvi/MYD13A1.A2021137.h19v04.006.2021154012627.hdf\":MODIS_Grid_16DAY_500m_VI:\"500m 16 days EVI\"\n"
     ]
    },
    {
     "name": "stderr",
     "output_type": "stream",
     "text": [
      "ERROR 1: Output dataset A2021137_ndvi_merge_warp.tif exists,\n",
      "but some command line options were provided indicating a new dataset\n",
      "should be created.  Please delete existing dataset and run again.\n",
      "\n"
     ]
    },
    {
     "name": "stdout",
     "output_type": "stream",
     "text": [
      "0...10...20...30...40...50...60...70...80...90...100 - done.\n",
      "A2021145_ndvi_merge.tif\n",
      "gdal_merge.py -o A2021145_ndvi_merge.tif HDF4_EOS:EOS_GRID:\"/media/sg/91d62d44-8446-4f66-8327-bc09e774cbb1/home/df/Projects/modis_ndvi/MOD13A1.A2021145.h19v05.006.2021165110214.hdf\":MODIS_Grid_16DAY_500m_VI:\"500m 16 days NDVI\" HDF4_EOS:EOS_GRID:\"/media/sg/91d62d44-8446-4f66-8327-bc09e774cbb1/home/df/Projects/modis_ndvi/MOD13A1.A2021145.h20v05.006.2021165110431.hdf\":MODIS_Grid_16DAY_500m_VI:\"500m 16 days NDVI\" HDF4_EOS:EOS_GRID:\"/media/sg/91d62d44-8446-4f66-8327-bc09e774cbb1/home/df/Projects/modis_ndvi/MOD13A1.A2021145.h19v04.006.2021165110139.hdf\":MODIS_Grid_16DAY_500m_VI:\"500m 16 days NDVI\"\n"
     ]
    },
    {
     "name": "stderr",
     "output_type": "stream",
     "text": [
      "ERROR 1: Output dataset A2021137_evi_merge_warp.tif exists,\n",
      "but some command line options were provided indicating a new dataset\n",
      "should be created.  Please delete existing dataset and run again.\n",
      "\n"
     ]
    },
    {
     "name": "stdout",
     "output_type": "stream",
     "text": [
      "0...10...20...30...40...50...60...70...80...90...100 - done.\n",
      "A2021145_evi_merge.tif\n",
      "gdal_merge.py -o A2021145_evi_merge.tif HDF4_EOS:EOS_GRID:\"/media/sg/91d62d44-8446-4f66-8327-bc09e774cbb1/home/df/Projects/modis_ndvi/MOD13A1.A2021145.h19v05.006.2021165110214.hdf\":MODIS_Grid_16DAY_500m_VI:\"500m 16 days EVI\" HDF4_EOS:EOS_GRID:\"/media/sg/91d62d44-8446-4f66-8327-bc09e774cbb1/home/df/Projects/modis_ndvi/MOD13A1.A2021145.h20v05.006.2021165110431.hdf\":MODIS_Grid_16DAY_500m_VI:\"500m 16 days EVI\" HDF4_EOS:EOS_GRID:\"/media/sg/91d62d44-8446-4f66-8327-bc09e774cbb1/home/df/Projects/modis_ndvi/MOD13A1.A2021145.h19v04.006.2021165110139.hdf\":MODIS_Grid_16DAY_500m_VI:\"500m 16 days EVI\"\n"
     ]
    },
    {
     "name": "stderr",
     "output_type": "stream",
     "text": [
      "ERROR 1: Output dataset A2021145_ndvi_merge_warp.tif exists,\n",
      "but some command line options were provided indicating a new dataset\n",
      "should be created.  Please delete existing dataset and run again.\n",
      "\n"
     ]
    },
    {
     "name": "stdout",
     "output_type": "stream",
     "text": [
      "0...10...20...30...40...50...60...70...80...90...100 - done.\n",
      "A2021153_ndvi_merge.tif\n",
      "gdal_merge.py -o A2021153_ndvi_merge.tif HDF4_EOS:EOS_GRID:\"/media/sg/91d62d44-8446-4f66-8327-bc09e774cbb1/home/df/Projects/modis_ndvi/MYD13A1.A2021153.h20v05.006.2021170013621.hdf\":MODIS_Grid_16DAY_500m_VI:\"500m 16 days NDVI\" HDF4_EOS:EOS_GRID:\"/media/sg/91d62d44-8446-4f66-8327-bc09e774cbb1/home/df/Projects/modis_ndvi/MYD13A1.A2021153.h19v05.006.2021170013546.hdf\":MODIS_Grid_16DAY_500m_VI:\"500m 16 days NDVI\" HDF4_EOS:EOS_GRID:\"/media/sg/91d62d44-8446-4f66-8327-bc09e774cbb1/home/df/Projects/modis_ndvi/MYD13A1.A2021153.h19v04.006.2021170011821.hdf\":MODIS_Grid_16DAY_500m_VI:\"500m 16 days NDVI\"\n"
     ]
    },
    {
     "name": "stderr",
     "output_type": "stream",
     "text": [
      "ERROR 1: Output dataset A2021145_evi_merge_warp.tif exists,\n",
      "but some command line options were provided indicating a new dataset\n",
      "should be created.  Please delete existing dataset and run again.\n",
      "\n"
     ]
    },
    {
     "name": "stdout",
     "output_type": "stream",
     "text": [
      "0...10...20...30...40...50...60...70...80...90...100 - done.\n",
      "A2021153_evi_merge.tif\n",
      "gdal_merge.py -o A2021153_evi_merge.tif HDF4_EOS:EOS_GRID:\"/media/sg/91d62d44-8446-4f66-8327-bc09e774cbb1/home/df/Projects/modis_ndvi/MYD13A1.A2021153.h20v05.006.2021170013621.hdf\":MODIS_Grid_16DAY_500m_VI:\"500m 16 days EVI\" HDF4_EOS:EOS_GRID:\"/media/sg/91d62d44-8446-4f66-8327-bc09e774cbb1/home/df/Projects/modis_ndvi/MYD13A1.A2021153.h19v05.006.2021170013546.hdf\":MODIS_Grid_16DAY_500m_VI:\"500m 16 days EVI\" HDF4_EOS:EOS_GRID:\"/media/sg/91d62d44-8446-4f66-8327-bc09e774cbb1/home/df/Projects/modis_ndvi/MYD13A1.A2021153.h19v04.006.2021170011821.hdf\":MODIS_Grid_16DAY_500m_VI:\"500m 16 days EVI\"\n"
     ]
    },
    {
     "name": "stderr",
     "output_type": "stream",
     "text": [
      "ERROR 1: Output dataset A2021153_ndvi_merge_warp.tif exists,\n",
      "but some command line options were provided indicating a new dataset\n",
      "should be created.  Please delete existing dataset and run again.\n",
      "\n"
     ]
    },
    {
     "name": "stdout",
     "output_type": "stream",
     "text": [
      "0...10...20...30...40...50...60...70...80...90...100 - done.\n",
      "A2021161_ndvi_merge.tif\n",
      "gdal_merge.py -o A2021161_ndvi_merge.tif HDF4_EOS:EOS_GRID:\"/media/sg/91d62d44-8446-4f66-8327-bc09e774cbb1/home/df/Projects/modis_ndvi/MOD13A1.A2021161.h20v05.006.2021178025628.hdf\":MODIS_Grid_16DAY_500m_VI:\"500m 16 days NDVI\" HDF4_EOS:EOS_GRID:\"/media/sg/91d62d44-8446-4f66-8327-bc09e774cbb1/home/df/Projects/modis_ndvi/MOD13A1.A2021161.h19v04.006.2021178014026.hdf\":MODIS_Grid_16DAY_500m_VI:\"500m 16 days NDVI\" HDF4_EOS:EOS_GRID:\"/media/sg/91d62d44-8446-4f66-8327-bc09e774cbb1/home/df/Projects/modis_ndvi/MOD13A1.A2021161.h19v05.006.2021178011932.hdf\":MODIS_Grid_16DAY_500m_VI:\"500m 16 days NDVI\"\n"
     ]
    },
    {
     "name": "stderr",
     "output_type": "stream",
     "text": [
      "ERROR 1: Output dataset A2021153_evi_merge_warp.tif exists,\n",
      "but some command line options were provided indicating a new dataset\n",
      "should be created.  Please delete existing dataset and run again.\n",
      "\n"
     ]
    },
    {
     "name": "stdout",
     "output_type": "stream",
     "text": [
      "0...10...20...30...40...50...60...70...80...90...100 - done.\n",
      "A2021161_evi_merge.tif\n",
      "gdal_merge.py -o A2021161_evi_merge.tif HDF4_EOS:EOS_GRID:\"/media/sg/91d62d44-8446-4f66-8327-bc09e774cbb1/home/df/Projects/modis_ndvi/MOD13A1.A2021161.h20v05.006.2021178025628.hdf\":MODIS_Grid_16DAY_500m_VI:\"500m 16 days EVI\" HDF4_EOS:EOS_GRID:\"/media/sg/91d62d44-8446-4f66-8327-bc09e774cbb1/home/df/Projects/modis_ndvi/MOD13A1.A2021161.h19v04.006.2021178014026.hdf\":MODIS_Grid_16DAY_500m_VI:\"500m 16 days EVI\" HDF4_EOS:EOS_GRID:\"/media/sg/91d62d44-8446-4f66-8327-bc09e774cbb1/home/df/Projects/modis_ndvi/MOD13A1.A2021161.h19v05.006.2021178011932.hdf\":MODIS_Grid_16DAY_500m_VI:\"500m 16 days EVI\"\n"
     ]
    },
    {
     "name": "stderr",
     "output_type": "stream",
     "text": [
      "ERROR 1: Output dataset A2021161_ndvi_merge_warp.tif exists,\n",
      "but some command line options were provided indicating a new dataset\n",
      "should be created.  Please delete existing dataset and run again.\n",
      "\n"
     ]
    },
    {
     "name": "stdout",
     "output_type": "stream",
     "text": [
      "0...10...20...30...40...50...60...70...80...90...100 - done.\n",
      "A2021169_ndvi_merge.tif\n",
      "gdal_merge.py -o A2021169_ndvi_merge.tif HDF4_EOS:EOS_GRID:\"/media/sg/91d62d44-8446-4f66-8327-bc09e774cbb1/home/df/Projects/modis_ndvi/MYD13A1.A2021169.h19v04.006.2021188090435.hdf\":MODIS_Grid_16DAY_500m_VI:\"500m 16 days NDVI\" HDF4_EOS:EOS_GRID:\"/media/sg/91d62d44-8446-4f66-8327-bc09e774cbb1/home/df/Projects/modis_ndvi/MYD13A1.A2021169.h20v05.006.2021188090414.hdf\":MODIS_Grid_16DAY_500m_VI:\"500m 16 days NDVI\" HDF4_EOS:EOS_GRID:\"/media/sg/91d62d44-8446-4f66-8327-bc09e774cbb1/home/df/Projects/modis_ndvi/MYD13A1.A2021169.h19v05.006.2021188085635.hdf\":MODIS_Grid_16DAY_500m_VI:\"500m 16 days NDVI\"\n"
     ]
    },
    {
     "name": "stderr",
     "output_type": "stream",
     "text": [
      "ERROR 1: Output dataset A2021161_evi_merge_warp.tif exists,\n",
      "but some command line options were provided indicating a new dataset\n",
      "should be created.  Please delete existing dataset and run again.\n",
      "\n"
     ]
    },
    {
     "name": "stdout",
     "output_type": "stream",
     "text": [
      "0...10...20...30...40...50...60...70...80...90...100 - done.\n",
      "A2021169_evi_merge.tif\n",
      "gdal_merge.py -o A2021169_evi_merge.tif HDF4_EOS:EOS_GRID:\"/media/sg/91d62d44-8446-4f66-8327-bc09e774cbb1/home/df/Projects/modis_ndvi/MYD13A1.A2021169.h19v04.006.2021188090435.hdf\":MODIS_Grid_16DAY_500m_VI:\"500m 16 days EVI\" HDF4_EOS:EOS_GRID:\"/media/sg/91d62d44-8446-4f66-8327-bc09e774cbb1/home/df/Projects/modis_ndvi/MYD13A1.A2021169.h20v05.006.2021188090414.hdf\":MODIS_Grid_16DAY_500m_VI:\"500m 16 days EVI\" HDF4_EOS:EOS_GRID:\"/media/sg/91d62d44-8446-4f66-8327-bc09e774cbb1/home/df/Projects/modis_ndvi/MYD13A1.A2021169.h19v05.006.2021188085635.hdf\":MODIS_Grid_16DAY_500m_VI:\"500m 16 days EVI\"\n"
     ]
    },
    {
     "name": "stderr",
     "output_type": "stream",
     "text": [
      "ERROR 1: Output dataset A2021169_ndvi_merge_warp.tif exists,\n",
      "but some command line options were provided indicating a new dataset\n",
      "should be created.  Please delete existing dataset and run again.\n",
      "\n"
     ]
    },
    {
     "name": "stdout",
     "output_type": "stream",
     "text": [
      "0...10...20...30...40...50...60...70...80...90...100 - done.\n",
      "A2021177_ndvi_merge.tif\n",
      "gdal_merge.py -o A2021177_ndvi_merge.tif HDF4_EOS:EOS_GRID:\"/media/sg/91d62d44-8446-4f66-8327-bc09e774cbb1/home/df/Projects/modis_ndvi/MOD13A1.A2021177.h19v05.006.2021194031920.hdf\":MODIS_Grid_16DAY_500m_VI:\"500m 16 days NDVI\" HDF4_EOS:EOS_GRID:\"/media/sg/91d62d44-8446-4f66-8327-bc09e774cbb1/home/df/Projects/modis_ndvi/MOD13A1.A2021177.h19v04.006.2021194031959.hdf\":MODIS_Grid_16DAY_500m_VI:\"500m 16 days NDVI\" HDF4_EOS:EOS_GRID:\"/media/sg/91d62d44-8446-4f66-8327-bc09e774cbb1/home/df/Projects/modis_ndvi/MOD13A1.A2021177.h20v05.006.2021194032004.hdf\":MODIS_Grid_16DAY_500m_VI:\"500m 16 days NDVI\"\n"
     ]
    },
    {
     "name": "stderr",
     "output_type": "stream",
     "text": [
      "ERROR 1: Output dataset A2021169_evi_merge_warp.tif exists,\n",
      "but some command line options were provided indicating a new dataset\n",
      "should be created.  Please delete existing dataset and run again.\n",
      "\n"
     ]
    },
    {
     "name": "stdout",
     "output_type": "stream",
     "text": [
      "0...10...20...30...40...50...60...70...80...90...100 - done.\n",
      "A2021177_evi_merge.tif\n",
      "gdal_merge.py -o A2021177_evi_merge.tif HDF4_EOS:EOS_GRID:\"/media/sg/91d62d44-8446-4f66-8327-bc09e774cbb1/home/df/Projects/modis_ndvi/MOD13A1.A2021177.h19v05.006.2021194031920.hdf\":MODIS_Grid_16DAY_500m_VI:\"500m 16 days EVI\" HDF4_EOS:EOS_GRID:\"/media/sg/91d62d44-8446-4f66-8327-bc09e774cbb1/home/df/Projects/modis_ndvi/MOD13A1.A2021177.h19v04.006.2021194031959.hdf\":MODIS_Grid_16DAY_500m_VI:\"500m 16 days EVI\" HDF4_EOS:EOS_GRID:\"/media/sg/91d62d44-8446-4f66-8327-bc09e774cbb1/home/df/Projects/modis_ndvi/MOD13A1.A2021177.h20v05.006.2021194032004.hdf\":MODIS_Grid_16DAY_500m_VI:\"500m 16 days EVI\"\n"
     ]
    },
    {
     "name": "stderr",
     "output_type": "stream",
     "text": [
      "ERROR 1: Output dataset A2021177_ndvi_merge_warp.tif exists,\n",
      "but some command line options were provided indicating a new dataset\n",
      "should be created.  Please delete existing dataset and run again.\n",
      "\n"
     ]
    },
    {
     "name": "stdout",
     "output_type": "stream",
     "text": [
      "0...10...20...30...40...50...60...70...80...90...100 - done.\n",
      "A2021185_ndvi_merge.tif\n",
      "gdal_merge.py -o A2021185_ndvi_merge.tif HDF4_EOS:EOS_GRID:\"/media/sg/91d62d44-8446-4f66-8327-bc09e774cbb1/home/df/Projects/modis_ndvi/MYD13A1.A2021185.h19v04.006.2021202205503.hdf\":MODIS_Grid_16DAY_500m_VI:\"500m 16 days NDVI\" HDF4_EOS:EOS_GRID:\"/media/sg/91d62d44-8446-4f66-8327-bc09e774cbb1/home/df/Projects/modis_ndvi/MYD13A1.A2021185.h19v05.006.2021202204747.hdf\":MODIS_Grid_16DAY_500m_VI:\"500m 16 days NDVI\" HDF4_EOS:EOS_GRID:\"/media/sg/91d62d44-8446-4f66-8327-bc09e774cbb1/home/df/Projects/modis_ndvi/MYD13A1.A2021185.h20v05.006.2021202210156.hdf\":MODIS_Grid_16DAY_500m_VI:\"500m 16 days NDVI\"\n"
     ]
    },
    {
     "name": "stderr",
     "output_type": "stream",
     "text": [
      "ERROR 1: Output dataset A2021177_evi_merge_warp.tif exists,\n",
      "but some command line options were provided indicating a new dataset\n",
      "should be created.  Please delete existing dataset and run again.\n",
      "\n"
     ]
    },
    {
     "name": "stdout",
     "output_type": "stream",
     "text": [
      "0...10...20...30...40...50...60...70...80...90...100 - done.\n",
      "A2021185_evi_merge.tif\n",
      "gdal_merge.py -o A2021185_evi_merge.tif HDF4_EOS:EOS_GRID:\"/media/sg/91d62d44-8446-4f66-8327-bc09e774cbb1/home/df/Projects/modis_ndvi/MYD13A1.A2021185.h19v04.006.2021202205503.hdf\":MODIS_Grid_16DAY_500m_VI:\"500m 16 days EVI\" HDF4_EOS:EOS_GRID:\"/media/sg/91d62d44-8446-4f66-8327-bc09e774cbb1/home/df/Projects/modis_ndvi/MYD13A1.A2021185.h19v05.006.2021202204747.hdf\":MODIS_Grid_16DAY_500m_VI:\"500m 16 days EVI\" HDF4_EOS:EOS_GRID:\"/media/sg/91d62d44-8446-4f66-8327-bc09e774cbb1/home/df/Projects/modis_ndvi/MYD13A1.A2021185.h20v05.006.2021202210156.hdf\":MODIS_Grid_16DAY_500m_VI:\"500m 16 days EVI\"\n"
     ]
    },
    {
     "name": "stderr",
     "output_type": "stream",
     "text": [
      "ERROR 1: Output dataset A2021185_ndvi_merge_warp.tif exists,\n",
      "but some command line options were provided indicating a new dataset\n",
      "should be created.  Please delete existing dataset and run again.\n",
      "\n"
     ]
    },
    {
     "name": "stdout",
     "output_type": "stream",
     "text": [
      "0...10...20...30...40...50...60...70...80...90...100 - done.\n",
      "A2021193_ndvi_merge.tif\n",
      "gdal_merge.py -o A2021193_ndvi_merge.tif HDF4_EOS:EOS_GRID:\"/media/sg/91d62d44-8446-4f66-8327-bc09e774cbb1/home/df/Projects/modis_ndvi/MOD13A1.A2021193.h19v05.006.2021213232208.hdf\":MODIS_Grid_16DAY_500m_VI:\"500m 16 days NDVI\" HDF4_EOS:EOS_GRID:\"/media/sg/91d62d44-8446-4f66-8327-bc09e774cbb1/home/df/Projects/modis_ndvi/MOD13A1.A2021193.h19v04.006.2021213231815.hdf\":MODIS_Grid_16DAY_500m_VI:\"500m 16 days NDVI\" HDF4_EOS:EOS_GRID:\"/media/sg/91d62d44-8446-4f66-8327-bc09e774cbb1/home/df/Projects/modis_ndvi/MOD13A1.A2021193.h20v05.006.2021213233245.hdf\":MODIS_Grid_16DAY_500m_VI:\"500m 16 days NDVI\"\n"
     ]
    },
    {
     "name": "stderr",
     "output_type": "stream",
     "text": [
      "ERROR 1: Output dataset A2021185_evi_merge_warp.tif exists,\n",
      "but some command line options were provided indicating a new dataset\n",
      "should be created.  Please delete existing dataset and run again.\n",
      "\n"
     ]
    },
    {
     "name": "stdout",
     "output_type": "stream",
     "text": [
      "0...10...20...30...40...50...60...70...80...90...100 - done.\n",
      "A2021193_evi_merge.tif\n",
      "gdal_merge.py -o A2021193_evi_merge.tif HDF4_EOS:EOS_GRID:\"/media/sg/91d62d44-8446-4f66-8327-bc09e774cbb1/home/df/Projects/modis_ndvi/MOD13A1.A2021193.h19v05.006.2021213232208.hdf\":MODIS_Grid_16DAY_500m_VI:\"500m 16 days EVI\" HDF4_EOS:EOS_GRID:\"/media/sg/91d62d44-8446-4f66-8327-bc09e774cbb1/home/df/Projects/modis_ndvi/MOD13A1.A2021193.h19v04.006.2021213231815.hdf\":MODIS_Grid_16DAY_500m_VI:\"500m 16 days EVI\" HDF4_EOS:EOS_GRID:\"/media/sg/91d62d44-8446-4f66-8327-bc09e774cbb1/home/df/Projects/modis_ndvi/MOD13A1.A2021193.h20v05.006.2021213233245.hdf\":MODIS_Grid_16DAY_500m_VI:\"500m 16 days EVI\"\n"
     ]
    },
    {
     "name": "stderr",
     "output_type": "stream",
     "text": [
      "ERROR 1: Output dataset A2021193_ndvi_merge_warp.tif exists,\n",
      "but some command line options were provided indicating a new dataset\n",
      "should be created.  Please delete existing dataset and run again.\n",
      "\n"
     ]
    },
    {
     "name": "stdout",
     "output_type": "stream",
     "text": [
      "0...10...20...30...40...50...60...70...80...90...100 - done.\n",
      "A2021201_ndvi_merge.tif\n",
      "gdal_merge.py -o A2021201_ndvi_merge.tif HDF4_EOS:EOS_GRID:\"/media/sg/91d62d44-8446-4f66-8327-bc09e774cbb1/home/df/Projects/modis_ndvi/MYD13A1.A2021201.h20v05.006.2021221155931.hdf\":MODIS_Grid_16DAY_500m_VI:\"500m 16 days NDVI\" HDF4_EOS:EOS_GRID:\"/media/sg/91d62d44-8446-4f66-8327-bc09e774cbb1/home/df/Projects/modis_ndvi/MYD13A1.A2021201.h19v04.006.2021221155950.hdf\":MODIS_Grid_16DAY_500m_VI:\"500m 16 days NDVI\" HDF4_EOS:EOS_GRID:\"/media/sg/91d62d44-8446-4f66-8327-bc09e774cbb1/home/df/Projects/modis_ndvi/MYD13A1.A2021201.h19v05.006.2021221160115.hdf\":MODIS_Grid_16DAY_500m_VI:\"500m 16 days NDVI\"\n"
     ]
    },
    {
     "name": "stderr",
     "output_type": "stream",
     "text": [
      "ERROR 1: Output dataset A2021193_evi_merge_warp.tif exists,\n",
      "but some command line options were provided indicating a new dataset\n",
      "should be created.  Please delete existing dataset and run again.\n",
      "\n"
     ]
    },
    {
     "name": "stdout",
     "output_type": "stream",
     "text": [
      "0...10...20...30...40...50...60...70...80...90...100 - done.\n",
      "A2021201_evi_merge.tif\n",
      "gdal_merge.py -o A2021201_evi_merge.tif HDF4_EOS:EOS_GRID:\"/media/sg/91d62d44-8446-4f66-8327-bc09e774cbb1/home/df/Projects/modis_ndvi/MYD13A1.A2021201.h20v05.006.2021221155931.hdf\":MODIS_Grid_16DAY_500m_VI:\"500m 16 days EVI\" HDF4_EOS:EOS_GRID:\"/media/sg/91d62d44-8446-4f66-8327-bc09e774cbb1/home/df/Projects/modis_ndvi/MYD13A1.A2021201.h19v04.006.2021221155950.hdf\":MODIS_Grid_16DAY_500m_VI:\"500m 16 days EVI\" HDF4_EOS:EOS_GRID:\"/media/sg/91d62d44-8446-4f66-8327-bc09e774cbb1/home/df/Projects/modis_ndvi/MYD13A1.A2021201.h19v05.006.2021221160115.hdf\":MODIS_Grid_16DAY_500m_VI:\"500m 16 days EVI\"\n"
     ]
    },
    {
     "name": "stderr",
     "output_type": "stream",
     "text": [
      "ERROR 1: Output dataset A2021201_ndvi_merge_warp.tif exists,\n",
      "but some command line options were provided indicating a new dataset\n",
      "should be created.  Please delete existing dataset and run again.\n",
      "\n"
     ]
    },
    {
     "name": "stdout",
     "output_type": "stream",
     "text": [
      "0...10...20...30...40...50...60...70...80...90...100 - done.\n",
      "A2021209_ndvi_merge.tif\n",
      "gdal_merge.py -o A2021209_ndvi_merge.tif HDF4_EOS:EOS_GRID:\"/media/sg/91d62d44-8446-4f66-8327-bc09e774cbb1/home/df/Projects/modis_ndvi/MOD13A1.A2021209.h19v04.006.2021226040400.hdf\":MODIS_Grid_16DAY_500m_VI:\"500m 16 days NDVI\" HDF4_EOS:EOS_GRID:\"/media/sg/91d62d44-8446-4f66-8327-bc09e774cbb1/home/df/Projects/modis_ndvi/MOD13A1.A2021209.h19v05.006.2021226035629.hdf\":MODIS_Grid_16DAY_500m_VI:\"500m 16 days NDVI\" HDF4_EOS:EOS_GRID:\"/media/sg/91d62d44-8446-4f66-8327-bc09e774cbb1/home/df/Projects/modis_ndvi/MOD13A1.A2021209.h20v05.006.2021226035620.hdf\":MODIS_Grid_16DAY_500m_VI:\"500m 16 days NDVI\"\n"
     ]
    },
    {
     "name": "stderr",
     "output_type": "stream",
     "text": [
      "ERROR 1: Output dataset A2021201_evi_merge_warp.tif exists,\n",
      "but some command line options were provided indicating a new dataset\n",
      "should be created.  Please delete existing dataset and run again.\n",
      "\n"
     ]
    },
    {
     "name": "stdout",
     "output_type": "stream",
     "text": [
      "0...10...20...30...40...50...60...70...80...90...100 - done.\n",
      "A2021209_evi_merge.tif\n",
      "gdal_merge.py -o A2021209_evi_merge.tif HDF4_EOS:EOS_GRID:\"/media/sg/91d62d44-8446-4f66-8327-bc09e774cbb1/home/df/Projects/modis_ndvi/MOD13A1.A2021209.h19v04.006.2021226040400.hdf\":MODIS_Grid_16DAY_500m_VI:\"500m 16 days EVI\" HDF4_EOS:EOS_GRID:\"/media/sg/91d62d44-8446-4f66-8327-bc09e774cbb1/home/df/Projects/modis_ndvi/MOD13A1.A2021209.h19v05.006.2021226035629.hdf\":MODIS_Grid_16DAY_500m_VI:\"500m 16 days EVI\" HDF4_EOS:EOS_GRID:\"/media/sg/91d62d44-8446-4f66-8327-bc09e774cbb1/home/df/Projects/modis_ndvi/MOD13A1.A2021209.h20v05.006.2021226035620.hdf\":MODIS_Grid_16DAY_500m_VI:\"500m 16 days EVI\"\n"
     ]
    },
    {
     "name": "stderr",
     "output_type": "stream",
     "text": [
      "ERROR 1: Output dataset A2021209_ndvi_merge_warp.tif exists,\n",
      "but some command line options were provided indicating a new dataset\n",
      "should be created.  Please delete existing dataset and run again.\n",
      "\n"
     ]
    },
    {
     "name": "stdout",
     "output_type": "stream",
     "text": [
      "0...10...20...30...40...50...60...70...80...90...100 - done.\n",
      "A2021217_ndvi_merge.tif\n",
      "gdal_merge.py -o A2021217_ndvi_merge.tif HDF4_EOS:EOS_GRID:\"/media/sg/91d62d44-8446-4f66-8327-bc09e774cbb1/home/df/Projects/modis_ndvi/MYD13A1.A2021217.h19v04.006.2021234032359.hdf\":MODIS_Grid_16DAY_500m_VI:\"500m 16 days NDVI\" HDF4_EOS:EOS_GRID:\"/media/sg/91d62d44-8446-4f66-8327-bc09e774cbb1/home/df/Projects/modis_ndvi/MYD13A1.A2021217.h19v05.006.2021234030353.hdf\":MODIS_Grid_16DAY_500m_VI:\"500m 16 days NDVI\" HDF4_EOS:EOS_GRID:\"/media/sg/91d62d44-8446-4f66-8327-bc09e774cbb1/home/df/Projects/modis_ndvi/MYD13A1.A2021217.h20v05.006.2021234025654.hdf\":MODIS_Grid_16DAY_500m_VI:\"500m 16 days NDVI\"\n"
     ]
    },
    {
     "name": "stderr",
     "output_type": "stream",
     "text": [
      "ERROR 1: Output dataset A2021209_evi_merge_warp.tif exists,\n",
      "but some command line options were provided indicating a new dataset\n",
      "should be created.  Please delete existing dataset and run again.\n",
      "\n"
     ]
    },
    {
     "name": "stdout",
     "output_type": "stream",
     "text": [
      "0...10...20...30...40...50...60...70...80...90...100 - done.\n",
      "A2021217_evi_merge.tif\n",
      "gdal_merge.py -o A2021217_evi_merge.tif HDF4_EOS:EOS_GRID:\"/media/sg/91d62d44-8446-4f66-8327-bc09e774cbb1/home/df/Projects/modis_ndvi/MYD13A1.A2021217.h19v04.006.2021234032359.hdf\":MODIS_Grid_16DAY_500m_VI:\"500m 16 days EVI\" HDF4_EOS:EOS_GRID:\"/media/sg/91d62d44-8446-4f66-8327-bc09e774cbb1/home/df/Projects/modis_ndvi/MYD13A1.A2021217.h19v05.006.2021234030353.hdf\":MODIS_Grid_16DAY_500m_VI:\"500m 16 days EVI\" HDF4_EOS:EOS_GRID:\"/media/sg/91d62d44-8446-4f66-8327-bc09e774cbb1/home/df/Projects/modis_ndvi/MYD13A1.A2021217.h20v05.006.2021234025654.hdf\":MODIS_Grid_16DAY_500m_VI:\"500m 16 days EVI\"\n"
     ]
    },
    {
     "name": "stderr",
     "output_type": "stream",
     "text": [
      "ERROR 1: Output dataset A2021217_ndvi_merge_warp.tif exists,\n",
      "but some command line options were provided indicating a new dataset\n",
      "should be created.  Please delete existing dataset and run again.\n",
      "\n"
     ]
    },
    {
     "name": "stdout",
     "output_type": "stream",
     "text": [
      "0...10...20...30...40...50...60...70...80...90...100 - done.\n",
      "A2021225_ndvi_merge.tif\n",
      "gdal_merge.py -o A2021225_ndvi_merge.tif HDF4_EOS:EOS_GRID:\"/media/sg/91d62d44-8446-4f66-8327-bc09e774cbb1/home/df/Projects/modis_ndvi/MOD13A1.A2021225.h19v05.006.2021243132251.hdf\":MODIS_Grid_16DAY_500m_VI:\"500m 16 days NDVI\" HDF4_EOS:EOS_GRID:\"/media/sg/91d62d44-8446-4f66-8327-bc09e774cbb1/home/df/Projects/modis_ndvi/MOD13A1.A2021225.h20v05.006.2021243132922.hdf\":MODIS_Grid_16DAY_500m_VI:\"500m 16 days NDVI\" HDF4_EOS:EOS_GRID:\"/media/sg/91d62d44-8446-4f66-8327-bc09e774cbb1/home/df/Projects/modis_ndvi/MOD13A1.A2021225.h19v04.006.2021243132443.hdf\":MODIS_Grid_16DAY_500m_VI:\"500m 16 days NDVI\"\n"
     ]
    },
    {
     "name": "stderr",
     "output_type": "stream",
     "text": [
      "ERROR 1: Output dataset A2021217_evi_merge_warp.tif exists,\n",
      "but some command line options were provided indicating a new dataset\n",
      "should be created.  Please delete existing dataset and run again.\n",
      "\n"
     ]
    },
    {
     "name": "stdout",
     "output_type": "stream",
     "text": [
      "0...10...20...30...40...50...60...70...80...90...100 - done.\n",
      "A2021225_evi_merge.tif\n",
      "gdal_merge.py -o A2021225_evi_merge.tif HDF4_EOS:EOS_GRID:\"/media/sg/91d62d44-8446-4f66-8327-bc09e774cbb1/home/df/Projects/modis_ndvi/MOD13A1.A2021225.h19v05.006.2021243132251.hdf\":MODIS_Grid_16DAY_500m_VI:\"500m 16 days EVI\" HDF4_EOS:EOS_GRID:\"/media/sg/91d62d44-8446-4f66-8327-bc09e774cbb1/home/df/Projects/modis_ndvi/MOD13A1.A2021225.h20v05.006.2021243132922.hdf\":MODIS_Grid_16DAY_500m_VI:\"500m 16 days EVI\" HDF4_EOS:EOS_GRID:\"/media/sg/91d62d44-8446-4f66-8327-bc09e774cbb1/home/df/Projects/modis_ndvi/MOD13A1.A2021225.h19v04.006.2021243132443.hdf\":MODIS_Grid_16DAY_500m_VI:\"500m 16 days EVI\"\n"
     ]
    },
    {
     "name": "stderr",
     "output_type": "stream",
     "text": [
      "ERROR 1: Output dataset A2021225_ndvi_merge_warp.tif exists,\n",
      "but some command line options were provided indicating a new dataset\n",
      "should be created.  Please delete existing dataset and run again.\n",
      "\n"
     ]
    },
    {
     "name": "stdout",
     "output_type": "stream",
     "text": [
      "0...10...20...30...40...50...60...70...80...90...100 - done.\n",
      "A2021233_ndvi_merge.tif\n",
      "gdal_merge.py -o A2021233_ndvi_merge.tif HDF4_EOS:EOS_GRID:\"/media/sg/91d62d44-8446-4f66-8327-bc09e774cbb1/home/df/Projects/modis_ndvi/MYD13A1.A2021233.h19v05.006.2021251131747.hdf\":MODIS_Grid_16DAY_500m_VI:\"500m 16 days NDVI\" HDF4_EOS:EOS_GRID:\"/media/sg/91d62d44-8446-4f66-8327-bc09e774cbb1/home/df/Projects/modis_ndvi/MYD13A1.A2021233.h20v05.006.2021251131717.hdf\":MODIS_Grid_16DAY_500m_VI:\"500m 16 days NDVI\" HDF4_EOS:EOS_GRID:\"/media/sg/91d62d44-8446-4f66-8327-bc09e774cbb1/home/df/Projects/modis_ndvi/MYD13A1.A2021233.h19v04.006.2021251134604.hdf\":MODIS_Grid_16DAY_500m_VI:\"500m 16 days NDVI\"\n"
     ]
    },
    {
     "name": "stderr",
     "output_type": "stream",
     "text": [
      "ERROR 1: Output dataset A2021225_evi_merge_warp.tif exists,\n",
      "but some command line options were provided indicating a new dataset\n",
      "should be created.  Please delete existing dataset and run again.\n",
      "\n"
     ]
    },
    {
     "name": "stdout",
     "output_type": "stream",
     "text": [
      "0...10...20...30...40...50...60...70...80...90...100 - done.\n",
      "A2021233_evi_merge.tif\n",
      "gdal_merge.py -o A2021233_evi_merge.tif HDF4_EOS:EOS_GRID:\"/media/sg/91d62d44-8446-4f66-8327-bc09e774cbb1/home/df/Projects/modis_ndvi/MYD13A1.A2021233.h19v05.006.2021251131747.hdf\":MODIS_Grid_16DAY_500m_VI:\"500m 16 days EVI\" HDF4_EOS:EOS_GRID:\"/media/sg/91d62d44-8446-4f66-8327-bc09e774cbb1/home/df/Projects/modis_ndvi/MYD13A1.A2021233.h20v05.006.2021251131717.hdf\":MODIS_Grid_16DAY_500m_VI:\"500m 16 days EVI\" HDF4_EOS:EOS_GRID:\"/media/sg/91d62d44-8446-4f66-8327-bc09e774cbb1/home/df/Projects/modis_ndvi/MYD13A1.A2021233.h19v04.006.2021251134604.hdf\":MODIS_Grid_16DAY_500m_VI:\"500m 16 days EVI\"\n"
     ]
    },
    {
     "name": "stderr",
     "output_type": "stream",
     "text": [
      "ERROR 1: Output dataset A2021233_ndvi_merge_warp.tif exists,\n",
      "but some command line options were provided indicating a new dataset\n",
      "should be created.  Please delete existing dataset and run again.\n",
      "\n"
     ]
    },
    {
     "name": "stdout",
     "output_type": "stream",
     "text": [
      "0...10...20...30...40...50...60...70...80...90...100 - done.\n",
      "A2021241_ndvi_merge.tif\n",
      "gdal_merge.py -o A2021241_ndvi_merge.tif HDF4_EOS:EOS_GRID:\"/media/sg/91d62d44-8446-4f66-8327-bc09e774cbb1/home/df/Projects/modis_ndvi/MOD13A1.A2021241.h20v05.006.2021258032823.hdf\":MODIS_Grid_16DAY_500m_VI:\"500m 16 days NDVI\" HDF4_EOS:EOS_GRID:\"/media/sg/91d62d44-8446-4f66-8327-bc09e774cbb1/home/df/Projects/modis_ndvi/MOD13A1.A2021241.h19v05.006.2021258032311.hdf\":MODIS_Grid_16DAY_500m_VI:\"500m 16 days NDVI\" HDF4_EOS:EOS_GRID:\"/media/sg/91d62d44-8446-4f66-8327-bc09e774cbb1/home/df/Projects/modis_ndvi/MOD13A1.A2021241.h19v04.006.2021258032052.hdf\":MODIS_Grid_16DAY_500m_VI:\"500m 16 days NDVI\"\n"
     ]
    },
    {
     "name": "stderr",
     "output_type": "stream",
     "text": [
      "ERROR 1: Output dataset A2021233_evi_merge_warp.tif exists,\n",
      "but some command line options were provided indicating a new dataset\n",
      "should be created.  Please delete existing dataset and run again.\n",
      "\n"
     ]
    },
    {
     "name": "stdout",
     "output_type": "stream",
     "text": [
      "0...10...20...30...40...50...60...70...80...90...100 - done.\n",
      "A2021241_evi_merge.tif\n",
      "gdal_merge.py -o A2021241_evi_merge.tif HDF4_EOS:EOS_GRID:\"/media/sg/91d62d44-8446-4f66-8327-bc09e774cbb1/home/df/Projects/modis_ndvi/MOD13A1.A2021241.h20v05.006.2021258032823.hdf\":MODIS_Grid_16DAY_500m_VI:\"500m 16 days EVI\" HDF4_EOS:EOS_GRID:\"/media/sg/91d62d44-8446-4f66-8327-bc09e774cbb1/home/df/Projects/modis_ndvi/MOD13A1.A2021241.h19v05.006.2021258032311.hdf\":MODIS_Grid_16DAY_500m_VI:\"500m 16 days EVI\" HDF4_EOS:EOS_GRID:\"/media/sg/91d62d44-8446-4f66-8327-bc09e774cbb1/home/df/Projects/modis_ndvi/MOD13A1.A2021241.h19v04.006.2021258032052.hdf\":MODIS_Grid_16DAY_500m_VI:\"500m 16 days EVI\"\n"
     ]
    },
    {
     "name": "stderr",
     "output_type": "stream",
     "text": [
      "ERROR 1: Output dataset A2021241_ndvi_merge_warp.tif exists,\n",
      "but some command line options were provided indicating a new dataset\n",
      "should be created.  Please delete existing dataset and run again.\n",
      "\n"
     ]
    },
    {
     "name": "stdout",
     "output_type": "stream",
     "text": [
      "0...10...20...30...40...50...60...70...80...90...100 - done.\n",
      "A2021249_ndvi_merge.tif\n",
      "gdal_merge.py -o A2021249_ndvi_merge.tif HDF4_EOS:EOS_GRID:\"/media/sg/91d62d44-8446-4f66-8327-bc09e774cbb1/home/df/Projects/modis_ndvi/MYD13A1.A2021249.h19v04.006.2021266003653.hdf\":MODIS_Grid_16DAY_500m_VI:\"500m 16 days NDVI\" HDF4_EOS:EOS_GRID:\"/media/sg/91d62d44-8446-4f66-8327-bc09e774cbb1/home/df/Projects/modis_ndvi/MYD13A1.A2021249.h20v05.006.2021266004116.hdf\":MODIS_Grid_16DAY_500m_VI:\"500m 16 days NDVI\" HDF4_EOS:EOS_GRID:\"/media/sg/91d62d44-8446-4f66-8327-bc09e774cbb1/home/df/Projects/modis_ndvi/MYD13A1.A2021249.h19v05.006.2021266004626.hdf\":MODIS_Grid_16DAY_500m_VI:\"500m 16 days NDVI\"\n"
     ]
    },
    {
     "name": "stderr",
     "output_type": "stream",
     "text": [
      "ERROR 1: Output dataset A2021241_evi_merge_warp.tif exists,\n",
      "but some command line options were provided indicating a new dataset\n",
      "should be created.  Please delete existing dataset and run again.\n",
      "\n"
     ]
    },
    {
     "name": "stdout",
     "output_type": "stream",
     "text": [
      "0...10...20...30...40...50...60...70...80...90...100 - done.\n",
      "A2021249_evi_merge.tif\n",
      "gdal_merge.py -o A2021249_evi_merge.tif HDF4_EOS:EOS_GRID:\"/media/sg/91d62d44-8446-4f66-8327-bc09e774cbb1/home/df/Projects/modis_ndvi/MYD13A1.A2021249.h19v04.006.2021266003653.hdf\":MODIS_Grid_16DAY_500m_VI:\"500m 16 days EVI\" HDF4_EOS:EOS_GRID:\"/media/sg/91d62d44-8446-4f66-8327-bc09e774cbb1/home/df/Projects/modis_ndvi/MYD13A1.A2021249.h20v05.006.2021266004116.hdf\":MODIS_Grid_16DAY_500m_VI:\"500m 16 days EVI\" HDF4_EOS:EOS_GRID:\"/media/sg/91d62d44-8446-4f66-8327-bc09e774cbb1/home/df/Projects/modis_ndvi/MYD13A1.A2021249.h19v05.006.2021266004626.hdf\":MODIS_Grid_16DAY_500m_VI:\"500m 16 days EVI\"\n"
     ]
    },
    {
     "name": "stderr",
     "output_type": "stream",
     "text": [
      "ERROR 1: Output dataset A2021249_ndvi_merge_warp.tif exists,\n",
      "but some command line options were provided indicating a new dataset\n",
      "should be created.  Please delete existing dataset and run again.\n",
      "\n"
     ]
    },
    {
     "name": "stdout",
     "output_type": "stream",
     "text": [
      "0...10...20...30...40...50...60...70...80...90...100 - done.\n",
      "A2021257_ndvi_merge.tif\n",
      "gdal_merge.py -o A2021257_ndvi_merge.tif HDF4_EOS:EOS_GRID:\"/media/sg/91d62d44-8446-4f66-8327-bc09e774cbb1/home/df/Projects/modis_ndvi/MOD13A1.A2021257.h20v05.006.2021320111309.hdf\":MODIS_Grid_16DAY_500m_VI:\"500m 16 days NDVI\" HDF4_EOS:EOS_GRID:\"/media/sg/91d62d44-8446-4f66-8327-bc09e774cbb1/home/df/Projects/modis_ndvi/MOD13A1.A2021257.h19v05.006.2021320110828.hdf\":MODIS_Grid_16DAY_500m_VI:\"500m 16 days NDVI\" HDF4_EOS:EOS_GRID:\"/media/sg/91d62d44-8446-4f66-8327-bc09e774cbb1/home/df/Projects/modis_ndvi/MOD13A1.A2021257.h19v04.006.2021320111014.hdf\":MODIS_Grid_16DAY_500m_VI:\"500m 16 days NDVI\"\n"
     ]
    },
    {
     "name": "stderr",
     "output_type": "stream",
     "text": [
      "ERROR 1: Output dataset A2021249_evi_merge_warp.tif exists,\n",
      "but some command line options were provided indicating a new dataset\n",
      "should be created.  Please delete existing dataset and run again.\n",
      "\n"
     ]
    },
    {
     "name": "stdout",
     "output_type": "stream",
     "text": [
      "0...10...20...30...40...50...60...70...80...90...100 - done.\n",
      "A2021257_evi_merge.tif\n",
      "gdal_merge.py -o A2021257_evi_merge.tif HDF4_EOS:EOS_GRID:\"/media/sg/91d62d44-8446-4f66-8327-bc09e774cbb1/home/df/Projects/modis_ndvi/MOD13A1.A2021257.h20v05.006.2021320111309.hdf\":MODIS_Grid_16DAY_500m_VI:\"500m 16 days EVI\" HDF4_EOS:EOS_GRID:\"/media/sg/91d62d44-8446-4f66-8327-bc09e774cbb1/home/df/Projects/modis_ndvi/MOD13A1.A2021257.h19v05.006.2021320110828.hdf\":MODIS_Grid_16DAY_500m_VI:\"500m 16 days EVI\" HDF4_EOS:EOS_GRID:\"/media/sg/91d62d44-8446-4f66-8327-bc09e774cbb1/home/df/Projects/modis_ndvi/MOD13A1.A2021257.h19v04.006.2021320111014.hdf\":MODIS_Grid_16DAY_500m_VI:\"500m 16 days EVI\"\n"
     ]
    },
    {
     "name": "stderr",
     "output_type": "stream",
     "text": [
      "ERROR 1: Output dataset A2021257_ndvi_merge_warp.tif exists,\n",
      "but some command line options were provided indicating a new dataset\n",
      "should be created.  Please delete existing dataset and run again.\n",
      "\n"
     ]
    },
    {
     "name": "stdout",
     "output_type": "stream",
     "text": [
      "0...10...20...30...40...50...60...70...80...90...100 - done.\n",
      "A2021265_ndvi_merge.tif\n",
      "gdal_merge.py -o A2021265_ndvi_merge.tif HDF4_EOS:EOS_GRID:\"/media/sg/91d62d44-8446-4f66-8327-bc09e774cbb1/home/df/Projects/modis_ndvi/MYD13A1.A2021265.h19v05.006.2021282010245.hdf\":MODIS_Grid_16DAY_500m_VI:\"500m 16 days NDVI\" HDF4_EOS:EOS_GRID:\"/media/sg/91d62d44-8446-4f66-8327-bc09e774cbb1/home/df/Projects/modis_ndvi/MYD13A1.A2021265.h19v04.006.2021282011831.hdf\":MODIS_Grid_16DAY_500m_VI:\"500m 16 days NDVI\" HDF4_EOS:EOS_GRID:\"/media/sg/91d62d44-8446-4f66-8327-bc09e774cbb1/home/df/Projects/modis_ndvi/MYD13A1.A2021265.h20v05.006.2021282010205.hdf\":MODIS_Grid_16DAY_500m_VI:\"500m 16 days NDVI\"\n"
     ]
    },
    {
     "name": "stderr",
     "output_type": "stream",
     "text": [
      "ERROR 1: Output dataset A2021257_evi_merge_warp.tif exists,\n",
      "but some command line options were provided indicating a new dataset\n",
      "should be created.  Please delete existing dataset and run again.\n",
      "\n"
     ]
    },
    {
     "name": "stdout",
     "output_type": "stream",
     "text": [
      "0...10...20...30...40...50...60...70...80...90...100 - done.\n",
      "A2021265_evi_merge.tif\n",
      "gdal_merge.py -o A2021265_evi_merge.tif HDF4_EOS:EOS_GRID:\"/media/sg/91d62d44-8446-4f66-8327-bc09e774cbb1/home/df/Projects/modis_ndvi/MYD13A1.A2021265.h19v05.006.2021282010245.hdf\":MODIS_Grid_16DAY_500m_VI:\"500m 16 days EVI\" HDF4_EOS:EOS_GRID:\"/media/sg/91d62d44-8446-4f66-8327-bc09e774cbb1/home/df/Projects/modis_ndvi/MYD13A1.A2021265.h19v04.006.2021282011831.hdf\":MODIS_Grid_16DAY_500m_VI:\"500m 16 days EVI\" HDF4_EOS:EOS_GRID:\"/media/sg/91d62d44-8446-4f66-8327-bc09e774cbb1/home/df/Projects/modis_ndvi/MYD13A1.A2021265.h20v05.006.2021282010205.hdf\":MODIS_Grid_16DAY_500m_VI:\"500m 16 days EVI\"\n"
     ]
    },
    {
     "name": "stderr",
     "output_type": "stream",
     "text": [
      "ERROR 1: Output dataset A2021265_ndvi_merge_warp.tif exists,\n",
      "but some command line options were provided indicating a new dataset\n",
      "should be created.  Please delete existing dataset and run again.\n",
      "\n"
     ]
    },
    {
     "name": "stdout",
     "output_type": "stream",
     "text": [
      "0...10...20...30...40...50...60...70...80...90...100 - done.\n",
      "A2021273_ndvi_merge.tif\n",
      "gdal_merge.py -o A2021273_ndvi_merge.tif HDF4_EOS:EOS_GRID:\"/media/sg/91d62d44-8446-4f66-8327-bc09e774cbb1/home/df/Projects/modis_ndvi/MOD13A1.A2021273.h19v04.006.2021341094635.hdf\":MODIS_Grid_16DAY_500m_VI:\"500m 16 days NDVI\" HDF4_EOS:EOS_GRID:\"/media/sg/91d62d44-8446-4f66-8327-bc09e774cbb1/home/df/Projects/modis_ndvi/MOD13A1.A2021273.h19v05.006.2021341094533.hdf\":MODIS_Grid_16DAY_500m_VI:\"500m 16 days NDVI\" HDF4_EOS:EOS_GRID:\"/media/sg/91d62d44-8446-4f66-8327-bc09e774cbb1/home/df/Projects/modis_ndvi/MOD13A1.A2021273.h20v05.006.2021341094513.hdf\":MODIS_Grid_16DAY_500m_VI:\"500m 16 days NDVI\"\n"
     ]
    },
    {
     "name": "stderr",
     "output_type": "stream",
     "text": [
      "ERROR 1: Output dataset A2021265_evi_merge_warp.tif exists,\n",
      "but some command line options were provided indicating a new dataset\n",
      "should be created.  Please delete existing dataset and run again.\n",
      "\n"
     ]
    },
    {
     "name": "stdout",
     "output_type": "stream",
     "text": [
      "0...10...20...30...40...50...60...70...80...90...100 - done.\n",
      "A2021273_evi_merge.tif\n",
      "gdal_merge.py -o A2021273_evi_merge.tif HDF4_EOS:EOS_GRID:\"/media/sg/91d62d44-8446-4f66-8327-bc09e774cbb1/home/df/Projects/modis_ndvi/MOD13A1.A2021273.h19v04.006.2021341094635.hdf\":MODIS_Grid_16DAY_500m_VI:\"500m 16 days EVI\" HDF4_EOS:EOS_GRID:\"/media/sg/91d62d44-8446-4f66-8327-bc09e774cbb1/home/df/Projects/modis_ndvi/MOD13A1.A2021273.h19v05.006.2021341094533.hdf\":MODIS_Grid_16DAY_500m_VI:\"500m 16 days EVI\" HDF4_EOS:EOS_GRID:\"/media/sg/91d62d44-8446-4f66-8327-bc09e774cbb1/home/df/Projects/modis_ndvi/MOD13A1.A2021273.h20v05.006.2021341094513.hdf\":MODIS_Grid_16DAY_500m_VI:\"500m 16 days EVI\"\n"
     ]
    },
    {
     "name": "stderr",
     "output_type": "stream",
     "text": [
      "ERROR 1: Output dataset A2021273_ndvi_merge_warp.tif exists,\n",
      "but some command line options were provided indicating a new dataset\n",
      "should be created.  Please delete existing dataset and run again.\n",
      "\n"
     ]
    },
    {
     "name": "stdout",
     "output_type": "stream",
     "text": [
      "0...10...20...30...40...50...60...70...80...90...100 - done.\n",
      "A2022097_ndvi_merge.tif\n",
      "gdal_merge.py -o A2022097_ndvi_merge.tif HDF4_EOS:EOS_GRID:\"/media/sg/91d62d44-8446-4f66-8327-bc09e774cbb1/home/df/Projects/modis_ndvi/MOD13A1.A2022097.h19v05.006.2022121230120.hdf\":MODIS_Grid_16DAY_500m_VI:\"500m 16 days NDVI\" HDF4_EOS:EOS_GRID:\"/media/sg/91d62d44-8446-4f66-8327-bc09e774cbb1/home/df/Projects/modis_ndvi/MOD13A1.A2022097.h20v05.006.2022121225621.hdf\":MODIS_Grid_16DAY_500m_VI:\"500m 16 days NDVI\" HDF4_EOS:EOS_GRID:\"/media/sg/91d62d44-8446-4f66-8327-bc09e774cbb1/home/df/Projects/modis_ndvi/MOD13A1.A2022097.h19v04.006.2022121225829.hdf\":MODIS_Grid_16DAY_500m_VI:\"500m 16 days NDVI\"\n"
     ]
    },
    {
     "name": "stderr",
     "output_type": "stream",
     "text": [
      "ERROR 1: Output dataset A2021273_evi_merge_warp.tif exists,\n",
      "but some command line options were provided indicating a new dataset\n",
      "should be created.  Please delete existing dataset and run again.\n",
      "\n"
     ]
    },
    {
     "name": "stdout",
     "output_type": "stream",
     "text": [
      "0...10...20...30...40...50...60...70...80...90...100 - done.\n",
      "A2022097_evi_merge.tif\n",
      "gdal_merge.py -o A2022097_evi_merge.tif HDF4_EOS:EOS_GRID:\"/media/sg/91d62d44-8446-4f66-8327-bc09e774cbb1/home/df/Projects/modis_ndvi/MOD13A1.A2022097.h19v05.006.2022121230120.hdf\":MODIS_Grid_16DAY_500m_VI:\"500m 16 days EVI\" HDF4_EOS:EOS_GRID:\"/media/sg/91d62d44-8446-4f66-8327-bc09e774cbb1/home/df/Projects/modis_ndvi/MOD13A1.A2022097.h20v05.006.2022121225621.hdf\":MODIS_Grid_16DAY_500m_VI:\"500m 16 days EVI\" HDF4_EOS:EOS_GRID:\"/media/sg/91d62d44-8446-4f66-8327-bc09e774cbb1/home/df/Projects/modis_ndvi/MOD13A1.A2022097.h19v04.006.2022121225829.hdf\":MODIS_Grid_16DAY_500m_VI:\"500m 16 days EVI\"\n"
     ]
    },
    {
     "name": "stderr",
     "output_type": "stream",
     "text": [
      "ERROR 1: Output dataset A2022097_ndvi_merge_warp.tif exists,\n",
      "but some command line options were provided indicating a new dataset\n",
      "should be created.  Please delete existing dataset and run again.\n",
      "\n"
     ]
    },
    {
     "name": "stdout",
     "output_type": "stream",
     "text": [
      "0...10...20...30...40...50...60...70...80...90...100 - done.\n",
      "A2022105_ndvi_merge.tif\n",
      "gdal_merge.py -o A2022105_ndvi_merge.tif HDF4_EOS:EOS_GRID:\"/media/sg/91d62d44-8446-4f66-8327-bc09e774cbb1/home/df/Projects/modis_ndvi/MYD13A1.A2022105.h20v05.006.2022125093350.hdf\":MODIS_Grid_16DAY_500m_VI:\"500m 16 days NDVI\" HDF4_EOS:EOS_GRID:\"/media/sg/91d62d44-8446-4f66-8327-bc09e774cbb1/home/df/Projects/modis_ndvi/MYD13A1.A2022105.h19v05.006.2022125093434.hdf\":MODIS_Grid_16DAY_500m_VI:\"500m 16 days NDVI\" HDF4_EOS:EOS_GRID:\"/media/sg/91d62d44-8446-4f66-8327-bc09e774cbb1/home/df/Projects/modis_ndvi/MYD13A1.A2022105.h19v04.006.2022125093415.hdf\":MODIS_Grid_16DAY_500m_VI:\"500m 16 days NDVI\"\n"
     ]
    },
    {
     "name": "stderr",
     "output_type": "stream",
     "text": [
      "ERROR 1: Output dataset A2022097_evi_merge_warp.tif exists,\n",
      "but some command line options were provided indicating a new dataset\n",
      "should be created.  Please delete existing dataset and run again.\n",
      "\n"
     ]
    },
    {
     "name": "stdout",
     "output_type": "stream",
     "text": [
      "0...10...20...30...40...50...60...70...80...90...100 - done.\n",
      "A2022105_evi_merge.tif\n",
      "gdal_merge.py -o A2022105_evi_merge.tif HDF4_EOS:EOS_GRID:\"/media/sg/91d62d44-8446-4f66-8327-bc09e774cbb1/home/df/Projects/modis_ndvi/MYD13A1.A2022105.h20v05.006.2022125093350.hdf\":MODIS_Grid_16DAY_500m_VI:\"500m 16 days EVI\" HDF4_EOS:EOS_GRID:\"/media/sg/91d62d44-8446-4f66-8327-bc09e774cbb1/home/df/Projects/modis_ndvi/MYD13A1.A2022105.h19v05.006.2022125093434.hdf\":MODIS_Grid_16DAY_500m_VI:\"500m 16 days EVI\" HDF4_EOS:EOS_GRID:\"/media/sg/91d62d44-8446-4f66-8327-bc09e774cbb1/home/df/Projects/modis_ndvi/MYD13A1.A2022105.h19v04.006.2022125093415.hdf\":MODIS_Grid_16DAY_500m_VI:\"500m 16 days EVI\"\n"
     ]
    },
    {
     "name": "stderr",
     "output_type": "stream",
     "text": [
      "ERROR 1: Output dataset A2022105_ndvi_merge_warp.tif exists,\n",
      "but some command line options were provided indicating a new dataset\n",
      "should be created.  Please delete existing dataset and run again.\n",
      "\n"
     ]
    },
    {
     "name": "stdout",
     "output_type": "stream",
     "text": [
      "0...10...20...30...40...50...60...70...80...90...100 - done.\n",
      "A2022113_ndvi_merge.tif\n",
      "gdal_merge.py -o A2022113_ndvi_merge.tif HDF4_EOS:EOS_GRID:\"/media/sg/91d62d44-8446-4f66-8327-bc09e774cbb1/home/df/Projects/modis_ndvi/MOD13A1.A2022113.h20v05.006.2022134004354.hdf\":MODIS_Grid_16DAY_500m_VI:\"500m 16 days NDVI\" HDF4_EOS:EOS_GRID:\"/media/sg/91d62d44-8446-4f66-8327-bc09e774cbb1/home/df/Projects/modis_ndvi/MOD13A1.A2022113.h19v05.006.2022134004627.hdf\":MODIS_Grid_16DAY_500m_VI:\"500m 16 days NDVI\" HDF4_EOS:EOS_GRID:\"/media/sg/91d62d44-8446-4f66-8327-bc09e774cbb1/home/df/Projects/modis_ndvi/MOD13A1.A2022113.h19v04.006.2022134004343.hdf\":MODIS_Grid_16DAY_500m_VI:\"500m 16 days NDVI\"\n"
     ]
    },
    {
     "name": "stderr",
     "output_type": "stream",
     "text": [
      "ERROR 1: Output dataset A2022105_evi_merge_warp.tif exists,\n",
      "but some command line options were provided indicating a new dataset\n",
      "should be created.  Please delete existing dataset and run again.\n",
      "\n"
     ]
    },
    {
     "name": "stdout",
     "output_type": "stream",
     "text": [
      "0...10...20...30...40...50...60...70...80...90...100 - done.\n",
      "A2022113_evi_merge.tif\n",
      "gdal_merge.py -o A2022113_evi_merge.tif HDF4_EOS:EOS_GRID:\"/media/sg/91d62d44-8446-4f66-8327-bc09e774cbb1/home/df/Projects/modis_ndvi/MOD13A1.A2022113.h20v05.006.2022134004354.hdf\":MODIS_Grid_16DAY_500m_VI:\"500m 16 days EVI\" HDF4_EOS:EOS_GRID:\"/media/sg/91d62d44-8446-4f66-8327-bc09e774cbb1/home/df/Projects/modis_ndvi/MOD13A1.A2022113.h19v05.006.2022134004627.hdf\":MODIS_Grid_16DAY_500m_VI:\"500m 16 days EVI\" HDF4_EOS:EOS_GRID:\"/media/sg/91d62d44-8446-4f66-8327-bc09e774cbb1/home/df/Projects/modis_ndvi/MOD13A1.A2022113.h19v04.006.2022134004343.hdf\":MODIS_Grid_16DAY_500m_VI:\"500m 16 days EVI\"\n"
     ]
    },
    {
     "name": "stderr",
     "output_type": "stream",
     "text": [
      "ERROR 1: Output dataset A2022113_ndvi_merge_warp.tif exists,\n",
      "but some command line options were provided indicating a new dataset\n",
      "should be created.  Please delete existing dataset and run again.\n",
      "\n"
     ]
    },
    {
     "name": "stdout",
     "output_type": "stream",
     "text": [
      "0...10...20...30...40...50...60...70...80...90...100 - done.\n",
      "A2022121_ndvi_merge.tif\n",
      "gdal_merge.py -o A2022121_ndvi_merge.tif HDF4_EOS:EOS_GRID:\"/media/sg/91d62d44-8446-4f66-8327-bc09e774cbb1/home/df/Projects/modis_ndvi/MYD13A1.A2022121.h19v04.006.2022141123332.hdf\":MODIS_Grid_16DAY_500m_VI:\"500m 16 days NDVI\" HDF4_EOS:EOS_GRID:\"/media/sg/91d62d44-8446-4f66-8327-bc09e774cbb1/home/df/Projects/modis_ndvi/MYD13A1.A2022121.h19v05.006.2022141123543.hdf\":MODIS_Grid_16DAY_500m_VI:\"500m 16 days NDVI\" HDF4_EOS:EOS_GRID:\"/media/sg/91d62d44-8446-4f66-8327-bc09e774cbb1/home/df/Projects/modis_ndvi/MYD13A1.A2022121.h20v05.006.2022141123352.hdf\":MODIS_Grid_16DAY_500m_VI:\"500m 16 days NDVI\"\n"
     ]
    },
    {
     "name": "stderr",
     "output_type": "stream",
     "text": [
      "ERROR 1: Output dataset A2022113_evi_merge_warp.tif exists,\n",
      "but some command line options were provided indicating a new dataset\n",
      "should be created.  Please delete existing dataset and run again.\n",
      "\n"
     ]
    },
    {
     "name": "stdout",
     "output_type": "stream",
     "text": [
      "0...10...20...30...40...50...60...70...80...90...100 - done.\n",
      "A2022121_evi_merge.tif\n",
      "gdal_merge.py -o A2022121_evi_merge.tif HDF4_EOS:EOS_GRID:\"/media/sg/91d62d44-8446-4f66-8327-bc09e774cbb1/home/df/Projects/modis_ndvi/MYD13A1.A2022121.h19v04.006.2022141123332.hdf\":MODIS_Grid_16DAY_500m_VI:\"500m 16 days EVI\" HDF4_EOS:EOS_GRID:\"/media/sg/91d62d44-8446-4f66-8327-bc09e774cbb1/home/df/Projects/modis_ndvi/MYD13A1.A2022121.h19v05.006.2022141123543.hdf\":MODIS_Grid_16DAY_500m_VI:\"500m 16 days EVI\" HDF4_EOS:EOS_GRID:\"/media/sg/91d62d44-8446-4f66-8327-bc09e774cbb1/home/df/Projects/modis_ndvi/MYD13A1.A2022121.h20v05.006.2022141123352.hdf\":MODIS_Grid_16DAY_500m_VI:\"500m 16 days EVI\"\n"
     ]
    },
    {
     "name": "stderr",
     "output_type": "stream",
     "text": [
      "ERROR 1: Output dataset A2022121_ndvi_merge_warp.tif exists,\n",
      "but some command line options were provided indicating a new dataset\n",
      "should be created.  Please delete existing dataset and run again.\n",
      "\n"
     ]
    },
    {
     "name": "stdout",
     "output_type": "stream",
     "text": [
      "0...10...20...30...40...50...60...70...80...90...100 - done.\n",
      "A2022129_ndvi_merge.tif\n",
      "gdal_merge.py -o A2022129_ndvi_merge.tif HDF4_EOS:EOS_GRID:\"/media/sg/91d62d44-8446-4f66-8327-bc09e774cbb1/home/df/Projects/modis_ndvi/MOD13A1.A2022129.h19v05.006.2022146004851.hdf\":MODIS_Grid_16DAY_500m_VI:\"500m 16 days NDVI\" HDF4_EOS:EOS_GRID:\"/media/sg/91d62d44-8446-4f66-8327-bc09e774cbb1/home/df/Projects/modis_ndvi/MOD13A1.A2022129.h20v05.006.2022146011921.hdf\":MODIS_Grid_16DAY_500m_VI:\"500m 16 days NDVI\" HDF4_EOS:EOS_GRID:\"/media/sg/91d62d44-8446-4f66-8327-bc09e774cbb1/home/df/Projects/modis_ndvi/MOD13A1.A2022129.h19v04.006.2022146011826.hdf\":MODIS_Grid_16DAY_500m_VI:\"500m 16 days NDVI\"\n"
     ]
    },
    {
     "name": "stderr",
     "output_type": "stream",
     "text": [
      "ERROR 1: Output dataset A2022121_evi_merge_warp.tif exists,\n",
      "but some command line options were provided indicating a new dataset\n",
      "should be created.  Please delete existing dataset and run again.\n",
      "\n"
     ]
    },
    {
     "name": "stdout",
     "output_type": "stream",
     "text": [
      "0...10...20...30...40...50...60...70...80...90...100 - done.\n",
      "A2022129_evi_merge.tif\n",
      "gdal_merge.py -o A2022129_evi_merge.tif HDF4_EOS:EOS_GRID:\"/media/sg/91d62d44-8446-4f66-8327-bc09e774cbb1/home/df/Projects/modis_ndvi/MOD13A1.A2022129.h19v05.006.2022146004851.hdf\":MODIS_Grid_16DAY_500m_VI:\"500m 16 days EVI\" HDF4_EOS:EOS_GRID:\"/media/sg/91d62d44-8446-4f66-8327-bc09e774cbb1/home/df/Projects/modis_ndvi/MOD13A1.A2022129.h20v05.006.2022146011921.hdf\":MODIS_Grid_16DAY_500m_VI:\"500m 16 days EVI\" HDF4_EOS:EOS_GRID:\"/media/sg/91d62d44-8446-4f66-8327-bc09e774cbb1/home/df/Projects/modis_ndvi/MOD13A1.A2022129.h19v04.006.2022146011826.hdf\":MODIS_Grid_16DAY_500m_VI:\"500m 16 days EVI\"\n"
     ]
    },
    {
     "name": "stderr",
     "output_type": "stream",
     "text": [
      "ERROR 1: Output dataset A2022129_ndvi_merge_warp.tif exists,\n",
      "but some command line options were provided indicating a new dataset\n",
      "should be created.  Please delete existing dataset and run again.\n",
      "\n"
     ]
    },
    {
     "name": "stdout",
     "output_type": "stream",
     "text": [
      "0...10...20...30...40...50...60...70...80...90...100 - done.\n",
      "A2022137_ndvi_merge.tif\n",
      "gdal_merge.py -o A2022137_ndvi_merge.tif HDF4_EOS:EOS_GRID:\"/media/sg/91d62d44-8446-4f66-8327-bc09e774cbb1/home/df/Projects/modis_ndvi/MYD13A1.A2022137.h19v05.006.2022157193135.hdf\":MODIS_Grid_16DAY_500m_VI:\"500m 16 days NDVI\" HDF4_EOS:EOS_GRID:\"/media/sg/91d62d44-8446-4f66-8327-bc09e774cbb1/home/df/Projects/modis_ndvi/MYD13A1.A2022137.h19v04.006.2022157193217.hdf\":MODIS_Grid_16DAY_500m_VI:\"500m 16 days NDVI\" HDF4_EOS:EOS_GRID:\"/media/sg/91d62d44-8446-4f66-8327-bc09e774cbb1/home/df/Projects/modis_ndvi/MYD13A1.A2022137.h20v05.006.2022157193159.hdf\":MODIS_Grid_16DAY_500m_VI:\"500m 16 days NDVI\"\n"
     ]
    },
    {
     "name": "stderr",
     "output_type": "stream",
     "text": [
      "ERROR 1: Output dataset A2022129_evi_merge_warp.tif exists,\n",
      "but some command line options were provided indicating a new dataset\n",
      "should be created.  Please delete existing dataset and run again.\n",
      "\n"
     ]
    },
    {
     "name": "stdout",
     "output_type": "stream",
     "text": [
      "0...10...20...30...40...50...60...70...80...90...100 - done.\n",
      "A2022137_evi_merge.tif\n",
      "gdal_merge.py -o A2022137_evi_merge.tif HDF4_EOS:EOS_GRID:\"/media/sg/91d62d44-8446-4f66-8327-bc09e774cbb1/home/df/Projects/modis_ndvi/MYD13A1.A2022137.h19v05.006.2022157193135.hdf\":MODIS_Grid_16DAY_500m_VI:\"500m 16 days EVI\" HDF4_EOS:EOS_GRID:\"/media/sg/91d62d44-8446-4f66-8327-bc09e774cbb1/home/df/Projects/modis_ndvi/MYD13A1.A2022137.h19v04.006.2022157193217.hdf\":MODIS_Grid_16DAY_500m_VI:\"500m 16 days EVI\" HDF4_EOS:EOS_GRID:\"/media/sg/91d62d44-8446-4f66-8327-bc09e774cbb1/home/df/Projects/modis_ndvi/MYD13A1.A2022137.h20v05.006.2022157193159.hdf\":MODIS_Grid_16DAY_500m_VI:\"500m 16 days EVI\"\n"
     ]
    },
    {
     "name": "stderr",
     "output_type": "stream",
     "text": [
      "ERROR 1: Output dataset A2022137_ndvi_merge_warp.tif exists,\n",
      "but some command line options were provided indicating a new dataset\n",
      "should be created.  Please delete existing dataset and run again.\n",
      "\n"
     ]
    },
    {
     "name": "stdout",
     "output_type": "stream",
     "text": [
      "0...10...20...30...40...50...60...70...80...90...100 - done.\n",
      "A2022145_ndvi_merge.tif\n",
      "gdal_merge.py -o A2022145_ndvi_merge.tif HDF4_EOS:EOS_GRID:\"/media/sg/91d62d44-8446-4f66-8327-bc09e774cbb1/home/df/Projects/modis_ndvi/MOD13A1.A2022145.h20v05.006.2022162033617.hdf\":MODIS_Grid_16DAY_500m_VI:\"500m 16 days NDVI\" HDF4_EOS:EOS_GRID:\"/media/sg/91d62d44-8446-4f66-8327-bc09e774cbb1/home/df/Projects/modis_ndvi/MOD13A1.A2022145.h19v05.006.2022162033852.hdf\":MODIS_Grid_16DAY_500m_VI:\"500m 16 days NDVI\" HDF4_EOS:EOS_GRID:\"/media/sg/91d62d44-8446-4f66-8327-bc09e774cbb1/home/df/Projects/modis_ndvi/MOD13A1.A2022145.h19v04.006.2022162034301.hdf\":MODIS_Grid_16DAY_500m_VI:\"500m 16 days NDVI\"\n"
     ]
    },
    {
     "name": "stderr",
     "output_type": "stream",
     "text": [
      "ERROR 1: Output dataset A2022137_evi_merge_warp.tif exists,\n",
      "but some command line options were provided indicating a new dataset\n",
      "should be created.  Please delete existing dataset and run again.\n",
      "\n"
     ]
    },
    {
     "name": "stdout",
     "output_type": "stream",
     "text": [
      "0...10...20...30...40...50...60...70...80...90...100 - done.\n",
      "A2022145_evi_merge.tif\n",
      "gdal_merge.py -o A2022145_evi_merge.tif HDF4_EOS:EOS_GRID:\"/media/sg/91d62d44-8446-4f66-8327-bc09e774cbb1/home/df/Projects/modis_ndvi/MOD13A1.A2022145.h20v05.006.2022162033617.hdf\":MODIS_Grid_16DAY_500m_VI:\"500m 16 days EVI\" HDF4_EOS:EOS_GRID:\"/media/sg/91d62d44-8446-4f66-8327-bc09e774cbb1/home/df/Projects/modis_ndvi/MOD13A1.A2022145.h19v05.006.2022162033852.hdf\":MODIS_Grid_16DAY_500m_VI:\"500m 16 days EVI\" HDF4_EOS:EOS_GRID:\"/media/sg/91d62d44-8446-4f66-8327-bc09e774cbb1/home/df/Projects/modis_ndvi/MOD13A1.A2022145.h19v04.006.2022162034301.hdf\":MODIS_Grid_16DAY_500m_VI:\"500m 16 days EVI\"\n"
     ]
    },
    {
     "name": "stderr",
     "output_type": "stream",
     "text": [
      "ERROR 1: Output dataset A2022145_ndvi_merge_warp.tif exists,\n",
      "but some command line options were provided indicating a new dataset\n",
      "should be created.  Please delete existing dataset and run again.\n",
      "\n"
     ]
    },
    {
     "name": "stdout",
     "output_type": "stream",
     "text": [
      "0...10...20...30...40...50...60...70...80...90...100 - done.\n",
      "A2022153_ndvi_merge.tif\n",
      "gdal_merge.py -o A2022153_ndvi_merge.tif HDF4_EOS:EOS_GRID:\"/media/sg/91d62d44-8446-4f66-8327-bc09e774cbb1/home/df/Projects/modis_ndvi/MYD13A1.A2022153.h19v04.006.2022170005639.hdf\":MODIS_Grid_16DAY_500m_VI:\"500m 16 days NDVI\" HDF4_EOS:EOS_GRID:\"/media/sg/91d62d44-8446-4f66-8327-bc09e774cbb1/home/df/Projects/modis_ndvi/MYD13A1.A2022153.h20v05.006.2022170011110.hdf\":MODIS_Grid_16DAY_500m_VI:\"500m 16 days NDVI\" HDF4_EOS:EOS_GRID:\"/media/sg/91d62d44-8446-4f66-8327-bc09e774cbb1/home/df/Projects/modis_ndvi/MYD13A1.A2022153.h19v05.006.2022170005559.hdf\":MODIS_Grid_16DAY_500m_VI:\"500m 16 days NDVI\"\n"
     ]
    },
    {
     "name": "stderr",
     "output_type": "stream",
     "text": [
      "ERROR 1: Output dataset A2022145_evi_merge_warp.tif exists,\n",
      "but some command line options were provided indicating a new dataset\n",
      "should be created.  Please delete existing dataset and run again.\n",
      "\n"
     ]
    },
    {
     "name": "stdout",
     "output_type": "stream",
     "text": [
      "0...10...20...30...40...50...60...70...80...90...100 - done.\n",
      "A2022153_evi_merge.tif\n",
      "gdal_merge.py -o A2022153_evi_merge.tif HDF4_EOS:EOS_GRID:\"/media/sg/91d62d44-8446-4f66-8327-bc09e774cbb1/home/df/Projects/modis_ndvi/MYD13A1.A2022153.h19v04.006.2022170005639.hdf\":MODIS_Grid_16DAY_500m_VI:\"500m 16 days EVI\" HDF4_EOS:EOS_GRID:\"/media/sg/91d62d44-8446-4f66-8327-bc09e774cbb1/home/df/Projects/modis_ndvi/MYD13A1.A2022153.h20v05.006.2022170011110.hdf\":MODIS_Grid_16DAY_500m_VI:\"500m 16 days EVI\" HDF4_EOS:EOS_GRID:\"/media/sg/91d62d44-8446-4f66-8327-bc09e774cbb1/home/df/Projects/modis_ndvi/MYD13A1.A2022153.h19v05.006.2022170005559.hdf\":MODIS_Grid_16DAY_500m_VI:\"500m 16 days EVI\"\n"
     ]
    },
    {
     "name": "stderr",
     "output_type": "stream",
     "text": [
      "ERROR 1: Output dataset A2022153_ndvi_merge_warp.tif exists,\n",
      "but some command line options were provided indicating a new dataset\n",
      "should be created.  Please delete existing dataset and run again.\n",
      "\n"
     ]
    },
    {
     "name": "stdout",
     "output_type": "stream",
     "text": [
      "0...10...20...30...40...50...60...70...80...90...100 - done.\n",
      "A2022161_ndvi_merge.tif\n",
      "gdal_merge.py -o A2022161_ndvi_merge.tif HDF4_EOS:EOS_GRID:\"/media/sg/91d62d44-8446-4f66-8327-bc09e774cbb1/home/df/Projects/modis_ndvi/MOD13A1.A2022161.h20v05.006.2022178003615.hdf\":MODIS_Grid_16DAY_500m_VI:\"500m 16 days NDVI\" HDF4_EOS:EOS_GRID:\"/media/sg/91d62d44-8446-4f66-8327-bc09e774cbb1/home/df/Projects/modis_ndvi/MOD13A1.A2022161.h19v04.006.2022178003614.hdf\":MODIS_Grid_16DAY_500m_VI:\"500m 16 days NDVI\" HDF4_EOS:EOS_GRID:\"/media/sg/91d62d44-8446-4f66-8327-bc09e774cbb1/home/df/Projects/modis_ndvi/MOD13A1.A2022161.h19v05.006.2022178003545.hdf\":MODIS_Grid_16DAY_500m_VI:\"500m 16 days NDVI\"\n"
     ]
    },
    {
     "name": "stderr",
     "output_type": "stream",
     "text": [
      "ERROR 1: Output dataset A2022153_evi_merge_warp.tif exists,\n",
      "but some command line options were provided indicating a new dataset\n",
      "should be created.  Please delete existing dataset and run again.\n",
      "\n"
     ]
    },
    {
     "name": "stdout",
     "output_type": "stream",
     "text": [
      "0...10...20...30...40...50...60...70...80...90...100 - done.\n",
      "A2022161_evi_merge.tif\n",
      "gdal_merge.py -o A2022161_evi_merge.tif HDF4_EOS:EOS_GRID:\"/media/sg/91d62d44-8446-4f66-8327-bc09e774cbb1/home/df/Projects/modis_ndvi/MOD13A1.A2022161.h20v05.006.2022178003615.hdf\":MODIS_Grid_16DAY_500m_VI:\"500m 16 days EVI\" HDF4_EOS:EOS_GRID:\"/media/sg/91d62d44-8446-4f66-8327-bc09e774cbb1/home/df/Projects/modis_ndvi/MOD13A1.A2022161.h19v04.006.2022178003614.hdf\":MODIS_Grid_16DAY_500m_VI:\"500m 16 days EVI\" HDF4_EOS:EOS_GRID:\"/media/sg/91d62d44-8446-4f66-8327-bc09e774cbb1/home/df/Projects/modis_ndvi/MOD13A1.A2022161.h19v05.006.2022178003545.hdf\":MODIS_Grid_16DAY_500m_VI:\"500m 16 days EVI\"\n"
     ]
    },
    {
     "name": "stderr",
     "output_type": "stream",
     "text": [
      "ERROR 1: Output dataset A2022161_ndvi_merge_warp.tif exists,\n",
      "but some command line options were provided indicating a new dataset\n",
      "should be created.  Please delete existing dataset and run again.\n",
      "\n"
     ]
    },
    {
     "name": "stdout",
     "output_type": "stream",
     "text": [
      "0...10...20...30...40...50...60...70...80...90...100 - done.\n",
      "A2022169_ndvi_merge.tif\n",
      "gdal_merge.py -o A2022169_ndvi_merge.tif HDF4_EOS:EOS_GRID:\"/media/sg/91d62d44-8446-4f66-8327-bc09e774cbb1/home/df/Projects/modis_ndvi/MYD13A1.A2022169.h19v04.006.2022186013906.hdf\":MODIS_Grid_16DAY_500m_VI:\"500m 16 days NDVI\" HDF4_EOS:EOS_GRID:\"/media/sg/91d62d44-8446-4f66-8327-bc09e774cbb1/home/df/Projects/modis_ndvi/MYD13A1.A2022169.h19v05.006.2022186013338.hdf\":MODIS_Grid_16DAY_500m_VI:\"500m 16 days NDVI\" HDF4_EOS:EOS_GRID:\"/media/sg/91d62d44-8446-4f66-8327-bc09e774cbb1/home/df/Projects/modis_ndvi/MYD13A1.A2022169.h20v05.006.2022186013346.hdf\":MODIS_Grid_16DAY_500m_VI:\"500m 16 days NDVI\"\n"
     ]
    },
    {
     "name": "stderr",
     "output_type": "stream",
     "text": [
      "ERROR 1: Output dataset A2022161_evi_merge_warp.tif exists,\n",
      "but some command line options were provided indicating a new dataset\n",
      "should be created.  Please delete existing dataset and run again.\n",
      "\n"
     ]
    },
    {
     "name": "stdout",
     "output_type": "stream",
     "text": [
      "0...10...20...30...40...50...60...70...80...90...100 - done.\n",
      "A2022169_evi_merge.tif\n",
      "gdal_merge.py -o A2022169_evi_merge.tif HDF4_EOS:EOS_GRID:\"/media/sg/91d62d44-8446-4f66-8327-bc09e774cbb1/home/df/Projects/modis_ndvi/MYD13A1.A2022169.h19v04.006.2022186013906.hdf\":MODIS_Grid_16DAY_500m_VI:\"500m 16 days EVI\" HDF4_EOS:EOS_GRID:\"/media/sg/91d62d44-8446-4f66-8327-bc09e774cbb1/home/df/Projects/modis_ndvi/MYD13A1.A2022169.h19v05.006.2022186013338.hdf\":MODIS_Grid_16DAY_500m_VI:\"500m 16 days EVI\" HDF4_EOS:EOS_GRID:\"/media/sg/91d62d44-8446-4f66-8327-bc09e774cbb1/home/df/Projects/modis_ndvi/MYD13A1.A2022169.h20v05.006.2022186013346.hdf\":MODIS_Grid_16DAY_500m_VI:\"500m 16 days EVI\"\n"
     ]
    },
    {
     "name": "stderr",
     "output_type": "stream",
     "text": [
      "ERROR 1: Output dataset A2022169_ndvi_merge_warp.tif exists,\n",
      "but some command line options were provided indicating a new dataset\n",
      "should be created.  Please delete existing dataset and run again.\n",
      "\n"
     ]
    },
    {
     "name": "stdout",
     "output_type": "stream",
     "text": [
      "0...10...20...30...40...50...60...70...80...90...100 - done.\n",
      "A2022177_ndvi_merge.tif\n",
      "gdal_merge.py -o A2022177_ndvi_merge.tif HDF4_EOS:EOS_GRID:\"/media/sg/91d62d44-8446-4f66-8327-bc09e774cbb1/home/df/Projects/modis_ndvi/MOD13A1.A2022177.h19v04.006.2022195114827.hdf\":MODIS_Grid_16DAY_500m_VI:\"500m 16 days NDVI\" HDF4_EOS:EOS_GRID:\"/media/sg/91d62d44-8446-4f66-8327-bc09e774cbb1/home/df/Projects/modis_ndvi/MOD13A1.A2022177.h20v05.006.2022195114830.hdf\":MODIS_Grid_16DAY_500m_VI:\"500m 16 days NDVI\" HDF4_EOS:EOS_GRID:\"/media/sg/91d62d44-8446-4f66-8327-bc09e774cbb1/home/df/Projects/modis_ndvi/MOD13A1.A2022177.h19v05.006.2022195114741.hdf\":MODIS_Grid_16DAY_500m_VI:\"500m 16 days NDVI\"\n"
     ]
    },
    {
     "name": "stderr",
     "output_type": "stream",
     "text": [
      "ERROR 1: Output dataset A2022169_evi_merge_warp.tif exists,\n",
      "but some command line options were provided indicating a new dataset\n",
      "should be created.  Please delete existing dataset and run again.\n",
      "\n"
     ]
    },
    {
     "name": "stdout",
     "output_type": "stream",
     "text": [
      "0...10...20...30...40...50...60...70...80...90...100 - done.\n",
      "A2022177_evi_merge.tif\n",
      "gdal_merge.py -o A2022177_evi_merge.tif HDF4_EOS:EOS_GRID:\"/media/sg/91d62d44-8446-4f66-8327-bc09e774cbb1/home/df/Projects/modis_ndvi/MOD13A1.A2022177.h19v04.006.2022195114827.hdf\":MODIS_Grid_16DAY_500m_VI:\"500m 16 days EVI\" HDF4_EOS:EOS_GRID:\"/media/sg/91d62d44-8446-4f66-8327-bc09e774cbb1/home/df/Projects/modis_ndvi/MOD13A1.A2022177.h20v05.006.2022195114830.hdf\":MODIS_Grid_16DAY_500m_VI:\"500m 16 days EVI\" HDF4_EOS:EOS_GRID:\"/media/sg/91d62d44-8446-4f66-8327-bc09e774cbb1/home/df/Projects/modis_ndvi/MOD13A1.A2022177.h19v05.006.2022195114741.hdf\":MODIS_Grid_16DAY_500m_VI:\"500m 16 days EVI\"\n"
     ]
    },
    {
     "name": "stderr",
     "output_type": "stream",
     "text": [
      "ERROR 1: Output dataset A2022177_ndvi_merge_warp.tif exists,\n",
      "but some command line options were provided indicating a new dataset\n",
      "should be created.  Please delete existing dataset and run again.\n",
      "\n"
     ]
    },
    {
     "name": "stdout",
     "output_type": "stream",
     "text": [
      "0...10...20...30...40...50...60...70...80...90...100 - done.\n",
      "A2022185_ndvi_merge.tif\n",
      "gdal_merge.py -o A2022185_ndvi_merge.tif HDF4_EOS:EOS_GRID:\"/media/sg/91d62d44-8446-4f66-8327-bc09e774cbb1/home/df/Projects/modis_ndvi/MYD13A1.A2022185.h19v05.006.2022202014837.hdf\":MODIS_Grid_16DAY_500m_VI:\"500m 16 days NDVI\" HDF4_EOS:EOS_GRID:\"/media/sg/91d62d44-8446-4f66-8327-bc09e774cbb1/home/df/Projects/modis_ndvi/MYD13A1.A2022185.h19v04.006.2022202021200.hdf\":MODIS_Grid_16DAY_500m_VI:\"500m 16 days NDVI\" HDF4_EOS:EOS_GRID:\"/media/sg/91d62d44-8446-4f66-8327-bc09e774cbb1/home/df/Projects/modis_ndvi/MYD13A1.A2022185.h20v05.006.2022202023743.hdf\":MODIS_Grid_16DAY_500m_VI:\"500m 16 days NDVI\"\n"
     ]
    },
    {
     "name": "stderr",
     "output_type": "stream",
     "text": [
      "ERROR 1: Output dataset A2022177_evi_merge_warp.tif exists,\n",
      "but some command line options were provided indicating a new dataset\n",
      "should be created.  Please delete existing dataset and run again.\n",
      "\n"
     ]
    },
    {
     "name": "stdout",
     "output_type": "stream",
     "text": [
      "0...10...20...30...40...50...60...70...80...90...100 - done.\n",
      "A2022185_evi_merge.tif\n",
      "gdal_merge.py -o A2022185_evi_merge.tif HDF4_EOS:EOS_GRID:\"/media/sg/91d62d44-8446-4f66-8327-bc09e774cbb1/home/df/Projects/modis_ndvi/MYD13A1.A2022185.h19v05.006.2022202014837.hdf\":MODIS_Grid_16DAY_500m_VI:\"500m 16 days EVI\" HDF4_EOS:EOS_GRID:\"/media/sg/91d62d44-8446-4f66-8327-bc09e774cbb1/home/df/Projects/modis_ndvi/MYD13A1.A2022185.h19v04.006.2022202021200.hdf\":MODIS_Grid_16DAY_500m_VI:\"500m 16 days EVI\" HDF4_EOS:EOS_GRID:\"/media/sg/91d62d44-8446-4f66-8327-bc09e774cbb1/home/df/Projects/modis_ndvi/MYD13A1.A2022185.h20v05.006.2022202023743.hdf\":MODIS_Grid_16DAY_500m_VI:\"500m 16 days EVI\"\n"
     ]
    },
    {
     "name": "stderr",
     "output_type": "stream",
     "text": [
      "ERROR 1: Output dataset A2022185_ndvi_merge_warp.tif exists,\n",
      "but some command line options were provided indicating a new dataset\n",
      "should be created.  Please delete existing dataset and run again.\n",
      "\n"
     ]
    },
    {
     "name": "stdout",
     "output_type": "stream",
     "text": [
      "0...10...20...30...40...50...60...70...80...90...100 - done.\n",
      "A2022193_ndvi_merge.tif\n",
      "gdal_merge.py -o A2022193_ndvi_merge.tif HDF4_EOS:EOS_GRID:\"/media/sg/91d62d44-8446-4f66-8327-bc09e774cbb1/home/df/Projects/modis_ndvi/MOD13A1.A2022193.h19v05.006.2022215005129.hdf\":MODIS_Grid_16DAY_500m_VI:\"500m 16 days NDVI\" HDF4_EOS:EOS_GRID:\"/media/sg/91d62d44-8446-4f66-8327-bc09e774cbb1/home/df/Projects/modis_ndvi/MOD13A1.A2022193.h19v04.006.2022215005054.hdf\":MODIS_Grid_16DAY_500m_VI:\"500m 16 days NDVI\" HDF4_EOS:EOS_GRID:\"/media/sg/91d62d44-8446-4f66-8327-bc09e774cbb1/home/df/Projects/modis_ndvi/MOD13A1.A2022193.h20v05.006.2022215004946.hdf\":MODIS_Grid_16DAY_500m_VI:\"500m 16 days NDVI\"\n"
     ]
    },
    {
     "name": "stderr",
     "output_type": "stream",
     "text": [
      "ERROR 1: Output dataset A2022185_evi_merge_warp.tif exists,\n",
      "but some command line options were provided indicating a new dataset\n",
      "should be created.  Please delete existing dataset and run again.\n",
      "\n"
     ]
    },
    {
     "name": "stdout",
     "output_type": "stream",
     "text": [
      "0...10...20...30...40...50...60...70...80...90...100 - done.\n",
      "A2022193_evi_merge.tif\n",
      "gdal_merge.py -o A2022193_evi_merge.tif HDF4_EOS:EOS_GRID:\"/media/sg/91d62d44-8446-4f66-8327-bc09e774cbb1/home/df/Projects/modis_ndvi/MOD13A1.A2022193.h19v05.006.2022215005129.hdf\":MODIS_Grid_16DAY_500m_VI:\"500m 16 days EVI\" HDF4_EOS:EOS_GRID:\"/media/sg/91d62d44-8446-4f66-8327-bc09e774cbb1/home/df/Projects/modis_ndvi/MOD13A1.A2022193.h19v04.006.2022215005054.hdf\":MODIS_Grid_16DAY_500m_VI:\"500m 16 days EVI\" HDF4_EOS:EOS_GRID:\"/media/sg/91d62d44-8446-4f66-8327-bc09e774cbb1/home/df/Projects/modis_ndvi/MOD13A1.A2022193.h20v05.006.2022215004946.hdf\":MODIS_Grid_16DAY_500m_VI:\"500m 16 days EVI\"\n"
     ]
    },
    {
     "name": "stderr",
     "output_type": "stream",
     "text": [
      "ERROR 1: Output dataset A2022193_ndvi_merge_warp.tif exists,\n",
      "but some command line options were provided indicating a new dataset\n",
      "should be created.  Please delete existing dataset and run again.\n",
      "\n"
     ]
    },
    {
     "name": "stdout",
     "output_type": "stream",
     "text": [
      "0...10...20...30...40...50...60...70...80...90...100 - done.\n",
      "A2022201_ndvi_merge.tif\n",
      "gdal_merge.py -o A2022201_ndvi_merge.tif HDF4_EOS:EOS_GRID:\"/media/sg/91d62d44-8446-4f66-8327-bc09e774cbb1/home/df/Projects/modis_ndvi/MYD13A1.A2022201.h19v04.006.2022218011451.hdf\":MODIS_Grid_16DAY_500m_VI:\"500m 16 days NDVI\" HDF4_EOS:EOS_GRID:\"/media/sg/91d62d44-8446-4f66-8327-bc09e774cbb1/home/df/Projects/modis_ndvi/MYD13A1.A2022201.h20v05.006.2022218011115.hdf\":MODIS_Grid_16DAY_500m_VI:\"500m 16 days NDVI\" HDF4_EOS:EOS_GRID:\"/media/sg/91d62d44-8446-4f66-8327-bc09e774cbb1/home/df/Projects/modis_ndvi/MYD13A1.A2022201.h19v05.006.2022218014258.hdf\":MODIS_Grid_16DAY_500m_VI:\"500m 16 days NDVI\"\n"
     ]
    },
    {
     "name": "stderr",
     "output_type": "stream",
     "text": [
      "ERROR 1: Output dataset A2022193_evi_merge_warp.tif exists,\n",
      "but some command line options were provided indicating a new dataset\n",
      "should be created.  Please delete existing dataset and run again.\n",
      "\n"
     ]
    },
    {
     "name": "stdout",
     "output_type": "stream",
     "text": [
      "0...10...20...30...40...50...60...70...80...90...100 - done.\n",
      "A2022201_evi_merge.tif\n",
      "gdal_merge.py -o A2022201_evi_merge.tif HDF4_EOS:EOS_GRID:\"/media/sg/91d62d44-8446-4f66-8327-bc09e774cbb1/home/df/Projects/modis_ndvi/MYD13A1.A2022201.h19v04.006.2022218011451.hdf\":MODIS_Grid_16DAY_500m_VI:\"500m 16 days EVI\" HDF4_EOS:EOS_GRID:\"/media/sg/91d62d44-8446-4f66-8327-bc09e774cbb1/home/df/Projects/modis_ndvi/MYD13A1.A2022201.h20v05.006.2022218011115.hdf\":MODIS_Grid_16DAY_500m_VI:\"500m 16 days EVI\" HDF4_EOS:EOS_GRID:\"/media/sg/91d62d44-8446-4f66-8327-bc09e774cbb1/home/df/Projects/modis_ndvi/MYD13A1.A2022201.h19v05.006.2022218014258.hdf\":MODIS_Grid_16DAY_500m_VI:\"500m 16 days EVI\"\n"
     ]
    },
    {
     "name": "stderr",
     "output_type": "stream",
     "text": [
      "ERROR 1: Output dataset A2022201_ndvi_merge_warp.tif exists,\n",
      "but some command line options were provided indicating a new dataset\n",
      "should be created.  Please delete existing dataset and run again.\n",
      "\n"
     ]
    },
    {
     "name": "stdout",
     "output_type": "stream",
     "text": [
      "0...10...20...30...40...50...60...70...80...90...100 - done.\n",
      "A2022209_ndvi_merge.tif\n",
      "gdal_merge.py -o A2022209_ndvi_merge.tif HDF4_EOS:EOS_GRID:\"/media/sg/91d62d44-8446-4f66-8327-bc09e774cbb1/home/df/Projects/modis_ndvi/MOD13A1.A2022209.h20v05.006.2022231222906.hdf\":MODIS_Grid_16DAY_500m_VI:\"500m 16 days NDVI\" HDF4_EOS:EOS_GRID:\"/media/sg/91d62d44-8446-4f66-8327-bc09e774cbb1/home/df/Projects/modis_ndvi/MOD13A1.A2022209.h19v05.006.2022231222858.hdf\":MODIS_Grid_16DAY_500m_VI:\"500m 16 days NDVI\" HDF4_EOS:EOS_GRID:\"/media/sg/91d62d44-8446-4f66-8327-bc09e774cbb1/home/df/Projects/modis_ndvi/MOD13A1.A2022209.h19v04.006.2022231224205.hdf\":MODIS_Grid_16DAY_500m_VI:\"500m 16 days NDVI\"\n"
     ]
    },
    {
     "name": "stderr",
     "output_type": "stream",
     "text": [
      "ERROR 1: Output dataset A2022201_evi_merge_warp.tif exists,\n",
      "but some command line options were provided indicating a new dataset\n",
      "should be created.  Please delete existing dataset and run again.\n",
      "\n"
     ]
    },
    {
     "name": "stdout",
     "output_type": "stream",
     "text": [
      "0...10...20...30...40...50...60...70...80...90...100 - done.\n",
      "A2022209_evi_merge.tif\n",
      "gdal_merge.py -o A2022209_evi_merge.tif HDF4_EOS:EOS_GRID:\"/media/sg/91d62d44-8446-4f66-8327-bc09e774cbb1/home/df/Projects/modis_ndvi/MOD13A1.A2022209.h20v05.006.2022231222906.hdf\":MODIS_Grid_16DAY_500m_VI:\"500m 16 days EVI\" HDF4_EOS:EOS_GRID:\"/media/sg/91d62d44-8446-4f66-8327-bc09e774cbb1/home/df/Projects/modis_ndvi/MOD13A1.A2022209.h19v05.006.2022231222858.hdf\":MODIS_Grid_16DAY_500m_VI:\"500m 16 days EVI\" HDF4_EOS:EOS_GRID:\"/media/sg/91d62d44-8446-4f66-8327-bc09e774cbb1/home/df/Projects/modis_ndvi/MOD13A1.A2022209.h19v04.006.2022231224205.hdf\":MODIS_Grid_16DAY_500m_VI:\"500m 16 days EVI\"\n"
     ]
    },
    {
     "name": "stderr",
     "output_type": "stream",
     "text": [
      "ERROR 1: Output dataset A2022209_ndvi_merge_warp.tif exists,\n",
      "but some command line options were provided indicating a new dataset\n",
      "should be created.  Please delete existing dataset and run again.\n",
      "\n"
     ]
    },
    {
     "name": "stdout",
     "output_type": "stream",
     "text": [
      "0...10...20...30...40...50...60...70...80...90...100 - done.\n",
      "A2022217_ndvi_merge.tif\n",
      "gdal_merge.py -o A2022217_ndvi_merge.tif HDF4_EOS:EOS_GRID:\"/media/sg/91d62d44-8446-4f66-8327-bc09e774cbb1/home/df/Projects/modis_ndvi/MYD13A1.A2022217.h20v05.006.2022241150054.hdf\":MODIS_Grid_16DAY_500m_VI:\"500m 16 days NDVI\" HDF4_EOS:EOS_GRID:\"/media/sg/91d62d44-8446-4f66-8327-bc09e774cbb1/home/df/Projects/modis_ndvi/MYD13A1.A2022217.h19v04.006.2022241150053.hdf\":MODIS_Grid_16DAY_500m_VI:\"500m 16 days NDVI\" HDF4_EOS:EOS_GRID:\"/media/sg/91d62d44-8446-4f66-8327-bc09e774cbb1/home/df/Projects/modis_ndvi/MYD13A1.A2022217.h19v05.006.2022241150048.hdf\":MODIS_Grid_16DAY_500m_VI:\"500m 16 days NDVI\"\n"
     ]
    },
    {
     "name": "stderr",
     "output_type": "stream",
     "text": [
      "ERROR 1: Output dataset A2022209_evi_merge_warp.tif exists,\n",
      "but some command line options were provided indicating a new dataset\n",
      "should be created.  Please delete existing dataset and run again.\n",
      "\n"
     ]
    },
    {
     "name": "stdout",
     "output_type": "stream",
     "text": [
      "0...10...20...30...40...50...60...70...80...90...100 - done.\n",
      "A2022217_evi_merge.tif\n",
      "gdal_merge.py -o A2022217_evi_merge.tif HDF4_EOS:EOS_GRID:\"/media/sg/91d62d44-8446-4f66-8327-bc09e774cbb1/home/df/Projects/modis_ndvi/MYD13A1.A2022217.h20v05.006.2022241150054.hdf\":MODIS_Grid_16DAY_500m_VI:\"500m 16 days EVI\" HDF4_EOS:EOS_GRID:\"/media/sg/91d62d44-8446-4f66-8327-bc09e774cbb1/home/df/Projects/modis_ndvi/MYD13A1.A2022217.h19v04.006.2022241150053.hdf\":MODIS_Grid_16DAY_500m_VI:\"500m 16 days EVI\" HDF4_EOS:EOS_GRID:\"/media/sg/91d62d44-8446-4f66-8327-bc09e774cbb1/home/df/Projects/modis_ndvi/MYD13A1.A2022217.h19v05.006.2022241150048.hdf\":MODIS_Grid_16DAY_500m_VI:\"500m 16 days EVI\"\n"
     ]
    },
    {
     "name": "stderr",
     "output_type": "stream",
     "text": [
      "ERROR 1: Output dataset A2022217_ndvi_merge_warp.tif exists,\n",
      "but some command line options were provided indicating a new dataset\n",
      "should be created.  Please delete existing dataset and run again.\n",
      "\n"
     ]
    },
    {
     "name": "stdout",
     "output_type": "stream",
     "text": [
      "0...10...20...30...40...50...60...70...80...90...100 - done.\n",
      "A2022225_ndvi_merge.tif\n",
      "gdal_merge.py -o A2022225_ndvi_merge.tif HDF4_EOS:EOS_GRID:\"/media/sg/91d62d44-8446-4f66-8327-bc09e774cbb1/home/df/Projects/modis_ndvi/MOD13A1.A2022225.h20v05.006.2022244104150.hdf\":MODIS_Grid_16DAY_500m_VI:\"500m 16 days NDVI\" HDF4_EOS:EOS_GRID:\"/media/sg/91d62d44-8446-4f66-8327-bc09e774cbb1/home/df/Projects/modis_ndvi/MOD13A1.A2022225.h19v05.006.2022244104132.hdf\":MODIS_Grid_16DAY_500m_VI:\"500m 16 days NDVI\" HDF4_EOS:EOS_GRID:\"/media/sg/91d62d44-8446-4f66-8327-bc09e774cbb1/home/df/Projects/modis_ndvi/MOD13A1.A2022225.h19v04.006.2022244104209.hdf\":MODIS_Grid_16DAY_500m_VI:\"500m 16 days NDVI\"\n"
     ]
    },
    {
     "name": "stderr",
     "output_type": "stream",
     "text": [
      "ERROR 1: Output dataset A2022217_evi_merge_warp.tif exists,\n",
      "but some command line options were provided indicating a new dataset\n",
      "should be created.  Please delete existing dataset and run again.\n",
      "\n"
     ]
    },
    {
     "name": "stdout",
     "output_type": "stream",
     "text": [
      "0...10...20...30...40...50...60...70...80...90...100 - done.\n",
      "A2022225_evi_merge.tif\n",
      "gdal_merge.py -o A2022225_evi_merge.tif HDF4_EOS:EOS_GRID:\"/media/sg/91d62d44-8446-4f66-8327-bc09e774cbb1/home/df/Projects/modis_ndvi/MOD13A1.A2022225.h20v05.006.2022244104150.hdf\":MODIS_Grid_16DAY_500m_VI:\"500m 16 days EVI\" HDF4_EOS:EOS_GRID:\"/media/sg/91d62d44-8446-4f66-8327-bc09e774cbb1/home/df/Projects/modis_ndvi/MOD13A1.A2022225.h19v05.006.2022244104132.hdf\":MODIS_Grid_16DAY_500m_VI:\"500m 16 days EVI\" HDF4_EOS:EOS_GRID:\"/media/sg/91d62d44-8446-4f66-8327-bc09e774cbb1/home/df/Projects/modis_ndvi/MOD13A1.A2022225.h19v04.006.2022244104209.hdf\":MODIS_Grid_16DAY_500m_VI:\"500m 16 days EVI\"\n"
     ]
    },
    {
     "name": "stderr",
     "output_type": "stream",
     "text": [
      "ERROR 1: Output dataset A2022225_ndvi_merge_warp.tif exists,\n",
      "but some command line options were provided indicating a new dataset\n",
      "should be created.  Please delete existing dataset and run again.\n",
      "\n"
     ]
    },
    {
     "name": "stdout",
     "output_type": "stream",
     "text": [
      "0...10...20...30...40...50...60...70...80...90...100 - done.\n",
      "A2022233_ndvi_merge.tif\n",
      "gdal_merge.py -o A2022233_ndvi_merge.tif HDF4_EOS:EOS_GRID:\"/media/sg/91d62d44-8446-4f66-8327-bc09e774cbb1/home/df/Projects/modis_ndvi/MYD13A1.A2022233.h19v04.006.2022251105505.hdf\":MODIS_Grid_16DAY_500m_VI:\"500m 16 days NDVI\" HDF4_EOS:EOS_GRID:\"/media/sg/91d62d44-8446-4f66-8327-bc09e774cbb1/home/df/Projects/modis_ndvi/MYD13A1.A2022233.h19v05.006.2022251105230.hdf\":MODIS_Grid_16DAY_500m_VI:\"500m 16 days NDVI\" HDF4_EOS:EOS_GRID:\"/media/sg/91d62d44-8446-4f66-8327-bc09e774cbb1/home/df/Projects/modis_ndvi/MYD13A1.A2022233.h20v05.006.2022251102827.hdf\":MODIS_Grid_16DAY_500m_VI:\"500m 16 days NDVI\"\n"
     ]
    },
    {
     "name": "stderr",
     "output_type": "stream",
     "text": [
      "ERROR 1: Output dataset A2022225_evi_merge_warp.tif exists,\n",
      "but some command line options were provided indicating a new dataset\n",
      "should be created.  Please delete existing dataset and run again.\n",
      "\n"
     ]
    },
    {
     "name": "stdout",
     "output_type": "stream",
     "text": [
      "0...10...20...30...40...50...60...70...80...90...100 - done.\n",
      "A2022233_evi_merge.tif\n",
      "gdal_merge.py -o A2022233_evi_merge.tif HDF4_EOS:EOS_GRID:\"/media/sg/91d62d44-8446-4f66-8327-bc09e774cbb1/home/df/Projects/modis_ndvi/MYD13A1.A2022233.h19v04.006.2022251105505.hdf\":MODIS_Grid_16DAY_500m_VI:\"500m 16 days EVI\" HDF4_EOS:EOS_GRID:\"/media/sg/91d62d44-8446-4f66-8327-bc09e774cbb1/home/df/Projects/modis_ndvi/MYD13A1.A2022233.h19v05.006.2022251105230.hdf\":MODIS_Grid_16DAY_500m_VI:\"500m 16 days EVI\" HDF4_EOS:EOS_GRID:\"/media/sg/91d62d44-8446-4f66-8327-bc09e774cbb1/home/df/Projects/modis_ndvi/MYD13A1.A2022233.h20v05.006.2022251102827.hdf\":MODIS_Grid_16DAY_500m_VI:\"500m 16 days EVI\"\n"
     ]
    },
    {
     "name": "stderr",
     "output_type": "stream",
     "text": [
      "ERROR 1: Output dataset A2022233_ndvi_merge_warp.tif exists,\n",
      "but some command line options were provided indicating a new dataset\n",
      "should be created.  Please delete existing dataset and run again.\n",
      "\n"
     ]
    },
    {
     "name": "stdout",
     "output_type": "stream",
     "text": [
      "0...10...20...30...40...50...60...70...80...90...100 - done.\n",
      "A2022241_ndvi_merge.tif\n",
      "gdal_merge.py -o A2022241_ndvi_merge.tif HDF4_EOS:EOS_GRID:\"/media/sg/91d62d44-8446-4f66-8327-bc09e774cbb1/home/df/Projects/modis_ndvi/MOD13A1.A2022241.h19v04.006.2022258224846.hdf\":MODIS_Grid_16DAY_500m_VI:\"500m 16 days NDVI\" HDF4_EOS:EOS_GRID:\"/media/sg/91d62d44-8446-4f66-8327-bc09e774cbb1/home/df/Projects/modis_ndvi/MOD13A1.A2022241.h20v05.006.2022258224918.hdf\":MODIS_Grid_16DAY_500m_VI:\"500m 16 days NDVI\" HDF4_EOS:EOS_GRID:\"/media/sg/91d62d44-8446-4f66-8327-bc09e774cbb1/home/df/Projects/modis_ndvi/MOD13A1.A2022241.h19v05.006.2022258224814.hdf\":MODIS_Grid_16DAY_500m_VI:\"500m 16 days NDVI\"\n"
     ]
    },
    {
     "name": "stderr",
     "output_type": "stream",
     "text": [
      "ERROR 1: Output dataset A2022233_evi_merge_warp.tif exists,\n",
      "but some command line options were provided indicating a new dataset\n",
      "should be created.  Please delete existing dataset and run again.\n",
      "\n"
     ]
    },
    {
     "name": "stdout",
     "output_type": "stream",
     "text": [
      "0...10...20...30...40...50...60...70...80...90...100 - done.\n",
      "A2022241_evi_merge.tif\n",
      "gdal_merge.py -o A2022241_evi_merge.tif HDF4_EOS:EOS_GRID:\"/media/sg/91d62d44-8446-4f66-8327-bc09e774cbb1/home/df/Projects/modis_ndvi/MOD13A1.A2022241.h19v04.006.2022258224846.hdf\":MODIS_Grid_16DAY_500m_VI:\"500m 16 days EVI\" HDF4_EOS:EOS_GRID:\"/media/sg/91d62d44-8446-4f66-8327-bc09e774cbb1/home/df/Projects/modis_ndvi/MOD13A1.A2022241.h20v05.006.2022258224918.hdf\":MODIS_Grid_16DAY_500m_VI:\"500m 16 days EVI\" HDF4_EOS:EOS_GRID:\"/media/sg/91d62d44-8446-4f66-8327-bc09e774cbb1/home/df/Projects/modis_ndvi/MOD13A1.A2022241.h19v05.006.2022258224814.hdf\":MODIS_Grid_16DAY_500m_VI:\"500m 16 days EVI\"\n"
     ]
    },
    {
     "name": "stderr",
     "output_type": "stream",
     "text": [
      "ERROR 1: Output dataset A2022241_ndvi_merge_warp.tif exists,\n",
      "but some command line options were provided indicating a new dataset\n",
      "should be created.  Please delete existing dataset and run again.\n",
      "\n"
     ]
    },
    {
     "name": "stdout",
     "output_type": "stream",
     "text": [
      "0...10...20...30...40...50...60...70...80...90...100 - done.\n",
      "A2022249_ndvi_merge.tif\n",
      "gdal_merge.py -o A2022249_ndvi_merge.tif HDF4_EOS:EOS_GRID:\"/media/sg/91d62d44-8446-4f66-8327-bc09e774cbb1/home/df/Projects/modis_ndvi/MYD13A1.A2022249.h19v04.006.2022266032936.hdf\":MODIS_Grid_16DAY_500m_VI:\"500m 16 days NDVI\" HDF4_EOS:EOS_GRID:\"/media/sg/91d62d44-8446-4f66-8327-bc09e774cbb1/home/df/Projects/modis_ndvi/MYD13A1.A2022249.h20v05.006.2022266032736.hdf\":MODIS_Grid_16DAY_500m_VI:\"500m 16 days NDVI\" HDF4_EOS:EOS_GRID:\"/media/sg/91d62d44-8446-4f66-8327-bc09e774cbb1/home/df/Projects/modis_ndvi/MYD13A1.A2022249.h19v05.006.2022266032840.hdf\":MODIS_Grid_16DAY_500m_VI:\"500m 16 days NDVI\"\n"
     ]
    },
    {
     "name": "stderr",
     "output_type": "stream",
     "text": [
      "ERROR 1: Output dataset A2022241_evi_merge_warp.tif exists,\n",
      "but some command line options were provided indicating a new dataset\n",
      "should be created.  Please delete existing dataset and run again.\n",
      "\n"
     ]
    },
    {
     "name": "stdout",
     "output_type": "stream",
     "text": [
      "0...10...20...30...40...50...60...70...80...90...100 - done.\n",
      "A2022249_evi_merge.tif\n",
      "gdal_merge.py -o A2022249_evi_merge.tif HDF4_EOS:EOS_GRID:\"/media/sg/91d62d44-8446-4f66-8327-bc09e774cbb1/home/df/Projects/modis_ndvi/MYD13A1.A2022249.h19v04.006.2022266032936.hdf\":MODIS_Grid_16DAY_500m_VI:\"500m 16 days EVI\" HDF4_EOS:EOS_GRID:\"/media/sg/91d62d44-8446-4f66-8327-bc09e774cbb1/home/df/Projects/modis_ndvi/MYD13A1.A2022249.h20v05.006.2022266032736.hdf\":MODIS_Grid_16DAY_500m_VI:\"500m 16 days EVI\" HDF4_EOS:EOS_GRID:\"/media/sg/91d62d44-8446-4f66-8327-bc09e774cbb1/home/df/Projects/modis_ndvi/MYD13A1.A2022249.h19v05.006.2022266032840.hdf\":MODIS_Grid_16DAY_500m_VI:\"500m 16 days EVI\"\n"
     ]
    },
    {
     "name": "stderr",
     "output_type": "stream",
     "text": [
      "ERROR 1: Output dataset A2022249_ndvi_merge_warp.tif exists,\n",
      "but some command line options were provided indicating a new dataset\n",
      "should be created.  Please delete existing dataset and run again.\n",
      "\n"
     ]
    },
    {
     "name": "stdout",
     "output_type": "stream",
     "text": [
      "0...10...20...30...40...50...60...70...80...90...100 - done.\n",
      "A2022257_ndvi_merge.tif\n",
      "gdal_merge.py -o A2022257_ndvi_merge.tif HDF4_EOS:EOS_GRID:\"/media/sg/91d62d44-8446-4f66-8327-bc09e774cbb1/home/df/Projects/modis_ndvi/MOD13A1.A2022257.h19v04.006.2022274031609.hdf\":MODIS_Grid_16DAY_500m_VI:\"500m 16 days NDVI\" HDF4_EOS:EOS_GRID:\"/media/sg/91d62d44-8446-4f66-8327-bc09e774cbb1/home/df/Projects/modis_ndvi/MOD13A1.A2022257.h19v05.006.2022274024544.hdf\":MODIS_Grid_16DAY_500m_VI:\"500m 16 days NDVI\" HDF4_EOS:EOS_GRID:\"/media/sg/91d62d44-8446-4f66-8327-bc09e774cbb1/home/df/Projects/modis_ndvi/MOD13A1.A2022257.h20v05.006.2022274024553.hdf\":MODIS_Grid_16DAY_500m_VI:\"500m 16 days NDVI\"\n"
     ]
    },
    {
     "name": "stderr",
     "output_type": "stream",
     "text": [
      "ERROR 1: Output dataset A2022249_evi_merge_warp.tif exists,\n",
      "but some command line options were provided indicating a new dataset\n",
      "should be created.  Please delete existing dataset and run again.\n",
      "\n"
     ]
    },
    {
     "name": "stdout",
     "output_type": "stream",
     "text": [
      "0...10...20...30...40...50...60...70...80...90...100 - done.\n",
      "A2022257_evi_merge.tif\n",
      "gdal_merge.py -o A2022257_evi_merge.tif HDF4_EOS:EOS_GRID:\"/media/sg/91d62d44-8446-4f66-8327-bc09e774cbb1/home/df/Projects/modis_ndvi/MOD13A1.A2022257.h19v04.006.2022274031609.hdf\":MODIS_Grid_16DAY_500m_VI:\"500m 16 days EVI\" HDF4_EOS:EOS_GRID:\"/media/sg/91d62d44-8446-4f66-8327-bc09e774cbb1/home/df/Projects/modis_ndvi/MOD13A1.A2022257.h19v05.006.2022274024544.hdf\":MODIS_Grid_16DAY_500m_VI:\"500m 16 days EVI\" HDF4_EOS:EOS_GRID:\"/media/sg/91d62d44-8446-4f66-8327-bc09e774cbb1/home/df/Projects/modis_ndvi/MOD13A1.A2022257.h20v05.006.2022274024553.hdf\":MODIS_Grid_16DAY_500m_VI:\"500m 16 days EVI\"\n"
     ]
    },
    {
     "name": "stderr",
     "output_type": "stream",
     "text": [
      "ERROR 1: Output dataset A2022257_ndvi_merge_warp.tif exists,\n",
      "but some command line options were provided indicating a new dataset\n",
      "should be created.  Please delete existing dataset and run again.\n",
      "\n"
     ]
    },
    {
     "name": "stdout",
     "output_type": "stream",
     "text": [
      "0...10...20...30...40...50...60...70...80...90...100 - done.\n",
      "A2022265_ndvi_merge.tif\n",
      "gdal_merge.py -o A2022265_ndvi_merge.tif HDF4_EOS:EOS_GRID:\"/media/sg/91d62d44-8446-4f66-8327-bc09e774cbb1/home/df/Projects/modis_ndvi/MYD13A1.A2022265.h19v05.006.2022282004546.hdf\":MODIS_Grid_16DAY_500m_VI:\"500m 16 days NDVI\" HDF4_EOS:EOS_GRID:\"/media/sg/91d62d44-8446-4f66-8327-bc09e774cbb1/home/df/Projects/modis_ndvi/MYD13A1.A2022265.h20v05.006.2022281235635.hdf\":MODIS_Grid_16DAY_500m_VI:\"500m 16 days NDVI\" HDF4_EOS:EOS_GRID:\"/media/sg/91d62d44-8446-4f66-8327-bc09e774cbb1/home/df/Projects/modis_ndvi/MYD13A1.A2022265.h19v04.006.2022282004556.hdf\":MODIS_Grid_16DAY_500m_VI:\"500m 16 days NDVI\"\n"
     ]
    },
    {
     "name": "stderr",
     "output_type": "stream",
     "text": [
      "ERROR 1: Output dataset A2022257_evi_merge_warp.tif exists,\n",
      "but some command line options were provided indicating a new dataset\n",
      "should be created.  Please delete existing dataset and run again.\n",
      "\n"
     ]
    },
    {
     "name": "stdout",
     "output_type": "stream",
     "text": [
      "0...10...20...30...40...50...60...70...80...90...100 - done.\n",
      "A2022265_evi_merge.tif\n",
      "gdal_merge.py -o A2022265_evi_merge.tif HDF4_EOS:EOS_GRID:\"/media/sg/91d62d44-8446-4f66-8327-bc09e774cbb1/home/df/Projects/modis_ndvi/MYD13A1.A2022265.h19v05.006.2022282004546.hdf\":MODIS_Grid_16DAY_500m_VI:\"500m 16 days EVI\" HDF4_EOS:EOS_GRID:\"/media/sg/91d62d44-8446-4f66-8327-bc09e774cbb1/home/df/Projects/modis_ndvi/MYD13A1.A2022265.h20v05.006.2022281235635.hdf\":MODIS_Grid_16DAY_500m_VI:\"500m 16 days EVI\" HDF4_EOS:EOS_GRID:\"/media/sg/91d62d44-8446-4f66-8327-bc09e774cbb1/home/df/Projects/modis_ndvi/MYD13A1.A2022265.h19v04.006.2022282004556.hdf\":MODIS_Grid_16DAY_500m_VI:\"500m 16 days EVI\"\n"
     ]
    },
    {
     "name": "stderr",
     "output_type": "stream",
     "text": [
      "ERROR 1: Output dataset A2022265_ndvi_merge_warp.tif exists,\n",
      "but some command line options were provided indicating a new dataset\n",
      "should be created.  Please delete existing dataset and run again.\n",
      "\n"
     ]
    },
    {
     "name": "stdout",
     "output_type": "stream",
     "text": [
      "0...10...20...30...40...50...60...70...80...90...100 - done.\n",
      "A2022273_ndvi_merge.tif\n",
      "gdal_merge.py -o A2022273_ndvi_merge.tif HDF4_EOS:EOS_GRID:\"/media/sg/91d62d44-8446-4f66-8327-bc09e774cbb1/home/df/Projects/modis_ndvi/MOD13A1.A2022273.h20v05.006.2022297221650.hdf\":MODIS_Grid_16DAY_500m_VI:\"500m 16 days NDVI\" HDF4_EOS:EOS_GRID:\"/media/sg/91d62d44-8446-4f66-8327-bc09e774cbb1/home/df/Projects/modis_ndvi/MOD13A1.A2022273.h19v05.006.2022297221353.hdf\":MODIS_Grid_16DAY_500m_VI:\"500m 16 days NDVI\" HDF4_EOS:EOS_GRID:\"/media/sg/91d62d44-8446-4f66-8327-bc09e774cbb1/home/df/Projects/modis_ndvi/MOD13A1.A2022273.h19v04.006.2022297221424.hdf\":MODIS_Grid_16DAY_500m_VI:\"500m 16 days NDVI\"\n"
     ]
    },
    {
     "name": "stderr",
     "output_type": "stream",
     "text": [
      "ERROR 1: Output dataset A2022265_evi_merge_warp.tif exists,\n",
      "but some command line options were provided indicating a new dataset\n",
      "should be created.  Please delete existing dataset and run again.\n",
      "\n"
     ]
    },
    {
     "name": "stdout",
     "output_type": "stream",
     "text": [
      "0...10...20...30...40...50...60...70...80...90...100 - done.\n",
      "A2022273_evi_merge.tif\n",
      "gdal_merge.py -o A2022273_evi_merge.tif HDF4_EOS:EOS_GRID:\"/media/sg/91d62d44-8446-4f66-8327-bc09e774cbb1/home/df/Projects/modis_ndvi/MOD13A1.A2022273.h20v05.006.2022297221650.hdf\":MODIS_Grid_16DAY_500m_VI:\"500m 16 days EVI\" HDF4_EOS:EOS_GRID:\"/media/sg/91d62d44-8446-4f66-8327-bc09e774cbb1/home/df/Projects/modis_ndvi/MOD13A1.A2022273.h19v05.006.2022297221353.hdf\":MODIS_Grid_16DAY_500m_VI:\"500m 16 days EVI\" HDF4_EOS:EOS_GRID:\"/media/sg/91d62d44-8446-4f66-8327-bc09e774cbb1/home/df/Projects/modis_ndvi/MOD13A1.A2022273.h19v04.006.2022297221424.hdf\":MODIS_Grid_16DAY_500m_VI:\"500m 16 days EVI\"\n"
     ]
    },
    {
     "name": "stderr",
     "output_type": "stream",
     "text": [
      "ERROR 1: Output dataset A2022273_ndvi_merge_warp.tif exists,\n",
      "but some command line options were provided indicating a new dataset\n",
      "should be created.  Please delete existing dataset and run again.\n",
      "\n"
     ]
    },
    {
     "name": "stdout",
     "output_type": "stream",
     "text": [
      "0...10...20...30...40...50...60...70...80...90...100 - done.\n"
     ]
    },
    {
     "name": "stderr",
     "output_type": "stream",
     "text": [
      "ERROR 1: Output dataset A2022273_evi_merge_warp.tif exists,\n",
      "but some command line options were provided indicating a new dataset\n",
      "should be created.  Please delete existing dataset and run again.\n",
      "\n"
     ]
    }
   ],
   "source": [
    "for year in years:\n",
    "    mypath = \"/media/sg/91d62d44-8446-4f66-8327-bc09e774cbb1/home/df/Projects/modis_ndvi\"\n",
    "    os.chdir(mypath)\n",
    "    grouped = make_dataframe(mypath)\n",
    "    create_ndvi_evi(year,grouped)\n",
    "    #create_lst_night(year,grouped"
   ]
  },
  {
   "cell_type": "markdown",
   "metadata": {},
   "source": [
    "# TIF to nc"
   ]
  },
  {
   "cell_type": "code",
   "execution_count": 119,
   "metadata": {},
   "outputs": [],
   "source": [
    "veg_path = '/media/sg/91d62d44-8446-4f66-8327-bc09e774cbb1/home/df/Projects/modis_composites'\n",
    "lst_path = '/media/sg/91d62d44-8446-4f66-8327-bc09e774cbb1/home/df/Projects/lst_8day/composites_2020_2021'"
   ]
  },
  {
   "cell_type": "code",
   "execution_count": 117,
   "metadata": {},
   "outputs": [],
   "source": [
    "veg_dest_path = '/media/sg/91d62d44-8446-4f66-8327-bc09e774cbb1/home/df/Projects/datacube_project/veg'"
   ]
  },
  {
   "cell_type": "code",
   "execution_count": 135,
   "metadata": {},
   "outputs": [],
   "source": [
    "lst_dest_path = '/media/sg/91d62d44-8446-4f66-8327-bc09e774cbb1/home/df/Projects/datacube_project/lst'"
   ]
  },
  {
   "cell_type": "code",
   "execution_count": 122,
   "metadata": {},
   "outputs": [],
   "source": [
    "evi_files = glob.glob(os.path.join(veg_path, 'A*_evi_merge_warp.tif'))\n",
    "ndvi_files = glob.glob(os.path.join(veg_path, 'A*_ndvi_merge_warp.tif'))\n",
    "lst_day_files = glob.glob(os.path.join(lst_path, 'A*_day_merge_warp.tif'))\n",
    "lst_night_files = glob.glob(os.path.join(lst_path, 'A*_night_merge_warp.tif'))"
   ]
  },
  {
   "cell_type": "markdown",
   "metadata": {},
   "source": [
    "# ndvi"
   ]
  },
  {
   "cell_type": "code",
   "execution_count": 182,
   "metadata": {},
   "outputs": [],
   "source": [
    "data_dict = {}\n",
    "for evi_file in evi_files:\n",
    "    date_str = os.path.basename(evi_file)[1:8]\n",
    "    if date_str in data_dict:\n",
    "        data_dict[date_str].append((evi_file, None))\n",
    "    else:\n",
    "        data_dict[date_str] = [(evi_file, None)]\n",
    "        \n",
    "for ndvi_file in ndvi_files:\n",
    "    date_str = os.path.basename(ndvi_file)[1:8]\n",
    "    if date_str in data_dict:\n",
    "        for i, (evi_file, ndvi_file_) in enumerate(data_dict[date_str]):\n",
    "            if ndvi_file_ is None:\n",
    "                data_dict[date_str][i] = (evi_file, ndvi_file)\n",
    "                break"
   ]
  },
  {
   "cell_type": "code",
   "execution_count": 183,
   "metadata": {},
   "outputs": [
    {
     "name": "stdout",
     "output_type": "stream",
     "text": [
      "/media/sg/91d62d44-8446-4f66-8327-bc09e774cbb1/home/df/Projects/datacube_project/veg/20210813_veg.nc\n",
      "/media/sg/91d62d44-8446-4f66-8327-bc09e774cbb1/home/df/Projects/datacube_project/veg/20200711_veg.nc\n",
      "/media/sg/91d62d44-8446-4f66-8327-bc09e774cbb1/home/df/Projects/datacube_project/veg/20210712_veg.nc\n",
      "/media/sg/91d62d44-8446-4f66-8327-bc09e774cbb1/home/df/Projects/datacube_project/veg/20220626_veg.nc\n",
      "/media/sg/91d62d44-8446-4f66-8327-bc09e774cbb1/home/df/Projects/datacube_project/veg/20200601_veg.nc\n",
      "/media/sg/91d62d44-8446-4f66-8327-bc09e774cbb1/home/df/Projects/datacube_project/veg/20210728_veg.nc\n",
      "/media/sg/91d62d44-8446-4f66-8327-bc09e774cbb1/home/df/Projects/datacube_project/veg/20200812_veg.nc\n",
      "/media/sg/91d62d44-8446-4f66-8327-bc09e774cbb1/home/df/Projects/datacube_project/veg/20210602_veg.nc\n",
      "/media/sg/91d62d44-8446-4f66-8327-bc09e774cbb1/home/df/Projects/datacube_project/veg/20220728_veg.nc\n",
      "/media/sg/91d62d44-8446-4f66-8327-bc09e774cbb1/home/df/Projects/datacube_project/veg/20220813_veg.nc\n",
      "/media/sg/91d62d44-8446-4f66-8327-bc09e774cbb1/home/df/Projects/datacube_project/veg/20210525_veg.nc\n",
      "/media/sg/91d62d44-8446-4f66-8327-bc09e774cbb1/home/df/Projects/datacube_project/veg/20200508_veg.nc\n",
      "/media/sg/91d62d44-8446-4f66-8327-bc09e774cbb1/home/df/Projects/datacube_project/veg/20210626_veg.nc\n",
      "/media/sg/91d62d44-8446-4f66-8327-bc09e774cbb1/home/df/Projects/datacube_project/veg/20200430_veg.nc\n",
      "/media/sg/91d62d44-8446-4f66-8327-bc09e774cbb1/home/df/Projects/datacube_project/veg/20210906_veg.nc\n",
      "/media/sg/91d62d44-8446-4f66-8327-bc09e774cbb1/home/df/Projects/datacube_project/veg/20220720_veg.nc\n",
      "/media/sg/91d62d44-8446-4f66-8327-bc09e774cbb1/home/df/Projects/datacube_project/veg/20220618_veg.nc\n",
      "/media/sg/91d62d44-8446-4f66-8327-bc09e774cbb1/home/df/Projects/datacube_project/veg/20210501_veg.nc\n",
      "/media/sg/91d62d44-8446-4f66-8327-bc09e774cbb1/home/df/Projects/datacube_project/veg/20220821_veg.nc\n",
      "/media/sg/91d62d44-8446-4f66-8327-bc09e774cbb1/home/df/Projects/datacube_project/veg/20220906_veg.nc\n",
      "/media/sg/91d62d44-8446-4f66-8327-bc09e774cbb1/home/df/Projects/datacube_project/veg/20200516_veg.nc\n",
      "/media/sg/91d62d44-8446-4f66-8327-bc09e774cbb1/home/df/Projects/datacube_project/veg/20220423_veg.nc\n",
      "/media/sg/91d62d44-8446-4f66-8327-bc09e774cbb1/home/df/Projects/datacube_project/veg/20210922_veg.nc\n",
      "/media/sg/91d62d44-8446-4f66-8327-bc09e774cbb1/home/df/Projects/datacube_project/veg/20210720_veg.nc\n",
      "/media/sg/91d62d44-8446-4f66-8327-bc09e774cbb1/home/df/Projects/datacube_project/veg/20220415_veg.nc\n",
      "/media/sg/91d62d44-8446-4f66-8327-bc09e774cbb1/home/df/Projects/datacube_project/veg/20210610_veg.nc\n",
      "/media/sg/91d62d44-8446-4f66-8327-bc09e774cbb1/home/df/Projects/datacube_project/veg/20200703_veg.nc\n",
      "/media/sg/91d62d44-8446-4f66-8327-bc09e774cbb1/home/df/Projects/datacube_project/veg/20220829_veg.nc\n",
      "/media/sg/91d62d44-8446-4f66-8327-bc09e774cbb1/home/df/Projects/datacube_project/veg/20210805_veg.nc\n",
      "/media/sg/91d62d44-8446-4f66-8327-bc09e774cbb1/home/df/Projects/datacube_project/veg/20200929_veg.nc\n",
      "/media/sg/91d62d44-8446-4f66-8327-bc09e774cbb1/home/df/Projects/datacube_project/veg/20220407_veg.nc\n",
      "/media/sg/91d62d44-8446-4f66-8327-bc09e774cbb1/home/df/Projects/datacube_project/veg/20200921_veg.nc\n",
      "/media/sg/91d62d44-8446-4f66-8327-bc09e774cbb1/home/df/Projects/datacube_project/veg/20210407_veg.nc\n",
      "/media/sg/91d62d44-8446-4f66-8327-bc09e774cbb1/home/df/Projects/datacube_project/veg/20220525_veg.nc\n",
      "/media/sg/91d62d44-8446-4f66-8327-bc09e774cbb1/home/df/Projects/datacube_project/veg/20200719_veg.nc\n",
      "/media/sg/91d62d44-8446-4f66-8327-bc09e774cbb1/home/df/Projects/datacube_project/veg/20210415_veg.nc\n",
      "/media/sg/91d62d44-8446-4f66-8327-bc09e774cbb1/home/df/Projects/datacube_project/veg/20220509_veg.nc\n",
      "/media/sg/91d62d44-8446-4f66-8327-bc09e774cbb1/home/df/Projects/datacube_project/veg/20220922_veg.nc\n",
      "/media/sg/91d62d44-8446-4f66-8327-bc09e774cbb1/home/df/Projects/datacube_project/veg/20210517_veg.nc\n",
      "/media/sg/91d62d44-8446-4f66-8327-bc09e774cbb1/home/df/Projects/datacube_project/veg/20210509_veg.nc\n",
      "/media/sg/91d62d44-8446-4f66-8327-bc09e774cbb1/home/df/Projects/datacube_project/veg/20220602_veg.nc\n",
      "/media/sg/91d62d44-8446-4f66-8327-bc09e774cbb1/home/df/Projects/datacube_project/veg/20200905_veg.nc\n",
      "/media/sg/91d62d44-8446-4f66-8327-bc09e774cbb1/home/df/Projects/datacube_project/veg/20200828_veg.nc\n",
      "/media/sg/91d62d44-8446-4f66-8327-bc09e774cbb1/home/df/Projects/datacube_project/veg/20220914_veg.nc\n",
      "/media/sg/91d62d44-8446-4f66-8327-bc09e774cbb1/home/df/Projects/datacube_project/veg/20220805_veg.nc\n",
      "/media/sg/91d62d44-8446-4f66-8327-bc09e774cbb1/home/df/Projects/datacube_project/veg/20220712_veg.nc\n",
      "/media/sg/91d62d44-8446-4f66-8327-bc09e774cbb1/home/df/Projects/datacube_project/veg/20220610_veg.nc\n",
      "/media/sg/91d62d44-8446-4f66-8327-bc09e774cbb1/home/df/Projects/datacube_project/veg/20200820_veg.nc\n",
      "/media/sg/91d62d44-8446-4f66-8327-bc09e774cbb1/home/df/Projects/datacube_project/veg/20200524_veg.nc\n",
      "/media/sg/91d62d44-8446-4f66-8327-bc09e774cbb1/home/df/Projects/datacube_project/veg/20220930_veg.nc\n",
      "/media/sg/91d62d44-8446-4f66-8327-bc09e774cbb1/home/df/Projects/datacube_project/veg/20200609_veg.nc\n",
      "/media/sg/91d62d44-8446-4f66-8327-bc09e774cbb1/home/df/Projects/datacube_project/veg/20200414_veg.nc\n",
      "/media/sg/91d62d44-8446-4f66-8327-bc09e774cbb1/home/df/Projects/datacube_project/veg/20220501_veg.nc\n",
      "/media/sg/91d62d44-8446-4f66-8327-bc09e774cbb1/home/df/Projects/datacube_project/veg/20200617_veg.nc\n",
      "/media/sg/91d62d44-8446-4f66-8327-bc09e774cbb1/home/df/Projects/datacube_project/veg/20200727_veg.nc\n",
      "/media/sg/91d62d44-8446-4f66-8327-bc09e774cbb1/home/df/Projects/datacube_project/veg/20200625_veg.nc\n",
      "/media/sg/91d62d44-8446-4f66-8327-bc09e774cbb1/home/df/Projects/datacube_project/veg/20210829_veg.nc\n",
      "/media/sg/91d62d44-8446-4f66-8327-bc09e774cbb1/home/df/Projects/datacube_project/veg/20200422_veg.nc\n",
      "/media/sg/91d62d44-8446-4f66-8327-bc09e774cbb1/home/df/Projects/datacube_project/veg/20210821_veg.nc\n",
      "/media/sg/91d62d44-8446-4f66-8327-bc09e774cbb1/home/df/Projects/datacube_project/veg/20220704_veg.nc\n",
      "/media/sg/91d62d44-8446-4f66-8327-bc09e774cbb1/home/df/Projects/datacube_project/veg/20210423_veg.nc\n",
      "/media/sg/91d62d44-8446-4f66-8327-bc09e774cbb1/home/df/Projects/datacube_project/veg/20220517_veg.nc\n",
      "/media/sg/91d62d44-8446-4f66-8327-bc09e774cbb1/home/df/Projects/datacube_project/veg/20210914_veg.nc\n",
      "/media/sg/91d62d44-8446-4f66-8327-bc09e774cbb1/home/df/Projects/datacube_project/veg/20210930_veg.nc\n",
      "/media/sg/91d62d44-8446-4f66-8327-bc09e774cbb1/home/df/Projects/datacube_project/veg/20210618_veg.nc\n",
      "/media/sg/91d62d44-8446-4f66-8327-bc09e774cbb1/home/df/Projects/datacube_project/veg/20200804_veg.nc\n",
      "/media/sg/91d62d44-8446-4f66-8327-bc09e774cbb1/home/df/Projects/datacube_project/veg/20210704_veg.nc\n",
      "/media/sg/91d62d44-8446-4f66-8327-bc09e774cbb1/home/df/Projects/datacube_project/veg/20200406_veg.nc\n",
      "/media/sg/91d62d44-8446-4f66-8327-bc09e774cbb1/home/df/Projects/datacube_project/veg/20200913_veg.nc\n"
     ]
    }
   ],
   "source": [
    "for date_str, file_pairs in data_dict.items():\n",
    "    doy = date_str[4:]\n",
    "    year = int(date_str[:4])\n",
    "    date = datetime(year, 1, 1) + timedelta(int(doy) - 1)\n",
    "    yyyymmdd = date.strftime('%Y%m%d')\n",
    "    nc_file_name = os.path.join(veg_dest_path, f'{yyyymmdd}_veg.nc')\n",
    "    print(nc_file_name)\n",
    "    datasets = []\n",
    "    for evi_file, ndvi_file in file_pairs:\n",
    "        if ndvi_file is None:\n",
    "            print(f\"No matching NDVI file found for EVI file {evi_file}\")\n",
    "            continue\n",
    "        evi_da = xr.open_rasterio(evi_file).squeeze()\n",
    "        ndvi_da = xr.open_rasterio(ndvi_file).squeeze()\n",
    "        evi_da.name = 'evi'\n",
    "        ndvi_da.name = 'ndvi'\n",
    "        ds = xr.merge([evi_da, ndvi_da])\n",
    "        datasets.append(ds)\n",
    "    if datasets:\n",
    "        combined_ds = xr.concat(datasets, dim='band')\n",
    "        combined_ds = combined_ds.squeeze()\n",
    "        combined_ds = combined_ds.drop('band')\n",
    "        combined_ds = combined_ds.assign_coords(time=yyyymmdd)\n",
    "        combined_ds = combined_ds.expand_dims('time')\n",
    "        for attr_name in combined_ds.attrs:\n",
    "            del ds.attrs[attr_name]\n",
    "        combined_ds.to_netcdf(nc_file_name)"
   ]
  },
  {
   "cell_type": "markdown",
   "metadata": {},
   "source": [
    "# lst"
   ]
  },
  {
   "cell_type": "code",
   "execution_count": 180,
   "metadata": {},
   "outputs": [],
   "source": [
    "data_lst_dict = {}\n",
    "for day_file in lst_day_files:\n",
    "    date_str = os.path.basename(day_file)[1:8]\n",
    "    if date_str in data_lst_dict:\n",
    "        data_lst_dict[date_str].append((day_file, None))\n",
    "    else:\n",
    "        data_lst_dict[date_str] = [(day_file, None)]\n",
    "\n",
    "for night_file in lst_night_files:\n",
    "    date_str = os.path.basename(night_file)[1:8]\n",
    "    if date_str in data_lst_dict:\n",
    "        for i, (day_file, night_file_) in enumerate(data_lst_dict[date_str]):\n",
    "            if night_file_ is None:\n",
    "                data_lst_dict[date_str][i] = (day_file, night_file)\n",
    "                break"
   ]
  },
  {
   "cell_type": "code",
   "execution_count": 142,
   "metadata": {},
   "outputs": [],
   "source": [
    "warnings.filterwarnings(\"ignore\", message=\"open_rasterio is Deprecated in favor of rioxarray\")"
   ]
  },
  {
   "cell_type": "code",
   "execution_count": 181,
   "metadata": {
    "collapsed": true
   },
   "outputs": [
    {
     "name": "stdout",
     "output_type": "stream",
     "text": [
      "/media/sg/91d62d44-8446-4f66-8327-bc09e774cbb1/home/df/Projects/datacube_project/lst/20200820_lst.nc\n",
      "/media/sg/91d62d44-8446-4f66-8327-bc09e774cbb1/home/df/Projects/datacube_project/lst/20200609_lst.nc\n",
      "/media/sg/91d62d44-8446-4f66-8327-bc09e774cbb1/home/df/Projects/datacube_project/lst/20210720_lst.nc\n",
      "/media/sg/91d62d44-8446-4f66-8327-bc09e774cbb1/home/df/Projects/datacube_project/lst/20200617_lst.nc\n",
      "/media/sg/91d62d44-8446-4f66-8327-bc09e774cbb1/home/df/Projects/datacube_project/lst/20200929_lst.nc\n",
      "/media/sg/91d62d44-8446-4f66-8327-bc09e774cbb1/home/df/Projects/datacube_project/lst/20200921_lst.nc\n",
      "/media/sg/91d62d44-8446-4f66-8327-bc09e774cbb1/home/df/Projects/datacube_project/lst/20200524_lst.nc\n",
      "/media/sg/91d62d44-8446-4f66-8327-bc09e774cbb1/home/df/Projects/datacube_project/lst/20200913_lst.nc\n",
      "/media/sg/91d62d44-8446-4f66-8327-bc09e774cbb1/home/df/Projects/datacube_project/lst/20200516_lst.nc\n",
      "/media/sg/91d62d44-8446-4f66-8327-bc09e774cbb1/home/df/Projects/datacube_project/lst/20200828_lst.nc\n",
      "/media/sg/91d62d44-8446-4f66-8327-bc09e774cbb1/home/df/Projects/datacube_project/lst/20210517_lst.nc\n",
      "/media/sg/91d62d44-8446-4f66-8327-bc09e774cbb1/home/df/Projects/datacube_project/lst/20210618_lst.nc\n",
      "/media/sg/91d62d44-8446-4f66-8327-bc09e774cbb1/home/df/Projects/datacube_project/lst/20210805_lst.nc\n",
      "/media/sg/91d62d44-8446-4f66-8327-bc09e774cbb1/home/df/Projects/datacube_project/lst/20200812_lst.nc\n",
      "/media/sg/91d62d44-8446-4f66-8327-bc09e774cbb1/home/df/Projects/datacube_project/lst/20200719_lst.nc\n",
      "/media/sg/91d62d44-8446-4f66-8327-bc09e774cbb1/home/df/Projects/datacube_project/lst/20210930_lst.nc\n",
      "/media/sg/91d62d44-8446-4f66-8327-bc09e774cbb1/home/df/Projects/datacube_project/lst/20200711_lst.nc\n",
      "/media/sg/91d62d44-8446-4f66-8327-bc09e774cbb1/home/df/Projects/datacube_project/lst/20210829_lst.nc\n",
      "/media/sg/91d62d44-8446-4f66-8327-bc09e774cbb1/home/df/Projects/datacube_project/lst/20200601_lst.nc\n",
      "/media/sg/91d62d44-8446-4f66-8327-bc09e774cbb1/home/df/Projects/datacube_project/lst/20200329_lst.nc\n",
      "/media/sg/91d62d44-8446-4f66-8327-bc09e774cbb1/home/df/Projects/datacube_project/lst/20200422_lst.nc\n",
      "/media/sg/91d62d44-8446-4f66-8327-bc09e774cbb1/home/df/Projects/datacube_project/lst/20210602_lst.nc\n",
      "/media/sg/91d62d44-8446-4f66-8327-bc09e774cbb1/home/df/Projects/datacube_project/lst/20210906_lst.nc\n",
      "/media/sg/91d62d44-8446-4f66-8327-bc09e774cbb1/home/df/Projects/datacube_project/lst/20210712_lst.nc\n",
      "/media/sg/91d62d44-8446-4f66-8327-bc09e774cbb1/home/df/Projects/datacube_project/lst/20200321_lst.nc\n",
      "/media/sg/91d62d44-8446-4f66-8327-bc09e774cbb1/home/df/Projects/datacube_project/lst/20210610_lst.nc\n",
      "/media/sg/91d62d44-8446-4f66-8327-bc09e774cbb1/home/df/Projects/datacube_project/lst/20200406_lst.nc\n",
      "/media/sg/91d62d44-8446-4f66-8327-bc09e774cbb1/home/df/Projects/datacube_project/lst/20210821_lst.nc\n",
      "/media/sg/91d62d44-8446-4f66-8327-bc09e774cbb1/home/df/Projects/datacube_project/lst/20200905_lst.nc\n",
      "/media/sg/91d62d44-8446-4f66-8327-bc09e774cbb1/home/df/Projects/datacube_project/lst/20200727_lst.nc\n",
      "/media/sg/91d62d44-8446-4f66-8327-bc09e774cbb1/home/df/Projects/datacube_project/lst/20210501_lst.nc\n",
      "/media/sg/91d62d44-8446-4f66-8327-bc09e774cbb1/home/df/Projects/datacube_project/lst/20210525_lst.nc\n",
      "/media/sg/91d62d44-8446-4f66-8327-bc09e774cbb1/home/df/Projects/datacube_project/lst/20200703_lst.nc\n",
      "/media/sg/91d62d44-8446-4f66-8327-bc09e774cbb1/home/df/Projects/datacube_project/lst/20210407_lst.nc\n",
      "/media/sg/91d62d44-8446-4f66-8327-bc09e774cbb1/home/df/Projects/datacube_project/lst/20210914_lst.nc\n",
      "/media/sg/91d62d44-8446-4f66-8327-bc09e774cbb1/home/df/Projects/datacube_project/lst/20200804_lst.nc\n",
      "/media/sg/91d62d44-8446-4f66-8327-bc09e774cbb1/home/df/Projects/datacube_project/lst/20210509_lst.nc\n",
      "/media/sg/91d62d44-8446-4f66-8327-bc09e774cbb1/home/df/Projects/datacube_project/lst/20200430_lst.nc\n",
      "/media/sg/91d62d44-8446-4f66-8327-bc09e774cbb1/home/df/Projects/datacube_project/lst/20210626_lst.nc\n",
      "/media/sg/91d62d44-8446-4f66-8327-bc09e774cbb1/home/df/Projects/datacube_project/lst/20210922_lst.nc\n",
      "/media/sg/91d62d44-8446-4f66-8327-bc09e774cbb1/home/df/Projects/datacube_project/lst/20200625_lst.nc\n",
      "/media/sg/91d62d44-8446-4f66-8327-bc09e774cbb1/home/df/Projects/datacube_project/lst/20200508_lst.nc\n",
      "/media/sg/91d62d44-8446-4f66-8327-bc09e774cbb1/home/df/Projects/datacube_project/lst/20200414_lst.nc\n",
      "/media/sg/91d62d44-8446-4f66-8327-bc09e774cbb1/home/df/Projects/datacube_project/lst/20210728_lst.nc\n",
      "/media/sg/91d62d44-8446-4f66-8327-bc09e774cbb1/home/df/Projects/datacube_project/lst/20210813_lst.nc\n",
      "/media/sg/91d62d44-8446-4f66-8327-bc09e774cbb1/home/df/Projects/datacube_project/lst/20210423_lst.nc\n",
      "/media/sg/91d62d44-8446-4f66-8327-bc09e774cbb1/home/df/Projects/datacube_project/lst/20210415_lst.nc\n",
      "/media/sg/91d62d44-8446-4f66-8327-bc09e774cbb1/home/df/Projects/datacube_project/lst/20210704_lst.nc\n"
     ]
    }
   ],
   "source": [
    "for date_str, file_pairs in data_lst_dict.items():\n",
    "    datasets = []\n",
    "    doy = date_str[4:]\n",
    "    year = int(date_str[:4])\n",
    "    date = datetime(year, 1, 1) + timedelta(int(doy) - 1)\n",
    "    yyyymmdd = date.strftime('%Y%m%d')\n",
    "    nc_file_name = os.path.join(lst_dest_path, f'{yyyymmdd}_lst.nc')\n",
    "    print(nc_file_name)\n",
    "    for lst_day, lst_night in file_pairs:\n",
    "        if lst_night is None:\n",
    "            print(f\"No matching LST file found for night file {lst_night}\")\n",
    "            continue\n",
    "        day_da = xr.open_rasterio(lst_day).squeeze()\n",
    "        night_da = xr.open_rasterio(lst_night).squeeze()\n",
    "        day_da.name = 'day'\n",
    "        night_da.name = 'night'\n",
    "        ds = xr.merge([day_da, night_da])\n",
    "        datasets.append(ds)\n",
    "    if datasets:\n",
    "        combined_ds = xr.concat(datasets, dim='band')\n",
    "        combined_ds = combined_ds.squeeze()\n",
    "        combined_ds = combined_ds.drop('band')\n",
    "        combined_ds = combined_ds.assign_coords(time=yyyymmdd)\n",
    "        combined_ds = combined_ds.expand_dims('time')\n",
    "        for attr_name in combined_ds.attrs:\n",
    "            del ds.attrs[attr_name]\n",
    "        combined_ds.to_netcdf(nc_file_name)"
   ]
  }
 ],
 "metadata": {
  "kernelspec": {
   "display_name": "fire_ffp",
   "language": "python",
   "name": "fire_ffp"
  },
  "language_info": {
   "codemirror_mode": {
    "name": "ipython",
    "version": 3
   },
   "file_extension": ".py",
   "mimetype": "text/x-python",
   "name": "python",
   "nbconvert_exporter": "python",
   "pygments_lexer": "ipython3",
   "version": "3.9.16"
  }
 },
 "nbformat": 4,
 "nbformat_minor": 2
}
