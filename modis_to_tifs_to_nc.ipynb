{
 "cells": [
  {
   "cell_type": "code",
   "execution_count": null,
   "metadata": {},
   "outputs": [],
   "source": [
    "import os\n",
    "import pandas as pd\n",
    "import subprocess\n",
    "from subprocess import call\n",
    "import rasterio\n",
    "import xarray as xr\n",
    "import glob\n",
    "from datetime import datetime, timedelta\n",
    "import warnings"
   ]
  },
  {
   "cell_type": "code",
   "execution_count": null,
   "metadata": {},
   "outputs": [],
   "source": [
    "def make_dataframe(mypath):\n",
    "    hdf_name = []\n",
    "    for image in os.listdir(mypath):\n",
    "        if image.endswith('hdf'):\n",
    "            hdf_name.append(image)\n",
    "    dates = []\n",
    "    for name in hdf_name:\n",
    "        dates.append(name.split('.')[1])\n",
    "    df_images = pd.DataFrame(list(zip(hdf_name, dates)), columns = ['image', 'date']) \n",
    "    grouped = df_images.groupby('date')['image'].apply(list).reset_index()\n",
    "    grouped['image'].count()\n",
    "    return grouped"
   ]
  },
  {
   "cell_type": "code",
   "execution_count": null,
   "metadata": {},
   "outputs": [],
   "source": [
    "def mosaic_and_clip_lst(date,paths,timeofday):\n",
    "    os.chdir('/media/sg/91d62d44-8446-4f66-8327-bc09e774cbb1/home/df/Projects/lst_8day/composites_2020_2021')\n",
    "    st_name = date+'_'+timeofday+'_merge.tif'\n",
    "    print(st_name)\n",
    "    merge_command = ['gdal_merge.py', \"-o\",st_name, ' '.join(paths)]\n",
    "    merge_command = ' '.join(merge_command)\n",
    "    #cmd_a = 'gdal_merge.py -o '+ st_name'-ul_lr 19.46 34.44 28.29 41.9 '\n",
    "    subprocess.call(merge_command,shell=True)\n",
    "    warp_command = ['gdalwarp','-t_srs','EPSG:4326','-te 19.46 34.44 28.29 41.9', st_name,st_name.split('.')[0]+'_warp.tif']\n",
    "    warp_command = ' '.join(warp_command)\n",
    "    subprocess.call(warp_command,shell=True)\n",
    "    call([\"rm\", st_name])"
   ]
  },
  {
   "cell_type": "code",
   "execution_count": null,
   "metadata": {},
   "outputs": [],
   "source": [
    "def create_lst_day(year,grouped):\n",
    "    for index,row in grouped.iterrows():#['image'].loc[0]:\n",
    "        paths = []\n",
    "        for d in row['image']: \n",
    "            path = 'HDF4_EOS:EOS_GRID:\"/media/sg/91d62d44-8446-4f66-8327-bc09e774cbb1/home/df/Projects/lst_8day/'+str(year)+'/'+d+'\":MODIS_Grid_8Day_1km_LST:LST_Day_1km'\n",
    "            paths.append(path)\n",
    "            #mosaic_and_clip_lst(path[0],paths,timeofday)\n",
    "        date = d.split('.')[1]\n",
    "        timeofday = 'day'\n",
    "        mosaic_and_clip_lst(date,paths,timeofday)"
   ]
  },
  {
   "cell_type": "code",
   "execution_count": null,
   "metadata": {},
   "outputs": [],
   "source": [
    "def create_lst_night(year,grouped):\n",
    "    for index,row in grouped.iterrows():#['image'].loc[0]:\n",
    "        paths = []\n",
    "        for d in row['image']: \n",
    "            path = 'HDF4_EOS:EOS_GRID:\"/media/sg/91d62d44-8446-4f66-8327-bc09e774cbb1/home/df/Projects/lst_8day/'+str(year)+'/'+d+'\":MODIS_Grid_8Day_1km_LST:LST_Night_1km'\n",
    "            paths.append(path)\n",
    "            #mosaic_and_clip_lst(path[0],paths,timeofday)\n",
    "        date = d.split('.')[1]\n",
    "        timeofday = 'night'\n",
    "        mosaic_and_clip_lst(date,paths,timeofday)"
   ]
  },
  {
   "cell_type": "code",
   "execution_count": null,
   "metadata": {},
   "outputs": [],
   "source": [
    "years =[2020,2021]\n",
    "#[2010,2011,2012,2013,2014,2015,2016,2017,2018]"
   ]
  },
  {
   "cell_type": "code",
   "execution_count": null,
   "metadata": {},
   "outputs": [],
   "source": [
    "for year in years:\n",
    "    mypath = \"/media/sg/91d62d44-8446-4f66-8327-bc09e774cbb1/home/df/Projects/lst_8day/\"+str(year)\n",
    "    os.chdir(mypath)\n",
    "    grouped = make_dataframe(mypath)\n",
    "    create_lst_day(year,grouped)\n",
    "    create_lst_night(year,grouped)"
   ]
  },
  {
   "cell_type": "code",
   "execution_count": null,
   "metadata": {},
   "outputs": [],
   "source": [
    "grouped.loc[2]['image']"
   ]
  },
  {
   "cell_type": "markdown",
   "metadata": {},
   "source": [
    "# NDVI"
   ]
  },
  {
   "cell_type": "code",
   "execution_count": null,
   "metadata": {},
   "outputs": [],
   "source": [
    "/media/sg/91d62d44-8446-4f66-8327-bc09e774cbb1/home/df/Projects/modis_ndvi"
   ]
  },
  {
   "cell_type": "code",
   "execution_count": null,
   "metadata": {},
   "outputs": [],
   "source": [
    "def make_dataframe(mypath):\n",
    "    hdf_name = []\n",
    "    for image in os.listdir(mypath):\n",
    "        if image.endswith('hdf'):\n",
    "            hdf_name.append(image)\n",
    "    dates = []\n",
    "    for name in hdf_name:\n",
    "        dates.append(name.split('.')[1])\n",
    "    df_images = pd.DataFrame(list(zip(hdf_name, dates)), columns = ['image', 'date']) \n",
    "    grouped = df_images.groupby('date')['image'].apply(list).reset_index()\n",
    "    grouped['image'].count()\n",
    "    return grouped"
   ]
  },
  {
   "cell_type": "code",
   "execution_count": null,
   "metadata": {},
   "outputs": [],
   "source": [
    "def mosaic_and_clip_ndvi(date,paths,mode=''):\n",
    "    os.chdir('/media/sg/91d62d44-8446-4f66-8327-bc09e774cbb1/home/df/Projects/modis_composites')\n",
    "    st_name = date+'_'+mode+'_merge.tif'\n",
    "    print(st_name)\n",
    "    merge_command = ['gdal_merge.py', \"-o\",st_name, ' '.join(paths)]\n",
    "    merge_command = ' '.join(merge_command)\n",
    "    print(merge_command)\n",
    "    #cmd_a = 'gdal_merge.py -o '+ st_name'-ul_lr 19.46 34.44 28.29 41.9 '\n",
    "    subprocess.call(merge_command,shell=True)\n",
    "    warp_command = ['gdalwarp','-t_srs','EPSG:4326','-te 19.46 34.44 28.29 41.9', st_name,st_name.split('.')[0]+'_warp.tif']\n",
    "    warp_command = ' '.join(warp_command)\n",
    "    subprocess.call(warp_command,shell=True)\n",
    "    call([\"rm\", st_name])"
   ]
  },
  {
   "cell_type": "code",
   "execution_count": null,
   "metadata": {},
   "outputs": [],
   "source": [
    "def create_ndvi_evi(year,grouped):\n",
    "    for index,row in grouped.iterrows():#['image'].loc[0]:\n",
    "        paths_ndvi = []\n",
    "        paths_evi = []\n",
    "        for d in row['image']: \n",
    "            path_ndvi = 'HDF4_EOS:EOS_GRID:\"/media/sg/91d62d44-8446-4f66-8327-bc09e774cbb1/home/df/Projects/modis_ndvi/'+ d +'\":MODIS_Grid_16DAY_500m_VI:\"500m 16 days NDVI\"'\n",
    "            path_evi = 'HDF4_EOS:EOS_GRID:\"/media/sg/91d62d44-8446-4f66-8327-bc09e774cbb1/home/df/Projects/modis_ndvi/'+ d +'\":MODIS_Grid_16DAY_500m_VI:\"500m 16 days EVI\"'\n",
    "            paths_ndvi.append(path_ndvi)\n",
    "            paths_evi.append(path_evi)\n",
    "            #mosaic_and_clip_lst(path[0],paths,timeofday)\n",
    "        date = d.split('.')[1]\n",
    "        timeofday = 'day'\n",
    "        mosaic_and_clip_ndvi(date,paths_ndvi,'ndvi')\n",
    "        mosaic_and_clip_ndvi(date,paths_evi,'evi')"
   ]
  },
  {
   "cell_type": "code",
   "execution_count": null,
   "metadata": {},
   "outputs": [],
   "source": [
    "for year in years:\n",
    "    mypath = \"/media/sg/91d62d44-8446-4f66-8327-bc09e774cbb1/home/df/Projects/modis_ndvi\"\n",
    "    os.chdir(mypath)\n",
    "    grouped = make_dataframe(mypath)\n",
    "    create_ndvi_evi(year,grouped)\n",
    "    #create_lst_night(year,grouped"
   ]
  },
  {
   "cell_type": "markdown",
   "metadata": {},
   "source": [
    "# TIF to nc"
   ]
  },
  {
   "cell_type": "code",
   "execution_count": null,
   "metadata": {},
   "outputs": [],
   "source": [
    "veg_path = '/media/sg/91d62d44-8446-4f66-8327-bc09e774cbb1/home/df/Projects/modis_composites'\n",
    "lst_path = '/media/sg/91d62d44-8446-4f66-8327-bc09e774cbb1/home/df/Projects/lst_8day/composites_2020_2021'"
   ]
  },
  {
   "cell_type": "code",
   "execution_count": null,
   "metadata": {},
   "outputs": [],
   "source": [
    "veg_dest_path = '/media/sg/91d62d44-8446-4f66-8327-bc09e774cbb1/home/df/Projects/datacube_project/veg'"
   ]
  },
  {
   "cell_type": "code",
   "execution_count": null,
   "metadata": {},
   "outputs": [],
   "source": [
    "lst_dest_path = '/media/sg/91d62d44-8446-4f66-8327-bc09e774cbb1/home/df/Projects/datacube_project/lst'"
   ]
  },
  {
   "cell_type": "code",
   "execution_count": null,
   "metadata": {},
   "outputs": [],
   "source": [
    "evi_files = glob.glob(os.path.join(veg_path, 'A*_evi_merge_warp.tif'))\n",
    "ndvi_files = glob.glob(os.path.join(veg_path, 'A*_ndvi_merge_warp.tif'))\n",
    "lst_day_files = glob.glob(os.path.join(lst_path, 'A*_day_merge_warp.tif'))\n",
    "lst_night_files = glob.glob(os.path.join(lst_path, 'A*_night_merge_warp.tif'))"
   ]
  },
  {
   "cell_type": "markdown",
   "metadata": {},
   "source": [
    "# ndvi"
   ]
  },
  {
   "cell_type": "code",
   "execution_count": null,
   "metadata": {},
   "outputs": [],
   "source": [
    "data_dict = {}\n",
    "for evi_file in evi_files:\n",
    "    date_str = os.path.basename(evi_file)[1:8]\n",
    "    if date_str in data_dict:\n",
    "        data_dict[date_str].append((evi_file, None))\n",
    "    else:\n",
    "        data_dict[date_str] = [(evi_file, None)]\n",
    "        \n",
    "for ndvi_file in ndvi_files:\n",
    "    date_str = os.path.basename(ndvi_file)[1:8]\n",
    "    if date_str in data_dict:\n",
    "        for i, (evi_file, ndvi_file_) in enumerate(data_dict[date_str]):\n",
    "            if ndvi_file_ is None:\n",
    "                data_dict[date_str][i] = (evi_file, ndvi_file)\n",
    "                break"
   ]
  },
  {
   "cell_type": "code",
   "execution_count": null,
   "metadata": {},
   "outputs": [],
   "source": [
    "for date_str, file_pairs in data_dict.items():\n",
    "    doy = date_str[4:]\n",
    "    year = int(date_str[:4])\n",
    "    date = datetime(year, 1, 1) + timedelta(int(doy) - 1)\n",
    "    yyyymmdd = date.strftime('%Y%m%d')\n",
    "    nc_file_name = os.path.join(veg_dest_path, f'{yyyymmdd}_veg.nc')\n",
    "    print(nc_file_name)\n",
    "    datasets = []\n",
    "    for evi_file, ndvi_file in file_pairs:\n",
    "        if ndvi_file is None:\n",
    "            print(f\"No matching NDVI file found for EVI file {evi_file}\")\n",
    "            continue\n",
    "        evi_da = xr.open_rasterio(evi_file).squeeze()\n",
    "        ndvi_da = xr.open_rasterio(ndvi_file).squeeze()\n",
    "        evi_da.name = 'evi'\n",
    "        ndvi_da.name = 'ndvi'\n",
    "        ds = xr.merge([evi_da, ndvi_da])\n",
    "        datasets.append(ds)\n",
    "    if datasets:\n",
    "        combined_ds = xr.concat(datasets, dim='band')\n",
    "        combined_ds = combined_ds.squeeze()\n",
    "        combined_ds = combined_ds.drop('band')\n",
    "        combined_ds = combined_ds.assign_coords(time=yyyymmdd)\n",
    "        combined_ds = combined_ds.expand_dims('time')\n",
    "        for attr_name in combined_ds.attrs:\n",
    "            del ds.attrs[attr_name]\n",
    "        combined_ds.to_netcdf(nc_file_name)"
   ]
  },
  {
   "cell_type": "markdown",
   "metadata": {},
   "source": [
    "# lst"
   ]
  },
  {
   "cell_type": "code",
   "execution_count": null,
   "metadata": {},
   "outputs": [],
   "source": [
    "data_lst_dict = {}\n",
    "for day_file in lst_day_files:\n",
    "    date_str = os.path.basename(day_file)[1:8]\n",
    "    if date_str in data_lst_dict:\n",
    "        data_lst_dict[date_str].append((day_file, None))\n",
    "    else:\n",
    "        data_lst_dict[date_str] = [(day_file, None)]\n",
    "\n",
    "for night_file in lst_night_files:\n",
    "    date_str = os.path.basename(night_file)[1:8]\n",
    "    if date_str in data_lst_dict:\n",
    "        for i, (day_file, night_file_) in enumerate(data_lst_dict[date_str]):\n",
    "            if night_file_ is None:\n",
    "                data_lst_dict[date_str][i] = (day_file, night_file)\n",
    "                break"
   ]
  },
  {
   "cell_type": "code",
   "execution_count": null,
   "metadata": {},
   "outputs": [],
   "source": [
    "warnings.filterwarnings(\"ignore\", message=\"open_rasterio is Deprecated in favor of rioxarray\")"
   ]
  },
  {
   "cell_type": "code",
   "execution_count": null,
   "metadata": {},
   "outputs": [],
   "source": [
    "for date_str, file_pairs in data_lst_dict.items():\n",
    "    datasets = []\n",
    "    doy = date_str[4:]\n",
    "    year = int(date_str[:4])\n",
    "    date = datetime(year, 1, 1) + timedelta(int(doy) - 1)\n",
    "    yyyymmdd = date.strftime('%Y%m%d')\n",
    "    nc_file_name = os.path.join(lst_dest_path, f'{yyyymmdd}_lst.nc')\n",
    "    print(nc_file_name)\n",
    "    for lst_day, lst_night in file_pairs:\n",
    "        if lst_night is None:\n",
    "            print(f\"No matching LST file found for night file {lst_night}\")\n",
    "            continue\n",
    "        day_da = xr.open_rasterio(lst_day).squeeze()\n",
    "        night_da = xr.open_rasterio(lst_night).squeeze()\n",
    "        day_da.name = 'day'\n",
    "        night_da.name = 'night'\n",
    "        ds = xr.merge([day_da, night_da])\n",
    "        datasets.append(ds)\n",
    "    if datasets:\n",
    "        combined_ds = xr.concat(datasets, dim='band')\n",
    "        combined_ds = combined_ds.squeeze()\n",
    "        combined_ds = combined_ds.drop('band')\n",
    "        combined_ds = combined_ds.assign_coords(time=yyyymmdd)\n",
    "        combined_ds = combined_ds.expand_dims('time')\n",
    "        for attr_name in combined_ds.attrs:\n",
    "            del ds.attrs[attr_name]\n",
    "        combined_ds.to_netcdf(nc_file_name)"
   ]
  }
 ],
 "metadata": {
  "kernelspec": {
   "display_name": "fire_ffp",
   "language": "python",
   "name": "fire_ffp"
  },
  "language_info": {
   "codemirror_mode": {
    "name": "ipython",
    "version": 3
   },
   "file_extension": ".py",
   "mimetype": "text/x-python",
   "name": "python",
   "nbconvert_exporter": "python",
   "pygments_lexer": "ipython3",
   "version": "3.9.16"
  }
 },
 "nbformat": 4,
 "nbformat_minor": 2
}
