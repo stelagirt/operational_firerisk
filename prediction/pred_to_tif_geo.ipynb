{
 "cells": [
  {
   "cell_type": "code",
   "execution_count": 3,
   "id": "6e9614ac",
   "metadata": {},
   "outputs": [],
   "source": [
    "import pandas as pd\n",
    "import xarray as xr\n",
    "import numpy as np\n",
    "import pandas as pd\n",
    "import geopandas as gpd\n",
    "from osgeo import gdal\n",
    "from osgeo import ogr\n",
    "from datetime import datetime\n",
    "import re\n",
    "import subprocess\n",
    "from shapely.geometry import Polygon"
   ]
  },
  {
   "cell_type": "code",
   "execution_count": 7,
   "id": "6e3cbc4d",
   "metadata": {},
   "outputs": [
    {
     "data": {
      "text/plain": [
       "'20230711'"
      ]
     },
     "execution_count": 7,
     "metadata": {},
     "output_type": "execute_result"
    }
   ],
   "source": [
    "now=datetime.now()\n",
    "now.strftime(\"%Y%m%d\")"
   ]
  },
  {
   "cell_type": "code",
   "execution_count": 10,
   "id": "0216ad78",
   "metadata": {},
   "outputs": [],
   "source": [
    "g=re.search('^(.*?)_norm','384768_norm.csv')"
   ]
  },
  {
   "cell_type": "code",
   "execution_count": 12,
   "id": "af54c0b9",
   "metadata": {},
   "outputs": [
    {
     "data": {
      "text/plain": [
       "'384768'"
      ]
     },
     "execution_count": 12,
     "metadata": {},
     "output_type": "execute_result"
    }
   ],
   "source": [
    "g.group(1)"
   ]
  },
  {
   "cell_type": "code",
   "execution_count": 4,
   "id": "a2aacec8",
   "metadata": {},
   "outputs": [],
   "source": [
    "def createid(df):        \n",
    "    df['xposst'] = (df['x'] * 10000).apply('{:06.0f}'.format)\n",
    "    df['yposst'] = (df['y'] * 10000).apply('{:06.0f}'.format)\n",
    "    df['id'] = df['xposst']+df['yposst']\n",
    "    df['id']=df['id'].astype(np.int64)\n",
    "    df.drop(columns=['xposst', 'yposst'],inplace=True)"
   ]
  },
  {
   "cell_type": "code",
   "execution_count": 14,
   "id": "5c1c8ce2",
   "metadata": {},
   "outputs": [],
   "source": [
    "df=pd.read_csv(\"/home/lstam/Documents/daily_rasters/csv/20230630_norm_pred.csv\")\n",
    "#dfun=pd.read_csv(\"/home/lstam/Documents/daily_rasters/csv/20230630.csv\")\n",
    "#df.rename(columns={'xu':'x', 'yu':'y'}, inplace=True)"
   ]
  },
  {
   "cell_type": "code",
   "execution_count": 22,
   "id": "5a4d9b2c",
   "metadata": {},
   "outputs": [],
   "source": [
    "df.set_index([\"y\", \"x\"], inplace=True)"
   ]
  },
  {
   "cell_type": "code",
   "execution_count": 28,
   "id": "37466aa9",
   "metadata": {},
   "outputs": [
    {
     "data": {
      "text/html": [
       "<div>\n",
       "<style scoped>\n",
       "    .dataframe tbody tr th:only-of-type {\n",
       "        vertical-align: middle;\n",
       "    }\n",
       "\n",
       "    .dataframe tbody tr th {\n",
       "        vertical-align: top;\n",
       "    }\n",
       "\n",
       "    .dataframe thead th {\n",
       "        text-align: right;\n",
       "    }\n",
       "</style>\n",
       "<table border=\"1\" class=\"dataframe\">\n",
       "  <thead>\n",
       "    <tr style=\"text-align: right;\">\n",
       "      <th></th>\n",
       "      <th></th>\n",
       "      <th>id</th>\n",
       "      <th>ypred0</th>\n",
       "      <th>ypred1</th>\n",
       "      <th>risk</th>\n",
       "      <th>geometry</th>\n",
       "    </tr>\n",
       "    <tr>\n",
       "      <th>y</th>\n",
       "      <th>x</th>\n",
       "      <th></th>\n",
       "      <th></th>\n",
       "      <th></th>\n",
       "      <th></th>\n",
       "      <th></th>\n",
       "    </tr>\n",
       "  </thead>\n",
       "  <tbody>\n",
       "    <tr>\n",
       "      <th>40.2300</th>\n",
       "      <th>19.4770</th>\n",
       "      <td>194770402300</td>\n",
       "      <td>0.938307</td>\n",
       "      <td>0.061693</td>\n",
       "      <td>1</td>\n",
       "      <td>POINT (19.47700 40.23000)</td>\n",
       "    </tr>\n",
       "    <tr>\n",
       "      <th>40.2248</th>\n",
       "      <th>19.4770</th>\n",
       "      <td>194770402248</td>\n",
       "      <td>0.942229</td>\n",
       "      <td>0.057771</td>\n",
       "      <td>1</td>\n",
       "      <td>POINT (19.47700 40.22480)</td>\n",
       "    </tr>\n",
       "    <tr>\n",
       "      <th>40.2197</th>\n",
       "      <th>19.4770</th>\n",
       "      <td>194770402197</td>\n",
       "      <td>0.938997</td>\n",
       "      <td>0.061003</td>\n",
       "      <td>1</td>\n",
       "      <td>POINT (19.47700 40.21970)</td>\n",
       "    </tr>\n",
       "    <tr>\n",
       "      <th>40.2300</th>\n",
       "      <th>19.4821</th>\n",
       "      <td>194821402300</td>\n",
       "      <td>0.922193</td>\n",
       "      <td>0.077807</td>\n",
       "      <td>1</td>\n",
       "      <td>POINT (19.48210 40.23000)</td>\n",
       "    </tr>\n",
       "    <tr>\n",
       "      <th>40.2248</th>\n",
       "      <th>19.4821</th>\n",
       "      <td>194821402248</td>\n",
       "      <td>0.944567</td>\n",
       "      <td>0.055433</td>\n",
       "      <td>1</td>\n",
       "      <td>POINT (19.48210 40.22480)</td>\n",
       "    </tr>\n",
       "    <tr>\n",
       "      <th>...</th>\n",
       "      <th>...</th>\n",
       "      <td>...</td>\n",
       "      <td>...</td>\n",
       "      <td>...</td>\n",
       "      <td>...</td>\n",
       "      <td>...</td>\n",
       "    </tr>\n",
       "    <tr>\n",
       "      <th>36.3796</th>\n",
       "      <th>28.2343</th>\n",
       "      <td>282343363796</td>\n",
       "      <td>0.171330</td>\n",
       "      <td>0.828670</td>\n",
       "      <td>5</td>\n",
       "      <td>POINT (28.23430 36.37960)</td>\n",
       "    </tr>\n",
       "    <tr>\n",
       "      <th>36.4415</th>\n",
       "      <th>28.2395</th>\n",
       "      <td>282395364415</td>\n",
       "      <td>0.964579</td>\n",
       "      <td>0.035421</td>\n",
       "      <td>1</td>\n",
       "      <td>POINT (28.23950 36.44150)</td>\n",
       "    </tr>\n",
       "    <tr>\n",
       "      <th>36.3900</th>\n",
       "      <th>28.2395</th>\n",
       "      <td>282395363900</td>\n",
       "      <td>0.911595</td>\n",
       "      <td>0.088405</td>\n",
       "      <td>1</td>\n",
       "      <td>POINT (28.23950 36.39000)</td>\n",
       "    </tr>\n",
       "    <tr>\n",
       "      <th>36.3848</th>\n",
       "      <th>28.2395</th>\n",
       "      <td>282395363848</td>\n",
       "      <td>0.408196</td>\n",
       "      <td>0.591804</td>\n",
       "      <td>3</td>\n",
       "      <td>POINT (28.23950 36.38480)</td>\n",
       "    </tr>\n",
       "    <tr>\n",
       "      <th>36.3796</th>\n",
       "      <th>28.2395</th>\n",
       "      <td>282395363796</td>\n",
       "      <td>0.547734</td>\n",
       "      <td>0.452266</td>\n",
       "      <td>3</td>\n",
       "      <td>POINT (28.23950 36.37960)</td>\n",
       "    </tr>\n",
       "  </tbody>\n",
       "</table>\n",
       "<p>654111 rows × 5 columns</p>\n",
       "</div>"
      ],
      "text/plain": [
       "                           id    ypred0    ypred1  risk  \\\n",
       "y       x                                                 \n",
       "40.2300 19.4770  194770402300  0.938307  0.061693     1   \n",
       "40.2248 19.4770  194770402248  0.942229  0.057771     1   \n",
       "40.2197 19.4770  194770402197  0.938997  0.061003     1   \n",
       "40.2300 19.4821  194821402300  0.922193  0.077807     1   \n",
       "40.2248 19.4821  194821402248  0.944567  0.055433     1   \n",
       "...                       ...       ...       ...   ...   \n",
       "36.3796 28.2343  282343363796  0.171330  0.828670     5   \n",
       "36.4415 28.2395  282395364415  0.964579  0.035421     1   \n",
       "36.3900 28.2395  282395363900  0.911595  0.088405     1   \n",
       "36.3848 28.2395  282395363848  0.408196  0.591804     3   \n",
       "36.3796 28.2395  282395363796  0.547734  0.452266     3   \n",
       "\n",
       "                                  geometry  \n",
       "y       x                                   \n",
       "40.2300 19.4770  POINT (19.47700 40.23000)  \n",
       "40.2248 19.4770  POINT (19.47700 40.22480)  \n",
       "40.2197 19.4770  POINT (19.47700 40.21970)  \n",
       "40.2300 19.4821  POINT (19.48210 40.23000)  \n",
       "40.2248 19.4821  POINT (19.48210 40.22480)  \n",
       "...                                    ...  \n",
       "36.3796 28.2343  POINT (28.23430 36.37960)  \n",
       "36.4415 28.2395  POINT (28.23950 36.44150)  \n",
       "36.3900 28.2395  POINT (28.23950 36.39000)  \n",
       "36.3848 28.2395  POINT (28.23950 36.38480)  \n",
       "36.3796 28.2395  POINT (28.23950 36.37960)  \n",
       "\n",
       "[654111 rows x 5 columns]"
      ]
     },
     "execution_count": 28,
     "metadata": {},
     "output_type": "execute_result"
    }
   ],
   "source": [
    "df"
   ]
  },
  {
   "cell_type": "code",
   "execution_count": 24,
   "id": "3ca7fc0e",
   "metadata": {},
   "outputs": [],
   "source": [
    "ds = xr.Dataset.from_dataframe(df)"
   ]
  },
  {
   "cell_type": "code",
   "execution_count": 27,
   "id": "25283d53",
   "metadata": {},
   "outputs": [
    {
     "data": {
      "text/plain": [
       "1337"
      ]
     },
     "execution_count": 27,
     "metadata": {},
     "output_type": "execute_result"
    }
   ],
   "source": [
    "ds.dims['y']"
   ]
  },
  {
   "cell_type": "code",
   "execution_count": 5,
   "id": "1382bfc9",
   "metadata": {},
   "outputs": [],
   "source": [
    "createid(dfun)"
   ]
  },
  {
   "cell_type": "code",
   "execution_count": 6,
   "id": "d093aa5a",
   "metadata": {},
   "outputs": [
    {
     "data": {
      "text/plain": [
       "0         194770402300\n",
       "1         194770402248\n",
       "2         194770402197\n",
       "3         194821402300\n",
       "4         194821402248\n",
       "              ...     \n",
       "654106    282343363796\n",
       "654107    282395364415\n",
       "654108    282395363900\n",
       "654109    282395363848\n",
       "654110    282395363796\n",
       "Name: id, Length: 654111, dtype: int64"
      ]
     },
     "execution_count": 6,
     "metadata": {},
     "output_type": "execute_result"
    }
   ],
   "source": [
    "dfun['id']"
   ]
  },
  {
   "cell_type": "code",
   "execution_count": 7,
   "id": "f9eaf137",
   "metadata": {},
   "outputs": [],
   "source": [
    "dfm=df.merge(dfun, on='id')"
   ]
  },
  {
   "cell_type": "code",
   "execution_count": 8,
   "id": "1cbe56c2",
   "metadata": {},
   "outputs": [],
   "source": [
    "dfm.rename(columns={'x_y':'x', 'y_y':'y'}, inplace=True)"
   ]
  },
  {
   "cell_type": "code",
   "execution_count": 9,
   "id": "3e460616",
   "metadata": {},
   "outputs": [],
   "source": [
    "dfm=dfm[['id','risk', 'x', 'y']]"
   ]
  },
  {
   "cell_type": "code",
   "execution_count": 16,
   "id": "17195fcd",
   "metadata": {},
   "outputs": [],
   "source": [
    "gdf = gpd.GeoDataFrame(df, geometry=gpd.points_from_xy(df['x'],df['y'],z=None, crs=4326))"
   ]
  },
  {
   "cell_type": "code",
   "execution_count": 29,
   "id": "39f885b6",
   "metadata": {},
   "outputs": [
    {
     "data": {
      "text/plain": [
       "array([19.477 , 34.8075, 28.2395, 41.766 ])"
      ]
     },
     "execution_count": 29,
     "metadata": {},
     "output_type": "execute_result"
    }
   ],
   "source": [
    "gdf.total_bounds"
   ]
  },
  {
   "cell_type": "code",
   "execution_count": 14,
   "id": "28a14748",
   "metadata": {},
   "outputs": [],
   "source": [
    "gdfm2100=gdfm.to_crs(2100)"
   ]
  },
  {
   "cell_type": "code",
   "execution_count": 16,
   "id": "dc53d821",
   "metadata": {},
   "outputs": [],
   "source": [
    "gdfm2100.to_file(\"/home/lstam/Documents/daily_rasters/tif/20230630_pred.shp\")"
   ]
  },
  {
   "cell_type": "code",
   "execution_count": 21,
   "id": "f7158a45",
   "metadata": {},
   "outputs": [],
   "source": [
    "vector_fname=\"/home/lstam/Documents/daily_rasters/tif/20230630_pred.shp\"\n",
    "gg = ogr.Open(vector_fname)\n",
    "lyr = gg.GetLayer(0)"
   ]
  },
  {
   "cell_type": "code",
   "execution_count": 22,
   "id": "32c15396",
   "metadata": {},
   "outputs": [
    {
     "data": {
      "text/plain": [
       "'20230630_pred'"
      ]
     },
     "execution_count": 22,
     "metadata": {},
     "output_type": "execute_result"
    }
   ],
   "source": [
    "lyr.GetName()"
   ]
  },
  {
   "cell_type": "code",
   "execution_count": 24,
   "id": "6a9a9f86",
   "metadata": {},
   "outputs": [
    {
     "data": {
      "text/plain": [
       "array([ 114937.22035807, 3851418.71652404,  880209.28409027,\n",
       "       4627151.88774326])"
      ]
     },
     "execution_count": 24,
     "metadata": {},
     "output_type": "execute_result"
    }
   ],
   "source": [
    "gdfm2100.total_bounds #minx, miny, maxx, maxy"
   ]
  },
  {
   "cell_type": "markdown",
   "id": "c662e5f9",
   "metadata": {},
   "source": [
    "y:1337, x: 1701"
   ]
  },
  {
   "cell_type": "code",
   "execution_count": 25,
   "id": "6f450cdc",
   "metadata": {},
   "outputs": [
    {
     "data": {
      "text/plain": [
       "array([19.47697963, 34.80754861, 28.2394718 , 41.76599828])"
      ]
     },
     "execution_count": 25,
     "metadata": {},
     "output_type": "execute_result"
    }
   ],
   "source": [
    "gdfm.total_bounds"
   ]
  },
  {
   "cell_type": "code",
   "execution_count": 17,
   "id": "220451d6",
   "metadata": {},
   "outputs": [],
   "source": [
    "gdf.to_file(\"/home/lstam/Documents/daily_rasters/tif/20230630_pred_4326.shp\")"
   ]
  },
  {
   "cell_type": "code",
   "execution_count": 18,
   "id": "d82792ca",
   "metadata": {},
   "outputs": [],
   "source": [
    "ex=subprocess.run(['gdal_rasterize', '-a', 'risk', '-te', '19.47697963', '34.80754861', '28.2394718' , '41.76599828',\\\n",
    "                '-ts', '1701', '1337', \"/home/lstam/Documents/daily_rasters/tif/20230630_pred_4326.shp\",\\\n",
    "                \"/home/lstam/Documents/daily_rasters/tif/20230630_pred_4326.tif\"]) "
   ]
  },
  {
   "cell_type": "code",
   "execution_count": 30,
   "id": "3f3de1f1",
   "metadata": {},
   "outputs": [
    {
     "data": {
      "text/plain": [
       "CompletedProcess(args=['gdalwarp', '-cutline', '/home/lstam/Documents/newriskmodel/aktogrammh/aktogrammh.shp', '-crop_to_cutline', '-dstalpha', '/home/lstam/Documents/daily_rasters/tif/20230630_cells.tif', '/home/lstam/Documents/daily_rasters/tif/20230630_clip_cells.tif'], returncode=1)"
      ]
     },
     "execution_count": 30,
     "metadata": {},
     "output_type": "execute_result"
    }
   ],
   "source": [
    "subprocess.run(['gdalwarp', '-cutline', '/home/lstam/Documents/newriskmodel/aktogrammh/aktogrammh.shp', '-crop_to_cutline', '-dstalpha', \\\n",
    "'/home/lstam/Documents/daily_rasters/tif/20230630_cells.tif', '/home/lstam/Documents/daily_rasters/tif/20230630_clip_cells.tif'])"
   ]
  },
  {
   "cell_type": "markdown",
   "id": "a16c2004",
   "metadata": {},
   "source": [
    "gdalwarp -cutline /home/lstam/Documents/newriskmodel/aktogrammh/aktogrammh.shp -crop_to_cutline -dstalpha\n",
    "/home/lstam/Documents/daily_rasters/tif/20230630_cells.tif /home/lstam/Documents/daily_rasters/tif/20230630_clip_cells.tif"
   ]
  },
  {
   "cell_type": "code",
   "execution_count": 4,
   "id": "332704f9",
   "metadata": {},
   "outputs": [],
   "source": [
    "gdf = gpd.read_file(\"/home/lstam/Documents/newriskmodel/aktogrammh/aktogrammh.shp\")"
   ]
  },
  {
   "cell_type": "code",
   "execution_count": 5,
   "id": "5ee5e9bd",
   "metadata": {},
   "outputs": [
    {
     "data": {
      "text/html": [
       "<div>\n",
       "<style scoped>\n",
       "    .dataframe tbody tr th:only-of-type {\n",
       "        vertical-align: middle;\n",
       "    }\n",
       "\n",
       "    .dataframe tbody tr th {\n",
       "        vertical-align: top;\n",
       "    }\n",
       "\n",
       "    .dataframe thead th {\n",
       "        text-align: right;\n",
       "    }\n",
       "</style>\n",
       "<table border=\"1\" class=\"dataframe\">\n",
       "  <thead>\n",
       "    <tr style=\"text-align: right;\">\n",
       "      <th></th>\n",
       "      <th>LENGTH</th>\n",
       "      <th>TYPE</th>\n",
       "      <th>geometry</th>\n",
       "    </tr>\n",
       "  </thead>\n",
       "  <tbody>\n",
       "    <tr>\n",
       "      <th>0</th>\n",
       "      <td>1085.2790</td>\n",
       "      <td>KRATOS</td>\n",
       "      <td>LINESTRING (189878.281 4409939.000, 189879.906...</td>\n",
       "    </tr>\n",
       "    <tr>\n",
       "      <th>1</th>\n",
       "      <td>13590.8900</td>\n",
       "      <td>KRATOS</td>\n",
       "      <td>LINESTRING (183230.171 4409021.501, 183258.202...</td>\n",
       "    </tr>\n",
       "    <tr>\n",
       "      <th>2</th>\n",
       "      <td>3756.3480</td>\n",
       "      <td>KRATOS</td>\n",
       "      <td>LINESTRING (183372.844 4406140.500, 183367.905...</td>\n",
       "    </tr>\n",
       "    <tr>\n",
       "      <th>3</th>\n",
       "      <td>2476.1690</td>\n",
       "      <td>KRATOS</td>\n",
       "      <td>LINESTRING (184705.687 4404287.501, 184706.203...</td>\n",
       "    </tr>\n",
       "    <tr>\n",
       "      <th>4</th>\n",
       "      <td>596.3718</td>\n",
       "      <td>KRATOS</td>\n",
       "      <td>LINESTRING (184588.328 4403728.501, 184598.202...</td>\n",
       "    </tr>\n",
       "    <tr>\n",
       "      <th>...</th>\n",
       "      <td>...</td>\n",
       "      <td>...</td>\n",
       "      <td>...</td>\n",
       "    </tr>\n",
       "    <tr>\n",
       "      <th>5447</th>\n",
       "      <td>6108.2250</td>\n",
       "      <td>AKTH</td>\n",
       "      <td>LINESTRING (506265.687 3858623.000, 506269.500...</td>\n",
       "    </tr>\n",
       "    <tr>\n",
       "      <th>5448</th>\n",
       "      <td>6495.5300</td>\n",
       "      <td>AKTH</td>\n",
       "      <td>LINESTRING (503385.313 3856994.001, 503379.001...</td>\n",
       "    </tr>\n",
       "    <tr>\n",
       "      <th>5449</th>\n",
       "      <td>6352.2100</td>\n",
       "      <td>AKTH</td>\n",
       "      <td>LINESTRING (510556.188 3857422.750, 510557.500...</td>\n",
       "    </tr>\n",
       "    <tr>\n",
       "      <th>5450</th>\n",
       "      <td>8834.6060</td>\n",
       "      <td>AKTH</td>\n",
       "      <td>LINESTRING (508874.813 3852129.001, 508843.093...</td>\n",
       "    </tr>\n",
       "    <tr>\n",
       "      <th>5451</th>\n",
       "      <td>7156.2530</td>\n",
       "      <td>AKTH</td>\n",
       "      <td>LINESTRING (510469.594 3853210.000, 510471.157...</td>\n",
       "    </tr>\n",
       "  </tbody>\n",
       "</table>\n",
       "<p>5452 rows × 3 columns</p>\n",
       "</div>"
      ],
      "text/plain": [
       "          LENGTH    TYPE                                           geometry\n",
       "0      1085.2790  KRATOS  LINESTRING (189878.281 4409939.000, 189879.906...\n",
       "1     13590.8900  KRATOS  LINESTRING (183230.171 4409021.501, 183258.202...\n",
       "2      3756.3480  KRATOS  LINESTRING (183372.844 4406140.500, 183367.905...\n",
       "3      2476.1690  KRATOS  LINESTRING (184705.687 4404287.501, 184706.203...\n",
       "4       596.3718  KRATOS  LINESTRING (184588.328 4403728.501, 184598.202...\n",
       "...          ...     ...                                                ...\n",
       "5447   6108.2250    AKTH  LINESTRING (506265.687 3858623.000, 506269.500...\n",
       "5448   6495.5300    AKTH  LINESTRING (503385.313 3856994.001, 503379.001...\n",
       "5449   6352.2100    AKTH  LINESTRING (510556.188 3857422.750, 510557.500...\n",
       "5450   8834.6060    AKTH  LINESTRING (508874.813 3852129.001, 508843.093...\n",
       "5451   7156.2530    AKTH  LINESTRING (510469.594 3853210.000, 510471.157...\n",
       "\n",
       "[5452 rows x 3 columns]"
      ]
     },
     "execution_count": 5,
     "metadata": {},
     "output_type": "execute_result"
    }
   ],
   "source": [
    "gdf"
   ]
  },
  {
   "cell_type": "code",
   "execution_count": 6,
   "id": "9d2748a9",
   "metadata": {},
   "outputs": [
    {
     "ename": "ValueError",
     "evalue": "A LinearRing must have at least 3 coordinate tuples",
     "output_type": "error",
     "traceback": [
      "\u001b[0;31m---------------------------------------------------------------------------\u001b[0m",
      "\u001b[0;31mValueError\u001b[0m                                Traceback (most recent call last)",
      "\u001b[0;32m<ipython-input-6-863268e6a2fd>\u001b[0m in \u001b[0;36m<module>\u001b[0;34m\u001b[0m\n\u001b[0;32m----> 1\u001b[0;31m \u001b[0mgdf\u001b[0m\u001b[0;34m.\u001b[0m\u001b[0mgeometry\u001b[0m \u001b[0;34m=\u001b[0m \u001b[0mgdf\u001b[0m\u001b[0;34m.\u001b[0m\u001b[0mgeometry\u001b[0m\u001b[0;34m.\u001b[0m\u001b[0mapply\u001b[0m\u001b[0;34m(\u001b[0m\u001b[0;32mlambda\u001b[0m \u001b[0mx\u001b[0m\u001b[0;34m:\u001b[0m \u001b[0mPolygon\u001b[0m\u001b[0;34m(\u001b[0m\u001b[0mx\u001b[0m\u001b[0;34m.\u001b[0m\u001b[0mcoords\u001b[0m\u001b[0;34m)\u001b[0m\u001b[0;34m)\u001b[0m\u001b[0;34m\u001b[0m\u001b[0;34m\u001b[0m\u001b[0m\n\u001b[0m",
      "\u001b[0;32m~/miniconda3/envs/xarray/lib/python3.6/site-packages/geopandas/geoseries.py\u001b[0m in \u001b[0;36mapply\u001b[0;34m(self, func, convert_dtype, args, **kwargs)\u001b[0m\n\u001b[1;32m    572\u001b[0m     \u001b[0;34m@\u001b[0m\u001b[0minherit_doc\u001b[0m\u001b[0;34m(\u001b[0m\u001b[0mpd\u001b[0m\u001b[0;34m.\u001b[0m\u001b[0mSeries\u001b[0m\u001b[0;34m)\u001b[0m\u001b[0;34m\u001b[0m\u001b[0;34m\u001b[0m\u001b[0m\n\u001b[1;32m    573\u001b[0m     \u001b[0;32mdef\u001b[0m \u001b[0mapply\u001b[0m\u001b[0;34m(\u001b[0m\u001b[0mself\u001b[0m\u001b[0;34m,\u001b[0m \u001b[0mfunc\u001b[0m\u001b[0;34m,\u001b[0m \u001b[0mconvert_dtype\u001b[0m\u001b[0;34m=\u001b[0m\u001b[0;32mTrue\u001b[0m\u001b[0;34m,\u001b[0m \u001b[0margs\u001b[0m\u001b[0;34m=\u001b[0m\u001b[0;34m(\u001b[0m\u001b[0;34m)\u001b[0m\u001b[0;34m,\u001b[0m \u001b[0;34m**\u001b[0m\u001b[0mkwargs\u001b[0m\u001b[0;34m)\u001b[0m\u001b[0;34m:\u001b[0m\u001b[0;34m\u001b[0m\u001b[0;34m\u001b[0m\u001b[0m\n\u001b[0;32m--> 574\u001b[0;31m         \u001b[0mresult\u001b[0m \u001b[0;34m=\u001b[0m \u001b[0msuper\u001b[0m\u001b[0;34m(\u001b[0m\u001b[0;34m)\u001b[0m\u001b[0;34m.\u001b[0m\u001b[0mapply\u001b[0m\u001b[0;34m(\u001b[0m\u001b[0mfunc\u001b[0m\u001b[0;34m,\u001b[0m \u001b[0mconvert_dtype\u001b[0m\u001b[0;34m=\u001b[0m\u001b[0mconvert_dtype\u001b[0m\u001b[0;34m,\u001b[0m \u001b[0margs\u001b[0m\u001b[0;34m=\u001b[0m\u001b[0margs\u001b[0m\u001b[0;34m,\u001b[0m \u001b[0;34m**\u001b[0m\u001b[0mkwargs\u001b[0m\u001b[0;34m)\u001b[0m\u001b[0;34m\u001b[0m\u001b[0;34m\u001b[0m\u001b[0m\n\u001b[0m\u001b[1;32m    575\u001b[0m         \u001b[0;32mif\u001b[0m \u001b[0misinstance\u001b[0m\u001b[0;34m(\u001b[0m\u001b[0mresult\u001b[0m\u001b[0;34m,\u001b[0m \u001b[0mGeoSeries\u001b[0m\u001b[0;34m)\u001b[0m\u001b[0;34m:\u001b[0m\u001b[0;34m\u001b[0m\u001b[0;34m\u001b[0m\u001b[0m\n\u001b[1;32m    576\u001b[0m             \u001b[0;32mif\u001b[0m \u001b[0mself\u001b[0m\u001b[0;34m.\u001b[0m\u001b[0mcrs\u001b[0m \u001b[0;32mis\u001b[0m \u001b[0;32mnot\u001b[0m \u001b[0;32mNone\u001b[0m\u001b[0;34m:\u001b[0m\u001b[0;34m\u001b[0m\u001b[0;34m\u001b[0m\u001b[0m\n",
      "\u001b[0;32m~/miniconda3/envs/xarray/lib/python3.6/site-packages/pandas/core/series.py\u001b[0m in \u001b[0;36mapply\u001b[0;34m(self, func, convert_dtype, args, **kwds)\u001b[0m\n\u001b[1;32m   4198\u001b[0m             \u001b[0;32melse\u001b[0m\u001b[0;34m:\u001b[0m\u001b[0;34m\u001b[0m\u001b[0;34m\u001b[0m\u001b[0m\n\u001b[1;32m   4199\u001b[0m                 \u001b[0mvalues\u001b[0m \u001b[0;34m=\u001b[0m \u001b[0mself\u001b[0m\u001b[0;34m.\u001b[0m\u001b[0mastype\u001b[0m\u001b[0;34m(\u001b[0m\u001b[0mobject\u001b[0m\u001b[0;34m)\u001b[0m\u001b[0;34m.\u001b[0m\u001b[0m_values\u001b[0m\u001b[0;34m\u001b[0m\u001b[0;34m\u001b[0m\u001b[0m\n\u001b[0;32m-> 4200\u001b[0;31m                 \u001b[0mmapped\u001b[0m \u001b[0;34m=\u001b[0m \u001b[0mlib\u001b[0m\u001b[0;34m.\u001b[0m\u001b[0mmap_infer\u001b[0m\u001b[0;34m(\u001b[0m\u001b[0mvalues\u001b[0m\u001b[0;34m,\u001b[0m \u001b[0mf\u001b[0m\u001b[0;34m,\u001b[0m \u001b[0mconvert\u001b[0m\u001b[0;34m=\u001b[0m\u001b[0mconvert_dtype\u001b[0m\u001b[0;34m)\u001b[0m\u001b[0;34m\u001b[0m\u001b[0;34m\u001b[0m\u001b[0m\n\u001b[0m\u001b[1;32m   4201\u001b[0m \u001b[0;34m\u001b[0m\u001b[0m\n\u001b[1;32m   4202\u001b[0m         \u001b[0;32mif\u001b[0m \u001b[0mlen\u001b[0m\u001b[0;34m(\u001b[0m\u001b[0mmapped\u001b[0m\u001b[0;34m)\u001b[0m \u001b[0;32mand\u001b[0m \u001b[0misinstance\u001b[0m\u001b[0;34m(\u001b[0m\u001b[0mmapped\u001b[0m\u001b[0;34m[\u001b[0m\u001b[0;36m0\u001b[0m\u001b[0;34m]\u001b[0m\u001b[0;34m,\u001b[0m \u001b[0mSeries\u001b[0m\u001b[0;34m)\u001b[0m\u001b[0;34m:\u001b[0m\u001b[0;34m\u001b[0m\u001b[0;34m\u001b[0m\u001b[0m\n",
      "\u001b[0;32mpandas/_libs/lib.pyx\u001b[0m in \u001b[0;36mpandas._libs.lib.map_infer\u001b[0;34m()\u001b[0m\n",
      "\u001b[0;32m<ipython-input-6-863268e6a2fd>\u001b[0m in \u001b[0;36m<lambda>\u001b[0;34m(x)\u001b[0m\n\u001b[0;32m----> 1\u001b[0;31m \u001b[0mgdf\u001b[0m\u001b[0;34m.\u001b[0m\u001b[0mgeometry\u001b[0m \u001b[0;34m=\u001b[0m \u001b[0mgdf\u001b[0m\u001b[0;34m.\u001b[0m\u001b[0mgeometry\u001b[0m\u001b[0;34m.\u001b[0m\u001b[0mapply\u001b[0m\u001b[0;34m(\u001b[0m\u001b[0;32mlambda\u001b[0m \u001b[0mx\u001b[0m\u001b[0;34m:\u001b[0m \u001b[0mPolygon\u001b[0m\u001b[0;34m(\u001b[0m\u001b[0mx\u001b[0m\u001b[0;34m.\u001b[0m\u001b[0mcoords\u001b[0m\u001b[0;34m)\u001b[0m\u001b[0;34m)\u001b[0m\u001b[0;34m\u001b[0m\u001b[0;34m\u001b[0m\u001b[0m\n\u001b[0m",
      "\u001b[0;32m~/miniconda3/envs/xarray/lib/python3.6/site-packages/shapely/geometry/polygon.py\u001b[0m in \u001b[0;36m__init__\u001b[0;34m(self, shell, holes)\u001b[0m\n\u001b[1;32m    241\u001b[0m \u001b[0;34m\u001b[0m\u001b[0m\n\u001b[1;32m    242\u001b[0m         \u001b[0;32mif\u001b[0m \u001b[0mshell\u001b[0m \u001b[0;32mis\u001b[0m \u001b[0;32mnot\u001b[0m \u001b[0;32mNone\u001b[0m\u001b[0;34m:\u001b[0m\u001b[0;34m\u001b[0m\u001b[0;34m\u001b[0m\u001b[0m\n\u001b[0;32m--> 243\u001b[0;31m             \u001b[0mret\u001b[0m \u001b[0;34m=\u001b[0m \u001b[0mgeos_polygon_from_py\u001b[0m\u001b[0;34m(\u001b[0m\u001b[0mshell\u001b[0m\u001b[0;34m,\u001b[0m \u001b[0mholes\u001b[0m\u001b[0;34m)\u001b[0m\u001b[0;34m\u001b[0m\u001b[0;34m\u001b[0m\u001b[0m\n\u001b[0m\u001b[1;32m    244\u001b[0m             \u001b[0;32mif\u001b[0m \u001b[0mret\u001b[0m \u001b[0;32mis\u001b[0m \u001b[0;32mnot\u001b[0m \u001b[0;32mNone\u001b[0m\u001b[0;34m:\u001b[0m\u001b[0;34m\u001b[0m\u001b[0;34m\u001b[0m\u001b[0m\n\u001b[1;32m    245\u001b[0m                 \u001b[0mself\u001b[0m\u001b[0;34m.\u001b[0m\u001b[0m_geom\u001b[0m\u001b[0;34m,\u001b[0m \u001b[0mself\u001b[0m\u001b[0;34m.\u001b[0m\u001b[0m_ndim\u001b[0m \u001b[0;34m=\u001b[0m \u001b[0mret\u001b[0m\u001b[0;34m\u001b[0m\u001b[0;34m\u001b[0m\u001b[0m\n",
      "\u001b[0;32m~/miniconda3/envs/xarray/lib/python3.6/site-packages/shapely/geometry/polygon.py\u001b[0m in \u001b[0;36mgeos_polygon_from_py\u001b[0;34m(shell, holes)\u001b[0m\n\u001b[1;32m    507\u001b[0m \u001b[0;34m\u001b[0m\u001b[0m\n\u001b[1;32m    508\u001b[0m     \u001b[0;32mif\u001b[0m \u001b[0mshell\u001b[0m \u001b[0;32mis\u001b[0m \u001b[0;32mnot\u001b[0m \u001b[0;32mNone\u001b[0m\u001b[0;34m:\u001b[0m\u001b[0;34m\u001b[0m\u001b[0;34m\u001b[0m\u001b[0m\n\u001b[0;32m--> 509\u001b[0;31m         \u001b[0mret\u001b[0m \u001b[0;34m=\u001b[0m \u001b[0mgeos_linearring_from_py\u001b[0m\u001b[0;34m(\u001b[0m\u001b[0mshell\u001b[0m\u001b[0;34m)\u001b[0m\u001b[0;34m\u001b[0m\u001b[0;34m\u001b[0m\u001b[0m\n\u001b[0m\u001b[1;32m    510\u001b[0m         \u001b[0;32mif\u001b[0m \u001b[0mret\u001b[0m \u001b[0;32mis\u001b[0m \u001b[0;32mNone\u001b[0m\u001b[0;34m:\u001b[0m\u001b[0;34m\u001b[0m\u001b[0;34m\u001b[0m\u001b[0m\n\u001b[1;32m    511\u001b[0m             \u001b[0;32mreturn\u001b[0m \u001b[0;32mNone\u001b[0m\u001b[0;34m\u001b[0m\u001b[0;34m\u001b[0m\u001b[0m\n",
      "\u001b[0;32m~/miniconda3/envs/xarray/lib/python3.6/site-packages/shapely/speedups/_speedups.pyx\u001b[0m in \u001b[0;36mshapely.speedups._speedups.geos_linearring_from_py\u001b[0;34m()\u001b[0m\n",
      "\u001b[0;31mValueError\u001b[0m: A LinearRing must have at least 3 coordinate tuples"
     ]
    }
   ],
   "source": [
    "gdf.geometry = gdf.geometry.apply(lambda x: Polygon(x.coords))"
   ]
  },
  {
   "cell_type": "code",
   "execution_count": 9,
   "id": "edf20bf6",
   "metadata": {},
   "outputs": [
    {
     "data": {
      "text/plain": [
       "array(['KRATOS', 'AKTH'], dtype=object)"
      ]
     },
     "execution_count": 9,
     "metadata": {},
     "output_type": "execute_result"
    }
   ],
   "source": [
    "gdf['TYPE'].unique()"
   ]
  },
  {
   "cell_type": "code",
   "execution_count": 16,
   "id": "71f723fb",
   "metadata": {},
   "outputs": [
    {
     "data": {
      "text/plain": [
       "0    LINESTRING (189878.281 4409939.000, 189879.906...\n",
       "1    LINESTRING (183230.171 4409021.501, 183258.202...\n",
       "2    LINESTRING (183372.844 4406140.500, 183367.905...\n",
       "Name: geometry, dtype: geometry"
      ]
     },
     "execution_count": 16,
     "metadata": {},
     "output_type": "execute_result"
    }
   ],
   "source": [
    "gdf.iloc[0:3].geometry"
   ]
  },
  {
   "cell_type": "code",
   "execution_count": 17,
   "id": "d21393e7",
   "metadata": {},
   "outputs": [],
   "source": [
    "gdf1 = gpd.read_file(\"/home/lstam/Documents/newriskmodel/CNTR_BN_01M_2020_4326.shp/CNTR_BN_01M_2020_4326.shp\")"
   ]
  },
  {
   "cell_type": "code",
   "execution_count": 19,
   "id": "e5e6715e",
   "metadata": {},
   "outputs": [
    {
     "data": {
      "text/html": [
       "<div>\n",
       "<style scoped>\n",
       "    .dataframe tbody tr th:only-of-type {\n",
       "        vertical-align: middle;\n",
       "    }\n",
       "\n",
       "    .dataframe tbody tr th {\n",
       "        vertical-align: top;\n",
       "    }\n",
       "\n",
       "    .dataframe thead th {\n",
       "        text-align: right;\n",
       "    }\n",
       "</style>\n",
       "<table border=\"1\" class=\"dataframe\">\n",
       "  <thead>\n",
       "    <tr style=\"text-align: right;\">\n",
       "      <th></th>\n",
       "      <th>EU_FLAG</th>\n",
       "      <th>EFTA_FLAG</th>\n",
       "      <th>CC_FLAG</th>\n",
       "      <th>CNTR_BN_ID</th>\n",
       "      <th>OTHR_FLAG</th>\n",
       "      <th>COAS_FLAG</th>\n",
       "      <th>POL_STAT</th>\n",
       "      <th>CNTR_BN_CO</th>\n",
       "      <th>CNTR_CODE</th>\n",
       "      <th>FID</th>\n",
       "      <th>geometry</th>\n",
       "    </tr>\n",
       "  </thead>\n",
       "  <tbody>\n",
       "  </tbody>\n",
       "</table>\n",
       "</div>"
      ],
      "text/plain": [
       "Empty GeoDataFrame\n",
       "Columns: [EU_FLAG, EFTA_FLAG, CC_FLAG, CNTR_BN_ID, OTHR_FLAG, COAS_FLAG, POL_STAT, CNTR_BN_CO, CNTR_CODE, FID, geometry]\n",
       "Index: []"
      ]
     },
     "execution_count": 19,
     "metadata": {},
     "output_type": "execute_result"
    }
   ],
   "source": [
    "gdf1[gdf1['CNTR_CODE']=='GR']"
   ]
  },
  {
   "cell_type": "code",
   "execution_count": 22,
   "id": "5204ba5a",
   "metadata": {},
   "outputs": [
    {
     "data": {
      "text/plain": [
       "array([  522,   523,   524, ..., 67301, 67302, 67303])"
      ]
     },
     "execution_count": 22,
     "metadata": {},
     "output_type": "execute_result"
    }
   ],
   "source": [
    "gdf1['CNTR_BN_ID'].unique()"
   ]
  },
  {
   "cell_type": "code",
   "execution_count": null,
   "id": "18898b2d",
   "metadata": {},
   "outputs": [],
   "source": []
  }
 ],
 "metadata": {
  "kernelspec": {
   "display_name": "Python 3",
   "language": "python",
   "name": "python3"
  },
  "language_info": {
   "codemirror_mode": {
    "name": "ipython",
    "version": 3
   },
   "file_extension": ".py",
   "mimetype": "text/x-python",
   "name": "python",
   "nbconvert_exporter": "python",
   "pygments_lexer": "ipython3",
   "version": "3.6.11"
  }
 },
 "nbformat": 4,
 "nbformat_minor": 5
}
