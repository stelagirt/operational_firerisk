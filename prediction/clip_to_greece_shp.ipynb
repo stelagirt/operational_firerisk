{
 "cells": [
  {
   "cell_type": "code",
   "execution_count": 11,
   "id": "e53d6d47",
   "metadata": {},
   "outputs": [],
   "source": [
    "from osgeo import gdal\n",
    "from osgeo import ogr\n",
    "import geopandas as gpd\n"
   ]
  },
  {
   "cell_type": "code",
   "execution_count": 2,
   "id": "b941994c",
   "metadata": {},
   "outputs": [],
   "source": [
    "def dump_poly(raster_fname, vector_fname, ifeat):\n",
    "    # New filename. Assumes input raster file has '.tif' extension\n",
    "    # Might need to change how you build the output filename\n",
    "    fname_out = raster_fname.replace(\".tif\", f\"_{int(ifeat):05}.tif\")\n",
    "    # Do the actual clipping\n",
    "    g = gdal.Warp(fname_out, raster_fname, format=\"GTiff\",\n",
    "                    cutlineDSName=vector_fname,\n",
    "                    cutlineWhere=f\"id={ifeat:d}\",\n",
    "                    cropToCutline=True)\n",
    "    # Return the fname just because\n",
    "    return fname_out"
   ]
  },
  {
   "cell_type": "code",
   "execution_count": 16,
   "id": "e2de5b11",
   "metadata": {},
   "outputs": [],
   "source": [
    "vector_fname = \"/home/lstam/Documents/newriskmodel/perif/d7f50467-e5ef-49ac-a7ce-15df3e2ed738.shp\"\n",
    "# raster_fname = \"/home/lstam/Documents/daily_rasters/tif/20230630_norm_pred_risklev.tif\"\n",
    "# Open raster file, select first and unique layer\n",
    "gg = ogr.Open(vector_fname)\n",
    "layer = gg.GetLayerByIndex(0)\n"
   ]
  },
  {
   "cell_type": "code",
   "execution_count": 17,
   "id": "3c08c340",
   "metadata": {},
   "outputs": [
    {
     "data": {
      "text/plain": [
       "'aktogrammh'"
      ]
     },
     "execution_count": 17,
     "metadata": {},
     "output_type": "execute_result"
    }
   ],
   "source": [
    "layer.GetName()"
   ]
  },
  {
   "cell_type": "code",
   "execution_count": 16,
   "id": "0eb55671",
   "metadata": {},
   "outputs": [],
   "source": [
    "gdf = gpd.read_file(\"/home/lstam/Documents/newriskmodel/perif/periphereies.shp\", encoding='Windows-1253')"
   ]
  },
  {
   "cell_type": "code",
   "execution_count": 17,
   "id": "46f1a89c",
   "metadata": {},
   "outputs": [
    {
     "data": {
      "text/html": [
       "<div>\n",
       "<style scoped>\n",
       "    .dataframe tbody tr th:only-of-type {\n",
       "        vertical-align: middle;\n",
       "    }\n",
       "\n",
       "    .dataframe tbody tr th {\n",
       "        vertical-align: top;\n",
       "    }\n",
       "\n",
       "    .dataframe thead th {\n",
       "        text-align: right;\n",
       "    }\n",
       "</style>\n",
       "<table border=\"1\" class=\"dataframe\">\n",
       "  <thead>\n",
       "    <tr style=\"text-align: right;\">\n",
       "      <th></th>\n",
       "      <th>PER</th>\n",
       "      <th>geometry</th>\n",
       "    </tr>\n",
       "  </thead>\n",
       "  <tbody>\n",
       "    <tr>\n",
       "      <th>0</th>\n",
       "      <td>Π. ΑΝΑΤΟΛΙΚΗΣ ΜΑΚΕΔΟΝΙΑΣ - ΘΡΑΚΗΣ</td>\n",
       "      <td>MULTIPOLYGON (((468363.189 4577898.998, 468365...</td>\n",
       "    </tr>\n",
       "    <tr>\n",
       "      <th>1</th>\n",
       "      <td>Π. ΚΕΝΤΡΙΚΗΣ ΜΑΚΕΔΟΝΙΑΣ</td>\n",
       "      <td>MULTIPOLYGON (((306365.379 4525842.998, 306368...</td>\n",
       "    </tr>\n",
       "    <tr>\n",
       "      <th>2</th>\n",
       "      <td>Π. ΔΥΤΙΚΗΣ ΜΑΚΕΔΟΝΙΑΣ</td>\n",
       "      <td>POLYGON ((226087.989 4471633.998, 226102.009 4...</td>\n",
       "    </tr>\n",
       "    <tr>\n",
       "      <th>3</th>\n",
       "      <td>Π. ΗΠΕΙΡΟΥ</td>\n",
       "      <td>MULTIPOLYGON (((157581.777 4400827.998, 157583...</td>\n",
       "    </tr>\n",
       "    <tr>\n",
       "      <th>4</th>\n",
       "      <td>Π. ΘΕΣΣΑΛΙΑΣ</td>\n",
       "      <td>MULTIPOLYGON (((252882.049 4395793.998, 252884...</td>\n",
       "    </tr>\n",
       "    <tr>\n",
       "      <th>5</th>\n",
       "      <td>Π. ΒΟΡΕΙΟΥ ΑΙΓΑΙΟΥ</td>\n",
       "      <td>MULTIPOLYGON (((583302.439 4372793.498, 583308...</td>\n",
       "    </tr>\n",
       "    <tr>\n",
       "      <th>6</th>\n",
       "      <td>Π. ΝΟΤΙΟΥ ΑΙΓΑΙΟΥ</td>\n",
       "      <td>MULTIPOLYGON (((511410.309 4039985.999, 511410...</td>\n",
       "    </tr>\n",
       "    <tr>\n",
       "      <th>7</th>\n",
       "      <td>Π. ΣΤΕΡΕΑΣ ΕΛΛΑΔΑΣ</td>\n",
       "      <td>MULTIPOLYGON (((272558.249 4321865.998, 272571...</td>\n",
       "    </tr>\n",
       "    <tr>\n",
       "      <th>8</th>\n",
       "      <td>Π. ΔΥΤΙΚΗΣ ΕΛΛΑΔΑΣ</td>\n",
       "      <td>MULTIPOLYGON (((245118.969 4192904.499, 245147...</td>\n",
       "    </tr>\n",
       "    <tr>\n",
       "      <th>9</th>\n",
       "      <td>Π. ΠΕΛΟΠΟΝΝΗΣΟΥ</td>\n",
       "      <td>MULTIPOLYGON (((281006.999 4103543.999, 281008...</td>\n",
       "    </tr>\n",
       "    <tr>\n",
       "      <th>10</th>\n",
       "      <td>Π. ΙΟΝΙΩΝ ΝΗΣΩΝ</td>\n",
       "      <td>MULTIPOLYGON (((125656.195 4406556.498, 125678...</td>\n",
       "    </tr>\n",
       "    <tr>\n",
       "      <th>11</th>\n",
       "      <td>Π. ΚΡΗΤΗΣ</td>\n",
       "      <td>MULTIPOLYGON (((503187.470 3856825.999, 503200...</td>\n",
       "    </tr>\n",
       "    <tr>\n",
       "      <th>12</th>\n",
       "      <td>Π. ΑΤΤΙΚΗΣ</td>\n",
       "      <td>MULTIPOLYGON (((400841.090 4005833.499, 400851...</td>\n",
       "    </tr>\n",
       "  </tbody>\n",
       "</table>\n",
       "</div>"
      ],
      "text/plain": [
       "                                  PER  \\\n",
       "0   Π. ΑΝΑΤΟΛΙΚΗΣ ΜΑΚΕΔΟΝΙΑΣ - ΘΡΑΚΗΣ   \n",
       "1             Π. ΚΕΝΤΡΙΚΗΣ ΜΑΚΕΔΟΝΙΑΣ   \n",
       "2               Π. ΔΥΤΙΚΗΣ ΜΑΚΕΔΟΝΙΑΣ   \n",
       "3                          Π. ΗΠΕΙΡΟΥ   \n",
       "4                        Π. ΘΕΣΣΑΛΙΑΣ   \n",
       "5                  Π. ΒΟΡΕΙΟΥ ΑΙΓΑΙΟΥ   \n",
       "6                   Π. ΝΟΤΙΟΥ ΑΙΓΑΙΟΥ   \n",
       "7                  Π. ΣΤΕΡΕΑΣ ΕΛΛΑΔΑΣ   \n",
       "8                  Π. ΔΥΤΙΚΗΣ ΕΛΛΑΔΑΣ   \n",
       "9                     Π. ΠΕΛΟΠΟΝΝΗΣΟΥ   \n",
       "10                    Π. ΙΟΝΙΩΝ ΝΗΣΩΝ   \n",
       "11                          Π. ΚΡΗΤΗΣ   \n",
       "12                         Π. ΑΤΤΙΚΗΣ   \n",
       "\n",
       "                                             geometry  \n",
       "0   MULTIPOLYGON (((468363.189 4577898.998, 468365...  \n",
       "1   MULTIPOLYGON (((306365.379 4525842.998, 306368...  \n",
       "2   POLYGON ((226087.989 4471633.998, 226102.009 4...  \n",
       "3   MULTIPOLYGON (((157581.777 4400827.998, 157583...  \n",
       "4   MULTIPOLYGON (((252882.049 4395793.998, 252884...  \n",
       "5   MULTIPOLYGON (((583302.439 4372793.498, 583308...  \n",
       "6   MULTIPOLYGON (((511410.309 4039985.999, 511410...  \n",
       "7   MULTIPOLYGON (((272558.249 4321865.998, 272571...  \n",
       "8   MULTIPOLYGON (((245118.969 4192904.499, 245147...  \n",
       "9   MULTIPOLYGON (((281006.999 4103543.999, 281008...  \n",
       "10  MULTIPOLYGON (((125656.195 4406556.498, 125678...  \n",
       "11  MULTIPOLYGON (((503187.470 3856825.999, 503200...  \n",
       "12  MULTIPOLYGON (((400841.090 4005833.499, 400851...  "
      ]
     },
     "execution_count": 17,
     "metadata": {},
     "output_type": "execute_result"
    }
   ],
   "source": [
    "gdf"
   ]
  },
  {
   "cell_type": "code",
   "execution_count": 19,
   "id": "0cf5f14f",
   "metadata": {},
   "outputs": [],
   "source": [
    "gdfd=gdf.dissolve()"
   ]
  },
  {
   "cell_type": "code",
   "execution_count": 20,
   "id": "d8e39b59",
   "metadata": {},
   "outputs": [
    {
     "data": {
      "text/plain": [
       "<AxesSubplot:>"
      ]
     },
     "execution_count": 20,
     "metadata": {},
     "output_type": "execute_result"
    },
    {
     "data": {
      "image/png": "[encoded data removed]",
      "text/plain": [
       "<Figure size 432x288 with 1 Axes>"
      ]
     },
     "metadata": {
      "needs_background": "light"
     },
     "output_type": "display_data"
    }
   ],
   "source": [
    "%matplotlib inline\n",
    "gdfd.plot()"
   ]
  },
  {
   "cell_type": "code",
   "execution_count": 22,
   "id": "df4147c1",
   "metadata": {},
   "outputs": [
    {
     "data": {
      "text/html": [
       "<div>\n",
       "<style scoped>\n",
       "    .dataframe tbody tr th:only-of-type {\n",
       "        vertical-align: middle;\n",
       "    }\n",
       "\n",
       "    .dataframe tbody tr th {\n",
       "        vertical-align: top;\n",
       "    }\n",
       "\n",
       "    .dataframe thead th {\n",
       "        text-align: right;\n",
       "    }\n",
       "</style>\n",
       "<table border=\"1\" class=\"dataframe\">\n",
       "  <thead>\n",
       "    <tr style=\"text-align: right;\">\n",
       "      <th></th>\n",
       "      <th>geometry</th>\n",
       "      <th>PER</th>\n",
       "    </tr>\n",
       "  </thead>\n",
       "  <tbody>\n",
       "    <tr>\n",
       "      <th>0</th>\n",
       "      <td>MULTIPOLYGON (((24.11665 34.80359, 24.11688 34...</td>\n",
       "      <td>Π. ΑΝΑΤΟΛΙΚΗΣ ΜΑΚΕΔΟΝΙΑΣ - ΘΡΑΚΗΣ</td>\n",
       "    </tr>\n",
       "  </tbody>\n",
       "</table>\n",
       "</div>"
      ],
      "text/plain": [
       "                                            geometry  \\\n",
       "0  MULTIPOLYGON (((24.11665 34.80359, 24.11688 34...   \n",
       "\n",
       "                                 PER  \n",
       "0  Π. ΑΝΑΤΟΛΙΚΗΣ ΜΑΚΕΔΟΝΙΑΣ - ΘΡΑΚΗΣ  "
      ]
     },
     "execution_count": 22,
     "metadata": {},
     "output_type": "execute_result"
    }
   ],
   "source": [
    "gdfd.to_crs(4326)"
   ]
  },
  {
   "cell_type": "code",
   "execution_count": 24,
   "id": "b00ae680",
   "metadata": {},
   "outputs": [],
   "source": [
    "gdfd.to_file('/home/lstam/Documents/newriskmodel/greece2100.shp')"
   ]
  },
  {
   "cell_type": "code",
   "execution_count": null,
   "id": "e60b0504",
   "metadata": {},
   "outputs": [],
   "source": []
  }
 ],
 "metadata": {
  "kernelspec": {
   "display_name": "Python 3",
   "language": "python",
   "name": "python3"
  },
  "language_info": {
   "codemirror_mode": {
    "name": "ipython",
    "version": 3
   },
   "file_extension": ".py",
   "mimetype": "text/x-python",
   "name": "python",
   "nbconvert_exporter": "python",
   "pygments_lexer": "ipython3",
   "version": "3.6.11"
  }
 },
 "nbformat": 4,
 "nbformat_minor": 5
}
