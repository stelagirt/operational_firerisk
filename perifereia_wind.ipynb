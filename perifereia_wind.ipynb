{
 "cells": [
  {
   "cell_type": "code",
   "execution_count": 1,
   "id": "2e6f5e12",
   "metadata": {},
   "outputs": [],
   "source": [
    "import xarray as xr\n",
    "import cfgrib\n",
    "import os\n",
    "import datetime\n",
    "import numpy as np\n",
    "from math import pi"
   ]
  },
  {
   "cell_type": "code",
   "execution_count": 9,
   "id": "d6a7ab92",
   "metadata": {},
   "outputs": [],
   "source": [
    "abs_path = '/home/sg/Projects/perifereia/p4/raw_data'\n",
    "res_path = '/home/sg/Projects/perifereia/p4/nc'"
   ]
  },
  {
   "cell_type": "code",
   "execution_count": 11,
   "id": "2a8e5643",
   "metadata": {
    "collapsed": true
   },
   "outputs": [
    {
     "name": "stdout",
     "output_type": "stream",
     "text": [
      "WRF-20210610.grb2\n"
     ]
    },
    {
     "name": "stderr",
     "output_type": "stream",
     "text": [
      "Warning 1: Several drivers matching nc extension. Using NETCDF\n",
      "Warning 1: Several drivers matching nc extension. Using NETCDF\n"
     ]
    },
    {
     "name": "stdout",
     "output_type": "stream",
     "text": [
      "Input file size is 480, 400\n",
      "0...10...20...30...40...50...60...70...80...90...100 - done.\n",
      "WRF-20210803.grb2\n"
     ]
    },
    {
     "name": "stderr",
     "output_type": "stream",
     "text": [
      "Warning 1: Several drivers matching nc extension. Using NETCDF\n",
      "Warning 1: Several drivers matching nc extension. Using NETCDF\n"
     ]
    },
    {
     "name": "stdout",
     "output_type": "stream",
     "text": [
      "Input file size is 480, 400\n",
      "0...10...20...30...40...50...60...70...80...90...100 - done.\n",
      "WRF-20210903.grb2\n"
     ]
    },
    {
     "name": "stderr",
     "output_type": "stream",
     "text": [
      "Warning 1: Several drivers matching nc extension. Using NETCDF\n",
      "Warning 1: Several drivers matching nc extension. Using NETCDF\n"
     ]
    },
    {
     "name": "stdout",
     "output_type": "stream",
     "text": [
      "Input file size is 480, 400\n",
      "0...10...20...30...40...50...60...70...80...90...100 - done.\n",
      "WRF-20200718.grb2\n",
      "Input file size is 480, 400\n",
      "0...10...20.."
     ]
    },
    {
     "name": "stderr",
     "output_type": "stream",
     "text": [
      "Warning 1: Several drivers matching nc extension. Using NETCDF\n",
      "Warning 1: Several drivers matching nc extension. Using NETCDF\n"
     ]
    },
    {
     "name": "stdout",
     "output_type": "stream",
     "text": [
      ".30...40...50...60...70...80...90...100 - done.\n",
      "WRF-20210919.grb2\n"
     ]
    },
    {
     "name": "stderr",
     "output_type": "stream",
     "text": [
      "Warning 1: Several drivers matching nc extension. Using NETCDF\n",
      "Warning 1: Several drivers matching nc extension. Using NETCDF\n"
     ]
    },
    {
     "name": "stdout",
     "output_type": "stream",
     "text": [
      "Input file size is 480, 400\n",
      "0...10...20...30...40...50...60...70...80...90...100 - done.\n",
      "WRF-20210829.grb2\n",
      "Input file size is 480, 400\n",
      "0...10"
     ]
    },
    {
     "name": "stderr",
     "output_type": "stream",
     "text": [
      "Warning 1: Several drivers matching nc extension. Using NETCDF\n",
      "Warning 1: Several drivers matching nc extension. Using NETCDF\n"
     ]
    },
    {
     "name": "stdout",
     "output_type": "stream",
     "text": [
      "...20...30...40...50...60...70...80...90...100 - done.\n",
      "WRF-20210901.grb2\n"
     ]
    },
    {
     "name": "stderr",
     "output_type": "stream",
     "text": [
      "Warning 1: Several drivers matching nc extension. Using NETCDF\n",
      "Warning 1: Several drivers matching nc extension. Using NETCDF\n"
     ]
    },
    {
     "name": "stdout",
     "output_type": "stream",
     "text": [
      "Input file size is 480, 400\n",
      "0...10...20...30...40...50...60...70...80...90...100 - done.\n",
      "WRF-20200713.grb2\n"
     ]
    },
    {
     "name": "stderr",
     "output_type": "stream",
     "text": [
      "Warning 1: Several drivers matching nc extension. Using NETCDF\n",
      "Warning 1: Several drivers matching nc extension. Using NETCDF\n"
     ]
    },
    {
     "name": "stdout",
     "output_type": "stream",
     "text": [
      "Input file size is 480, 400\n",
      "0...10...20...30...40...50...60...70...80...90...100 - done.\n",
      "WRF-20200716.grb2\n",
      "Input file size is 480, 400\n",
      "0...10...20...30...40...50"
     ]
    },
    {
     "name": "stderr",
     "output_type": "stream",
     "text": [
      "Warning 1: Several drivers matching nc extension. Using NETCDF\n",
      "Warning 1: Several drivers matching nc extension. Using NETCDF\n"
     ]
    },
    {
     "name": "stdout",
     "output_type": "stream",
     "text": [
      "...60...70...80...90...100 - done.\n",
      "WRF-20211107.grb2\n"
     ]
    },
    {
     "name": "stderr",
     "output_type": "stream",
     "text": [
      "Warning 1: Several drivers matching nc extension. Using NETCDF\n",
      "Warning 1: Several drivers matching nc extension. Using NETCDF\n"
     ]
    },
    {
     "name": "stdout",
     "output_type": "stream",
     "text": [
      "Input file size is 480, 400\n",
      "0...10...20...30...40...50...60...70...80...90...100 - done.\n",
      "WRF-20210818.grb2\n"
     ]
    },
    {
     "name": "stderr",
     "output_type": "stream",
     "text": [
      "Warning 1: Several drivers matching nc extension. Using NETCDF\n",
      "Warning 1: Several drivers matching nc extension. Using NETCDF\n"
     ]
    },
    {
     "name": "stdout",
     "output_type": "stream",
     "text": [
      "Input file size is 480, 400\n",
      "0...10...20...30...40...50...60...70...80...90...100 - done.\n",
      "WRF-20211130.grb2\n"
     ]
    },
    {
     "name": "stderr",
     "output_type": "stream",
     "text": [
      "Warning 1: Several drivers matching nc extension. Using NETCDF\n",
      "Warning 1: Several drivers matching nc extension. Using NETCDF\n"
     ]
    },
    {
     "name": "stdout",
     "output_type": "stream",
     "text": [
      "Input file size is 480, 400\n",
      "0...10...20...30...40...50...60...70...80...90...100 - done.\n",
      "WRF-20210716.grb2\n",
      "Input file size is 480, 400\n",
      "0...10...20...30...40...50"
     ]
    },
    {
     "name": "stderr",
     "output_type": "stream",
     "text": [
      "Warning 1: Several drivers matching nc extension. Using NETCDF\n",
      "Warning 1: Several drivers matching nc extension. Using NETCDF\n"
     ]
    },
    {
     "name": "stdout",
     "output_type": "stream",
     "text": [
      "...60...70...80...90...100 - done.\n",
      "WRF-20221005.grb2\n",
      "Input file size is 480, 400\n",
      "0...10...20.."
     ]
    },
    {
     "name": "stderr",
     "output_type": "stream",
     "text": [
      "Warning 1: Several drivers matching nc extension. Using NETCDF\n",
      "Warning 1: Several drivers matching nc extension. Using NETCDF\n"
     ]
    },
    {
     "name": "stdout",
     "output_type": "stream",
     "text": [
      ".30...40...50...60...70...80...90...100 - done.\n",
      "WRF-20200819.grb2\n"
     ]
    },
    {
     "name": "stderr",
     "output_type": "stream",
     "text": [
      "Warning 1: Several drivers matching nc extension. Using NETCDF\n",
      "Warning 1: Several drivers matching nc extension. Using NETCDF\n"
     ]
    },
    {
     "name": "stdout",
     "output_type": "stream",
     "text": [
      "Input file size is 480, 400\n",
      "0...10...20...30...40...50...60...70...80...90...100 - done.\n",
      "WRF-20200706.grb2\n"
     ]
    },
    {
     "name": "stderr",
     "output_type": "stream",
     "text": [
      "Warning 1: Several drivers matching nc extension. Using NETCDF\n",
      "Warning 1: Several drivers matching nc extension. Using NETCDF\n"
     ]
    },
    {
     "name": "stdout",
     "output_type": "stream",
     "text": [
      "Input file size is 480, 400\n",
      "0...10...20...30...40...50...60...70...80...90...100 - done.\n",
      "WRF-20210826.grb2\n"
     ]
    },
    {
     "name": "stderr",
     "output_type": "stream",
     "text": [
      "Warning 1: Several drivers matching nc extension. Using NETCDF\n",
      "Warning 1: Several drivers matching nc extension. Using NETCDF\n"
     ]
    },
    {
     "name": "stdout",
     "output_type": "stream",
     "text": [
      "Input file size is 480, 400\n",
      "0...10...20...30...40...50...60...70...80...90...100 - done.\n",
      "WRF-20210602.grb2\n"
     ]
    },
    {
     "name": "stderr",
     "output_type": "stream",
     "text": [
      "Warning 1: Several drivers matching nc extension. Using NETCDF\n",
      "Warning 1: Several drivers matching nc extension. Using NETCDF\n"
     ]
    },
    {
     "name": "stdout",
     "output_type": "stream",
     "text": [
      "Input file size is 480, 400\n",
      "0...10...20...30...40...50...60...70...80...90...100 - done.\n",
      "WRF-20211201.grb2\n"
     ]
    },
    {
     "name": "stderr",
     "output_type": "stream",
     "text": [
      "Warning 1: Several drivers matching nc extension. Using NETCDF\n",
      "Warning 1: Several drivers matching nc extension. Using NETCDF\n"
     ]
    },
    {
     "name": "stdout",
     "output_type": "stream",
     "text": [
      "Input file size is 480, 400\n",
      "0...10...20...30...40...50...60...70...80...90...100 - done.\n",
      "WRF-20211205.grb2\n"
     ]
    },
    {
     "name": "stderr",
     "output_type": "stream",
     "text": [
      "Warning 1: Several drivers matching nc extension. Using NETCDF\n",
      "Warning 1: Several drivers matching nc extension. Using NETCDF\n"
     ]
    },
    {
     "name": "stdout",
     "output_type": "stream",
     "text": [
      "Input file size is 480, 400\n",
      "0...10...20...30...40...50...60...70...80...90...100 - done.\n",
      "WRF-20210607.grb2\n"
     ]
    },
    {
     "name": "stderr",
     "output_type": "stream",
     "text": [
      "Warning 1: Several drivers matching nc extension. Using NETCDF\n",
      "Warning 1: Several drivers matching nc extension. Using NETCDF\n"
     ]
    },
    {
     "name": "stdout",
     "output_type": "stream",
     "text": [
      "Input file size is 480, 400\n",
      "0...10...20...30...40...50...60...70...80...90...100 - done.\n",
      "WRF-20200901.grb2\n"
     ]
    },
    {
     "name": "stderr",
     "output_type": "stream",
     "text": [
      "Warning 1: Several drivers matching nc extension. Using NETCDF\n",
      "Warning 1: Several drivers matching nc extension. Using NETCDF\n"
     ]
    },
    {
     "name": "stdout",
     "output_type": "stream",
     "text": [
      "Input file size is 480, 400\n",
      "0...10...20...30...40...50...60...70...80...90...100 - done.\n",
      "WRF-20200708.grb2\n"
     ]
    },
    {
     "name": "stderr",
     "output_type": "stream",
     "text": [
      "Warning 1: Several drivers matching nc extension. Using NETCDF\n",
      "Warning 1: Several drivers matching nc extension. Using NETCDF\n"
     ]
    },
    {
     "name": "stdout",
     "output_type": "stream",
     "text": [
      "Input file size is 480, 400\n",
      "0...10...20...30...40...50...60...70...80...90...100 - done.\n",
      "WRF-20211209.grb2\n"
     ]
    },
    {
     "name": "stderr",
     "output_type": "stream",
     "text": [
      "Warning 1: Several drivers matching nc extension. Using NETCDF\n",
      "Warning 1: Several drivers matching nc extension. Using NETCDF\n"
     ]
    },
    {
     "name": "stdout",
     "output_type": "stream",
     "text": [
      "Input file size is 480, 400\n",
      "0...10...20...30...40...50...60...70...80...90...100 - done.\n",
      "WRF-20211216.grb2\n"
     ]
    },
    {
     "name": "stderr",
     "output_type": "stream",
     "text": [
      "Warning 1: Several drivers matching nc extension. Using NETCDF\n",
      "Warning 1: Several drivers matching nc extension. Using NETCDF\n"
     ]
    },
    {
     "name": "stdout",
     "output_type": "stream",
     "text": [
      "Input file size is 480, 400\n",
      "0...10...20...30...40...50...60...70...80...90...100 - done.\n",
      "WRF-20211123.grb2\n"
     ]
    },
    {
     "name": "stderr",
     "output_type": "stream",
     "text": [
      "Warning 1: Several drivers matching nc extension. Using NETCDF\n",
      "Warning 1: Several drivers matching nc extension. Using NETCDF\n"
     ]
    },
    {
     "name": "stdout",
     "output_type": "stream",
     "text": [
      "Input file size is 480, 400\n",
      "0...10...20...30...40...50...60...70...80...90...100 - done.\n",
      "WRF-20210929.grb2\n",
      "Input file size is 480, 400\n",
      "0...10...20...30...40...50"
     ]
    },
    {
     "name": "stderr",
     "output_type": "stream",
     "text": [
      "Warning 1: Several drivers matching nc extension. Using NETCDF\n",
      "Warning 1: Several drivers matching nc extension. Using NETCDF\n"
     ]
    },
    {
     "name": "stdout",
     "output_type": "stream",
     "text": [
      "...60...70...80...90...100 - done.\n",
      "WRF-20200711.grb2\n",
      "Input file size is 480, 400\n",
      "0...10...20.."
     ]
    },
    {
     "name": "stderr",
     "output_type": "stream",
     "text": [
      "Warning 1: Several drivers matching nc extension. Using NETCDF\n",
      "Warning 1: Several drivers matching nc extension. Using NETCDF\n"
     ]
    },
    {
     "name": "stdout",
     "output_type": "stream",
     "text": [
      ".30...40...50...60...70...80...90...100 - done.\n",
      "WRF-20210608.grb2\n",
      "Input file size is 480, 400\n",
      "0...10...20.."
     ]
    },
    {
     "name": "stderr",
     "output_type": "stream",
     "text": [
      "Warning 1: Several drivers matching nc extension. Using NETCDF\n",
      "Warning 1: Several drivers matching nc extension. Using NETCDF\n"
     ]
    },
    {
     "name": "stdout",
     "output_type": "stream",
     "text": [
      ".30...40...50...60...70...80...90...100 - done.\n",
      "WRF-20210718.grb2\n"
     ]
    },
    {
     "name": "stderr",
     "output_type": "stream",
     "text": [
      "Warning 1: Several drivers matching nc extension. Using NETCDF\n",
      "Warning 1: Several drivers matching nc extension. Using NETCDF\n"
     ]
    },
    {
     "name": "stdout",
     "output_type": "stream",
     "text": [
      "Input file size is 480, 400\n",
      "0...10...20...30...40...50...60...70...80...90...100 - done.\n",
      "WRF-20211127.grb2\n",
      "Input file size is 480, 400\n",
      "0...10...20...30...40...50"
     ]
    },
    {
     "name": "stderr",
     "output_type": "stream",
     "text": [
      "Warning 1: Several drivers matching nc extension. Using NETCDF\n",
      "Warning 1: Several drivers matching nc extension. Using NETCDF\n"
     ]
    },
    {
     "name": "stdout",
     "output_type": "stream",
     "text": [
      "...60...70...80...90...100 - done.\n",
      "WRF-20210709.grb2\n",
      "Input file size is 480, 400\n",
      "0...10...20.."
     ]
    },
    {
     "name": "stderr",
     "output_type": "stream",
     "text": [
      "Warning 1: Several drivers matching nc extension. Using NETCDF\n",
      "Warning 1: Several drivers matching nc extension. Using NETCDF\n"
     ]
    },
    {
     "name": "stdout",
     "output_type": "stream",
     "text": [
      ".30...40...50...60...70...80...90...100 - done.\n",
      "WRF-20210823.grb2\n"
     ]
    },
    {
     "name": "stderr",
     "output_type": "stream",
     "text": [
      "Warning 1: Several drivers matching nc extension. Using NETCDF\n",
      "Warning 1: Several drivers matching nc extension. Using NETCDF\n"
     ]
    },
    {
     "name": "stdout",
     "output_type": "stream",
     "text": [
      "Input file size is 480, 400\n",
      "0...10...20...30...40...50...60...70...80...90...100 - done.\n",
      "WRF-20211213.grb2\n",
      "Input file size is 480, 400\n",
      "0...10...20.."
     ]
    },
    {
     "name": "stderr",
     "output_type": "stream",
     "text": [
      "Warning 1: Several drivers matching nc extension. Using NETCDF\n",
      "Warning 1: Several drivers matching nc extension. Using NETCDF\n"
     ]
    },
    {
     "name": "stdout",
     "output_type": "stream",
     "text": [
      ".30...40...50...60...70...80...90...100 - done.\n",
      "WRF-20211110.grb2\n"
     ]
    },
    {
     "name": "stderr",
     "output_type": "stream",
     "text": [
      "Warning 1: Several drivers matching nc extension. Using NETCDF\n",
      "Warning 1: Several drivers matching nc extension. Using NETCDF\n"
     ]
    },
    {
     "name": "stdout",
     "output_type": "stream",
     "text": [
      "Input file size is 480, 400\n",
      "0...10...20...30...40...50...60...70...80...90...100 - done.\n",
      "WRF-20200809.grb2\n"
     ]
    },
    {
     "name": "stderr",
     "output_type": "stream",
     "text": [
      "Warning 1: Several drivers matching nc extension. Using NETCDF\n",
      "Warning 1: Several drivers matching nc extension. Using NETCDF\n"
     ]
    },
    {
     "name": "stdout",
     "output_type": "stream",
     "text": [
      "Input file size is 480, 400\n",
      "0...10...20...30...40...50...60...70...80...90...100 - done.\n",
      "WRF-20211125.grb2\n",
      "Input file size is 480, 400\n",
      "0...10...20...30...40...50"
     ]
    },
    {
     "name": "stderr",
     "output_type": "stream",
     "text": [
      "Warning 1: Several drivers matching nc extension. Using NETCDF\n",
      "Warning 1: Several drivers matching nc extension. Using NETCDF\n"
     ]
    },
    {
     "name": "stdout",
     "output_type": "stream",
     "text": [
      "...60...70...80...90...100 - done.\n",
      "WRF-20210721.grb2\n",
      "Input file size is 480, 400\n",
      "0...10...20...30...40...50"
     ]
    },
    {
     "name": "stderr",
     "output_type": "stream",
     "text": [
      "Warning 1: Several drivers matching nc extension. Using NETCDF\n",
      "Warning 1: Several drivers matching nc extension. Using NETCDF\n"
     ]
    },
    {
     "name": "stdout",
     "output_type": "stream",
     "text": [
      "...60...70...80...90...100 - done.\n",
      "WRF-20211026.grb2\n",
      "Input file size is 480, 400\n",
      "0...10...20.."
     ]
    },
    {
     "name": "stderr",
     "output_type": "stream",
     "text": [
      "Warning 1: Several drivers matching nc extension. Using NETCDF\n",
      "Warning 1: Several drivers matching nc extension. Using NETCDF\n"
     ]
    },
    {
     "name": "stdout",
     "output_type": "stream",
     "text": [
      ".30...40...50...60...70...80...90...100 - done.\n",
      "WRF-20200701.grb2\n"
     ]
    },
    {
     "name": "stderr",
     "output_type": "stream",
     "text": [
      "Warning 1: Several drivers matching nc extension. Using NETCDF\n",
      "Warning 1: Several drivers matching nc extension. Using NETCDF\n"
     ]
    },
    {
     "name": "stdout",
     "output_type": "stream",
     "text": [
      "Input file size is 480, 400\n",
      "0...10...20...30...40...50...60...70...80...90...100 - done.\n",
      "WRF-20211016.grb2\n"
     ]
    },
    {
     "name": "stderr",
     "output_type": "stream",
     "text": [
      "Warning 1: Several drivers matching nc extension. Using NETCDF\n",
      "Warning 1: Several drivers matching nc extension. Using NETCDF\n"
     ]
    },
    {
     "name": "stdout",
     "output_type": "stream",
     "text": [
      "Input file size is 480, 400\n",
      "0...10...20...30...40...50...60...70...80...90...100 - done.\n",
      "WRF-20210902.grb2\n",
      "Input file size is 480, 400\n",
      "0...10...20...30...40...50"
     ]
    },
    {
     "name": "stderr",
     "output_type": "stream",
     "text": [
      "Warning 1: Several drivers matching nc extension. Using NETCDF\n",
      "Warning 1: Several drivers matching nc extension. Using NETCDF\n"
     ]
    },
    {
     "name": "stdout",
     "output_type": "stream",
     "text": [
      "...60...70...80...90...100 - done.\n",
      "WRF-20210710.grb2\n",
      "Input file size is 480, 400\n",
      "0...10...20.."
     ]
    },
    {
     "name": "stderr",
     "output_type": "stream",
     "text": [
      "Warning 1: Several drivers matching nc extension. Using NETCDF\n",
      "Warning 1: Several drivers matching nc extension. Using NETCDF\n"
     ]
    },
    {
     "name": "stdout",
     "output_type": "stream",
     "text": [
      ".30...40...50...60...70...80...90...100 - done.\n",
      "WRF-20200806.grb2\n"
     ]
    },
    {
     "name": "stderr",
     "output_type": "stream",
     "text": [
      "Warning 1: Several drivers matching nc extension. Using NETCDF\n",
      "Warning 1: Several drivers matching nc extension. Using NETCDF\n"
     ]
    },
    {
     "name": "stdout",
     "output_type": "stream",
     "text": [
      "Input file size is 480, 400\n",
      "0...10...20...30...40...50...60...70...80...90...100 - done.\n",
      "WRF-20211215.grb2\n"
     ]
    },
    {
     "name": "stderr",
     "output_type": "stream",
     "text": [
      "Warning 1: Several drivers matching nc extension. Using NETCDF\n",
      "Warning 1: Several drivers matching nc extension. Using NETCDF\n"
     ]
    },
    {
     "name": "stdout",
     "output_type": "stream",
     "text": [
      "Input file size is 480, 400\n",
      "0...10...20...30...40...50...60...70...80...90...100 - done.\n",
      "WRF-20211116.grb2\n"
     ]
    },
    {
     "name": "stderr",
     "output_type": "stream",
     "text": [
      "Warning 1: Several drivers matching nc extension. Using NETCDF\n",
      "Warning 1: Several drivers matching nc extension. Using NETCDF\n"
     ]
    },
    {
     "name": "stdout",
     "output_type": "stream",
     "text": [
      "Input file size is 480, 400\n",
      "0...10...20...30...40...50...60...70...80...90...100 - done.\n",
      "WRF-20211229.grb2\n"
     ]
    },
    {
     "name": "stderr",
     "output_type": "stream",
     "text": [
      "Warning 1: Several drivers matching nc extension. Using NETCDF\n",
      "Warning 1: Several drivers matching nc extension. Using NETCDF\n"
     ]
    },
    {
     "name": "stdout",
     "output_type": "stream",
     "text": [
      "Input file size is 480, 400\n",
      "0...10...20...30...40...50...60...70...80...90...100 - done.\n",
      "WRF-20211002.grb2\n"
     ]
    },
    {
     "name": "stderr",
     "output_type": "stream",
     "text": [
      "Warning 1: Several drivers matching nc extension. Using NETCDF\n",
      "Warning 1: Several drivers matching nc extension. Using NETCDF\n"
     ]
    },
    {
     "name": "stdout",
     "output_type": "stream",
     "text": [
      "Input file size is 480, 400\n",
      "0...10...20...30...40...50...60...70...80...90...100 - done.\n",
      "WRF-20200730.grb2\n"
     ]
    },
    {
     "name": "stderr",
     "output_type": "stream",
     "text": [
      "Warning 1: Several drivers matching nc extension. Using NETCDF\n",
      "Warning 1: Several drivers matching nc extension. Using NETCDF\n"
     ]
    },
    {
     "name": "stdout",
     "output_type": "stream",
     "text": [
      "Input file size is 480, 400\n",
      "0...10...20...30...40...50...60...70...80...90...100 - done.\n",
      "WRF-20200727.grb2\n"
     ]
    },
    {
     "name": "stderr",
     "output_type": "stream",
     "text": [
      "Warning 1: Several drivers matching nc extension. Using NETCDF\n",
      "Warning 1: Several drivers matching nc extension. Using NETCDF\n"
     ]
    },
    {
     "name": "stdout",
     "output_type": "stream",
     "text": [
      "Input file size is 480, 400\n",
      "0...10...20...30...40...50...60...70...80...90...100 - done.\n",
      "WRF-20220928.grb2\n"
     ]
    },
    {
     "name": "stderr",
     "output_type": "stream",
     "text": [
      "Warning 1: Several drivers matching nc extension. Using NETCDF\n",
      "Warning 1: Several drivers matching nc extension. Using NETCDF\n"
     ]
    },
    {
     "name": "stdout",
     "output_type": "stream",
     "text": [
      "Input file size is 480, 400\n",
      "0...10...20...30...40...50...60...70...80...90...100 - done.\n",
      "WRF-20211103.grb2\n",
      "Input file size is 480, 400\n",
      "0...10...20...30...40...50"
     ]
    },
    {
     "name": "stderr",
     "output_type": "stream",
     "text": [
      "Warning 1: Several drivers matching nc extension. Using NETCDF\n",
      "Warning 1: Several drivers matching nc extension. Using NETCDF\n"
     ]
    },
    {
     "name": "stdout",
     "output_type": "stream",
     "text": [
      "...60...70...80...90...100 - done.\n",
      "WRF-20210916.grb2\n",
      "Input file size is 480, 400\n",
      "0...10...20...30...40...50"
     ]
    },
    {
     "name": "stderr",
     "output_type": "stream",
     "text": [
      "Warning 1: Several drivers matching nc extension. Using NETCDF\n",
      "Warning 1: Several drivers matching nc extension. Using NETCDF\n"
     ]
    },
    {
     "name": "stdout",
     "output_type": "stream",
     "text": [
      "...60...70...80...90...100 - done.\n",
      "WRF-20211112.grb2\n",
      "Input file size is 480, 400\n",
      "0...10...20...30...40...50"
     ]
    },
    {
     "name": "stderr",
     "output_type": "stream",
     "text": [
      "Warning 1: Several drivers matching nc extension. Using NETCDF\n",
      "Warning 1: Several drivers matching nc extension. Using NETCDF\n"
     ]
    },
    {
     "name": "stdout",
     "output_type": "stream",
     "text": [
      "...60...70...80...90...100 - done.\n",
      "WRF-20210905.grb2\n"
     ]
    },
    {
     "name": "stderr",
     "output_type": "stream",
     "text": [
      "Warning 1: Several drivers matching nc extension. Using NETCDF\n",
      "Warning 1: Several drivers matching nc extension. Using NETCDF\n"
     ]
    },
    {
     "name": "stdout",
     "output_type": "stream",
     "text": [
      "Input file size is 480, 400\n",
      "0...10...20...30...40...50...60...70...80...90...100 - done.\n",
      "WRF-20211012.grb2\n"
     ]
    },
    {
     "name": "stderr",
     "output_type": "stream",
     "text": [
      "Warning 1: Several drivers matching nc extension. Using NETCDF\n",
      "Warning 1: Several drivers matching nc extension. Using NETCDF\n"
     ]
    },
    {
     "name": "stdout",
     "output_type": "stream",
     "text": [
      "Input file size is 480, 400\n",
      "0...10...20...30...40...50...60...70...80...90...100 - done.\n",
      "WRF-20211214.grb2\n",
      "Input file size is 480, 400\n",
      "0...10...20...30...40...50"
     ]
    },
    {
     "name": "stderr",
     "output_type": "stream",
     "text": [
      "Warning 1: Several drivers matching nc extension. Using NETCDF\n",
      "Warning 1: Several drivers matching nc extension. Using NETCDF\n"
     ]
    },
    {
     "name": "stdout",
     "output_type": "stream",
     "text": [
      "...60...70...80...90...100 - done.\n",
      "WRF-20210606.grb2\n"
     ]
    },
    {
     "name": "stderr",
     "output_type": "stream",
     "text": [
      "Warning 1: Several drivers matching nc extension. Using NETCDF\n",
      "Warning 1: Several drivers matching nc extension. Using NETCDF\n"
     ]
    },
    {
     "name": "stdout",
     "output_type": "stream",
     "text": [
      "Input file size is 480, 400\n",
      "0...10...20...30...40...50...60...70...80...90...100 - done.\n",
      "WRF-20210805.grb2\n"
     ]
    },
    {
     "name": "stderr",
     "output_type": "stream",
     "text": [
      "Warning 1: Several drivers matching nc extension. Using NETCDF\n",
      "Warning 1: Several drivers matching nc extension. Using NETCDF\n"
     ]
    },
    {
     "name": "stdout",
     "output_type": "stream",
     "text": [
      "Input file size is 480, 400\n",
      "0...10...20...30...40...50...60...70...80...90...100 - done.\n",
      "WRF-20211210.grb2\n"
     ]
    },
    {
     "name": "stderr",
     "output_type": "stream",
     "text": [
      "Warning 1: Several drivers matching nc extension. Using NETCDF\n",
      "Warning 1: Several drivers matching nc extension. Using NETCDF\n"
     ]
    },
    {
     "name": "stdout",
     "output_type": "stream",
     "text": [
      "Input file size is 480, 400\n",
      "0...10...20...30...40...50...60...70...80...90...100 - done.\n",
      "WRF-20200818.grb2\n"
     ]
    },
    {
     "name": "stderr",
     "output_type": "stream",
     "text": [
      "Warning 1: Several drivers matching nc extension. Using NETCDF\n",
      "Warning 1: Several drivers matching nc extension. Using NETCDF\n"
     ]
    },
    {
     "name": "stdout",
     "output_type": "stream",
     "text": [
      "Input file size is 480, 400\n",
      "0...10...20...30...40...50...60...70...80...90...100 - done.\n",
      "WRF-20200811.grb2\n",
      "Input file size is 480, 400\n",
      "0...10...20...30...40...50"
     ]
    },
    {
     "name": "stderr",
     "output_type": "stream",
     "text": [
      "Warning 1: Several drivers matching nc extension. Using NETCDF\n",
      "Warning 1: Several drivers matching nc extension. Using NETCDF\n"
     ]
    },
    {
     "name": "stdout",
     "output_type": "stream",
     "text": [
      "...60...70...80...90...100 - done.\n",
      "WRF-20220926.grb2\n"
     ]
    },
    {
     "name": "stderr",
     "output_type": "stream",
     "text": [
      "Warning 1: Several drivers matching nc extension. Using NETCDF\n",
      "Warning 1: Several drivers matching nc extension. Using NETCDF\n"
     ]
    },
    {
     "name": "stdout",
     "output_type": "stream",
     "text": [
      "Input file size is 480, 400\n",
      "0...10...20...30...40...50...60...70...80...90...100 - done.\n",
      "WRF-20211009.grb2\n"
     ]
    },
    {
     "name": "stderr",
     "output_type": "stream",
     "text": [
      "Warning 1: Several drivers matching nc extension. Using NETCDF\n",
      "Warning 1: Several drivers matching nc extension. Using NETCDF\n"
     ]
    },
    {
     "name": "stdout",
     "output_type": "stream",
     "text": [
      "Input file size is 480, 400\n",
      "0...10...20...30...40...50...60...70...80...90...100 - done.\n",
      "WRF-20210910.grb2\n"
     ]
    },
    {
     "name": "stderr",
     "output_type": "stream",
     "text": [
      "Warning 1: Several drivers matching nc extension. Using NETCDF\n",
      "Warning 1: Several drivers matching nc extension. Using NETCDF\n"
     ]
    },
    {
     "name": "stdout",
     "output_type": "stream",
     "text": [
      "Input file size is 480, 400\n",
      "0...10...20...30...40...50...60...70...80...90...100 - done.\n",
      "WRF-20210626.grb2\n"
     ]
    },
    {
     "name": "stderr",
     "output_type": "stream",
     "text": [
      "Warning 1: Several drivers matching nc extension. Using NETCDF\n",
      "Warning 1: Several drivers matching nc extension. Using NETCDF\n"
     ]
    },
    {
     "name": "stdout",
     "output_type": "stream",
     "text": [
      "Input file size is 480, 400\n",
      "0...10...20...30...40...50...60...70...80...90...100 - done.\n",
      "WRF-20200803.grb2\n"
     ]
    },
    {
     "name": "stderr",
     "output_type": "stream",
     "text": [
      "Warning 1: Several drivers matching nc extension. Using NETCDF\n",
      "Warning 1: Several drivers matching nc extension. Using NETCDF\n"
     ]
    },
    {
     "name": "stdout",
     "output_type": "stream",
     "text": [
      "Input file size is 480, 400\n",
      "0...10...20...30...40...50...60...70...80...90...100 - done.\n",
      "WRF-20210609.grb2\n",
      "Input file size is 480, 400\n",
      "0...10...20...30...40...50"
     ]
    },
    {
     "name": "stderr",
     "output_type": "stream",
     "text": [
      "Warning 1: Several drivers matching nc extension. Using NETCDF\n",
      "Warning 1: Several drivers matching nc extension. Using NETCDF\n"
     ]
    },
    {
     "name": "stdout",
     "output_type": "stream",
     "text": [
      "...60...70...80...90...100 - done.\n",
      "WRF-20210605.grb2\n",
      "Input file size is 480, 400\n",
      "0...10...20...30...40...50"
     ]
    },
    {
     "name": "stderr",
     "output_type": "stream",
     "text": [
      "Warning 1: Several drivers matching nc extension. Using NETCDF\n",
      "Warning 1: Several drivers matching nc extension. Using NETCDF\n"
     ]
    },
    {
     "name": "stdout",
     "output_type": "stream",
     "text": [
      "...60...70...80...90...100 - done.\n",
      "WRF-20211031.grb2\n",
      "Input file size is 480, 400\n",
      "0...10...20.."
     ]
    },
    {
     "name": "stderr",
     "output_type": "stream",
     "text": [
      "Warning 1: Several drivers matching nc extension. Using NETCDF\n",
      "Warning 1: Several drivers matching nc extension. Using NETCDF\n"
     ]
    },
    {
     "name": "stdout",
     "output_type": "stream",
     "text": [
      ".30...40...50...60...70...80...90...100 - done.\n",
      "WRF-20210911.grb2\n"
     ]
    },
    {
     "name": "stderr",
     "output_type": "stream",
     "text": [
      "Warning 1: Several drivers matching nc extension. Using NETCDF\n",
      "Warning 1: Several drivers matching nc extension. Using NETCDF\n"
     ]
    },
    {
     "name": "stdout",
     "output_type": "stream",
     "text": [
      "Input file size is 480, 400\n",
      "0...10...20...30...40...50...60...70...80...90...100 - done.\n",
      "WRF-20210614.grb2\n"
     ]
    },
    {
     "name": "stderr",
     "output_type": "stream",
     "text": [
      "Warning 1: Several drivers matching nc extension. Using NETCDF\n",
      "Warning 1: Several drivers matching nc extension. Using NETCDF\n"
     ]
    },
    {
     "name": "stdout",
     "output_type": "stream",
     "text": [
      "Input file size is 480, 400\n",
      "0...10...20...30...40...50...60...70...80...90...100 - done.\n",
      "WRF-20200829.grb2\n"
     ]
    },
    {
     "name": "stderr",
     "output_type": "stream",
     "text": [
      "Warning 1: Several drivers matching nc extension. Using NETCDF\n",
      "Warning 1: Several drivers matching nc extension. Using NETCDF\n"
     ]
    },
    {
     "name": "stdout",
     "output_type": "stream",
     "text": [
      "Input file size is 480, 400\n",
      "0...10...20...30...40...50...60...70...80...90...100 - done.\n",
      "WRF-20210906.grb2\n",
      "Input file size is 480, 400\n",
      "0...10...20...30...40...50"
     ]
    },
    {
     "name": "stderr",
     "output_type": "stream",
     "text": [
      "Warning 1: Several drivers matching nc extension. Using NETCDF\n",
      "Warning 1: Several drivers matching nc extension. Using NETCDF\n"
     ]
    },
    {
     "name": "stdout",
     "output_type": "stream",
     "text": [
      "...60...70...80...90...100 - done.\n",
      "WRF-20210615.grb2\n",
      "Input file size is 480, 400\n",
      "0...10...20.."
     ]
    },
    {
     "name": "stderr",
     "output_type": "stream",
     "text": [
      "Warning 1: Several drivers matching nc extension. Using NETCDF\n",
      "Warning 1: Several drivers matching nc extension. Using NETCDF\n"
     ]
    },
    {
     "name": "stdout",
     "output_type": "stream",
     "text": [
      ".30...40...50...60...70...80...90...100 - done.\n",
      "WRF-20200728.grb2\n",
      "Input file size is 480, 400\n",
      "0...10...20.."
     ]
    },
    {
     "name": "stderr",
     "output_type": "stream",
     "text": [
      "Warning 1: Several drivers matching nc extension. Using NETCDF\n",
      "Warning 1: Several drivers matching nc extension. Using NETCDF\n"
     ]
    },
    {
     "name": "stdout",
     "output_type": "stream",
     "text": [
      ".30...40...50...60...70...80...90...100 - done.\n",
      "WRF-20211109.grb2\n"
     ]
    },
    {
     "name": "stderr",
     "output_type": "stream",
     "text": [
      "Warning 1: Several drivers matching nc extension. Using NETCDF\n",
      "Warning 1: Several drivers matching nc extension. Using NETCDF\n"
     ]
    },
    {
     "name": "stdout",
     "output_type": "stream",
     "text": [
      "Input file size is 480, 400\n",
      "0...10...20...30...40...50...60...70...80...90...100 - done.\n",
      "WRF-20210706.grb2\n"
     ]
    },
    {
     "name": "stderr",
     "output_type": "stream",
     "text": [
      "Warning 1: Several drivers matching nc extension. Using NETCDF\n",
      "Warning 1: Several drivers matching nc extension. Using NETCDF\n"
     ]
    },
    {
     "name": "stdout",
     "output_type": "stream",
     "text": [
      "Input file size is 480, 400\n",
      "0...10...20...30...40...50...60...70...80...90...100 - done.\n",
      "WRF-20221010.grb2\n"
     ]
    },
    {
     "name": "stderr",
     "output_type": "stream",
     "text": [
      "Warning 1: Several drivers matching nc extension. Using NETCDF\n",
      "Warning 1: Several drivers matching nc extension. Using NETCDF\n"
     ]
    },
    {
     "name": "stdout",
     "output_type": "stream",
     "text": [
      "Input file size is 480, 400\n",
      "0...10...20...30...40...50...60...70...80...90...100 - done.\n",
      "WRF-20220921.grb2\n",
      "Input file size is 480, 400\n",
      "0...10...20...30...40...50"
     ]
    },
    {
     "name": "stderr",
     "output_type": "stream",
     "text": [
      "Warning 1: Several drivers matching nc extension. Using NETCDF\n",
      "Warning 1: Several drivers matching nc extension. Using NETCDF\n"
     ]
    },
    {
     "name": "stdout",
     "output_type": "stream",
     "text": [
      "...60...70...80...90...100 - done.\n",
      "WRF-20210525.grb2\n"
     ]
    },
    {
     "name": "stderr",
     "output_type": "stream",
     "text": [
      "Warning 1: Several drivers matching nc extension. Using NETCDF\n",
      "Warning 1: Several drivers matching nc extension. Using NETCDF\n"
     ]
    },
    {
     "name": "stdout",
     "output_type": "stream",
     "text": [
      "Input file size is 480, 400\n",
      "0...10...20...30...40...50...60...70...80...90...100 - done.\n",
      "WRF-20210520.grb2\n"
     ]
    },
    {
     "name": "stderr",
     "output_type": "stream",
     "text": [
      "Warning 1: Several drivers matching nc extension. Using NETCDF\n",
      "Warning 1: Several drivers matching nc extension. Using NETCDF\n"
     ]
    },
    {
     "name": "stdout",
     "output_type": "stream",
     "text": [
      "Input file size is 480, 400\n",
      "0...10...20...30...40...50...60...70...80...90...100 - done.\n",
      "WRF-20210924.grb2\n",
      "Input file size is 480, 400\n",
      "0...10...20.."
     ]
    },
    {
     "name": "stderr",
     "output_type": "stream",
     "text": [
      "Warning 1: Several drivers matching nc extension. Using NETCDF\n",
      "Warning 1: Several drivers matching nc extension. Using NETCDF\n"
     ]
    },
    {
     "name": "stdout",
     "output_type": "stream",
     "text": [
      ".30...40...50...60...70...80...90...100 - done.\n",
      "WRF-20200902.grb2\n"
     ]
    },
    {
     "name": "stderr",
     "output_type": "stream",
     "text": [
      "Warning 1: Several drivers matching nc extension. Using NETCDF\n",
      "Warning 1: Several drivers matching nc extension. Using NETCDF\n"
     ]
    },
    {
     "name": "stdout",
     "output_type": "stream",
     "text": [
      "Input file size is 480, 400\n",
      "0...10...20...30...40...50...60...70...80...90...100 - done.\n",
      "WRF-20211217.grb2\n",
      "Input file size is 480, 400\n",
      "0...10...20...30...40...50"
     ]
    },
    {
     "name": "stderr",
     "output_type": "stream",
     "text": [
      "Warning 1: Several drivers matching nc extension. Using NETCDF\n",
      "Warning 1: Several drivers matching nc extension. Using NETCDF\n"
     ]
    },
    {
     "name": "stdout",
     "output_type": "stream",
     "text": [
      "...60...70...80...90...100 - done.\n",
      "WRF-20200813.grb2\n"
     ]
    },
    {
     "name": "stderr",
     "output_type": "stream",
     "text": [
      "Warning 1: Several drivers matching nc extension. Using NETCDF\n",
      "Warning 1: Several drivers matching nc extension. Using NETCDF\n"
     ]
    },
    {
     "name": "stdout",
     "output_type": "stream",
     "text": [
      "Input file size is 480, 400\n",
      "0...10...20...30...40...50...60...70...80...90...100 - done.\n",
      "WRF-20210703.grb2\n",
      "Input file size is 480, 400\n",
      "0...10...20...30...40...50"
     ]
    },
    {
     "name": "stderr",
     "output_type": "stream",
     "text": [
      "Warning 1: Several drivers matching nc extension. Using NETCDF\n",
      "Warning 1: Several drivers matching nc extension. Using NETCDF\n"
     ]
    },
    {
     "name": "stdout",
     "output_type": "stream",
     "text": [
      "...60...70...80...90...100 - done.\n",
      "WRF-20211105.grb2\n",
      "Input file size is 480, 400\n",
      "0...10...20.."
     ]
    },
    {
     "name": "stderr",
     "output_type": "stream",
     "text": [
      "Warning 1: Several drivers matching nc extension. Using NETCDF\n",
      "Warning 1: Several drivers matching nc extension. Using NETCDF\n"
     ]
    },
    {
     "name": "stdout",
     "output_type": "stream",
     "text": [
      ".30...40...50...60...70...80...90...100 - done.\n",
      "WRF-20210713.grb2\n"
     ]
    },
    {
     "name": "stderr",
     "output_type": "stream",
     "text": [
      "Warning 1: Several drivers matching nc extension. Using NETCDF\n",
      "Warning 1: Several drivers matching nc extension. Using NETCDF\n"
     ]
    },
    {
     "name": "stdout",
     "output_type": "stream",
     "text": [
      "Input file size is 480, 400\n",
      "0...10...20...30...40...50...60...70...80...90...100 - done.\n",
      "WRF-20210620.grb2\n"
     ]
    },
    {
     "name": "stderr",
     "output_type": "stream",
     "text": [
      "Warning 1: Several drivers matching nc extension. Using NETCDF\n",
      "Warning 1: Several drivers matching nc extension. Using NETCDF\n"
     ]
    },
    {
     "name": "stdout",
     "output_type": "stream",
     "text": [
      "Input file size is 480, 400\n",
      "0...10...20...30...40...50...60...70...80...90...100 - done.\n",
      "WRF-20200817.grb2\n",
      "Input file size is 480, 400\n",
      "0...10...20.."
     ]
    },
    {
     "name": "stderr",
     "output_type": "stream",
     "text": [
      "Warning 1: Several drivers matching nc extension. Using NETCDF\n",
      "Warning 1: Several drivers matching nc extension. Using NETCDF\n"
     ]
    },
    {
     "name": "stdout",
     "output_type": "stream",
     "text": [
      ".30...40...50...60...70...80...90...100 - done.\n",
      "WRF-20211021.grb2\n",
      "Input file size is 480, 400\n",
      "0...10...20.."
     ]
    },
    {
     "name": "stderr",
     "output_type": "stream",
     "text": [
      "Warning 1: Several drivers matching nc extension. Using NETCDF\n",
      "Warning 1: Several drivers matching nc extension. Using NETCDF\n"
     ]
    },
    {
     "name": "stdout",
     "output_type": "stream",
     "text": [
      ".30...40...50...60...70...80...90...100 - done.\n",
      "WRF-20211231.grb2\n"
     ]
    },
    {
     "name": "stderr",
     "output_type": "stream",
     "text": [
      "Warning 1: Several drivers matching nc extension. Using NETCDF\n",
      "Warning 1: Several drivers matching nc extension. Using NETCDF\n"
     ]
    },
    {
     "name": "stdout",
     "output_type": "stream",
     "text": [
      "Input file size is 480, 400\n",
      "0...10...20...30...40...50...60...70...80...90...100 - done.\n",
      "WRF-20210625.grb2\n"
     ]
    },
    {
     "name": "stderr",
     "output_type": "stream",
     "text": [
      "Warning 1: Several drivers matching nc extension. Using NETCDF\n",
      "Warning 1: Several drivers matching nc extension. Using NETCDF\n"
     ]
    },
    {
     "name": "stdout",
     "output_type": "stream",
     "text": [
      "Input file size is 480, 400\n",
      "0...10...20...30...40...50...60...70...80...90...100 - done.\n",
      "WRF-20211226.grb2\n",
      "Input file size is 480, 400\n",
      "0...10...20.."
     ]
    },
    {
     "name": "stderr",
     "output_type": "stream",
     "text": [
      "Warning 1: Several drivers matching nc extension. Using NETCDF\n",
      "Warning 1: Several drivers matching nc extension. Using NETCDF\n"
     ]
    },
    {
     "name": "stdout",
     "output_type": "stream",
     "text": [
      ".30...40...50...60...70...80...90...100 - done.\n",
      "WRF-20210518.grb2\n",
      "Input file size is 480, 400\n",
      "0...10...20.."
     ]
    },
    {
     "name": "stderr",
     "output_type": "stream",
     "text": [
      "Warning 1: Several drivers matching nc extension. Using NETCDF\n",
      "Warning 1: Several drivers matching nc extension. Using NETCDF\n"
     ]
    },
    {
     "name": "stdout",
     "output_type": "stream",
     "text": [
      ".30...40...50...60...70...80...90...100 - done.\n",
      "WRF-20211014.grb2\n"
     ]
    },
    {
     "name": "stderr",
     "output_type": "stream",
     "text": [
      "Warning 1: Several drivers matching nc extension. Using NETCDF\n",
      "Warning 1: Several drivers matching nc extension. Using NETCDF\n"
     ]
    },
    {
     "name": "stdout",
     "output_type": "stream",
     "text": [
      "Input file size is 480, 400\n",
      "0...10...20...30...40...50...60...70...80...90...100 - done.\n",
      "WRF-20210616.grb2\n"
     ]
    },
    {
     "name": "stderr",
     "output_type": "stream",
     "text": [
      "Warning 1: Several drivers matching nc extension. Using NETCDF\n",
      "Warning 1: Several drivers matching nc extension. Using NETCDF\n"
     ]
    },
    {
     "name": "stdout",
     "output_type": "stream",
     "text": [
      "Input file size is 480, 400\n",
      "0...10...20...30...40...50...60...70...80...90...100 - done.\n",
      "WRF-20211225.grb2\n"
     ]
    },
    {
     "name": "stderr",
     "output_type": "stream",
     "text": [
      "Warning 1: Several drivers matching nc extension. Using NETCDF\n",
      "Warning 1: Several drivers matching nc extension. Using NETCDF\n"
     ]
    },
    {
     "name": "stdout",
     "output_type": "stream",
     "text": [
      "Input file size is 480, 400\n",
      "0...10...20...30...40...50...60...70...80...90...100 - done.\n",
      "WRF-20210524.grb2\n",
      "Input file size is 480, 400\n",
      "0...10...20.."
     ]
    },
    {
     "name": "stderr",
     "output_type": "stream",
     "text": [
      "Warning 1: Several drivers matching nc extension. Using NETCDF\n",
      "Warning 1: Several drivers matching nc extension. Using NETCDF\n"
     ]
    },
    {
     "name": "stdout",
     "output_type": "stream",
     "text": [
      ".30...40...50...60...70...80...90...100 - done.\n",
      "WRF-20200905.grb2\n"
     ]
    },
    {
     "name": "stderr",
     "output_type": "stream",
     "text": [
      "Warning 1: Several drivers matching nc extension. Using NETCDF\n",
      "Warning 1: Several drivers matching nc extension. Using NETCDF\n"
     ]
    },
    {
     "name": "stdout",
     "output_type": "stream",
     "text": [
      "Input file size is 480, 400\n",
      "0...10...20...30...40...50...60...70...80...90...100 - done.\n",
      "WRF-20211208.grb2\n"
     ]
    },
    {
     "name": "stderr",
     "output_type": "stream",
     "text": [
      "Warning 1: Several drivers matching nc extension. Using NETCDF\n",
      "Warning 1: Several drivers matching nc extension. Using NETCDF\n"
     ]
    },
    {
     "name": "stdout",
     "output_type": "stream",
     "text": [
      "Input file size is 480, 400\n",
      "0...10...20...30...40...50...60...70...80...90...100 - done.\n",
      "WRF-20211108.grb2\n"
     ]
    },
    {
     "name": "stderr",
     "output_type": "stream",
     "text": [
      "Warning 1: Several drivers matching nc extension. Using NETCDF\n",
      "Warning 1: Several drivers matching nc extension. Using NETCDF\n"
     ]
    },
    {
     "name": "stdout",
     "output_type": "stream",
     "text": [
      "Input file size is 480, 400\n",
      "0...10...20...30...40...50...60...70...80...90...100 - done.\n",
      "WRF-20221007.grb2\n",
      "Input file size is 480, 400\n",
      "0...10...20.."
     ]
    },
    {
     "name": "stderr",
     "output_type": "stream",
     "text": [
      "Warning 1: Several drivers matching nc extension. Using NETCDF\n",
      "Warning 1: Several drivers matching nc extension. Using NETCDF\n"
     ]
    },
    {
     "name": "stdout",
     "output_type": "stream",
     "text": [
      ".30...40...50...60...70...80...90...100 - done.\n",
      "WRF-20211011.grb2\n"
     ]
    },
    {
     "name": "stderr",
     "output_type": "stream",
     "text": [
      "Warning 1: Several drivers matching nc extension. Using NETCDF\n",
      "Warning 1: Several drivers matching nc extension. Using NETCDF\n"
     ]
    },
    {
     "name": "stdout",
     "output_type": "stream",
     "text": [
      "Input file size is 480, 400\n",
      "0...10...20...30...40...50...60...70...80...90...100 - done.\n",
      "WRF-20200820.grb2\n"
     ]
    },
    {
     "name": "stderr",
     "output_type": "stream",
     "text": [
      "Warning 1: Several drivers matching nc extension. Using NETCDF\n",
      "Warning 1: Several drivers matching nc extension. Using NETCDF\n"
     ]
    },
    {
     "name": "stdout",
     "output_type": "stream",
     "text": [
      "Input file size is 480, 400\n",
      "0...10...20...30...40...50...60...70...80...90...100 - done.\n",
      "WRF-20210815.grb2\n"
     ]
    },
    {
     "name": "stderr",
     "output_type": "stream",
     "text": [
      "Warning 1: Several drivers matching nc extension. Using NETCDF\n",
      "Warning 1: Several drivers matching nc extension. Using NETCDF\n"
     ]
    },
    {
     "name": "stdout",
     "output_type": "stream",
     "text": [
      "Input file size is 480, 400\n",
      "0...10...20...30...40...50...60...70...80...90...100 - done.\n",
      "WRF-20211204.grb2\n"
     ]
    },
    {
     "name": "stderr",
     "output_type": "stream",
     "text": [
      "Warning 1: Several drivers matching nc extension. Using NETCDF\n",
      "Warning 1: Several drivers matching nc extension. Using NETCDF\n"
     ]
    },
    {
     "name": "stdout",
     "output_type": "stream",
     "text": [
      "Input file size is 480, 400\n",
      "0...10...20...30...40...50...60...70...80...90...100 - done.\n",
      "WRF-20210715.grb2\n",
      "Input file size is 480, 400\n",
      "0...10...20.."
     ]
    },
    {
     "name": "stderr",
     "output_type": "stream",
     "text": [
      "Warning 1: Several drivers matching nc extension. Using NETCDF\n",
      "Warning 1: Several drivers matching nc extension. Using NETCDF\n"
     ]
    },
    {
     "name": "stdout",
     "output_type": "stream",
     "text": [
      ".30...40...50...60...70...80...90...100 - done.\n",
      "WRF-20210704.grb2\n"
     ]
    },
    {
     "name": "stderr",
     "output_type": "stream",
     "text": [
      "Warning 1: Several drivers matching nc extension. Using NETCDF\n",
      "Warning 1: Several drivers matching nc extension. Using NETCDF\n"
     ]
    },
    {
     "name": "stdout",
     "output_type": "stream",
     "text": [
      "Input file size is 480, 400\n",
      "0...10...20...30...40...50...60...70...80...90...100 - done.\n",
      "WRF-20200703.grb2\n"
     ]
    },
    {
     "name": "stderr",
     "output_type": "stream",
     "text": [
      "Warning 1: Several drivers matching nc extension. Using NETCDF\n",
      "Warning 1: Several drivers matching nc extension. Using NETCDF\n"
     ]
    },
    {
     "name": "stdout",
     "output_type": "stream",
     "text": [
      "Input file size is 480, 400\n",
      "0...10...20...30...40...50...60...70...80...90...100 - done.\n",
      "WRF-20211001.grb2\n"
     ]
    },
    {
     "name": "stderr",
     "output_type": "stream",
     "text": [
      "Warning 1: Several drivers matching nc extension. Using NETCDF\n",
      "Warning 1: Several drivers matching nc extension. Using NETCDF\n"
     ]
    },
    {
     "name": "stdout",
     "output_type": "stream",
     "text": [
      "Input file size is 480, 400\n",
      "0...10...20...30...40...50...60...70...80...90...100 - done.\n",
      "WRF-20200731.grb2\n"
     ]
    },
    {
     "name": "stderr",
     "output_type": "stream",
     "text": [
      "Warning 1: Several drivers matching nc extension. Using NETCDF\n",
      "Warning 1: Several drivers matching nc extension. Using NETCDF\n"
     ]
    },
    {
     "name": "stdout",
     "output_type": "stream",
     "text": [
      "Input file size is 480, 400\n",
      "0...10...20...30...40...50...60...70...80...90...100 - done.\n",
      "WRF-20200724.grb2\n",
      "Input file size is 480, 400\n",
      "0"
     ]
    },
    {
     "name": "stderr",
     "output_type": "stream",
     "text": [
      "Warning 1: Several drivers matching nc extension. Using NETCDF\n",
      "Warning 1: Several drivers matching nc extension. Using NETCDF\n"
     ]
    },
    {
     "name": "stdout",
     "output_type": "stream",
     "text": [
      "...10...20...30...40...50...60...70...80...90...100 - done.\n",
      "WRF-20211228.grb2\n",
      "Input file size is 480, 400\n",
      "0...10...20.."
     ]
    },
    {
     "name": "stderr",
     "output_type": "stream",
     "text": [
      "Warning 1: Several drivers matching nc extension. Using NETCDF\n",
      "Warning 1: Several drivers matching nc extension. Using NETCDF\n"
     ]
    },
    {
     "name": "stdout",
     "output_type": "stream",
     "text": [
      ".30...40...50...60...70...80...90...100 - done.\n",
      "WRF-20200725.grb2\n"
     ]
    },
    {
     "name": "stderr",
     "output_type": "stream",
     "text": [
      "Warning 1: Several drivers matching nc extension. Using NETCDF\n",
      "Warning 1: Several drivers matching nc extension. Using NETCDF\n"
     ]
    },
    {
     "name": "stdout",
     "output_type": "stream",
     "text": [
      "Input file size is 480, 400\n",
      "0...10...20...30...40...50...60...70...80...90...100 - done.\n",
      "WRF-20211129.grb2\n"
     ]
    },
    {
     "name": "stderr",
     "output_type": "stream",
     "text": [
      "Warning 1: Several drivers matching nc extension. Using NETCDF\n",
      "Warning 1: Several drivers matching nc extension. Using NETCDF\n"
     ]
    },
    {
     "name": "stdout",
     "output_type": "stream",
     "text": [
      "Input file size is 480, 400\n",
      "0...10...20...30...40...50...60...70...80...90...100 - done.\n",
      "WRF-20211128.grb2\n",
      "Input file size is 480, 400\n",
      "0...10...20...30...40...50"
     ]
    },
    {
     "name": "stderr",
     "output_type": "stream",
     "text": [
      "Warning 1: Several drivers matching nc extension. Using NETCDF\n",
      "Warning 1: Several drivers matching nc extension. Using NETCDF\n"
     ]
    },
    {
     "name": "stdout",
     "output_type": "stream",
     "text": [
      "...60...70...80...90...100 - done.\n",
      "WRF-20211219.grb2\n"
     ]
    },
    {
     "name": "stderr",
     "output_type": "stream",
     "text": [
      "Warning 1: Several drivers matching nc extension. Using NETCDF\n",
      "Warning 1: Several drivers matching nc extension. Using NETCDF\n"
     ]
    },
    {
     "name": "stdout",
     "output_type": "stream",
     "text": [
      "Input file size is 480, 400\n",
      "0...10...20...30...40...50...60...70...80...90...100 - done.\n",
      "WRF-20210828.grb2\n"
     ]
    },
    {
     "name": "stderr",
     "output_type": "stream",
     "text": [
      "Warning 1: Several drivers matching nc extension. Using NETCDF\n",
      "Warning 1: Several drivers matching nc extension. Using NETCDF\n"
     ]
    },
    {
     "name": "stdout",
     "output_type": "stream",
     "text": [
      "Input file size is 480, 400\n",
      "0...10...20...30...40...50...60...70...80...90...100 - done.\n",
      "WRF-20211022.grb2\n",
      "Input file size is 480, 400\n",
      "0...10...20...30...40...50"
     ]
    },
    {
     "name": "stderr",
     "output_type": "stream",
     "text": [
      "Warning 1: Several drivers matching nc extension. Using NETCDF\n",
      "Warning 1: Several drivers matching nc extension. Using NETCDF\n"
     ]
    },
    {
     "name": "stdout",
     "output_type": "stream",
     "text": [
      "...60...70...80...90...100 - done.\n",
      "WRF-20211224.grb2\n",
      "Input file size is 480, 400\n",
      "0...10...20...30...40...50"
     ]
    },
    {
     "name": "stderr",
     "output_type": "stream",
     "text": [
      "Warning 1: Several drivers matching nc extension. Using NETCDF\n",
      "Warning 1: Several drivers matching nc extension. Using NETCDF\n"
     ]
    },
    {
     "name": "stdout",
     "output_type": "stream",
     "text": [
      "...60...70...80...90...100 - done.\n",
      "WRF-20200822.grb2\n",
      "Input file size is 480, 400\n",
      "0...10...20...30...40...50"
     ]
    },
    {
     "name": "stderr",
     "output_type": "stream",
     "text": [
      "Warning 1: Several drivers matching nc extension. Using NETCDF\n",
      "Warning 1: Several drivers matching nc extension. Using NETCDF\n"
     ]
    },
    {
     "name": "stdout",
     "output_type": "stream",
     "text": [
      "...60...70...80...90...100 - done.\n",
      "WRF-20200709.grb2\n"
     ]
    },
    {
     "name": "stderr",
     "output_type": "stream",
     "text": [
      "Warning 1: Several drivers matching nc extension. Using NETCDF\n",
      "Warning 1: Several drivers matching nc extension. Using NETCDF\n"
     ]
    },
    {
     "name": "stdout",
     "output_type": "stream",
     "text": [
      "Input file size is 480, 400\n",
      "0...10...20...30...40...50...60...70...80...90...100 - done.\n",
      "WRF-20200908.grb2\n"
     ]
    },
    {
     "name": "stderr",
     "output_type": "stream",
     "text": [
      "Warning 1: Several drivers matching nc extension. Using NETCDF\n",
      "Warning 1: Several drivers matching nc extension. Using NETCDF\n"
     ]
    },
    {
     "name": "stdout",
     "output_type": "stream",
     "text": [
      "Input file size is 480, 400\n",
      "0...10...20...30...40...50...60...70...80...90...100 - done.\n",
      "WRF-20200823.grb2\n",
      "Input file size is 480, 400\n",
      "0...10...20...30...40...50"
     ]
    },
    {
     "name": "stderr",
     "output_type": "stream",
     "text": [
      "Warning 1: Several drivers matching nc extension. Using NETCDF\n",
      "Warning 1: Several drivers matching nc extension. Using NETCDF\n"
     ]
    },
    {
     "name": "stdout",
     "output_type": "stream",
     "text": [
      "...60...70...80...90...100 - done.\n",
      "WRF-20210808.grb2\n",
      "Input file size is 480, 400\n",
      "0...10...20...30...40...50"
     ]
    },
    {
     "name": "stderr",
     "output_type": "stream",
     "text": [
      "Warning 1: Several drivers matching nc extension. Using NETCDF\n",
      "Warning 1: Several drivers matching nc extension. Using NETCDF\n"
     ]
    },
    {
     "name": "stdout",
     "output_type": "stream",
     "text": [
      "...60...70...80...90...100 - done.\n",
      "WRF-20210801.grb2\n"
     ]
    },
    {
     "name": "stderr",
     "output_type": "stream",
     "text": [
      "Warning 1: Several drivers matching nc extension. Using NETCDF\n",
      "Warning 1: Several drivers matching nc extension. Using NETCDF\n"
     ]
    },
    {
     "name": "stdout",
     "output_type": "stream",
     "text": [
      "Input file size is 480, 400\n",
      "0...10...20...30...40...50...60...70...80...90...100 - done.\n",
      "WRF-20211218.grb2\n"
     ]
    },
    {
     "name": "stderr",
     "output_type": "stream",
     "text": [
      "Warning 1: Several drivers matching nc extension. Using NETCDF\n",
      "Warning 1: Several drivers matching nc extension. Using NETCDF\n"
     ]
    },
    {
     "name": "stdout",
     "output_type": "stream",
     "text": [
      "Input file size is 480, 400\n",
      "0...10...20...30...40...50...60...70...80...90...100 - done.\n",
      "WRF-20211025.grb2\n"
     ]
    },
    {
     "name": "stderr",
     "output_type": "stream",
     "text": [
      "Warning 1: Several drivers matching nc extension. Using NETCDF\n",
      "Warning 1: Several drivers matching nc extension. Using NETCDF\n"
     ]
    },
    {
     "name": "stdout",
     "output_type": "stream",
     "text": [
      "Input file size is 480, 400\n",
      "0...10...20...30...40...50...60...70...80...90...100 - done.\n",
      "WRF-20210630.grb2\n",
      "Input file size is 480, 400\n",
      "0...10...20.."
     ]
    },
    {
     "name": "stderr",
     "output_type": "stream",
     "text": [
      "Warning 1: Several drivers matching nc extension. Using NETCDF\n",
      "Warning 1: Several drivers matching nc extension. Using NETCDF\n"
     ]
    },
    {
     "name": "stdout",
     "output_type": "stream",
     "text": [
      ".30...40...50...60...70...80...90...100 - done.\n",
      "WRF-20211003.grb2\n",
      "Input file size is 480, 400\n",
      "0...10...20.."
     ]
    },
    {
     "name": "stderr",
     "output_type": "stream",
     "text": [
      "Warning 1: Several drivers matching nc extension. Using NETCDF\n",
      "Warning 1: Several drivers matching nc extension. Using NETCDF\n"
     ]
    },
    {
     "name": "stdout",
     "output_type": "stream",
     "text": [
      ".30...40...50...60...70...80...90...100 - done.\n",
      "WRF-20210918.grb2\n"
     ]
    },
    {
     "name": "stderr",
     "output_type": "stream",
     "text": [
      "Warning 1: Several drivers matching nc extension. Using NETCDF\n",
      "Warning 1: Several drivers matching nc extension. Using NETCDF\n"
     ]
    },
    {
     "name": "stdout",
     "output_type": "stream",
     "text": [
      "Input file size is 480, 400\n",
      "0...10...20...30...40...50...60...70...80...90...100 - done.\n",
      "WRF-20220920.grb2\n"
     ]
    },
    {
     "name": "stderr",
     "output_type": "stream",
     "text": [
      "Warning 1: Several drivers matching nc extension. Using NETCDF\n",
      "Warning 1: Several drivers matching nc extension. Using NETCDF\n"
     ]
    },
    {
     "name": "stdout",
     "output_type": "stream",
     "text": [
      "Input file size is 480, 400\n",
      "0...10...20...30...40...50...60...70...80...90...100 - done.\n",
      "WRF-20210702.grb2\n"
     ]
    },
    {
     "name": "stderr",
     "output_type": "stream",
     "text": [
      "Warning 1: Several drivers matching nc extension. Using NETCDF\n",
      "Warning 1: Several drivers matching nc extension. Using NETCDF\n"
     ]
    },
    {
     "name": "stdout",
     "output_type": "stream",
     "text": [
      "Input file size is 480, 400\n",
      "0...10...20...30...40...50...60...70...80...90...100 - done.\n",
      "WRF-20211117.grb2\n"
     ]
    },
    {
     "name": "stderr",
     "output_type": "stream",
     "text": [
      "Warning 1: Several drivers matching nc extension. Using NETCDF\n",
      "Warning 1: Several drivers matching nc extension. Using NETCDF\n"
     ]
    },
    {
     "name": "stdout",
     "output_type": "stream",
     "text": [
      "Input file size is 480, 400\n",
      "0...10...20...30...40...50...60...70...80...90...100 - done.\n",
      "WRF-20200802.grb2\n",
      "Input file size is 480, 400\n",
      "0...10...20.."
     ]
    },
    {
     "name": "stderr",
     "output_type": "stream",
     "text": [
      "Warning 1: Several drivers matching nc extension. Using NETCDF\n",
      "Warning 1: Several drivers matching nc extension. Using NETCDF\n"
     ]
    },
    {
     "name": "stdout",
     "output_type": "stream",
     "text": [
      ".30...40...50...60...70...80...90...100 - done.\n",
      "WRF-20210722.grb2\n",
      "Input file size is 480, 400\n",
      "0...10...20...30...40...50"
     ]
    },
    {
     "name": "stderr",
     "output_type": "stream",
     "text": [
      "Warning 1: Several drivers matching nc extension. Using NETCDF\n",
      "Warning 1: Several drivers matching nc extension. Using NETCDF\n"
     ]
    },
    {
     "name": "stdout",
     "output_type": "stream",
     "text": [
      "...60...70...80...90...100 - done.\n",
      "WRF-20210612.grb2\n"
     ]
    },
    {
     "name": "stderr",
     "output_type": "stream",
     "text": [
      "Warning 1: Several drivers matching nc extension. Using NETCDF\n",
      "Warning 1: Several drivers matching nc extension. Using NETCDF\n"
     ]
    },
    {
     "name": "stdout",
     "output_type": "stream",
     "text": [
      "Input file size is 480, 400\n",
      "0...10...20...30...40...50...60...70...80...90...100 - done.\n",
      "WRF-20210830.grb2\n"
     ]
    },
    {
     "name": "stderr",
     "output_type": "stream",
     "text": [
      "Warning 1: Several drivers matching nc extension. Using NETCDF\n",
      "Warning 1: Several drivers matching nc extension. Using NETCDF\n"
     ]
    },
    {
     "name": "stdout",
     "output_type": "stream",
     "text": [
      "Input file size is 480, 400\n",
      "0...10...20...30...40...50...60...70...80...90...100 - done.\n",
      "WRF-20210824.grb2\n",
      "Input file size is 480, 400\n",
      "0...10...20.."
     ]
    },
    {
     "name": "stderr",
     "output_type": "stream",
     "text": [
      "Warning 1: Several drivers matching nc extension. Using NETCDF\n",
      "Warning 1: Several drivers matching nc extension. Using NETCDF\n"
     ]
    },
    {
     "name": "stdout",
     "output_type": "stream",
     "text": [
      ".30...40...50...60...70...80...90...100 - done.\n",
      "WRF-20210529.grb2\n",
      "Input file size is 480, 400\n",
      "0...10"
     ]
    },
    {
     "name": "stderr",
     "output_type": "stream",
     "text": [
      "Warning 1: Several drivers matching nc extension. Using NETCDF\n",
      "Warning 1: Several drivers matching nc extension. Using NETCDF\n"
     ]
    },
    {
     "name": "stdout",
     "output_type": "stream",
     "text": [
      "...20...30...40...50...60...70...80...90...100 - done.\n",
      "WRF-20200903.grb2\n"
     ]
    },
    {
     "name": "stderr",
     "output_type": "stream",
     "text": [
      "Warning 1: Several drivers matching nc extension. Using NETCDF\n",
      "Warning 1: Several drivers matching nc extension. Using NETCDF\n"
     ]
    },
    {
     "name": "stdout",
     "output_type": "stream",
     "text": [
      "Input file size is 480, 400\n",
      "0...10...20...30...40...50...60...70...80...90...100 - done.\n",
      "WRF-20210624.grb2\n"
     ]
    },
    {
     "name": "stderr",
     "output_type": "stream",
     "text": [
      "Warning 1: Several drivers matching nc extension. Using NETCDF\n",
      "Warning 1: Several drivers matching nc extension. Using NETCDF\n"
     ]
    },
    {
     "name": "stdout",
     "output_type": "stream",
     "text": [
      "Input file size is 480, 400\n",
      "0...10...20...30...40...50...60...70...80...90...100 - done.\n",
      "WRF-20211126.grb2\n"
     ]
    },
    {
     "name": "stderr",
     "output_type": "stream",
     "text": [
      "Warning 1: Several drivers matching nc extension. Using NETCDF\n",
      "Warning 1: Several drivers matching nc extension. Using NETCDF\n"
     ]
    },
    {
     "name": "stdout",
     "output_type": "stream",
     "text": [
      "Input file size is 480, 400\n",
      "0...10...20...30...40...50...60...70...80...90...100 - done.\n",
      "WRF-20210617.grb2\n",
      "Input file size is 480, 400\n",
      "0...10...20.."
     ]
    },
    {
     "name": "stderr",
     "output_type": "stream",
     "text": [
      "Warning 1: Several drivers matching nc extension. Using NETCDF\n",
      "Warning 1: Several drivers matching nc extension. Using NETCDF\n"
     ]
    },
    {
     "name": "stdout",
     "output_type": "stream",
     "text": [
      ".30...40...50...60...70...80...90...100 - done.\n",
      "WRF-20200723.grb2\n"
     ]
    },
    {
     "name": "stderr",
     "output_type": "stream",
     "text": [
      "Warning 1: Several drivers matching nc extension. Using NETCDF\n",
      "Warning 1: Several drivers matching nc extension. Using NETCDF\n"
     ]
    },
    {
     "name": "stdout",
     "output_type": "stream",
     "text": [
      "Input file size is 480, 400\n",
      "0...10...20...30...40...50...60...70...80...90...100 - done.\n",
      "WRF-20210820.grb2\n"
     ]
    },
    {
     "name": "stderr",
     "output_type": "stream",
     "text": [
      "Warning 1: Several drivers matching nc extension. Using NETCDF\n",
      "Warning 1: Several drivers matching nc extension. Using NETCDF\n"
     ]
    },
    {
     "name": "stdout",
     "output_type": "stream",
     "text": [
      "Input file size is 480, 400\n",
      "0...10...20...30...40...50...60...70...80...90...100 - done.\n",
      "WRF-20200712.grb2\n"
     ]
    },
    {
     "name": "stderr",
     "output_type": "stream",
     "text": [
      "Warning 1: Several drivers matching nc extension. Using NETCDF\n",
      "Warning 1: Several drivers matching nc extension. Using NETCDF\n"
     ]
    },
    {
     "name": "stdout",
     "output_type": "stream",
     "text": [
      "Input file size is 480, 400\n",
      "0...10...20...30...40...50...60...70...80...90...100 - done.\n",
      "WRF-20210915.grb2\n",
      "Input file size is 480, 400\n",
      "0...10...20.."
     ]
    },
    {
     "name": "stderr",
     "output_type": "stream",
     "text": [
      "Warning 1: Several drivers matching nc extension. Using NETCDF\n",
      "Warning 1: Several drivers matching nc extension. Using NETCDF\n"
     ]
    },
    {
     "name": "stdout",
     "output_type": "stream",
     "text": [
      ".30...40...50...60...70...80...90...100 - done.\n",
      "WRF-20220922.grb2\n"
     ]
    },
    {
     "name": "stderr",
     "output_type": "stream",
     "text": [
      "Warning 1: Several drivers matching nc extension. Using NETCDF\n",
      "Warning 1: Several drivers matching nc extension. Using NETCDF\n"
     ]
    },
    {
     "name": "stdout",
     "output_type": "stream",
     "text": [
      "Input file size is 480, 400\n",
      "0...10...20...30...40...50...60...70...80...90...100 - done.\n",
      "WRF-20211115.grb2\n"
     ]
    },
    {
     "name": "stderr",
     "output_type": "stream",
     "text": [
      "Warning 1: Several drivers matching nc extension. Using NETCDF\n",
      "Warning 1: Several drivers matching nc extension. Using NETCDF\n"
     ]
    },
    {
     "name": "stdout",
     "output_type": "stream",
     "text": [
      "Input file size is 480, 400\n",
      "0...10...20...30...40...50...60...70...80...90...100 - done.\n",
      "WRF-20200729.grb2\n",
      "Input file size is 480, 400\n",
      "0...10...20...30...40...50"
     ]
    },
    {
     "name": "stderr",
     "output_type": "stream",
     "text": [
      "Warning 1: Several drivers matching nc extension. Using NETCDF\n",
      "Warning 1: Several drivers matching nc extension. Using NETCDF\n"
     ]
    },
    {
     "name": "stdout",
     "output_type": "stream",
     "text": [
      "...60...70...80...90...100 - done.\n",
      "WRF-20200714.grb2\n",
      "Input file size is 480, 400\n",
      "0...10...20...30...40...50"
     ]
    },
    {
     "name": "stderr",
     "output_type": "stream",
     "text": [
      "Warning 1: Several drivers matching nc extension. Using NETCDF\n",
      "Warning 1: Several drivers matching nc extension. Using NETCDF\n"
     ]
    },
    {
     "name": "stdout",
     "output_type": "stream",
     "text": [
      "...60...70...80...90...100 - done.\n",
      "WRF-20200721.grb2\n"
     ]
    },
    {
     "name": "stderr",
     "output_type": "stream",
     "text": [
      "Warning 1: Several drivers matching nc extension. Using NETCDF\n",
      "Warning 1: Several drivers matching nc extension. Using NETCDF\n"
     ]
    },
    {
     "name": "stdout",
     "output_type": "stream",
     "text": [
      "Input file size is 480, 400\n",
      "0...10...20...30...40...50...60...70...80...90...100 - done.\n",
      "WRF-20210904.grb2\n"
     ]
    },
    {
     "name": "stderr",
     "output_type": "stream",
     "text": [
      "Warning 1: Several drivers matching nc extension. Using NETCDF\n",
      "Warning 1: Several drivers matching nc extension. Using NETCDF\n"
     ]
    },
    {
     "name": "stdout",
     "output_type": "stream",
     "text": [
      "Input file size is 480, 400\n",
      "0...10...20...30...40...50...60...70...80...90...100 - done.\n",
      "WRF-20210806.grb2\n"
     ]
    },
    {
     "name": "stderr",
     "output_type": "stream",
     "text": [
      "Warning 1: Several drivers matching nc extension. Using NETCDF\n",
      "Warning 1: Several drivers matching nc extension. Using NETCDF\n"
     ]
    },
    {
     "name": "stdout",
     "output_type": "stream",
     "text": [
      "Input file size is 480, 400\n",
      "0...10...20...30...40...50...60...70...80...90...100 - done.\n",
      "WRF-20221004.grb2\n"
     ]
    },
    {
     "name": "stderr",
     "output_type": "stream",
     "text": [
      "Warning 1: Several drivers matching nc extension. Using NETCDF\n",
      "Warning 1: Several drivers matching nc extension. Using NETCDF\n"
     ]
    },
    {
     "name": "stdout",
     "output_type": "stream",
     "text": [
      "Input file size is 480, 400\n",
      "0...10...20...30...40...50...60...70...80...90...100 - done.\n",
      "WRF-20220927.grb2\n"
     ]
    },
    {
     "name": "stderr",
     "output_type": "stream",
     "text": [
      "Warning 1: Several drivers matching nc extension. Using NETCDF\n",
      "Warning 1: Several drivers matching nc extension. Using NETCDF\n"
     ]
    },
    {
     "name": "stdout",
     "output_type": "stream",
     "text": [
      "Input file size is 480, 400\n",
      "0...10...20...30...40...50...60...70...80...90...100 - done.\n",
      "WRF-20210804.grb2\n",
      "Input file size is 480, 400\n",
      "0...10...20.."
     ]
    },
    {
     "name": "stderr",
     "output_type": "stream",
     "text": [
      "Warning 1: Several drivers matching nc extension. Using NETCDF\n",
      "Warning 1: Several drivers matching nc extension. Using NETCDF\n"
     ]
    },
    {
     "name": "stdout",
     "output_type": "stream",
     "text": [
      ".30...40...50...60...70...80...90...100 - done.\n",
      "WRF-20210519.grb2\n"
     ]
    },
    {
     "name": "stderr",
     "output_type": "stream",
     "text": [
      "Warning 1: Several drivers matching nc extension. Using NETCDF\n",
      "Warning 1: Several drivers matching nc extension. Using NETCDF\n"
     ]
    },
    {
     "name": "stdout",
     "output_type": "stream",
     "text": [
      "Input file size is 480, 400\n",
      "0...10...20...30...40...50...60...70...80...90...100 - done.\n",
      "WRF-20200704.grb2\n"
     ]
    },
    {
     "name": "stderr",
     "output_type": "stream",
     "text": [
      "Warning 1: Several drivers matching nc extension. Using NETCDF\n",
      "Warning 1: Several drivers matching nc extension. Using NETCDF\n"
     ]
    },
    {
     "name": "stdout",
     "output_type": "stream",
     "text": [
      "Input file size is 480, 400\n",
      "0...10...20...30...40...50...60...70...80...90...100 - done.\n",
      "WRF-20210728.grb2\n"
     ]
    },
    {
     "name": "stderr",
     "output_type": "stream",
     "text": [
      "Warning 1: Several drivers matching nc extension. Using NETCDF\n",
      "Warning 1: Several drivers matching nc extension. Using NETCDF\n"
     ]
    },
    {
     "name": "stdout",
     "output_type": "stream",
     "text": [
      "Input file size is 480, 400\n",
      "0...10...20...30...40...50...60...70...80...90...100 - done.\n",
      "WRF-20210604.grb2\n"
     ]
    },
    {
     "name": "stderr",
     "output_type": "stream",
     "text": [
      "Warning 1: Several drivers matching nc extension. Using NETCDF\n",
      "Warning 1: Several drivers matching nc extension. Using NETCDF\n"
     ]
    },
    {
     "name": "stdout",
     "output_type": "stream",
     "text": [
      "Input file size is 480, 400\n",
      "0...10...20...30...40...50...60...70...80...90...100 - done.\n",
      "WRF-20210701.grb2\n"
     ]
    },
    {
     "name": "stderr",
     "output_type": "stream",
     "text": [
      "Warning 1: Several drivers matching nc extension. Using NETCDF\n",
      "Warning 1: Several drivers matching nc extension. Using NETCDF\n"
     ]
    },
    {
     "name": "stdout",
     "output_type": "stream",
     "text": [
      "Input file size is 480, 400\n",
      "0...10...20...30...40...50...60...70...80...90...100 - done.\n",
      "WRF-20210730.grb2\n"
     ]
    },
    {
     "name": "stderr",
     "output_type": "stream",
     "text": [
      "Warning 1: Several drivers matching nc extension. Using NETCDF\n",
      "Warning 1: Several drivers matching nc extension. Using NETCDF\n"
     ]
    },
    {
     "name": "stdout",
     "output_type": "stream",
     "text": [
      "Input file size is 480, 400\n",
      "0...10...20...30...40...50...60...70...80...90...100 - done.\n",
      "WRF-20210802.grb2\n"
     ]
    },
    {
     "name": "stderr",
     "output_type": "stream",
     "text": [
      "Warning 1: Several drivers matching nc extension. Using NETCDF\n",
      "Warning 1: Several drivers matching nc extension. Using NETCDF\n"
     ]
    },
    {
     "name": "stdout",
     "output_type": "stream",
     "text": [
      "Input file size is 480, 400\n",
      "0...10...20...30...40...50...60...70...80...90...100 - done.\n",
      "WRF-20200705.grb2\n"
     ]
    },
    {
     "name": "stderr",
     "output_type": "stream",
     "text": [
      "Warning 1: Several drivers matching nc extension. Using NETCDF\n",
      "Warning 1: Several drivers matching nc extension. Using NETCDF\n"
     ]
    },
    {
     "name": "stdout",
     "output_type": "stream",
     "text": [
      "Input file size is 480, 400\n",
      "0...10...20...30...40...50...60...70...80...90...100 - done.\n",
      "WRF-20211206.grb2\n",
      "Input file size is 480, 400\n",
      "0...10...20.."
     ]
    },
    {
     "name": "stderr",
     "output_type": "stream",
     "text": [
      "Warning 1: Several drivers matching nc extension. Using NETCDF\n",
      "Warning 1: Several drivers matching nc extension. Using NETCDF\n"
     ]
    },
    {
     "name": "stdout",
     "output_type": "stream",
     "text": [
      ".30...40...50...60...70...80...90...100 - done.\n",
      "WRF-20210909.grb2\n"
     ]
    },
    {
     "name": "stderr",
     "output_type": "stream",
     "text": [
      "Warning 1: Several drivers matching nc extension. Using NETCDF\n",
      "Warning 1: Several drivers matching nc extension. Using NETCDF\n"
     ]
    },
    {
     "name": "stdout",
     "output_type": "stream",
     "text": [
      "Input file size is 480, 400\n",
      "0...10...20...30...40...50...60...70...80...90...100 - done.\n",
      "WRF-20211023.grb2\n"
     ]
    },
    {
     "name": "stderr",
     "output_type": "stream",
     "text": [
      "Warning 1: Several drivers matching nc extension. Using NETCDF\n",
      "Warning 1: Several drivers matching nc extension. Using NETCDF\n"
     ]
    },
    {
     "name": "stdout",
     "output_type": "stream",
     "text": [
      "Input file size is 480, 400\n",
      "0...10...20...30...40...50...60...70...80...90...100 - done.\n",
      "WRF-20211104.grb2\n",
      "Input file size is 480, 400\n",
      "0...10...20...30...40...50"
     ]
    },
    {
     "name": "stderr",
     "output_type": "stream",
     "text": [
      "Warning 1: Several drivers matching nc extension. Using NETCDF\n",
      "Warning 1: Several drivers matching nc extension. Using NETCDF\n"
     ]
    },
    {
     "name": "stdout",
     "output_type": "stream",
     "text": [
      "...60...70...80...90...100 - done.\n",
      "WRF-20211207.grb2\n",
      "Input file size is 480, 400\n",
      "0...10...20.."
     ]
    },
    {
     "name": "stderr",
     "output_type": "stream",
     "text": [
      "Warning 1: Several drivers matching nc extension. Using NETCDF\n",
      "Warning 1: Several drivers matching nc extension. Using NETCDF\n"
     ]
    },
    {
     "name": "stdout",
     "output_type": "stream",
     "text": [
      ".30...40...50...60...70...80...90...100 - done.\n",
      "WRF-20211122.grb2\n"
     ]
    },
    {
     "name": "stderr",
     "output_type": "stream",
     "text": [
      "Warning 1: Several drivers matching nc extension. Using NETCDF\n",
      "Warning 1: Several drivers matching nc extension. Using NETCDF\n"
     ]
    },
    {
     "name": "stdout",
     "output_type": "stream",
     "text": [
      "Input file size is 480, 400\n",
      "0...10...20...30...40...50...60...70...80...90...100 - done.\n",
      "WRF-20200801.grb2\n"
     ]
    },
    {
     "name": "stderr",
     "output_type": "stream",
     "text": [
      "Warning 1: Several drivers matching nc extension. Using NETCDF\n",
      "Warning 1: Several drivers matching nc extension. Using NETCDF\n"
     ]
    },
    {
     "name": "stdout",
     "output_type": "stream",
     "text": [
      "Input file size is 480, 400\n",
      "0...10...20...30...40...50...60...70...80...90...100 - done.\n",
      "WRF-20211212.grb2\n",
      "Input file size is 480, 400\n",
      "0...10...20.."
     ]
    },
    {
     "name": "stderr",
     "output_type": "stream",
     "text": [
      "Warning 1: Several drivers matching nc extension. Using NETCDF\n",
      "Warning 1: Several drivers matching nc extension. Using NETCDF\n"
     ]
    },
    {
     "name": "stdout",
     "output_type": "stream",
     "text": [
      ".30...40...50...60...70...80...90...100 - done.\n",
      "WRF-20211018.grb2\n"
     ]
    },
    {
     "name": "stderr",
     "output_type": "stream",
     "text": [
      "Warning 1: Several drivers matching nc extension. Using NETCDF\n",
      "Warning 1: Several drivers matching nc extension. Using NETCDF\n"
     ]
    },
    {
     "name": "stdout",
     "output_type": "stream",
     "text": [
      "Input file size is 480, 400\n",
      "0...10...20...30...40...50...60...70...80...90...100 - done.\n",
      "WRF-20210731.grb2\n"
     ]
    },
    {
     "name": "stderr",
     "output_type": "stream",
     "text": [
      "Warning 1: Several drivers matching nc extension. Using NETCDF\n",
      "Warning 1: Several drivers matching nc extension. Using NETCDF\n"
     ]
    },
    {
     "name": "stdout",
     "output_type": "stream",
     "text": [
      "Input file size is 480, 400\n",
      "0...10...20...30...40...50...60...70...80...90...100 - done.\n",
      "WRF-20200702.grb2\n"
     ]
    },
    {
     "name": "stderr",
     "output_type": "stream",
     "text": [
      "Warning 1: Several drivers matching nc extension. Using NETCDF\n",
      "Warning 1: Several drivers matching nc extension. Using NETCDF\n"
     ]
    },
    {
     "name": "stdout",
     "output_type": "stream",
     "text": [
      "Input file size is 480, 400\n",
      "0...10...20...30...40...50...60...70...80...90...100 - done.\n",
      "WRF-20210724.grb2\n"
     ]
    },
    {
     "name": "stderr",
     "output_type": "stream",
     "text": [
      "Warning 1: Several drivers matching nc extension. Using NETCDF\n",
      "Warning 1: Several drivers matching nc extension. Using NETCDF\n"
     ]
    },
    {
     "name": "stdout",
     "output_type": "stream",
     "text": [
      "Input file size is 480, 400\n",
      "0...10...20...30...40...50...60...70...80...90...100 - done.\n",
      "WRF-20200722.grb2\n"
     ]
    },
    {
     "name": "stderr",
     "output_type": "stream",
     "text": [
      "Warning 1: Several drivers matching nc extension. Using NETCDF\n",
      "Warning 1: Several drivers matching nc extension. Using NETCDF\n"
     ]
    },
    {
     "name": "stdout",
     "output_type": "stream",
     "text": [
      "Input file size is 480, 400\n",
      "0...10...20...30...40...50...60...70...80...90...100 - done.\n",
      "WRF-20210723.grb2\n"
     ]
    },
    {
     "name": "stderr",
     "output_type": "stream",
     "text": [
      "Warning 1: Several drivers matching nc extension. Using NETCDF\n",
      "Warning 1: Several drivers matching nc extension. Using NETCDF\n"
     ]
    },
    {
     "name": "stdout",
     "output_type": "stream",
     "text": [
      "Input file size is 480, 400\n",
      "0...10...20...30...40...50...60...70...80...90...100 - done.\n",
      "WRF-20220924.grb2\n",
      "Input file size is 480, 400\n",
      "0...10...20.."
     ]
    },
    {
     "name": "stderr",
     "output_type": "stream",
     "text": [
      "Warning 1: Several drivers matching nc extension. Using NETCDF\n",
      "Warning 1: Several drivers matching nc extension. Using NETCDF\n"
     ]
    },
    {
     "name": "stdout",
     "output_type": "stream",
     "text": [
      ".30...40...50...60...70...80...90...100 - done.\n",
      "WRF-20211223.grb2\n",
      "Input file size is 480, 400\n",
      "0...10...20.."
     ]
    },
    {
     "name": "stderr",
     "output_type": "stream",
     "text": [
      "Warning 1: Several drivers matching nc extension. Using NETCDF\n",
      "Warning 1: Several drivers matching nc extension. Using NETCDF\n"
     ]
    },
    {
     "name": "stdout",
     "output_type": "stream",
     "text": [
      ".30...40...50...60...70...80...90...100 - done.\n",
      "WRF-20210908.grb2\n"
     ]
    },
    {
     "name": "stderr",
     "output_type": "stream",
     "text": [
      "Warning 1: Several drivers matching nc extension. Using NETCDF\n",
      "Warning 1: Several drivers matching nc extension. Using NETCDF\n"
     ]
    },
    {
     "name": "stdout",
     "output_type": "stream",
     "text": [
      "Input file size is 480, 400\n",
      "0...10...20...30...40...50...60...70...80...90...100 - done.\n",
      "WRF-20200904.grb2\n"
     ]
    },
    {
     "name": "stderr",
     "output_type": "stream",
     "text": [
      "Warning 1: Several drivers matching nc extension. Using NETCDF\n",
      "Warning 1: Several drivers matching nc extension. Using NETCDF\n"
     ]
    },
    {
     "name": "stdout",
     "output_type": "stream",
     "text": [
      "Input file size is 480, 400\n",
      "0...10...20...30...40...50...60...70...80...90...100 - done.\n",
      "WRF-20210521.grb2\n",
      "Input file size is 480, 400\n",
      "0...10...20...30...40...50"
     ]
    },
    {
     "name": "stderr",
     "output_type": "stream",
     "text": [
      "Warning 1: Several drivers matching nc extension. Using NETCDF\n",
      "Warning 1: Several drivers matching nc extension. Using NETCDF\n"
     ]
    },
    {
     "name": "stdout",
     "output_type": "stream",
     "text": [
      "...60...70...80...90...100 - done.\n",
      "WRF-20211220.grb2\n",
      "Input file size is 480, 400\n",
      "0...10...20.."
     ]
    },
    {
     "name": "stderr",
     "output_type": "stream",
     "text": [
      "Warning 1: Several drivers matching nc extension. Using NETCDF\n",
      "Warning 1: Several drivers matching nc extension. Using NETCDF\n"
     ]
    },
    {
     "name": "stdout",
     "output_type": "stream",
     "text": [
      ".30...40...50...60...70...80...90...100 - done.\n",
      "WRF-20211124.grb2\n"
     ]
    },
    {
     "name": "stderr",
     "output_type": "stream",
     "text": [
      "Warning 1: Several drivers matching nc extension. Using NETCDF\n",
      "Warning 1: Several drivers matching nc extension. Using NETCDF\n"
     ]
    },
    {
     "name": "stdout",
     "output_type": "stream",
     "text": [
      "Input file size is 480, 400\n",
      "0...10...20...30...40...50...60...70...80...90...100 - done.\n",
      "WRF-20210913.grb2\n"
     ]
    },
    {
     "name": "stderr",
     "output_type": "stream",
     "text": [
      "Warning 1: Several drivers matching nc extension. Using NETCDF\n",
      "Warning 1: Several drivers matching nc extension. Using NETCDF\n"
     ]
    },
    {
     "name": "stdout",
     "output_type": "stream",
     "text": [
      "Input file size is 480, 400\n",
      "0...10...20...30...40...50...60...70...80...90...100 - done.\n",
      "WRF-20210930.grb2\n",
      "Input file size is 480, 400\n",
      "0...10...20.."
     ]
    },
    {
     "name": "stderr",
     "output_type": "stream",
     "text": [
      "Warning 1: Several drivers matching nc extension. Using NETCDF\n",
      "Warning 1: Several drivers matching nc extension. Using NETCDF\n"
     ]
    },
    {
     "name": "stdout",
     "output_type": "stream",
     "text": [
      ".30...40...50...60...70...80...90...100 - done.\n",
      "WRF-20210825.grb2\n",
      "Input file size is 480, 400\n",
      "0...10...20.."
     ]
    },
    {
     "name": "stderr",
     "output_type": "stream",
     "text": [
      "Warning 1: Several drivers matching nc extension. Using NETCDF\n",
      "Warning 1: Several drivers matching nc extension. Using NETCDF\n"
     ]
    },
    {
     "name": "stdout",
     "output_type": "stream",
     "text": [
      ".30...40...50...60...70...80...90...100 - done.\n",
      "WRF-20210528.grb2\n"
     ]
    },
    {
     "name": "stderr",
     "output_type": "stream",
     "text": [
      "Warning 1: Several drivers matching nc extension. Using NETCDF\n",
      "Warning 1: Several drivers matching nc extension. Using NETCDF\n"
     ]
    },
    {
     "name": "stdout",
     "output_type": "stream",
     "text": [
      "Input file size is 480, 400\n",
      "0...10...20...30...40...50...60...70...80...90...100 - done.\n",
      "WRF-20211114.grb2\n"
     ]
    },
    {
     "name": "stderr",
     "output_type": "stream",
     "text": [
      "Warning 1: Several drivers matching nc extension. Using NETCDF\n",
      "Warning 1: Several drivers matching nc extension. Using NETCDF\n"
     ]
    },
    {
     "name": "stdout",
     "output_type": "stream",
     "text": [
      "Input file size is 480, 400\n",
      "0...10...20...30...40...50...60...70...80...90...100 - done.\n",
      "WRF-20210603.grb2\n"
     ]
    },
    {
     "name": "stderr",
     "output_type": "stream",
     "text": [
      "Warning 1: Several drivers matching nc extension. Using NETCDF\n",
      "Warning 1: Several drivers matching nc extension. Using NETCDF\n"
     ]
    },
    {
     "name": "stdout",
     "output_type": "stream",
     "text": [
      "Input file size is 480, 400\n",
      "0...10...20...30...40...50...60...70...80...90...100 - done.\n",
      "WRF-20211119.grb2\n"
     ]
    },
    {
     "name": "stderr",
     "output_type": "stream",
     "text": [
      "Warning 1: Several drivers matching nc extension. Using NETCDF\n",
      "Warning 1: Several drivers matching nc extension. Using NETCDF\n"
     ]
    },
    {
     "name": "stdout",
     "output_type": "stream",
     "text": [
      "Input file size is 480, 400\n",
      "0...10...20...30...40...50...60...70...80...90...100 - done.\n",
      "WRF-20221001.grb2\n"
     ]
    },
    {
     "name": "stderr",
     "output_type": "stream",
     "text": [
      "Warning 1: Several drivers matching nc extension. Using NETCDF\n",
      "Warning 1: Several drivers matching nc extension. Using NETCDF\n"
     ]
    },
    {
     "name": "stdout",
     "output_type": "stream",
     "text": [
      "Input file size is 480, 400\n",
      "0...10...20...30...40...50...60...70...80...90...100 - done.\n",
      "WRF-20210920.grb2\n",
      "Input file size is 480, 400\n",
      "0...10...20...30...40...50"
     ]
    },
    {
     "name": "stderr",
     "output_type": "stream",
     "text": [
      "Warning 1: Several drivers matching nc extension. Using NETCDF\n",
      "Warning 1: Several drivers matching nc extension. Using NETCDF\n"
     ]
    },
    {
     "name": "stdout",
     "output_type": "stream",
     "text": [
      "...60...70...80...90...100 - done.\n",
      "WRF-20210819.grb2\n",
      "Input file size is 480, 400\n",
      "0...10...20...30...40...50"
     ]
    },
    {
     "name": "stderr",
     "output_type": "stream",
     "text": [
      "Warning 1: Several drivers matching nc extension. Using NETCDF\n",
      "Warning 1: Several drivers matching nc extension. Using NETCDF\n"
     ]
    },
    {
     "name": "stdout",
     "output_type": "stream",
     "text": [
      "...60...70...80...90...100 - done.\n",
      "WRF-20210522.grb2\n"
     ]
    },
    {
     "name": "stderr",
     "output_type": "stream",
     "text": [
      "Warning 1: Several drivers matching nc extension. Using NETCDF\n",
      "Warning 1: Several drivers matching nc extension. Using NETCDF\n"
     ]
    },
    {
     "name": "stdout",
     "output_type": "stream",
     "text": [
      "Input file size is 480, 400\n",
      "0...10...20...30...40...50...60...70...80...90...100 - done.\n",
      "WRF-20210627.grb2\n"
     ]
    },
    {
     "name": "stderr",
     "output_type": "stream",
     "text": [
      "Warning 1: Several drivers matching nc extension. Using NETCDF\n",
      "Warning 1: Several drivers matching nc extension. Using NETCDF\n"
     ]
    },
    {
     "name": "stdout",
     "output_type": "stream",
     "text": [
      "Input file size is 480, 400\n",
      "0...10...20...30...40...50...60...70...80...90...100 - done.\n",
      "WRF-20210812.grb2\n"
     ]
    },
    {
     "name": "stderr",
     "output_type": "stream",
     "text": [
      "Warning 1: Several drivers matching nc extension. Using NETCDF\n",
      "Warning 1: Several drivers matching nc extension. Using NETCDF\n"
     ]
    },
    {
     "name": "stdout",
     "output_type": "stream",
     "text": [
      "Input file size is 480, 400\n",
      "0...10...20...30...40...50...60...70...80...90...100 - done.\n",
      "WRF-20211019.grb2\n"
     ]
    },
    {
     "name": "stderr",
     "output_type": "stream",
     "text": [
      "Warning 1: Several drivers matching nc extension. Using NETCDF\n",
      "Warning 1: Several drivers matching nc extension. Using NETCDF\n"
     ]
    },
    {
     "name": "stdout",
     "output_type": "stream",
     "text": [
      "Input file size is 480, 400\n",
      "0...10...20...30...40...50...60...70...80...90...100 - done.\n",
      "WRF-20211017.grb2\n"
     ]
    },
    {
     "name": "stderr",
     "output_type": "stream",
     "text": [
      "Warning 1: Several drivers matching nc extension. Using NETCDF\n",
      "Warning 1: Several drivers matching nc extension. Using NETCDF\n"
     ]
    },
    {
     "name": "stdout",
     "output_type": "stream",
     "text": [
      "Input file size is 480, 400\n",
      "0...10...20...30...40...50...60...70...80...90...100 - done.\n",
      "WRF-20210717.grb2\n"
     ]
    },
    {
     "name": "stderr",
     "output_type": "stream",
     "text": [
      "Warning 1: Several drivers matching nc extension. Using NETCDF\n",
      "Warning 1: Several drivers matching nc extension. Using NETCDF\n"
     ]
    },
    {
     "name": "stdout",
     "output_type": "stream",
     "text": [
      "Input file size is 480, 400\n",
      "0...10...20...30...40...50...60...70...80...90...100 - done.\n",
      "WRF-20210821.grb2\n",
      "Input file size is 480, 400\n",
      "0...10...20.."
     ]
    },
    {
     "name": "stderr",
     "output_type": "stream",
     "text": [
      "Warning 1: Several drivers matching nc extension. Using NETCDF\n",
      "Warning 1: Several drivers matching nc extension. Using NETCDF\n"
     ]
    },
    {
     "name": "stdout",
     "output_type": "stream",
     "text": [
      ".30...40...50...60...70...80...90...100 - done.\n",
      "WRF-20211006.grb2\n"
     ]
    },
    {
     "name": "stderr",
     "output_type": "stream",
     "text": [
      "Warning 1: Several drivers matching nc extension. Using NETCDF\n",
      "Warning 1: Several drivers matching nc extension. Using NETCDF\n"
     ]
    },
    {
     "name": "stdout",
     "output_type": "stream",
     "text": [
      "Input file size is 480, 400\n",
      "0...10...20...30...40...50...60...70...80...90...100 - done.\n",
      "WRF-20220929.grb2\n",
      "Input file size is 480, 400\n",
      "0...10...20...30...40...50"
     ]
    },
    {
     "name": "stderr",
     "output_type": "stream",
     "text": [
      "Warning 1: Several drivers matching nc extension. Using NETCDF\n",
      "Warning 1: Several drivers matching nc extension. Using NETCDF\n"
     ]
    },
    {
     "name": "stdout",
     "output_type": "stream",
     "text": [
      "...60...70...80...90...100 - done.\n",
      "WRF-20211202.grb2\n"
     ]
    },
    {
     "name": "stderr",
     "output_type": "stream",
     "text": [
      "Warning 1: Several drivers matching nc extension. Using NETCDF\n",
      "Warning 1: Several drivers matching nc extension. Using NETCDF\n"
     ]
    },
    {
     "name": "stdout",
     "output_type": "stream",
     "text": [
      "Input file size is 480, 400\n",
      "0...10...20...30...40...50...60...70...80...90...100 - done.\n",
      "WRF-20211211.grb2\n",
      "Input file size is 480, 400\n",
      "0...10...20.."
     ]
    },
    {
     "name": "stderr",
     "output_type": "stream",
     "text": [
      "Warning 1: Several drivers matching nc extension. Using NETCDF\n",
      "Warning 1: Several drivers matching nc extension. Using NETCDF\n"
     ]
    },
    {
     "name": "stdout",
     "output_type": "stream",
     "text": [
      ".30...40...50...60...70...80...90...100 - done.\n",
      "WRF-20200826.grb2\n",
      "Input file size is 480, 400\n",
      "0...10...20...30...40...50"
     ]
    },
    {
     "name": "stderr",
     "output_type": "stream",
     "text": [
      "Warning 1: Several drivers matching nc extension. Using NETCDF\n",
      "Warning 1: Several drivers matching nc extension. Using NETCDF\n"
     ]
    },
    {
     "name": "stdout",
     "output_type": "stream",
     "text": [
      "...60...70...80...90...100 - done.\n",
      "WRF-20200719.grb2\n"
     ]
    },
    {
     "name": "stderr",
     "output_type": "stream",
     "text": [
      "Warning 1: Several drivers matching nc extension. Using NETCDF\n",
      "Warning 1: Several drivers matching nc extension. Using NETCDF\n"
     ]
    },
    {
     "name": "stdout",
     "output_type": "stream",
     "text": [
      "Input file size is 480, 400\n",
      "0...10...20...30...40...50...60...70...80...90...100 - done.\n",
      "WRF-20200810.grb2\n",
      "Input file size is 480, 400\n",
      "0...10...20.."
     ]
    },
    {
     "name": "stderr",
     "output_type": "stream",
     "text": [
      "Warning 1: Several drivers matching nc extension. Using NETCDF\n",
      "Warning 1: Several drivers matching nc extension. Using NETCDF\n"
     ]
    },
    {
     "name": "stdout",
     "output_type": "stream",
     "text": [
      ".30...40...50...60...70...80...90...100 - done.\n",
      "WRF-20210725.grb2\n"
     ]
    },
    {
     "name": "stderr",
     "output_type": "stream",
     "text": [
      "Warning 1: Several drivers matching nc extension. Using NETCDF\n",
      "Warning 1: Several drivers matching nc extension. Using NETCDF\n"
     ]
    },
    {
     "name": "stdout",
     "output_type": "stream",
     "text": [
      "Input file size is 480, 400\n",
      "0...10...20...30...40...50...60...70...80...90...100 - done.\n",
      "WRF-20211020.grb2\n"
     ]
    },
    {
     "name": "stderr",
     "output_type": "stream",
     "text": [
      "Warning 1: Several drivers matching nc extension. Using NETCDF\n",
      "Warning 1: Several drivers matching nc extension. Using NETCDF\n"
     ]
    },
    {
     "name": "stdout",
     "output_type": "stream",
     "text": [
      "Input file size is 480, 400\n",
      "0...10...20...30...40...50...60...70...80...90...100 - done.\n",
      "WRF-20221011.grb2\n"
     ]
    },
    {
     "name": "stderr",
     "output_type": "stream",
     "text": [
      "Warning 1: Several drivers matching nc extension. Using NETCDF\n",
      "Warning 1: Several drivers matching nc extension. Using NETCDF\n"
     ]
    },
    {
     "name": "stdout",
     "output_type": "stream",
     "text": [
      "Input file size is 480, 400\n",
      "0...10...20...30...40...50...60...70...80...90...100 - done.\n",
      "WRF-20210711.grb2\n",
      "Input file size is 480, 400\n",
      "0...10...20.."
     ]
    },
    {
     "name": "stderr",
     "output_type": "stream",
     "text": [
      "Warning 1: Several drivers matching nc extension. Using NETCDF\n",
      "Warning 1: Several drivers matching nc extension. Using NETCDF\n"
     ]
    },
    {
     "name": "stdout",
     "output_type": "stream",
     "text": [
      ".30...40...50...60...70...80...90...100 - done.\n",
      "WRF-20210923.grb2\n"
     ]
    },
    {
     "name": "stderr",
     "output_type": "stream",
     "text": [
      "Warning 1: Several drivers matching nc extension. Using NETCDF\n",
      "Warning 1: Several drivers matching nc extension. Using NETCDF\n"
     ]
    },
    {
     "name": "stdout",
     "output_type": "stream",
     "text": [
      "Input file size is 480, 400\n",
      "0...10...20...30...40...50...60...70...80...90...100 - done.\n",
      "WRF-20210921.grb2\n"
     ]
    },
    {
     "name": "stderr",
     "output_type": "stream",
     "text": [
      "Warning 1: Several drivers matching nc extension. Using NETCDF\n",
      "Warning 1: Several drivers matching nc extension. Using NETCDF\n"
     ]
    },
    {
     "name": "stdout",
     "output_type": "stream",
     "text": [
      "Input file size is 480, 400\n",
      "0...10...20...30...40...50...60...70...80...90...100 - done.\n",
      "WRF-20200906.grb2\n"
     ]
    },
    {
     "name": "stderr",
     "output_type": "stream",
     "text": [
      "Warning 1: Several drivers matching nc extension. Using NETCDF\n",
      "Warning 1: Several drivers matching nc extension. Using NETCDF\n"
     ]
    },
    {
     "name": "stdout",
     "output_type": "stream",
     "text": [
      "Input file size is 480, 400\n",
      "0...10...20...30...40...50...60...70...80...90...100 - done.\n",
      "WRF-20210925.grb2\n"
     ]
    },
    {
     "name": "stderr",
     "output_type": "stream",
     "text": [
      "Warning 1: Several drivers matching nc extension. Using NETCDF\n",
      "Warning 1: Several drivers matching nc extension. Using NETCDF\n"
     ]
    },
    {
     "name": "stdout",
     "output_type": "stream",
     "text": [
      "Input file size is 480, 400\n",
      "0...10...20...30...40...50...60...70...80...90...100 - done.\n",
      "WRF-20210720.grb2\n"
     ]
    },
    {
     "name": "stderr",
     "output_type": "stream",
     "text": [
      "Warning 1: Several drivers matching nc extension. Using NETCDF\n",
      "Warning 1: Several drivers matching nc extension. Using NETCDF\n"
     ]
    },
    {
     "name": "stdout",
     "output_type": "stream",
     "text": [
      "Input file size is 480, 400\n",
      "0...10...20...30...40...50...60...70...80...90...100 - done.\n",
      "WRF-20210628.grb2\n"
     ]
    },
    {
     "name": "stderr",
     "output_type": "stream",
     "text": [
      "Warning 1: Several drivers matching nc extension. Using NETCDF\n",
      "Warning 1: Several drivers matching nc extension. Using NETCDF\n"
     ]
    },
    {
     "name": "stdout",
     "output_type": "stream",
     "text": [
      "Input file size is 480, 400\n",
      "0...10...20...30...40...50...60...70...80...90...100 - done.\n",
      "WRF-20210530.grb2\n"
     ]
    },
    {
     "name": "stderr",
     "output_type": "stream",
     "text": [
      "Warning 1: Several drivers matching nc extension. Using NETCDF\n",
      "Warning 1: Several drivers matching nc extension. Using NETCDF\n"
     ]
    },
    {
     "name": "stdout",
     "output_type": "stream",
     "text": [
      "Input file size is 480, 400\n",
      "0...10...20...30...40...50...60...70...80...90...100 - done.\n",
      "WRF-20211030.grb2\n"
     ]
    },
    {
     "name": "stderr",
     "output_type": "stream",
     "text": [
      "Warning 1: Several drivers matching nc extension. Using NETCDF\n",
      "Warning 1: Several drivers matching nc extension. Using NETCDF\n"
     ]
    },
    {
     "name": "stdout",
     "output_type": "stream",
     "text": [
      "Input file size is 480, 400\n",
      "0...10...20...30...40...50...60...70...80...90...100 - done.\n",
      "WRF-20210705.grb2\n"
     ]
    },
    {
     "name": "stderr",
     "output_type": "stream",
     "text": [
      "Warning 1: Several drivers matching nc extension. Using NETCDF\n",
      "Warning 1: Several drivers matching nc extension. Using NETCDF\n"
     ]
    },
    {
     "name": "stdout",
     "output_type": "stream",
     "text": [
      "Input file size is 480, 400\n",
      "0...10...20...30...40...50...60...70...80...90...100 - done.\n",
      "WRF-20211230.grb2\n"
     ]
    },
    {
     "name": "stderr",
     "output_type": "stream",
     "text": [
      "Warning 1: Several drivers matching nc extension. Using NETCDF\n",
      "Warning 1: Several drivers matching nc extension. Using NETCDF\n"
     ]
    },
    {
     "name": "stdout",
     "output_type": "stream",
     "text": [
      "Input file size is 480, 400\n",
      "0...10...20...30...40...50...60...70...80...90...100 - done.\n",
      "WRF-20200808.grb2\n",
      "Input file size is 480, 400\n",
      "0...10...20.."
     ]
    },
    {
     "name": "stderr",
     "output_type": "stream",
     "text": [
      "Warning 1: Several drivers matching nc extension. Using NETCDF\n",
      "Warning 1: Several drivers matching nc extension. Using NETCDF\n"
     ]
    },
    {
     "name": "stdout",
     "output_type": "stream",
     "text": [
      ".30...40...50...60...70...80...90...100 - done.\n",
      "WRF-20211121.grb2\n"
     ]
    },
    {
     "name": "stderr",
     "output_type": "stream",
     "text": [
      "Warning 1: Several drivers matching nc extension. Using NETCDF\n",
      "Warning 1: Several drivers matching nc extension. Using NETCDF\n"
     ]
    },
    {
     "name": "stdout",
     "output_type": "stream",
     "text": [
      "Input file size is 480, 400\n",
      "0...10...20...30...40...50...60...70...80...90...100 - done.\n",
      "WRF-20221009.grb2\n"
     ]
    },
    {
     "name": "stderr",
     "output_type": "stream",
     "text": [
      "Warning 1: Several drivers matching nc extension. Using NETCDF\n",
      "Warning 1: Several drivers matching nc extension. Using NETCDF\n"
     ]
    },
    {
     "name": "stdout",
     "output_type": "stream",
     "text": [
      "Input file size is 480, 400\n",
      "0...10...20...30...40...50...60...70...80...90...100 - done.\n",
      "WRF-20200717.grb2\n"
     ]
    },
    {
     "name": "stderr",
     "output_type": "stream",
     "text": [
      "Warning 1: Several drivers matching nc extension. Using NETCDF\n",
      "Warning 1: Several drivers matching nc extension. Using NETCDF\n"
     ]
    },
    {
     "name": "stdout",
     "output_type": "stream",
     "text": [
      "Input file size is 480, 400\n",
      "0...10...20...30...40...50...60...70...80...90...100 - done.\n",
      "WRF-20211015.grb2\n",
      "Input file size is 480, 400\n",
      "0...10...20.."
     ]
    },
    {
     "name": "stderr",
     "output_type": "stream",
     "text": [
      "Warning 1: Several drivers matching nc extension. Using NETCDF\n",
      "Warning 1: Several drivers matching nc extension. Using NETCDF\n"
     ]
    },
    {
     "name": "stdout",
     "output_type": "stream",
     "text": [
      ".30...40...50...60...70...80...90...100 - done.\n",
      "WRF-20210811.grb2\n",
      "Input file size is 480, 400\n",
      "0...10...20...30...40...50"
     ]
    },
    {
     "name": "stderr",
     "output_type": "stream",
     "text": [
      "Warning 1: Several drivers matching nc extension. Using NETCDF\n",
      "Warning 1: Several drivers matching nc extension. Using NETCDF\n"
     ]
    },
    {
     "name": "stdout",
     "output_type": "stream",
     "text": [
      "...60...70...80...90...100 - done.\n",
      "WRF-20210729.grb2\n"
     ]
    },
    {
     "name": "stderr",
     "output_type": "stream",
     "text": [
      "Warning 1: Several drivers matching nc extension. Using NETCDF\n",
      "Warning 1: Several drivers matching nc extension. Using NETCDF\n"
     ]
    },
    {
     "name": "stdout",
     "output_type": "stream",
     "text": [
      "Input file size is 480, 400\n",
      "0...10...20...30...40...50...60...70...80...90...100 - done.\n",
      "WRF-20221003.grb2\n"
     ]
    },
    {
     "name": "stderr",
     "output_type": "stream",
     "text": [
      "Warning 1: Several drivers matching nc extension. Using NETCDF\n",
      "Warning 1: Several drivers matching nc extension. Using NETCDF\n"
     ]
    },
    {
     "name": "stdout",
     "output_type": "stream",
     "text": [
      "Input file size is 480, 400\n",
      "0...10...20...30...40...50...60...70...80...90...100 - done.\n",
      "WRF-20210926.grb2\n"
     ]
    },
    {
     "name": "stderr",
     "output_type": "stream",
     "text": [
      "Warning 1: Several drivers matching nc extension. Using NETCDF\n",
      "Warning 1: Several drivers matching nc extension. Using NETCDF\n"
     ]
    },
    {
     "name": "stdout",
     "output_type": "stream",
     "text": [
      "Input file size is 480, 400\n",
      "0...10...20...30...40...50...60...70...80...90...100 - done.\n",
      "WRF-20210817.grb2\n"
     ]
    },
    {
     "name": "stderr",
     "output_type": "stream",
     "text": [
      "Warning 1: Several drivers matching nc extension. Using NETCDF\n",
      "Warning 1: Several drivers matching nc extension. Using NETCDF\n"
     ]
    },
    {
     "name": "stdout",
     "output_type": "stream",
     "text": [
      "Input file size is 480, 400\n",
      "0...10...20...30...40...50...60...70...80...90...100 - done.\n",
      "WRF-20210807.grb2\n"
     ]
    },
    {
     "name": "stderr",
     "output_type": "stream",
     "text": [
      "Warning 1: Several drivers matching nc extension. Using NETCDF\n",
      "Warning 1: Several drivers matching nc extension. Using NETCDF\n"
     ]
    },
    {
     "name": "stdout",
     "output_type": "stream",
     "text": [
      "Input file size is 480, 400\n",
      "0...10...20...30...40...50...60...70...80...90...100 - done.\n",
      "WRF-20210726.grb2\n",
      "Input file size is 480, 400\n",
      "0...10...20.."
     ]
    },
    {
     "name": "stderr",
     "output_type": "stream",
     "text": [
      "Warning 1: Several drivers matching nc extension. Using NETCDF\n",
      "Warning 1: Several drivers matching nc extension. Using NETCDF\n"
     ]
    },
    {
     "name": "stdout",
     "output_type": "stream",
     "text": [
      ".30...40...50...60...70...80...90...100 - done.\n",
      "WRF-20210831.grb2\n",
      "Input file size is 480, 400\n",
      "0...10...20.."
     ]
    },
    {
     "name": "stderr",
     "output_type": "stream",
     "text": [
      "Warning 1: Several drivers matching nc extension. Using NETCDF\n",
      "Warning 1: Several drivers matching nc extension. Using NETCDF\n"
     ]
    },
    {
     "name": "stdout",
     "output_type": "stream",
     "text": [
      ".30...40...50...60...70...80...90...100 - done.\n",
      "WRF-20210822.grb2\n"
     ]
    },
    {
     "name": "stderr",
     "output_type": "stream",
     "text": [
      "Warning 1: Several drivers matching nc extension. Using NETCDF\n",
      "Warning 1: Several drivers matching nc extension. Using NETCDF\n"
     ]
    },
    {
     "name": "stdout",
     "output_type": "stream",
     "text": [
      "Input file size is 480, 400\n",
      "0...10...20...30...40...50...60...70...80...90...100 - done.\n",
      "WRF-20211005.grb2\n"
     ]
    },
    {
     "name": "stderr",
     "output_type": "stream",
     "text": [
      "Warning 1: Several drivers matching nc extension. Using NETCDF\n",
      "Warning 1: Several drivers matching nc extension. Using NETCDF\n"
     ]
    },
    {
     "name": "stdout",
     "output_type": "stream",
     "text": [
      "Input file size is 480, 400\n",
      "0...10...20...30...40...50...60...70...80...90...100 - done.\n",
      "WRF-20200907.grb2\n"
     ]
    },
    {
     "name": "stderr",
     "output_type": "stream",
     "text": [
      "Warning 1: Several drivers matching nc extension. Using NETCDF\n",
      "Warning 1: Several drivers matching nc extension. Using NETCDF\n"
     ]
    },
    {
     "name": "stdout",
     "output_type": "stream",
     "text": [
      "Input file size is 480, 400\n",
      "0...10...20...30...40...50...60...70...80...90...100 - done.\n",
      "WRF-20210712.grb2\n"
     ]
    },
    {
     "name": "stderr",
     "output_type": "stream",
     "text": [
      "Warning 1: Several drivers matching nc extension. Using NETCDF\n",
      "Warning 1: Several drivers matching nc extension. Using NETCDF\n"
     ]
    },
    {
     "name": "stdout",
     "output_type": "stream",
     "text": [
      "Input file size is 480, 400\n",
      "0...10...20...30...40...50...60...70...80...90...100 - done.\n",
      "WRF-20211113.grb2\n"
     ]
    },
    {
     "name": "stderr",
     "output_type": "stream",
     "text": [
      "Warning 1: Several drivers matching nc extension. Using NETCDF\n",
      "Warning 1: Several drivers matching nc extension. Using NETCDF\n"
     ]
    },
    {
     "name": "stdout",
     "output_type": "stream",
     "text": [
      "Input file size is 480, 400\n",
      "0...10...20...30...40...50...60...70...80...90...100 - done.\n",
      "WRF-20211007.grb2\n",
      "Input file size is 480, 400\n",
      "0...10...20...30...40...50"
     ]
    },
    {
     "name": "stderr",
     "output_type": "stream",
     "text": [
      "Warning 1: Several drivers matching nc extension. Using NETCDF\n",
      "Warning 1: Several drivers matching nc extension. Using NETCDF\n"
     ]
    },
    {
     "name": "stdout",
     "output_type": "stream",
     "text": [
      "...60...70...80...90...100 - done.\n",
      "WRF-20210714.grb2\n",
      "Input file size is 480, 400\n",
      "0...10...20...30...40...50"
     ]
    },
    {
     "name": "stderr",
     "output_type": "stream",
     "text": [
      "Warning 1: Several drivers matching nc extension. Using NETCDF\n",
      "Warning 1: Several drivers matching nc extension. Using NETCDF\n"
     ]
    },
    {
     "name": "stdout",
     "output_type": "stream",
     "text": [
      "...60...70...80...90...100 - done.\n",
      "WRF-20210813.grb2\n"
     ]
    },
    {
     "name": "stderr",
     "output_type": "stream",
     "text": [
      "Warning 1: Several drivers matching nc extension. Using NETCDF\n",
      "Warning 1: Several drivers matching nc extension. Using NETCDF\n"
     ]
    },
    {
     "name": "stdout",
     "output_type": "stream",
     "text": [
      "Input file size is 480, 400\n",
      "0...10...20...30...40...50...60...70...80...90...100 - done.\n",
      "WRF-20210814.grb2\n"
     ]
    },
    {
     "name": "stderr",
     "output_type": "stream",
     "text": [
      "Warning 1: Several drivers matching nc extension. Using NETCDF\n",
      "Warning 1: Several drivers matching nc extension. Using NETCDF\n"
     ]
    },
    {
     "name": "stdout",
     "output_type": "stream",
     "text": [
      "Input file size is 480, 400\n",
      "0...10...20...30...40...50...60...70...80...90...100 - done.\n",
      "WRF-20211024.grb2\n"
     ]
    },
    {
     "name": "stderr",
     "output_type": "stream",
     "text": [
      "Warning 1: Several drivers matching nc extension. Using NETCDF\n",
      "Warning 1: Several drivers matching nc extension. Using NETCDF\n"
     ]
    },
    {
     "name": "stdout",
     "output_type": "stream",
     "text": [
      "Input file size is 480, 400\n",
      "0...10...20...30...40...50...60...70...80...90...100 - done.\n",
      "WRF-20200812.grb2\n",
      "Input file size is 480, 400\n",
      "0...10...20.."
     ]
    },
    {
     "name": "stderr",
     "output_type": "stream",
     "text": [
      "Warning 1: Several drivers matching nc extension. Using NETCDF\n",
      "Warning 1: Several drivers matching nc extension. Using NETCDF\n"
     ]
    },
    {
     "name": "stdout",
     "output_type": "stream",
     "text": [
      ".30...40...50...60...70...80...90...100 - done.\n",
      "WRF-20210914.grb2\n"
     ]
    },
    {
     "name": "stderr",
     "output_type": "stream",
     "text": [
      "Warning 1: Several drivers matching nc extension. Using NETCDF\n",
      "Warning 1: Several drivers matching nc extension. Using NETCDF\n"
     ]
    },
    {
     "name": "stdout",
     "output_type": "stream",
     "text": [
      "Input file size is 480, 400\n",
      "0...10...20...30...40...50...60...70...80...90...100 - done.\n",
      "WRF-20211013.grb2\n"
     ]
    },
    {
     "name": "stderr",
     "output_type": "stream",
     "text": [
      "Warning 1: Several drivers matching nc extension. Using NETCDF\n",
      "Warning 1: Several drivers matching nc extension. Using NETCDF\n"
     ]
    },
    {
     "name": "stdout",
     "output_type": "stream",
     "text": [
      "Input file size is 480, 400\n",
      "0...10...20...30...40...50...60...70...80...90...100 - done.\n",
      "WRF-20220930.grb2\n",
      "Input file size is 480, 400\n",
      "0...10...20.."
     ]
    },
    {
     "name": "stderr",
     "output_type": "stream",
     "text": [
      "Warning 1: Several drivers matching nc extension. Using NETCDF\n",
      "Warning 1: Several drivers matching nc extension. Using NETCDF\n"
     ]
    },
    {
     "name": "stdout",
     "output_type": "stream",
     "text": [
      ".30...40...50...60...70...80...90...100 - done.\n",
      "WRF-20200807.grb2\n"
     ]
    },
    {
     "name": "stderr",
     "output_type": "stream",
     "text": [
      "Warning 1: Several drivers matching nc extension. Using NETCDF\n",
      "Warning 1: Several drivers matching nc extension. Using NETCDF\n"
     ]
    },
    {
     "name": "stdout",
     "output_type": "stream",
     "text": [
      "Input file size is 480, 400\n",
      "0...10...20...30...40...50...60...70...80...90...100 - done.\n",
      "WRF-20211106.grb2\n"
     ]
    },
    {
     "name": "stderr",
     "output_type": "stream",
     "text": [
      "Warning 1: Several drivers matching nc extension. Using NETCDF\n",
      "Warning 1: Several drivers matching nc extension. Using NETCDF\n"
     ]
    },
    {
     "name": "stdout",
     "output_type": "stream",
     "text": [
      "Input file size is 480, 400\n",
      "0...10...20...30...40...50...60...70...80...90...100 - done.\n",
      "WRF-20221006.grb2\n"
     ]
    },
    {
     "name": "stderr",
     "output_type": "stream",
     "text": [
      "Warning 1: Several drivers matching nc extension. Using NETCDF\n",
      "Warning 1: Several drivers matching nc extension. Using NETCDF\n"
     ]
    },
    {
     "name": "stdout",
     "output_type": "stream",
     "text": [
      "Input file size is 480, 400\n",
      "0...10...20...30...40...50...60...70...80...90...100 - done.\n",
      "WRF-20200707.grb2\n"
     ]
    },
    {
     "name": "stderr",
     "output_type": "stream",
     "text": [
      "Warning 1: Several drivers matching nc extension. Using NETCDF\n",
      "Warning 1: Several drivers matching nc extension. Using NETCDF\n"
     ]
    },
    {
     "name": "stdout",
     "output_type": "stream",
     "text": [
      "Input file size is 480, 400\n",
      "0...10...20...30...40...50...60...70...80...90...100 - done.\n",
      "WRF-20211102.grb2\n"
     ]
    },
    {
     "name": "stderr",
     "output_type": "stream",
     "text": [
      "Warning 1: Several drivers matching nc extension. Using NETCDF\n",
      "Warning 1: Several drivers matching nc extension. Using NETCDF\n"
     ]
    },
    {
     "name": "stdout",
     "output_type": "stream",
     "text": [
      "Input file size is 480, 400\n",
      "0...10...20...30...40...50...60...70...80...90...100 - done.\n",
      "WRF-20211111.grb2\n"
     ]
    },
    {
     "name": "stderr",
     "output_type": "stream",
     "text": [
      "Warning 1: Several drivers matching nc extension. Using NETCDF\n",
      "Warning 1: Several drivers matching nc extension. Using NETCDF\n"
     ]
    },
    {
     "name": "stdout",
     "output_type": "stream",
     "text": [
      "Input file size is 480, 400\n",
      "0...10...20...30...40...50...60...70...80...90...100 - done.\n",
      "WRF-20211222.grb2\n",
      "Input file size is 480, 400\n",
      "0...10...20...30...40...50"
     ]
    },
    {
     "name": "stderr",
     "output_type": "stream",
     "text": [
      "Warning 1: Several drivers matching nc extension. Using NETCDF\n",
      "Warning 1: Several drivers matching nc extension. Using NETCDF\n"
     ]
    },
    {
     "name": "stdout",
     "output_type": "stream",
     "text": [
      "...60...70...80...90...100 - done.\n",
      "WRF-20210526.grb2\n"
     ]
    },
    {
     "name": "stderr",
     "output_type": "stream",
     "text": [
      "Warning 1: Several drivers matching nc extension. Using NETCDF\n",
      "Warning 1: Several drivers matching nc extension. Using NETCDF\n"
     ]
    },
    {
     "name": "stdout",
     "output_type": "stream",
     "text": [
      "Input file size is 480, 400\n",
      "0...10...20...30...40...50...60...70...80...90...100 - done.\n",
      "WRF-20210810.grb2\n"
     ]
    },
    {
     "name": "stderr",
     "output_type": "stream",
     "text": [
      "Warning 1: Several drivers matching nc extension. Using NETCDF\n",
      "Warning 1: Several drivers matching nc extension. Using NETCDF\n"
     ]
    },
    {
     "name": "stdout",
     "output_type": "stream",
     "text": [
      "Input file size is 480, 400\n",
      "0...10...20...30...40...50...60...70...80...90...100 - done.\n",
      "WRF-20211203.grb2\n"
     ]
    },
    {
     "name": "stderr",
     "output_type": "stream",
     "text": [
      "Warning 1: Several drivers matching nc extension. Using NETCDF\n",
      "Warning 1: Several drivers matching nc extension. Using NETCDF\n"
     ]
    },
    {
     "name": "stdout",
     "output_type": "stream",
     "text": [
      "Input file size is 480, 400\n",
      "0...10...20...30...40...50...60...70...80...90...100 - done.\n",
      "WRF-20210621.grb2\n"
     ]
    },
    {
     "name": "stderr",
     "output_type": "stream",
     "text": [
      "Warning 1: Several drivers matching nc extension. Using NETCDF\n",
      "Warning 1: Several drivers matching nc extension. Using NETCDF\n"
     ]
    },
    {
     "name": "stdout",
     "output_type": "stream",
     "text": [
      "Input file size is 480, 400\n",
      "0...10...20...30...40...50...60...70...80...90...100 - done.\n",
      "WRF-20200821.grb2\n",
      "Input file size is 480, 400\n",
      "0...10...20.."
     ]
    },
    {
     "name": "stderr",
     "output_type": "stream",
     "text": [
      "Warning 1: Several drivers matching nc extension. Using NETCDF\n",
      "Warning 1: Several drivers matching nc extension. Using NETCDF\n"
     ]
    },
    {
     "name": "stdout",
     "output_type": "stream",
     "text": [
      ".30...40...50...60...70...80...90...100 - done.\n",
      "WRF-20211010.grb2\n"
     ]
    },
    {
     "name": "stderr",
     "output_type": "stream",
     "text": [
      "Warning 1: Several drivers matching nc extension. Using NETCDF\n",
      "Warning 1: Several drivers matching nc extension. Using NETCDF\n"
     ]
    },
    {
     "name": "stdout",
     "output_type": "stream",
     "text": [
      "Input file size is 480, 400\n",
      "0...10...20...30...40...50...60...70...80...90...100 - done.\n",
      "WRF-20210927.grb2\n"
     ]
    },
    {
     "name": "stderr",
     "output_type": "stream",
     "text": [
      "Warning 1: Several drivers matching nc extension. Using NETCDF\n",
      "Warning 1: Several drivers matching nc extension. Using NETCDF\n"
     ]
    },
    {
     "name": "stdout",
     "output_type": "stream",
     "text": [
      "Input file size is 480, 400\n",
      "0...10...20...30...40...50...60...70...80...90...100 - done.\n",
      "WRF-20210928.grb2\n",
      "Input file size is 480, 400\n",
      "0...10...20.."
     ]
    },
    {
     "name": "stderr",
     "output_type": "stream",
     "text": [
      "Warning 1: Several drivers matching nc extension. Using NETCDF\n",
      "Warning 1: Several drivers matching nc extension. Using NETCDF\n"
     ]
    },
    {
     "name": "stdout",
     "output_type": "stream",
     "text": [
      ".30...40...50...60...70...80...90...100 - done.\n",
      "WRF-20210623.grb2\n"
     ]
    },
    {
     "name": "stderr",
     "output_type": "stream",
     "text": [
      "Warning 1: Several drivers matching nc extension. Using NETCDF\n",
      "Warning 1: Several drivers matching nc extension. Using NETCDF\n"
     ]
    },
    {
     "name": "stdout",
     "output_type": "stream",
     "text": [
      "Input file size is 480, 400\n",
      "0...10...20...30...40...50...60...70...80...90...100 - done.\n",
      "WRF-20211029.grb2\n"
     ]
    },
    {
     "name": "stderr",
     "output_type": "stream",
     "text": [
      "Warning 1: Several drivers matching nc extension. Using NETCDF\n",
      "Warning 1: Several drivers matching nc extension. Using NETCDF\n"
     ]
    },
    {
     "name": "stdout",
     "output_type": "stream",
     "text": [
      "Input file size is 480, 400\n",
      "0...10...20...30...40...50...60...70...80...90...100 - done.\n",
      "WRF-20211008.grb2\n"
     ]
    },
    {
     "name": "stderr",
     "output_type": "stream",
     "text": [
      "Warning 1: Several drivers matching nc extension. Using NETCDF\n",
      "Warning 1: Several drivers matching nc extension. Using NETCDF\n"
     ]
    },
    {
     "name": "stdout",
     "output_type": "stream",
     "text": [
      "Input file size is 480, 400\n",
      "0...10...20...30...40...50...60...70...80...90...100 - done.\n",
      "WRF-20210527.grb2\n",
      "Input file size is 480, 400\n",
      "0...10...20...30...40...50"
     ]
    },
    {
     "name": "stderr",
     "output_type": "stream",
     "text": [
      "Warning 1: Several drivers matching nc extension. Using NETCDF\n",
      "Warning 1: Several drivers matching nc extension. Using NETCDF\n"
     ]
    },
    {
     "name": "stdout",
     "output_type": "stream",
     "text": [
      "...60...70...80...90...100 - done.\n",
      "WRF-20210912.grb2\n",
      "Input file size is 480, 400\n",
      "0...10...20...30...40...50"
     ]
    },
    {
     "name": "stderr",
     "output_type": "stream",
     "text": [
      "Warning 1: Several drivers matching nc extension. Using NETCDF\n",
      "Warning 1: Several drivers matching nc extension. Using NETCDF\n"
     ]
    },
    {
     "name": "stdout",
     "output_type": "stream",
     "text": [
      "...60...70...80...90...100 - done.\n",
      "WRF-20200805.grb2\n"
     ]
    },
    {
     "name": "stderr",
     "output_type": "stream",
     "text": [
      "Warning 1: Several drivers matching nc extension. Using NETCDF\n",
      "Warning 1: Several drivers matching nc extension. Using NETCDF\n"
     ]
    },
    {
     "name": "stdout",
     "output_type": "stream",
     "text": [
      "Input file size is 480, 400\n",
      "0...10...20...30...40...50...60...70...80...90...100 - done.\n",
      "WRF-20200715.grb2\n"
     ]
    },
    {
     "name": "stderr",
     "output_type": "stream",
     "text": [
      "Warning 1: Several drivers matching nc extension. Using NETCDF\n",
      "Warning 1: Several drivers matching nc extension. Using NETCDF\n"
     ]
    },
    {
     "name": "stdout",
     "output_type": "stream",
     "text": [
      "Input file size is 480, 400\n",
      "0...10...20...30...40...50...60...70...80...90...100 - done.\n",
      "WRF-20210907.grb2\n"
     ]
    },
    {
     "name": "stderr",
     "output_type": "stream",
     "text": [
      "Warning 1: Several drivers matching nc extension. Using NETCDF\n",
      "Warning 1: Several drivers matching nc extension. Using NETCDF\n"
     ]
    },
    {
     "name": "stdout",
     "output_type": "stream",
     "text": [
      "Input file size is 480, 400\n",
      "0...10...20...30...40...50...60...70...80...90...100 - done.\n",
      "WRF-20210827.grb2\n",
      "Input file size is 480, 400\n",
      "0...10...20.."
     ]
    },
    {
     "name": "stderr",
     "output_type": "stream",
     "text": [
      "Warning 1: Several drivers matching nc extension. Using NETCDF\n",
      "Warning 1: Several drivers matching nc extension. Using NETCDF\n"
     ]
    },
    {
     "name": "stdout",
     "output_type": "stream",
     "text": [
      ".30...40...50...60...70...80...90...100 - done.\n",
      "WRF-20210629.grb2\n"
     ]
    },
    {
     "name": "stderr",
     "output_type": "stream",
     "text": [
      "Warning 1: Several drivers matching nc extension. Using NETCDF\n",
      "Warning 1: Several drivers matching nc extension. Using NETCDF\n"
     ]
    },
    {
     "name": "stdout",
     "output_type": "stream",
     "text": [
      "Input file size is 480, 400\n",
      "0...10...20...30...40...50...60...70...80...90...100 - done.\n",
      "WRF-20220925.grb2\n"
     ]
    },
    {
     "name": "stderr",
     "output_type": "stream",
     "text": [
      "Warning 1: Several drivers matching nc extension. Using NETCDF\n",
      "Warning 1: Several drivers matching nc extension. Using NETCDF\n"
     ]
    },
    {
     "name": "stdout",
     "output_type": "stream",
     "text": [
      "Input file size is 480, 400\n",
      "0...10...20...30...40...50...60...70...80...90...100 - done.\n",
      "WRF-20210809.grb2\n"
     ]
    },
    {
     "name": "stderr",
     "output_type": "stream",
     "text": [
      "Warning 1: Several drivers matching nc extension. Using NETCDF\n",
      "Warning 1: Several drivers matching nc extension. Using NETCDF\n"
     ]
    },
    {
     "name": "stdout",
     "output_type": "stream",
     "text": [
      "Input file size is 480, 400\n",
      "0...10...20...30...40...50...60...70...80...90...100 - done.\n",
      "WRF-20200710.grb2\n"
     ]
    },
    {
     "name": "stderr",
     "output_type": "stream",
     "text": [
      "Warning 1: Several drivers matching nc extension. Using NETCDF\n",
      "Warning 1: Several drivers matching nc extension. Using NETCDF\n"
     ]
    },
    {
     "name": "stdout",
     "output_type": "stream",
     "text": [
      "Input file size is 480, 400\n",
      "0...10...20...30...40...50...60...70...80...90...100 - done.\n",
      "WRF-20200720.grb2\n"
     ]
    },
    {
     "name": "stderr",
     "output_type": "stream",
     "text": [
      "Warning 1: Several drivers matching nc extension. Using NETCDF\n",
      "Warning 1: Several drivers matching nc extension. Using NETCDF\n"
     ]
    },
    {
     "name": "stdout",
     "output_type": "stream",
     "text": [
      "Input file size is 480, 400\n",
      "0...10...20...30...40...50...60...70...80...90...100 - done.\n",
      "WRF-20211101.grb2\n"
     ]
    },
    {
     "name": "stderr",
     "output_type": "stream",
     "text": [
      "Warning 1: Several drivers matching nc extension. Using NETCDF\n",
      "Warning 1: Several drivers matching nc extension. Using NETCDF\n"
     ]
    },
    {
     "name": "stdout",
     "output_type": "stream",
     "text": [
      "Input file size is 480, 400\n",
      "0...10...20...30...40...50...60...70...80...90...100 - done.\n",
      "WRF-20210523.grb2\n",
      "Input file size is 480, 400\n",
      "0...10"
     ]
    },
    {
     "name": "stderr",
     "output_type": "stream",
     "text": [
      "Warning 1: Several drivers matching nc extension. Using NETCDF\n",
      "Warning 1: Several drivers matching nc extension. Using NETCDF\n"
     ]
    },
    {
     "name": "stdout",
     "output_type": "stream",
     "text": [
      "...20...30...40...50...60...70...80...90...100 - done.\n",
      "WRF-20210601.grb2\n"
     ]
    },
    {
     "name": "stderr",
     "output_type": "stream",
     "text": [
      "Warning 1: Several drivers matching nc extension. Using NETCDF\n",
      "Warning 1: Several drivers matching nc extension. Using NETCDF\n"
     ]
    },
    {
     "name": "stdout",
     "output_type": "stream",
     "text": [
      "Input file size is 480, 400\n",
      "0...10...20...30...40...50...60...70...80...90...100 - done.\n",
      "WRF-20210727.grb2\n"
     ]
    },
    {
     "name": "stderr",
     "output_type": "stream",
     "text": [
      "Warning 1: Several drivers matching nc extension. Using NETCDF\n",
      "Warning 1: Several drivers matching nc extension. Using NETCDF\n"
     ]
    },
    {
     "name": "stdout",
     "output_type": "stream",
     "text": [
      "Input file size is 480, 400\n",
      "0...10...20...30...40...50...60...70...80...90...100 - done.\n",
      "WRF-20200815.grb2\n",
      "Input file size is 480, 400\n",
      "0...10...20...30...40...50"
     ]
    },
    {
     "name": "stderr",
     "output_type": "stream",
     "text": [
      "Warning 1: Several drivers matching nc extension. Using NETCDF\n",
      "Warning 1: Several drivers matching nc extension. Using NETCDF\n"
     ]
    },
    {
     "name": "stdout",
     "output_type": "stream",
     "text": [
      "...60...70...80...90...100 - done.\n",
      "WRF-20221008.grb2\n",
      "Input file size is 480, 400\n",
      "0...10...20...30...40...50"
     ]
    },
    {
     "name": "stderr",
     "output_type": "stream",
     "text": [
      "Warning 1: Several drivers matching nc extension. Using NETCDF\n",
      "Warning 1: Several drivers matching nc extension. Using NETCDF\n"
     ]
    },
    {
     "name": "stdout",
     "output_type": "stream",
     "text": [
      "...60...70...80...90...100 - done.\n",
      "WRF-20200814.grb2\n"
     ]
    },
    {
     "name": "stderr",
     "output_type": "stream",
     "text": [
      "Warning 1: Several drivers matching nc extension. Using NETCDF\n",
      "Warning 1: Several drivers matching nc extension. Using NETCDF\n"
     ]
    },
    {
     "name": "stdout",
     "output_type": "stream",
     "text": [
      "Input file size is 480, 400\n",
      "0...10...20...30...40...50...60...70...80...90...100 - done.\n",
      "WRF-20211028.grb2\n"
     ]
    },
    {
     "name": "stderr",
     "output_type": "stream",
     "text": [
      "Warning 1: Several drivers matching nc extension. Using NETCDF\n",
      "Warning 1: Several drivers matching nc extension. Using NETCDF\n"
     ]
    },
    {
     "name": "stdout",
     "output_type": "stream",
     "text": [
      "Input file size is 480, 400\n",
      "0...10...20...30...40...50...60...70...80...90...100 - done.\n",
      "WRF-20200804.grb2\n"
     ]
    },
    {
     "name": "stderr",
     "output_type": "stream",
     "text": [
      "Warning 1: Several drivers matching nc extension. Using NETCDF\n",
      "Warning 1: Several drivers matching nc extension. Using NETCDF\n"
     ]
    },
    {
     "name": "stdout",
     "output_type": "stream",
     "text": [
      "Input file size is 480, 400\n",
      "0...10...20...30...40...50...60...70...80...90...100 - done.\n",
      "WRF-20200726.grb2\n",
      "Input file size is 480, 400\n",
      "0...10...20.."
     ]
    },
    {
     "name": "stderr",
     "output_type": "stream",
     "text": [
      "Warning 1: Several drivers matching nc extension. Using NETCDF\n",
      "Warning 1: Several drivers matching nc extension. Using NETCDF\n"
     ]
    },
    {
     "name": "stdout",
     "output_type": "stream",
     "text": [
      ".30...40...50...60...70...80...90...100 - done.\n",
      "WRF-20211227.grb2\n"
     ]
    },
    {
     "name": "stderr",
     "output_type": "stream",
     "text": [
      "Warning 1: Several drivers matching nc extension. Using NETCDF\n",
      "Warning 1: Several drivers matching nc extension. Using NETCDF\n"
     ]
    },
    {
     "name": "stdout",
     "output_type": "stream",
     "text": [
      "Input file size is 480, 400\n",
      "0...10...20...30...40...50...60...70...80...90...100 - done.\n",
      "WRF-20211027.grb2\n"
     ]
    },
    {
     "name": "stderr",
     "output_type": "stream",
     "text": [
      "Warning 1: Several drivers matching nc extension. Using NETCDF\n",
      "Warning 1: Several drivers matching nc extension. Using NETCDF\n"
     ]
    },
    {
     "name": "stdout",
     "output_type": "stream",
     "text": [
      "Input file size is 480, 400\n",
      "0...10...20...30...40...50...60...70...80...90...100 - done.\n",
      "WRF-20210816.grb2\n"
     ]
    },
    {
     "name": "stderr",
     "output_type": "stream",
     "text": [
      "Warning 1: Several drivers matching nc extension. Using NETCDF\n",
      "Warning 1: Several drivers matching nc extension. Using NETCDF\n"
     ]
    },
    {
     "name": "stdout",
     "output_type": "stream",
     "text": [
      "Input file size is 480, 400\n",
      "0...10...20...30...40...50...60...70...80...90...100 - done.\n",
      "WRF-20210922.grb2\n"
     ]
    },
    {
     "name": "stderr",
     "output_type": "stream",
     "text": [
      "Warning 1: Several drivers matching nc extension. Using NETCDF\n",
      "Warning 1: Several drivers matching nc extension. Using NETCDF\n"
     ]
    },
    {
     "name": "stdout",
     "output_type": "stream",
     "text": [
      "Input file size is 480, 400\n",
      "0...10...20...30...40...50...60...70...80...90...100 - done.\n",
      "WRF-20210613.grb2\n"
     ]
    },
    {
     "name": "stderr",
     "output_type": "stream",
     "text": [
      "Warning 1: Several drivers matching nc extension. Using NETCDF\n",
      "Warning 1: Several drivers matching nc extension. Using NETCDF\n"
     ]
    },
    {
     "name": "stdout",
     "output_type": "stream",
     "text": [
      "Input file size is 480, 400\n",
      "0...10...20...30...40...50...60...70...80...90...100 - done.\n",
      "WRF-20210707.grb2\n"
     ]
    },
    {
     "name": "stderr",
     "output_type": "stream",
     "text": [
      "Warning 1: Several drivers matching nc extension. Using NETCDF\n",
      "Warning 1: Several drivers matching nc extension. Using NETCDF\n"
     ]
    },
    {
     "name": "stdout",
     "output_type": "stream",
     "text": [
      "Input file size is 480, 400\n",
      "0...10...20...30...40...50...60...70...80...90...100 - done.\n",
      "WRF-20220923.grb2\n",
      "Input file size is 480, 400\n",
      "0...10...20...30...40...50"
     ]
    },
    {
     "name": "stderr",
     "output_type": "stream",
     "text": [
      "Warning 1: Several drivers matching nc extension. Using NETCDF\n",
      "Warning 1: Several drivers matching nc extension. Using NETCDF\n"
     ]
    },
    {
     "name": "stdout",
     "output_type": "stream",
     "text": [
      "...60...70...80...90...100 - done.\n",
      "WRF-20210708.grb2\n"
     ]
    },
    {
     "name": "stderr",
     "output_type": "stream",
     "text": [
      "Warning 1: Several drivers matching nc extension. Using NETCDF\n",
      "Warning 1: Several drivers matching nc extension. Using NETCDF\n"
     ]
    },
    {
     "name": "stdout",
     "output_type": "stream",
     "text": [
      "Input file size is 480, 400\n",
      "0...10...20...30...40...50...60...70...80...90...100 - done.\n",
      "WRF-20210917.grb2\n"
     ]
    },
    {
     "name": "stderr",
     "output_type": "stream",
     "text": [
      "Warning 1: Several drivers matching nc extension. Using NETCDF\n",
      "Warning 1: Several drivers matching nc extension. Using NETCDF\n"
     ]
    },
    {
     "name": "stdout",
     "output_type": "stream",
     "text": [
      "Input file size is 480, 400\n",
      "0...10...20...30...40...50...60...70...80...90...100 - done.\n",
      "WRF-20211118.grb2\n",
      "Input file size is 480, 400\n",
      "0...10...20.."
     ]
    },
    {
     "name": "stderr",
     "output_type": "stream",
     "text": [
      "Warning 1: Several drivers matching nc extension. Using NETCDF\n",
      "Warning 1: Several drivers matching nc extension. Using NETCDF\n"
     ]
    },
    {
     "name": "stdout",
     "output_type": "stream",
     "text": [
      ".30...40...50...60...70...80...90...100 - done.\n",
      "WRF-20210622.grb2\n"
     ]
    },
    {
     "name": "stderr",
     "output_type": "stream",
     "text": [
      "Warning 1: Several drivers matching nc extension. Using NETCDF\n",
      "Warning 1: Several drivers matching nc extension. Using NETCDF\n"
     ]
    },
    {
     "name": "stdout",
     "output_type": "stream",
     "text": [
      "Input file size is 480, 400\n",
      "0...10...20...30...40...50...60...70...80...90...100 - done.\n",
      "WRF-20211221.grb2\n"
     ]
    },
    {
     "name": "stderr",
     "output_type": "stream",
     "text": [
      "Warning 1: Several drivers matching nc extension. Using NETCDF\n",
      "Warning 1: Several drivers matching nc extension. Using NETCDF\n"
     ]
    },
    {
     "name": "stdout",
     "output_type": "stream",
     "text": [
      "Input file size is 480, 400\n",
      "0...10...20...30...40...50...60...70...80...90...100 - done.\n"
     ]
    }
   ],
   "source": [
    "for file in os.listdir(abs_path):\n",
    "    if file.endswith('grb2') and file.split('.')[0]+'.nc' not in os.listdir(res_path):\n",
    "        print(file)\n",
    "        command = 'gdal_translate {} {}'.format(os.path.join(abs_path,file),os.path.join(res_path,file.split('.')[0]+'.nc')) \n",
    "        os.system(command)"
   ]
  },
  {
   "cell_type": "code",
   "execution_count": 12,
   "id": "bd581d95",
   "metadata": {},
   "outputs": [],
   "source": [
    "list_of_files = [i for i in os.listdir(res_path) if i.endswith('nc')]"
   ]
  },
  {
   "cell_type": "code",
   "execution_count": 13,
   "id": "beff4f69",
   "metadata": {
    "collapsed": true
   },
   "outputs": [
    {
     "data": {
      "text/plain": [
       "['WRF-20220313.nc',\n",
       " 'WRF-20211014.nc',\n",
       " 'WRF-20220401.nc',\n",
       " 'WRF-20200719.nc',\n",
       " 'WRF-20211101.nc',\n",
       " 'WRF-20220828.nc',\n",
       " 'WRF-20220801.nc',\n",
       " 'WRF-20220831.nc',\n",
       " 'WRF-20220913.nc',\n",
       " 'WRF-20220610.nc',\n",
       " 'WRF-20220221.nc',\n",
       " 'WRF-20220306.nc',\n",
       " 'WRF-20210728.nc',\n",
       " 'WRF-20211224.nc',\n",
       " 'WRF-20200705.nc',\n",
       " 'WRF-20220215.nc',\n",
       " 'WRF-20220129.nc',\n",
       " 'WRF-20210725.nc',\n",
       " 'WRF-20211221.nc',\n",
       " 'WRF-20211027.nc',\n",
       " 'WRF-20220325.nc',\n",
       " 'WRF-20210708.nc',\n",
       " 'WRF-20220712.nc',\n",
       " 'WRF-20220626.nc',\n",
       " 'WRF-20220106.nc',\n",
       " 'WRF-20220409.nc',\n",
       " 'WRF-20220624.nc',\n",
       " 'WRF-20220309.nc',\n",
       " 'WRF-20220810.nc',\n",
       " 'WRF-20200721.nc',\n",
       " 'WRF-20210830.nc',\n",
       " 'WRF-20220807.nc',\n",
       " 'WRF-20220116.nc',\n",
       " 'WRF-20210827.nc',\n",
       " 'WRF-20220111.nc',\n",
       " 'WRF-20220511.nc',\n",
       " 'WRF-20220728.nc',\n",
       " 'WRF-20200801.nc',\n",
       " 'WRF-20200826.nc',\n",
       " 'WRF-20200804.nc',\n",
       " 'WRF-20200903.nc',\n",
       " 'WRF-20220513.nc',\n",
       " 'WRF-20220220.nc',\n",
       " 'WRF-20220421.nc',\n",
       " 'WRF-20210807.nc',\n",
       " 'WRF-20220303.nc',\n",
       " 'WRF-20200805.nc',\n",
       " 'WRF-20220901.nc',\n",
       " 'WRF-20200820.nc',\n",
       " 'WRF-20210922.nc',\n",
       " 'WRF-20220917.nc',\n",
       " 'WRF-20221010.nc',\n",
       " 'WRF-20220225.nc',\n",
       " 'WRF-20220921.nc',\n",
       " 'WRF-20211023.nc',\n",
       " 'WRF-20220301.nc',\n",
       " 'WRF-20220920.nc',\n",
       " 'WRF-20210723.nc',\n",
       " 'WRF-20220509.nc',\n",
       " 'WRF-20221009.nc',\n",
       " 'WRF-20220806.nc',\n",
       " 'WRF-20220130.nc',\n",
       " 'WRF-20210623.nc',\n",
       " 'WRF-20200902.nc',\n",
       " 'WRF-20220809.nc',\n",
       " 'WRF-20211013.nc',\n",
       " 'WRF-20211024.nc',\n",
       " 'WRF-20220227.nc',\n",
       " 'WRF-20211122.nc',\n",
       " 'WRF-20220805.nc',\n",
       " 'WRF-20210520.nc',\n",
       " 'WRF-20220929.nc',\n",
       " 'WRF-20220811.nc',\n",
       " 'WRF-20220402.nc',\n",
       " 'WRF-20220304.nc',\n",
       " 'WRF-20220417.nc',\n",
       " 'WRF-20221006.nc',\n",
       " 'WRF-20220203.nc',\n",
       " 'WRF-20220307.nc',\n",
       " 'WRF-20220223.nc',\n",
       " 'WRF-20220305.nc',\n",
       " 'WRF-20210702.nc',\n",
       " 'WRF-20220720.nc',\n",
       " 'WRF-20220706.nc',\n",
       " 'WRF-20200710.nc',\n",
       " 'WRF-20220127.nc',\n",
       " 'WRF-20220903.nc',\n",
       " 'WRF-20210825.nc',\n",
       " 'WRF-20210712.nc',\n",
       " 'WRF-20220721.nc',\n",
       " 'WRF-20220615.nc',\n",
       " 'WRF-20211105.nc',\n",
       " 'WRF-20210624.nc',\n",
       " 'WRF-20220521.nc',\n",
       " 'WRF-20200905.nc',\n",
       " 'WRF-20220724.nc',\n",
       " 'WRF-20220426.nc',\n",
       " 'WRF-20220714.nc',\n",
       " 'WRF-20220601.nc',\n",
       " 'WRF-20220326.nc',\n",
       " 'WRF-20200908.nc',\n",
       " 'WRF-20210925.nc',\n",
       " 'WRF-20210724.nc',\n",
       " 'WRF-20210731.nc',\n",
       " 'WRF-20220224.nc',\n",
       " 'WRF-20220926.nc',\n",
       " 'WRF-20211019.nc',\n",
       " 'WRF-20210819.nc',\n",
       " 'WRF-20211113.nc',\n",
       " 'WRF-20210613.nc',\n",
       " 'WRF-20220505.nc',\n",
       " 'WRF-20210815.nc',\n",
       " 'WRF-20210522.nc',\n",
       " 'WRF-20200725.nc',\n",
       " 'WRF-20220216.nc',\n",
       " 'WRF-20220213.nc',\n",
       " 'WRF-20220408.nc',\n",
       " 'WRF-20220713.nc',\n",
       " 'WRF-20220704.nc',\n",
       " 'WRF-20220119.nc',\n",
       " 'WRF-20220210.nc',\n",
       " 'WRF-20200731.nc',\n",
       " 'WRF-20220126.nc',\n",
       " 'WRF-20220912.nc',\n",
       " 'WRF-20211025.nc',\n",
       " 'WRF-20211207.nc',\n",
       " 'WRF-20200817.nc',\n",
       " 'WRF-20220201.nc',\n",
       " 'WRF-20210918.nc',\n",
       " 'WRF-20220902.nc',\n",
       " 'WRF-20220820.nc',\n",
       " 'WRF-20220703.nc',\n",
       " 'WRF-20200729.nc',\n",
       " 'WRF-20220414.nc',\n",
       " 'WRF-20220623.nc',\n",
       " 'WRF-20220819.nc',\n",
       " 'WRF-20200813.nc',\n",
       " 'WRF-20220804.nc',\n",
       " 'WRF-20220226.nc',\n",
       " 'WRF-20220222.nc',\n",
       " 'WRF-20220522.nc',\n",
       " 'WRF-20220925.nc',\n",
       " 'WRF-20220418.nc',\n",
       " 'WRF-20220930.nc',\n",
       " 'WRF-20211017.nc',\n",
       " 'WRF-20210828.nc',\n",
       " 'WRF-20210612.nc',\n",
       " 'WRF-20220507.nc',\n",
       " 'WRF-20220218.nc',\n",
       " 'WRF-20220814.nc',\n",
       " 'WRF-20210812.nc',\n",
       " 'WRF-20220128.nc',\n",
       " 'WRF-20211007.nc',\n",
       " 'WRF-20200802.nc',\n",
       " 'WRF-20210627.nc',\n",
       " 'WRF-20211219.nc',\n",
       " 'WRF-20220919.nc',\n",
       " 'WRF-20220711.nc',\n",
       " 'WRF-20221003.nc',\n",
       " 'WRF-20220816.nc',\n",
       " 'WRF-20220825.nc',\n",
       " 'WRF-20220102.nc',\n",
       " 'WRF-20220818.nc',\n",
       " 'WRF-20220702.nc',\n",
       " 'WRF-20210801.nc',\n",
       " 'WRF-20210526.nc',\n",
       " 'WRF-20211118.nc',\n",
       " 'WRF-20210802.nc',\n",
       " 'WRF-20200702.nc',\n",
       " 'WRF-20220501.nc',\n",
       " 'WRF-20200812.nc',\n",
       " 'WRF-20220915.nc',\n",
       " 'WRF-20220324.nc',\n",
       " 'WRF-20200704.nc',\n",
       " 'WRF-20200726.nc',\n",
       " 'WRF-20220202.nc',\n",
       " 'WRF-20220302.nc',\n",
       " 'WRF-20210704.nc',\n",
       " 'WRF-20220105.nc',\n",
       " 'WRF-20220726.nc',\n",
       " 'WRF-20210530.nc',\n",
       " 'WRF-20200810.nc',\n",
       " 'WRF-20210930.nc',\n",
       " 'WRF-20220731.nc',\n",
       " 'WRF-20211015.nc',\n",
       " 'WRF-20200814.nc',\n",
       " 'WRF-20211119.nc',\n",
       " 'WRF-20220411.nc',\n",
       " 'WRF-20210914.nc',\n",
       " 'WRF-20220504.nc',\n",
       " 'WRF-20210814.nc',\n",
       " 'WRF-20220328.nc',\n",
       " 'WRF-20220207.nc',\n",
       " 'WRF-20200821.nc',\n",
       " 'WRF-20210921.nc',\n",
       " 'WRF-20220212.nc',\n",
       " 'WRF-20220503.nc',\n",
       " 'WRF-20210603.nc',\n",
       " 'WRF-20211102.nc',\n",
       " 'WRF-20220715.nc',\n",
       " 'WRF-20200709.nc',\n",
       " 'WRF-20220308.nc',\n",
       " 'WRF-20220618.nc',\n",
       " 'WRF-20220914.nc',\n",
       " 'WRF-20220104.nc',\n",
       " 'WRF-20220725.nc',\n",
       " 'WRF-20220112.nc',\n",
       " 'WRF-20200703.nc',\n",
       " 'WRF-20220707.nc',\n",
       " 'WRF-20220908.nc',\n",
       " 'WRF-20211230.nc',\n",
       " 'WRF-20210616.nc',\n",
       " 'WRF-20211222.nc',\n",
       " 'WRF-20200723.nc',\n",
       " 'WRF-20210813.nc',\n",
       " 'WRF-20220916.nc',\n",
       " 'WRF-20210806.nc',\n",
       " 'WRF-20220723.nc',\n",
       " 'WRF-20210722.nc',\n",
       " 'WRF-20211228.nc',\n",
       " 'WRF-20211111.nc',\n",
       " 'WRF-20210523.nc',\n",
       " 'WRF-20220107.nc',\n",
       " 'WRF-20220204.nc',\n",
       " 'WRF-20220918.nc',\n",
       " 'WRF-20220429.nc',\n",
       " 'WRF-20200714.nc',\n",
       " 'WRF-20220907.nc',\n",
       " 'WRF-20220813.nc',\n",
       " 'WRF-20220826.nc',\n",
       " 'WRF-20220422.nc',\n",
       " 'WRF-20221002.nc',\n",
       " 'WRF-20220211.nc',\n",
       " 'WRF-20210630.nc',\n",
       " 'WRF-20210524.nc',\n",
       " 'WRF-20220523.nc',\n",
       " 'WRF-20220315.nc',\n",
       " 'WRF-20220827.nc',\n",
       " 'WRF-20220415.nc',\n",
       " 'WRF-20220329.nc',\n",
       " 'WRF-20210707.nc',\n",
       " 'WRF-20220407.nc',\n",
       " 'WRF-20200907.nc',\n",
       " 'WRF-20220829.nc',\n",
       " 'WRF-20210926.nc',\n",
       " 'WRF-20200715.nc',\n",
       " 'WRF-20220327.nc',\n",
       " 'WRF-20220524.nc',\n",
       " 'WRF-20220603.nc',\n",
       " 'WRF-20220821.nc',\n",
       " 'WRF-20211217.nc',\n",
       " 'WRF-20210913.nc',\n",
       " 'WRF-20210518.nc',\n",
       " 'WRF-20221001.nc',\n",
       " 'WRF-20220404.nc',\n",
       " 'WRF-20210927.nc',\n",
       " 'WRF-20220823.nc',\n",
       " 'WRF-20210705.nc',\n",
       " 'WRF-20220527.nc',\n",
       " 'WRF-20220718.nc',\n",
       " 'WRF-20220621.nc',\n",
       " 'WRF-20220310.nc',\n",
       " 'WRF-20210720.nc',\n",
       " 'WRF-20211106.nc',\n",
       " 'WRF-20210917.nc',\n",
       " 'WRF-20200720.nc',\n",
       " 'WRF-20221007.nc',\n",
       " 'WRF-20220526.nc',\n",
       " 'WRF-20220413.nc',\n",
       " 'WRF-20210908.nc',\n",
       " 'WRF-20210804.nc',\n",
       " 'WRF-20220108.nc',\n",
       " 'WRF-20220420.nc',\n",
       " 'WRF-20220316.nc',\n",
       " 'WRF-20220228.nc',\n",
       " 'WRF-20210811.nc',\n",
       " 'WRF-20220508.nc',\n",
       " 'WRF-20210730.nc',\n",
       " 'WRF-20220124.nc',\n",
       " 'WRF-20210928.nc',\n",
       " 'WRF-20220614.nc',\n",
       " 'WRF-20210625.nc',\n",
       " 'WRF-20220604.nc',\n",
       " 'WRF-20220822.nc',\n",
       " 'WRF-20210817.nc',\n",
       " 'WRF-20220611.nc',\n",
       " 'WRF-20220512.nc',\n",
       " 'WRF-20220123.nc',\n",
       " 'WRF-20211010.nc',\n",
       " 'WRF-20210527.nc',\n",
       " 'WRF-20220312.nc',\n",
       " 'WRF-20220515.nc',\n",
       " 'WRF-20211212.nc',\n",
       " 'WRF-20220529.nc',\n",
       " 'WRF-20211018.nc',\n",
       " 'WRF-20220802.nc',\n",
       " 'WRF-20210727.nc',\n",
       " 'WRF-20220109.nc',\n",
       " 'WRF-20220617.nc',\n",
       " 'WRF-20220214.nc',\n",
       " 'WRF-20220120.nc',\n",
       " 'WRF-20220122.nc',\n",
       " 'WRF-20220115.nc',\n",
       " 'WRF-20220531.nc',\n",
       " 'WRF-20220905.nc',\n",
       " 'WRF-20210604.nc',\n",
       " 'WRF-20220717.nc',\n",
       " 'WRF-20211011.nc',\n",
       " 'WRF-20220103.nc',\n",
       " 'WRF-20220320.nc',\n",
       " 'WRF-20210915.nc',\n",
       " 'WRF-20210601.nc',\n",
       " 'WRF-20220311.nc',\n",
       " 'WRF-20220502.nc',\n",
       " 'WRF-20210703.nc',\n",
       " 'WRF-20220110.nc',\n",
       " 'WRF-20210711.nc',\n",
       " 'WRF-20220616.nc',\n",
       " 'WRF-20211022.nc',\n",
       " 'WRF-20211227.nc',\n",
       " 'WRF-20210810.nc',\n",
       " 'WRF-20210820.nc',\n",
       " 'WRF-20220209.nc',\n",
       " 'WRF-20211121.nc',\n",
       " 'WRF-20211203.nc',\n",
       " 'WRF-20211208.nc',\n",
       " 'WRF-20211001.nc',\n",
       " 'WRF-20200807.nc',\n",
       " 'WRF-20220518.nc',\n",
       " 'WRF-20200717.nc',\n",
       " 'WRF-20220701.nc',\n",
       " 'WRF-20211226.nc',\n",
       " 'WRF-20220206.nc',\n",
       " 'WRF-20220322.nc',\n",
       " 'WRF-20220608.nc',\n",
       " 'WRF-20211202.nc',\n",
       " 'WRF-20211028.nc',\n",
       " 'WRF-20211005.nc',\n",
       " 'WRF-20220607.nc',\n",
       " 'WRF-20220525.nc',\n",
       " 'WRF-20210525.nc',\n",
       " 'WRF-20211020.nc',\n",
       " 'WRF-20220906.nc',\n",
       " 'WRF-20220510.nc',\n",
       " 'WRF-20220830.nc',\n",
       " 'WRF-20220619.nc',\n",
       " 'WRF-20211030.nc',\n",
       " 'WRF-20220403.nc',\n",
       " 'WRF-20220425.nc',\n",
       " 'WRF-20220318.nc',\n",
       " 'WRF-20220609.nc',\n",
       " 'WRF-20210816.nc',\n",
       " 'WRF-20220722.nc',\n",
       " 'WRF-20210521.nc',\n",
       " 'WRF-20211204.nc',\n",
       " 'WRF-20200707.nc',\n",
       " 'WRF-20211218.nc',\n",
       " 'WRF-20220427.nc',\n",
       " 'WRF-20210920.nc',\n",
       " 'WRF-20220114.nc',\n",
       " 'WRF-20211211.nc',\n",
       " 'WRF-20221008.nc',\n",
       " 'WRF-20220817.nc',\n",
       " 'WRF-20220217.nc',\n",
       " 'WRF-20220729.nc',\n",
       " 'WRF-20211117.nc',\n",
       " 'WRF-20210909.nc',\n",
       " 'WRF-20210717.nc',\n",
       " 'WRF-20211114.nc',\n",
       " 'WRF-20220528.nc',\n",
       " 'WRF-20210714.nc',\n",
       " 'WRF-20211108.nc',\n",
       " 'WRF-20220219.nc',\n",
       " 'WRF-20220909.nc',\n",
       " 'WRF-20220620.nc',\n",
       " 'WRF-20211126.nc',\n",
       " 'WRF-20220519.nc',\n",
       " 'WRF-20220629.nc',\n",
       " 'WRF-20220131.nc',\n",
       " 'WRF-20200808.nc',\n",
       " 'WRF-20210622.nc',\n",
       " 'WRF-20220812.nc',\n",
       " 'WRF-20200724.nc',\n",
       " 'WRF-20220928.nc',\n",
       " 'WRF-20220118.nc',\n",
       " 'WRF-20211231.nc',\n",
       " 'WRF-20220904.nc',\n",
       " 'WRF-20211223.nc',\n",
       " 'WRF-20220716.nc',\n",
       " 'WRF-20221005.nc',\n",
       " 'WRF-20220514.nc',\n",
       " 'WRF-20220622.nc',\n",
       " 'WRF-20220506.nc',\n",
       " 'WRF-20220530.nc',\n",
       " 'WRF-20220927.nc',\n",
       " 'WRF-20200712.nc',\n",
       " 'WRF-20211220.nc',\n",
       " 'WRF-20220317.nc',\n",
       " 'WRF-20211206.nc',\n",
       " 'WRF-20211124.nc',\n",
       " 'WRF-20220613.nc',\n",
       " 'WRF-20220319.nc',\n",
       " 'WRF-20200904.nc',\n",
       " 'WRF-20220602.nc',\n",
       " 'WRF-20220117.nc',\n",
       " 'WRF-20220113.nc',\n",
       " 'WRF-20220705.nc',\n",
       " 'WRF-20220630.nc',\n",
       " 'WRF-20211029.nc',\n",
       " 'WRF-20211104.nc',\n",
       " 'WRF-20220924.nc',\n",
       " 'WRF-20210713.nc',\n",
       " 'WRF-20220323.nc',\n",
       " 'WRF-20220516.nc',\n",
       " 'WRF-20220808.nc',\n",
       " 'WRF-20220405.nc',\n",
       " 'WRF-20220612.nc',\n",
       " 'WRF-20210923.nc',\n",
       " 'WRF-20220923.nc',\n",
       " 'WRF-20220424.nc',\n",
       " 'WRF-20220520.nc',\n",
       " 'WRF-20220125.nc',\n",
       " 'WRF-20220423.nc',\n",
       " 'WRF-20220208.nc',\n",
       " 'WRF-20220121.nc',\n",
       " 'WRF-20220730.nc',\n",
       " 'WRF-20220606.nc',\n",
       " 'WRF-20220922.nc',\n",
       " 'WRF-20220412.nc',\n",
       " 'WRF-20221004.nc',\n",
       " 'WRF-20220910.nc',\n",
       " 'WRF-20211021.nc',\n",
       " 'WRF-20200722.nc',\n",
       " 'WRF-20220627.nc',\n",
       " 'WRF-20211006.nc',\n",
       " 'WRF-20211225.nc',\n",
       " 'WRF-20210822.nc',\n",
       " 'WRF-20200906.nc',\n",
       " 'WRF-20210529.nc',\n",
       " 'WRF-20211003.nc',\n",
       " 'WRF-20221011.nc',\n",
       " 'WRF-20211128.nc',\n",
       " 'WRF-20211008.nc',\n",
       " 'WRF-20210831.nc',\n",
       " 'WRF-20210519.nc',\n",
       " 'WRF-20220605.nc',\n",
       " 'WRF-20220815.nc',\n",
       " 'WRF-20210912.nc',\n",
       " 'WRF-20210726.nc',\n",
       " 'WRF-20220628.nc',\n",
       " 'WRF-20220824.nc',\n",
       " 'WRF-20220428.nc',\n",
       " 'WRF-20220911.nc',\n",
       " 'WRF-20220331.nc',\n",
       " 'WRF-20210629.nc',\n",
       " 'WRF-20200822.nc',\n",
       " 'WRF-20220517.nc',\n",
       " 'WRF-20220803.nc',\n",
       " 'WRF-20200815.nc',\n",
       " 'WRF-20210808.nc',\n",
       " 'WRF-20210809.nc',\n",
       " 'WRF-20210628.nc',\n",
       " 'WRF-20210824.nc',\n",
       " 'WRF-20211115.nc',\n",
       " 'WRF-20220406.nc',\n",
       " 'WRF-20210617.nc',\n",
       " 'WRF-20220727.nc',\n",
       " 'WRF-20210715.nc',\n",
       " 'WRF-20200823.nc',\n",
       " 'WRF-20220719.nc',\n",
       " 'WRF-20210621.nc',\n",
       " 'WRF-20210528.nc',\n",
       " 'WRF-20220416.nc',\n",
       " 'WRF-20210821.nc',\n",
       " 'WRF-20210924.nc',\n",
       " 'WRF-20220430.nc',\n",
       " 'WRF-20210904.nc',\n",
       " 'WRF-20220205.nc',\n",
       " 'WRF-20220314.nc',\n",
       " 'WRF-20210907.nc',\n",
       " 'WRF-20210620.nc',\n",
       " 'WRF-20210701.nc',\n",
       " 'WRF-20211129.nc',\n",
       " 'WRF-20210729.nc',\n",
       " 'WRF-20220321.nc',\n",
       " 'WRF-20220410.nc']"
      ]
     },
     "execution_count": 13,
     "metadata": {},
     "output_type": "execute_result"
    }
   ],
   "source": [
    "list_of_files"
   ]
  },
  {
   "cell_type": "code",
   "execution_count": 19,
   "id": "f7c1beaf",
   "metadata": {},
   "outputs": [],
   "source": [
    "def make_concated(file,variable='u-component of wind [m/s]',band_name='u10'):\n",
    "    ds = xr.open_dataset(os.path.join(res_path,file))\n",
    "    selected_vars = ds[[var for var in ds.data_vars if ds[var].attrs.get('GRIB_COMMENT') == variable]]\n",
    "    time_dict = {}\n",
    "    for band in selected_vars.data_vars:\n",
    "        try:\n",
    "            long_time = int(selected_vars[band].GRIB_VALID_TIME)\n",
    "        except:\n",
    "            long_time = int(ds[band].GRIB_VALID_TIME.split('s')[0])\n",
    "        dt_object = datetime.datetime.fromtimestamp(long_time)\n",
    "        time_dict[band] = dt_object\n",
    "    new_variable = xr.concat([selected_vars[var_name] for var_name in selected_vars.data_vars], dim=list(time_dict.values()))\n",
    "    new_variable = new_variable.rename({'concat_dim':'time'})\n",
    "    dataset = new_variable.to_dataset()\n",
    "    dataset = dataset.rename({list(dataset.data_vars)[0]:band_name})\n",
    "    dataset = dataset.sortby('time')\n",
    "    dataset = dataset.isel(time=slice(10,34))\n",
    "    return(dataset)"
   ]
  },
  {
   "cell_type": "code",
   "execution_count": 20,
   "id": "d2dbd724",
   "metadata": {},
   "outputs": [],
   "source": [
    "def majority(x):\n",
    "    counts = np.array(np.unique(x, return_counts=True)).T\n",
    "    return np.bincount(x).argmax() #για να επιστρέφει από τα counts το μέγιστο\n",
    "def dom_vel(x):\n",
    "    return max(x)"
   ]
  },
  {
   "cell_type": "code",
   "execution_count": 21,
   "id": "0c0f52bc",
   "metadata": {},
   "outputs": [],
   "source": [
    "def make_wind(ds):\n",
    "    ds['wind'] = np.sqrt(ds.u10**2+ds.v10**2)\n",
    "    #Κατεύθυνση ανέμου\n",
    "    ds['dir'] = 180 + (180 / pi) * np.arctan2(ds.u10, ds.v10)\n",
    "    ds['dir_cat'] = (ds.dir>0).astype(int) + (ds.dir>22.5).astype(int) + (ds.dir>67.5).astype(int) + \\\n",
    "    (ds.dir>112.5).astype(int) + (ds.dir>157.5).astype(int) + \\\n",
    "    (ds.dir>202.5).astype(int) + (ds.dir>247.5).astype(int) + \\\n",
    "    (ds.dir>292.5).astype(int) - 7*(ds.dir>337.5).astype(int)\n",
    "    ds['dom_dir'] = xr.DataArray(np.apply_along_axis(majority,0,ds.dir_cat),dims=['lat','lon'])\n",
    "    ds['masked_velocity'] = ds.wind.where(ds.dir_cat==ds.dom_dir , drop=False)\n",
    "    ds['dom_vel'] = ds['masked_velocity'].max(dim='time')\n",
    "    ds['res_max'] = ds['wind'].max(dim='time')\n",
    "    ds['dir_max'] = ds.dir_cat.where(ds.wind==ds.res_max,drop=False).max(dim='time')\n",
    "    ds = ds[['dom_dir','dom_vel','res_max','dir_max']]\n",
    "    return ds"
   ]
  },
  {
   "cell_type": "code",
   "execution_count": 30,
   "id": "fe263dff",
   "metadata": {},
   "outputs": [],
   "source": [
    "for i, file in enumerate(list_of_files):\n",
    "    date = file.split('-')[1].split('.')[0]\n",
    "    if date+'.nc' not in os.listdir('/home/sg/Projects/perifereia/p4/wind'):\n",
    "        dataset_u = make_concated(file)\n",
    "        dataset_v = make_concated(file,variable='v-component of wind [m/s]',band_name='v10')\n",
    "        merged = xr.merge([dataset_u,dataset_v])\n",
    "        ds = make_wind(merged)\n",
    "        ds = ds.assign_coords({\"time\": date})\n",
    "        ds = ds.expand_dims('time')\n",
    "        ds.to_netcdf('wind/'+date+'.nc')\n",
    "    else:\n",
    "        continue"
   ]
  },
  {
   "cell_type": "code",
   "execution_count": 92,
   "id": "3f012ab5",
   "metadata": {},
   "outputs": [],
   "source": [
    "ds = ds.expand_dims('time')"
   ]
  },
  {
   "cell_type": "markdown",
   "id": "57c084e9",
   "metadata": {},
   "source": [
    "# Combine with rest of meteo"
   ]
  },
  {
   "cell_type": "code",
   "execution_count": 3,
   "id": "22bd8f6b",
   "metadata": {},
   "outputs": [],
   "source": [
    "def concat_files(path1, path2):\n",
    "    # Get list of files in path1\n",
    "    files1 = os.listdir(path1)\n",
    "\n",
    "    # Get list of files in path2\n",
    "    files2 = os.listdir(path2)\n",
    "\n",
    "    # Loop through files in path1\n",
    "    for file1 in files1:\n",
    "        # Extract date from filename\n",
    "        date = file1.split('_')[0]\n",
    "\n",
    "        # Check if there are corresponding files in path2 with the same date\n",
    "        matching_files2 = [file2 for file2 in files2 if file2.startswith(date)]\n",
    "        #print(matching_files2)\n",
    "\n",
    "        if matching_files2:\n",
    "            # Concatenate files with the same date\n",
    "            data1 = xr.open_dataset(os.path.join(path1, file1))\n",
    "            datasets2 = [xr.open_dataset(os.path.join(path2, file2)) for file2 in matching_files2]\n",
    "            concatenated_data2 = xr.concat(datasets2, dim='time')\n",
    "\n",
    "            # Save concatenated file\n",
    "            output_filename = f\"{date}_combined.nc\"\n",
    "            output_path = os.path.join('/home/sg/Projects/perifereia/p4/gewap', output_filename)\n",
    "            concatenated_data2.to_netcdf(output_path)\n",
    "            #print(f\"Saved concatenated file: {output_path}\")\n",
    "\n",
    "            # Close datasets\n",
    "            data1.close()\n",
    "            for dataset2 in datasets2:\n",
    "                dataset2.close()"
   ]
  },
  {
   "cell_type": "code",
   "execution_count": 4,
   "id": "c33cef0a",
   "metadata": {},
   "outputs": [],
   "source": [
    "# Provide the paths to the directories\n",
    "path1 = '/home/sg/Projects/perifereia/p4/meteo_nc'\n",
    "path2 = '/home/sg/Projects/perifereia/p4/wind'\n",
    "\n",
    "# Call the function to concatenate and save the files\n",
    "concat_files(path1, path2)"
   ]
  },
  {
   "cell_type": "code",
   "execution_count": null,
   "id": "b3f22441",
   "metadata": {},
   "outputs": [],
   "source": []
  },
  {
   "cell_type": "code",
   "execution_count": null,
   "id": "39d57bff",
   "metadata": {},
   "outputs": [],
   "source": []
  }
 ],
 "metadata": {
  "kernelspec": {
   "display_name": "fire_ffp",
   "language": "python",
   "name": "fire_ffp"
  },
  "language_info": {
   "codemirror_mode": {
    "name": "ipython",
    "version": 3
   },
   "file_extension": ".py",
   "mimetype": "text/x-python",
   "name": "python",
   "nbconvert_exporter": "python",
   "pygments_lexer": "ipython3",
   "version": "3.9.16"
  }
 },
 "nbformat": 4,
 "nbformat_minor": 5
}
