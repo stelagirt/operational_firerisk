{
 "cells": [
  {
   "cell_type": "code",
   "execution_count": null,
   "id": "32041b97",
   "metadata": {},
   "outputs": [],
   "source": [
    "import pandas as pd\n",
    "import geopandas as gpd\n",
    "import netCDF4 as nc\n",
    "from scipy.io import netcdf\n",
    "import numpy as np\n",
    "import matplotlib\n",
    "import matplotlib.pyplot as plt\n",
    "import xarray as xr\n",
    "import os\n",
    "from math import pi\n",
    "import datetime\n",
    "import rioxarray\n",
    "from shapely.geometry import mapping\n",
    "from shapely.geometry import Point\n",
    "import rasterio"
   ]
  },
  {
   "cell_type": "markdown",
   "id": "2fe27e2a",
   "metadata": {},
   "source": [
    "## Explore data\n",
    "#### Data are predicted. For each file I select the 24steps with the next date. There are 24 images with size 400*480."
   ]
  },
  {
   "cell_type": "code",
   "execution_count": null,
   "id": "6d4a3f2c",
   "metadata": {},
   "outputs": [],
   "source": [
    "test1 = xr.open_dataset('C:\\\\Users\\\\User\\\\Documents\\\\Projects_2022\\\\Perifereia_Attikis_2021_2024\\\\Phase4\\\\Hazard\\\\meteo\\\\WRF-20220601.grb2', engine='cfgrib')\n",
    "test2 = test1.isel(step= slice(12,36))\n",
    "test2\n",
    "#test2 = test1.sel(step='name of value') e.g. test2 = test1.sel(time='2022-05-27T12:00:00.000000000')"
   ]
  },
  {
   "cell_type": "code",
   "execution_count": null,
   "id": "879183df",
   "metadata": {},
   "outputs": [],
   "source": [
    "test2.time.values"
   ]
  },
  {
   "cell_type": "markdown",
   "id": "970215c1",
   "metadata": {},
   "source": [
    "#### Select the temperature values."
   ]
  },
  {
   "cell_type": "code",
   "execution_count": null,
   "id": "5d053d9b",
   "metadata": {},
   "outputs": [],
   "source": [
    "test2.t2m.values \n",
    "#or \n",
    "#test2.t2m.values[:,:,:] #[step, latitude, longitude]"
   ]
  },
  {
   "cell_type": "markdown",
   "id": "69cc411a",
   "metadata": {},
   "source": [
    "#### Select the first step (step=0) for every pixel (lat, lon= :,:)."
   ]
  },
  {
   "cell_type": "code",
   "execution_count": null,
   "id": "bdf56e7e",
   "metadata": {},
   "outputs": [],
   "source": [
    "test2.t2m.values[0,:,:]"
   ]
  },
  {
   "cell_type": "markdown",
   "id": "2d62075b",
   "metadata": {},
   "source": [
    "#### Select the first step (step=0) for the pixels with lat 0 and all lon. It is the first row of the previous array.\n"
   ]
  },
  {
   "cell_type": "code",
   "execution_count": null,
   "id": "3884b167",
   "metadata": {},
   "outputs": [],
   "source": [
    "test.max_temp.values.shape"
   ]
  },
  {
   "cell_type": "code",
   "execution_count": null,
   "id": "dd67f372",
   "metadata": {},
   "outputs": [],
   "source": [
    "test2.t2m.values[0,0,:]"
   ]
  },
  {
   "cell_type": "markdown",
   "id": "c140c0ed",
   "metadata": {},
   "source": [
    "#### Select the first step (step=0) for the pixels with all lat and lon 0. It is the first column of the pre-previous array or else the first value of each line."
   ]
  },
  {
   "cell_type": "code",
   "execution_count": null,
   "id": "62f86df8",
   "metadata": {},
   "outputs": [],
   "source": [
    "test2.t2m.values[0,:,0]"
   ]
  },
  {
   "cell_type": "markdown",
   "id": "8bc0db0f",
   "metadata": {},
   "source": [
    "#### Select the first step (step=0) for one pixel (lat=0,lon=0)."
   ]
  },
  {
   "cell_type": "code",
   "execution_count": null,
   "id": "e1755247",
   "metadata": {},
   "outputs": [],
   "source": [
    "test2.t2m.values[0,0,0]\n",
    "#test2.t2m.values[1,0,300]"
   ]
  },
  {
   "cell_type": "markdown",
   "id": "1871008a",
   "metadata": {},
   "source": [
    "#### Select for all the steps (24 images) for one pixel (lat=390,lon=479). There are 24 values in the array."
   ]
  },
  {
   "cell_type": "code",
   "execution_count": null,
   "id": "d5ea13b5",
   "metadata": {},
   "outputs": [],
   "source": [
    "test2.t2m.values[:,390,479]"
   ]
  },
  {
   "cell_type": "markdown",
   "id": "b77a5e56",
   "metadata": {},
   "source": [
    "#### Select the max from the previous array, meaning the max temperature in a day for one pixel."
   ]
  },
  {
   "cell_type": "code",
   "execution_count": null,
   "id": "1b83172d",
   "metadata": {},
   "outputs": [],
   "source": [
    "test2.t2m.values[:,390,479].max()"
   ]
  },
  {
   "cell_type": "code",
   "execution_count": null,
   "id": "3e901a4d",
   "metadata": {},
   "outputs": [],
   "source": [
    "test2.t2m.values[0,390,479] #Temperature in one pixel for T00:00:00"
   ]
  },
  {
   "cell_type": "markdown",
   "id": "4ce0d584",
   "metadata": {},
   "source": [
    "#### Calculate the max temperature for every step."
   ]
  },
  {
   "cell_type": "code",
   "execution_count": null,
   "id": "752ecab3",
   "metadata": {},
   "outputs": [],
   "source": [
    "test3['max_temp']=test2.t2m.max(dim='step')\n",
    "test3"
   ]
  },
  {
   "cell_type": "code",
   "execution_count": null,
   "id": "25430380",
   "metadata": {},
   "outputs": [],
   "source": [
    "test3.max_temp.values"
   ]
  },
  {
   "cell_type": "markdown",
   "id": "42b003c1",
   "metadata": {},
   "source": [
    "#### Show the max temperature for every step for one pixel. There is no step in max_temp, only (lat, lon)."
   ]
  },
  {
   "cell_type": "code",
   "execution_count": null,
   "id": "8086242b",
   "metadata": {},
   "outputs": [],
   "source": [
    "test3.max_temp.values[390,479] "
   ]
  },
  {
   "cell_type": "code",
   "execution_count": null,
   "id": "c7f04b8e",
   "metadata": {},
   "outputs": [],
   "source": [
    "test3.max_temp.values[:,479]"
   ]
  },
  {
   "cell_type": "markdown",
   "id": "a72889e1",
   "metadata": {},
   "source": [
    "#### Check data -> As a result the max temperature in a day for each pixel is extracted."
   ]
  },
  {
   "cell_type": "code",
   "execution_count": null,
   "id": "5597663d",
   "metadata": {},
   "outputs": [],
   "source": [
    "test2.t2m.values[:,390,479].max()"
   ]
  },
  {
   "cell_type": "code",
   "execution_count": null,
   "id": "01f14f7f",
   "metadata": {},
   "outputs": [],
   "source": [
    "test3.max_temp.values[390,479]"
   ]
  },
  {
   "cell_type": "code",
   "execution_count": null,
   "id": "b5f959fb",
   "metadata": {},
   "outputs": [],
   "source": [
    "test1.close()"
   ]
  },
  {
   "cell_type": "markdown",
   "id": "c82acf73",
   "metadata": {},
   "source": [
    "## Processing for all the files/dates. - Convert hourly to daily."
   ]
  },
  {
   "cell_type": "code",
   "execution_count": null,
   "id": "f396b985",
   "metadata": {},
   "outputs": [],
   "source": [
    "mypath = '/home/sg/Projects/perifereia/p4/wind'"
   ]
  },
  {
   "cell_type": "code",
   "execution_count": null,
   "id": "eacd1995",
   "metadata": {},
   "outputs": [],
   "source": [
    "#Check if a file/date is missing\n",
    "from os.path import exists\n",
    "for date in datalist:\n",
    "    print(date)\n",
    "    file_exists = exists(os.path.join(mypath,'WRF-'+date+'.grb2'))\n",
    "    if file_exists:\n",
    "        print (True)\n",
    "    else:\n",
    "        print ('The file for ' +date+ ' does not exist')"
   ]
  },
  {
   "cell_type": "code",
   "execution_count": null,
   "id": "108c476c",
   "metadata": {},
   "outputs": [],
   "source": [
    "#Dates we want\n",
    "start = datetime.datetime.strptime(\"20220527\", \"%Y%m%d\")\n",
    "end = datetime.datetime.strptime(\"20220930\", \"%Y%m%d\")\n",
    "date_generated = pd.date_range(start, end)\n",
    "datelist = date_generated.strftime(\"%Y%m%d\")\n",
    "datelist"
   ]
  },
  {
   "cell_type": "code",
   "execution_count": null,
   "id": "56282940",
   "metadata": {},
   "outputs": [],
   "source": [
    "#Or else use that\n",
    "datetime_series = pd.Series(pd.date_range(\"2022-05-27\", periods=127, freq=\"D\"))\n",
    "datetime_series"
   ]
  },
  {
   "cell_type": "code",
   "execution_count": null,
   "id": "31b7ab83",
   "metadata": {},
   "outputs": [],
   "source": [
    "file_list = [i for i in os.listdir('/home/sg/Projects/perifereia/p4/raw_data') if i.endswith('2')]"
   ]
  },
  {
   "cell_type": "code",
   "execution_count": null,
   "id": "017284fb",
   "metadata": {},
   "outputs": [],
   "source": [
    "meteo = xr.open_dataset(os.path.join('/home/sg/Projects/perifereia/p4/raw_data',file_list[0]), engine = 'cfgrib')"
   ]
  },
  {
   "cell_type": "code",
   "execution_count": null,
   "id": "a88ff09f",
   "metadata": {},
   "outputs": [],
   "source": [
    "meteo"
   ]
  },
  {
   "cell_type": "code",
   "execution_count": null,
   "id": "1b0c8add",
   "metadata": {},
   "outputs": [],
   "source": [
    "os.chdir('/home/sg/Projects/perifereia/p4/raw_data')"
   ]
  },
  {
   "cell_type": "markdown",
   "id": "f0c0f4a7",
   "metadata": {},
   "source": [
    "# for lazaros -- add dew temp"
   ]
  },
  {
   "cell_type": "code",
   "execution_count": null,
   "id": "867894fd",
   "metadata": {},
   "outputs": [],
   "source": [
    "for file in file_list:\n",
    "    #print(date)\n",
    "    #list_of_files = [os.path.join(mypath,'WRF-'+date+'.grb2')]\n",
    "    #print(list_of_files)\n",
    "    #try:\n",
    "    meteo = xr.open_dataset(file, engine = 'cfgrib')\n",
    "    date  = file.split('-')[1].split('.')[0]\n",
    "    meteo_date = meteo.isel(step= slice(12,36))\n",
    "    print('Day selected')\n",
    "    #datetime_series = pd.Series(pd.date_range(\"2022-05-27\", periods=127, freq=\"D\"))\n",
    "    #for time in datetime_series:\n",
    "        #meteo_date = meteo_date.assign_coords({'time':time}) #If there is no time dimension, create one\n",
    "        #print('Time dimension created')\n",
    "    meteo_date['max_temp'] = meteo_date.t2m.max(dim='step')\n",
    "    meteo_date['min_temp'] = meteo_date.t2m.min(dim='step')\n",
    "    meteo_date['mean_temp'] = meteo_date.t2m.mean(dim='step')\n",
    "    meteo_date['tp_daily'] = meteo_date.tp.sum(dim='step')\n",
    "    print('Values calculated')\n",
    "    out = meteo_date[['max_temp','min_temp','mean_temp','tp_daily']]\n",
    "    out = out.assign_coords({\"time\": date})\n",
    "    out = out.expand_dims('time')\n",
    "    out.to_netcdf('/home/sg/Projects/perifereia/p4/meteo_nc/'+date+\"_temp_prec.nc\")\n",
    "    print('File '+date+' saved') #The name of the file saved refers actually to the next day, as they are predicted data.\n",
    "    #except:\n",
    "    #    print('error')"
   ]
  },
  {
   "cell_type": "markdown",
   "id": "52ae97b0",
   "metadata": {},
   "source": [
    "#### For the precipitation parameter we need the sum of total percipitation from the previous 7 days (the amount of water the ground holds prior to a fire incident)"
   ]
  },
  {
   "cell_type": "code",
   "execution_count": null,
   "id": "cc6aa7ab",
   "metadata": {},
   "outputs": [],
   "source": [
    "mypath = '/home/sg/Projects/perifereia/p4/meteo_nc/' #Gets the list of all files and directories in a specified directory. "
   ]
  },
  {
   "cell_type": "code",
   "execution_count": null,
   "id": "cbc0e95e",
   "metadata": {},
   "outputs": [],
   "source": [
    "#Select only the nc files -referring to temperature and precipitation- from a folder\n",
    "list_of_files = [os.path.join(mypath,i) for i in os.listdir(mypath) if i.endswith('_temp_prec.nc')] "
   ]
  },
  {
   "cell_type": "code",
   "execution_count": null,
   "id": "425f6cc9",
   "metadata": {},
   "outputs": [],
   "source": [
    "print(list_of_files)\n",
    "len(list_of_files)"
   ]
  },
  {
   "cell_type": "code",
   "execution_count": null,
   "id": "e5cf8df3",
   "metadata": {},
   "outputs": [],
   "source": [
    "meteo = xr.open_mfdataset(list_of_files,concat_dim='time', combine='nested') \n",
    "#concat_dim='time' --> makes sure that there is a common coordinate to connect files\n",
    "#combine='nested' --> makes sure that the files open one after another and they are all available for processing"
   ]
  },
  {
   "cell_type": "code",
   "execution_count": null,
   "id": "2e8a58f5",
   "metadata": {},
   "outputs": [],
   "source": [
    "#Create a rolling window of size 7 days along the time dimension and sum over it\n",
    "rolling_sum = meteo.tp_daily.rolling(time=7, min_periods=1).sum()\n",
    "#the `min_periods=1` --> ensures that if there are fewer than 7 days of data available for a given date, it will still calculate the rolling sum using the available data."
   ]
  },
  {
   "cell_type": "code",
   "execution_count": null,
   "id": "2e225905",
   "metadata": {},
   "outputs": [],
   "source": [
    "#Assign the rolling sum to a new variable\n",
    "meteo['rain_7days'] = rolling_sum"
   ]
  },
  {
   "cell_type": "code",
   "execution_count": null,
   "id": "b8b3089d",
   "metadata": {},
   "outputs": [],
   "source": [
    "meteo.sel(time=meteo.time.values[0]).expand_dims('time')"
   ]
  },
  {
   "cell_type": "code",
   "execution_count": null,
   "id": "2e114b12",
   "metadata": {},
   "outputs": [],
   "source": [
    "#To save the weekly sum of precipitation for each date\n",
    "for i in meteo.time.values:\n",
    "    print(i)\n",
    "    #meteo = meteo.drop_vars('i') #to delete a coordinate that is not needed\n",
    "    day = meteo.sel(time=i).expand_dims('time')\n",
    "    #out = day[['max_temp','min_temp','mean_temp','tp_daily','rain_7days']]\n",
    "    #print(out)\n",
    "    #time_name = pd.to_datetime(str(i)).strftime('%Y%m%d')\n",
    "    #print(time_name)\n",
    "    out.to_netcdf('/home/sg/Projects/perifereia/p4/meteo_final/'+time_name+\"_temp_7Dprec.nc\")\n",
    "    print('File '+time_name+'with temperature and 7days rain saved')"
   ]
  },
  {
   "cell_type": "code",
   "execution_count": null,
   "id": "3a07c53c",
   "metadata": {},
   "outputs": [],
   "source": [
    "meteo.time.values"
   ]
  },
  {
   "cell_type": "code",
   "execution_count": null,
   "id": "87cdcd01",
   "metadata": {},
   "outputs": [],
   "source": [
    "meteo.rain_7days[0,:,:].values"
   ]
  },
  {
   "cell_type": "code",
   "execution_count": null,
   "id": "f4dd8739",
   "metadata": {},
   "outputs": [],
   "source": [
    "meteo.rain_7days.values"
   ]
  },
  {
   "cell_type": "code",
   "execution_count": null,
   "id": "4694827a",
   "metadata": {},
   "outputs": [],
   "source": [
    "meteo.rain_7days.values.shape"
   ]
  },
  {
   "cell_type": "code",
   "execution_count": null,
   "id": "9ed951a8",
   "metadata": {},
   "outputs": [],
   "source": [
    "meteo.sel(time='2022-06-25T12:00:00.000000000',method='nearest').values\n",
    "#method='nearest' --> there were no initial data for some dates, so this argument brings the date nearest to the selected one"
   ]
  },
  {
   "cell_type": "code",
   "execution_count": null,
   "id": "31c5aa0a",
   "metadata": {},
   "outputs": [],
   "source": [
    "meteo.time.values"
   ]
  },
  {
   "cell_type": "markdown",
   "id": "046f8f61",
   "metadata": {},
   "source": [
    "## Check if data are correct"
   ]
  },
  {
   "cell_type": "code",
   "execution_count": null,
   "id": "69cff9ab",
   "metadata": {},
   "outputs": [],
   "source": [
    "initial = xr.open_dataset('C:\\\\Users\\\\User\\\\Documents\\\\Projects_2022\\\\Perifereia_Attikis_2021_2024\\\\Phase4\\\\Hazard\\\\meteo\\\\WRF-20220602.grb2', engine='cfgrib')\n",
    "first = initial.isel(step= slice(12,36))\n",
    "first"
   ]
  },
  {
   "cell_type": "code",
   "execution_count": null,
   "id": "cacc8830",
   "metadata": {},
   "outputs": [],
   "source": [
    "first.t2m.values[:,390,479]"
   ]
  },
  {
   "cell_type": "code",
   "execution_count": null,
   "id": "d0b395fa",
   "metadata": {},
   "outputs": [],
   "source": [
    "first.t2m.values[:,390,479].max()"
   ]
  },
  {
   "cell_type": "code",
   "execution_count": null,
   "id": "267412e2",
   "metadata": {},
   "outputs": [],
   "source": [
    "first.close()"
   ]
  },
  {
   "cell_type": "code",
   "execution_count": null,
   "id": "b7231afd",
   "metadata": {},
   "outputs": [],
   "source": [
    "check = xr.open_dataset('C:\\\\Users\\\\User\\\\Documents\\\\Projects_2022\\\\Perifereia_Attikis_2021_2024\\\\Phase4\\\\Hazard\\\\meteo\\\\20220602_temp_prec.nc', engine='netcdf4')\n",
    "check"
   ]
  },
  {
   "cell_type": "code",
   "execution_count": null,
   "id": "4d2ab88d",
   "metadata": {},
   "outputs": [],
   "source": [
    "check.max_temp.values[390,479]"
   ]
  },
  {
   "cell_type": "code",
   "execution_count": null,
   "id": "b49464a8",
   "metadata": {},
   "outputs": [],
   "source": [
    "check.close()"
   ]
  },
  {
   "cell_type": "code",
   "execution_count": null,
   "id": "cd78203b",
   "metadata": {},
   "outputs": [],
   "source": [
    "check2 = xr.open_dataset('C:\\\\Users\\\\User\\\\Documents\\\\Projects_2022\\\\Perifereia_Attikis_2021_2024\\\\Phase4\\\\Hazard\\\\meteo\\\\20220602_temp_7Dprec.nc', engine='netcdf4')\n",
    "check2"
   ]
  },
  {
   "cell_type": "code",
   "execution_count": null,
   "id": "98f6113b",
   "metadata": {},
   "outputs": [],
   "source": [
    "check2.time.values"
   ]
  },
  {
   "cell_type": "code",
   "execution_count": null,
   "id": "3318c6d0",
   "metadata": {},
   "outputs": [],
   "source": [
    "check2.rain_7days.values"
   ]
  },
  {
   "cell_type": "code",
   "execution_count": null,
   "id": "0b8219aa",
   "metadata": {},
   "outputs": [],
   "source": [
    "check2.rain_7days.shape"
   ]
  },
  {
   "cell_type": "code",
   "execution_count": null,
   "id": "0f33e3a4",
   "metadata": {},
   "outputs": [],
   "source": [
    "check2.close()"
   ]
  },
  {
   "cell_type": "markdown",
   "id": "4a40fbab",
   "metadata": {},
   "source": [
    "## Features to shapefile"
   ]
  },
  {
   "cell_type": "code",
   "execution_count": null,
   "id": "ad39bd61",
   "metadata": {},
   "outputs": [],
   "source": [
    "savepath = 'wind_results/'"
   ]
  },
  {
   "cell_type": "code",
   "execution_count": null,
   "id": "71166789",
   "metadata": {},
   "outputs": [],
   "source": [
    "grid = gpd.read_file('grid/grid.shp')"
   ]
  },
  {
   "cell_type": "code",
   "execution_count": null,
   "id": "b8933753",
   "metadata": {},
   "outputs": [],
   "source": [
    "len(grid)"
   ]
  },
  {
   "cell_type": "code",
   "execution_count": null,
   "id": "e17ea14e",
   "metadata": {},
   "outputs": [],
   "source": [
    "#Assign a unique id to each cell in the grid\n",
    "grid['id'] = range(1,(len(grid)+1))"
   ]
  },
  {
   "cell_type": "code",
   "execution_count": null,
   "id": "7d190e8d",
   "metadata": {},
   "outputs": [],
   "source": [
    "#grid = grid.explode(ignore_index=True, index_parts=None)\n",
    "grid"
   ]
  },
  {
   "cell_type": "code",
   "execution_count": null,
   "id": "2b8f5e8a",
   "metadata": {},
   "outputs": [],
   "source": [
    "grid.drop(columns=['OBJECTID','OBJECTID_1','PageName','PageNumber','ORIG_FID'], inplace=True)"
   ]
  },
  {
   "cell_type": "code",
   "execution_count": null,
   "id": "2aa41a5f",
   "metadata": {},
   "outputs": [],
   "source": [
    "grid = grid.astype({'id':'int'}) #to remove any decimals"
   ]
  },
  {
   "cell_type": "code",
   "execution_count": null,
   "id": "3095bfab",
   "metadata": {},
   "outputs": [],
   "source": [
    "grid"
   ]
  },
  {
   "cell_type": "code",
   "execution_count": null,
   "id": "9c3c19b3",
   "metadata": {},
   "outputs": [],
   "source": [
    "grid = grid.to_crs('EPSG:4326')\n",
    "grid"
   ]
  },
  {
   "cell_type": "code",
   "execution_count": null,
   "id": "aad5cf43",
   "metadata": {},
   "outputs": [],
   "source": [
    "#Check crs of the grid shapefile\n",
    "print(\"CRS: {}\".format(grid.crs))"
   ]
  },
  {
   "cell_type": "code",
   "execution_count": null,
   "id": "b4f97845",
   "metadata": {},
   "outputs": [],
   "source": [
    "print(grid.geometry.centroid.x)\n",
    "grid.geometry.centroid.y"
   ]
  },
  {
   "cell_type": "code",
   "execution_count": null,
   "id": "913b0b2f",
   "metadata": {},
   "outputs": [],
   "source": [
    "#Assign the xy from geometry in separate columns\n",
    "grid['longitude'] = grid.geometry.centroid.x\n",
    "grid['latitude'] = grid.geometry.centroid.y\n",
    "grid"
   ]
  },
  {
   "cell_type": "code",
   "execution_count": null,
   "id": "42064a62",
   "metadata": {},
   "outputs": [],
   "source": [
    "#Print xy from geometry\n",
    "for point in grid['geometry']:\n",
    "    print(point.xy[0][0],point.xy[1][0])"
   ]
  },
  {
   "cell_type": "code",
   "execution_count": null,
   "id": "90bac6ab",
   "metadata": {},
   "outputs": [],
   "source": [
    "points = grid[['longitude','latitude']]\n",
    "points"
   ]
  },
  {
   "cell_type": "code",
   "execution_count": null,
   "id": "6ba1c844",
   "metadata": {},
   "outputs": [],
   "source": [
    "#Plot one variable from the nc meteodata files in comparison with the grid shapefile\n",
    "ax = grid.plot(alpha=0.2, color='black')\n",
    "check2.max_temp.plot(ax=ax,zorder=-1)"
   ]
  },
  {
   "cell_type": "code",
   "execution_count": null,
   "id": "1625c2f7",
   "metadata": {},
   "outputs": [],
   "source": [
    "#Clip to extent of grid shapefile after changing crs to the nc file and plot it\n",
    "check2 = check2.rio.write_crs('EPSG:4326')\n",
    "clipped = check2.rio.clip(grid.geometry.apply(mapping), grid.crs)\n",
    "f, ax = plt.subplots(figsize=(10, 4))\n",
    "clipped.max_temp.plot(ax=ax)\n",
    "ax.set(title=\"NC Layer Cropped to Geodataframe Extent\")\n",
    "ax.set_axis_off()\n",
    "plt.show()"
   ]
  },
  {
   "cell_type": "code",
   "execution_count": null,
   "id": "a1246564",
   "metadata": {},
   "outputs": [],
   "source": [
    "#Plot the clipped (to the extent of the grid shapefile) nc file in comparison to the grid shapefile\n",
    "ax = grid.plot(alpha=0.2, color='black')\n",
    "clipped.max_temp.plot(ax=ax,zorder=-1)"
   ]
  },
  {
   "cell_type": "code",
   "execution_count": null,
   "id": "9573970d",
   "metadata": {},
   "outputs": [],
   "source": [
    "#Check the process of combining just one nc file with the grid\n",
    "final = pd.DataFrame([])\n",
    "for index,row in grid.iterrows():\n",
    "    print(\"id:\", row.id)\n",
    "    x = row.longitude\n",
    "    y = row.latitude\n",
    "    print(x,y)\n",
    "    point_maxtemp = clipped.max_temp.sel(longitude=x,latitude=y,method = \"nearest\").values\n",
    "    point_maxtemp = float(point_maxtemp)\n",
    "    point_mintemp = clipped.min_temp.sel(longitude=x,latitude=y,method = \"nearest\").values\n",
    "    point_mintemp = float(point_mintemp)\n",
    "    point_meantemp = clipped.mean_temp.sel(longitude=x,latitude=y,method = \"nearest\").values\n",
    "    point_meantemp = float(point_meantemp)\n",
    "    point_7Drain = clipped.rain_7days.sel(longitude=x,latitude=y,method = \"nearest\").values\n",
    "    point_7Drain = float(point_7Drain)\n",
    "    df = pd.DataFrame(columns=['id', 'x', 'y', 'max_temp', 'min_temp', 'mean_temp', 'rain_7days'], index = [0])\n",
    "    df['id']=row.id\n",
    "    df['x']=x\n",
    "    df['y']=y\n",
    "    df['max_temp'] = point_maxtemp\n",
    "    df['min_temp'] = point_mintemp\n",
    "    df['mean_temp'] = point_meantemp\n",
    "    df['rain_7days'] = point_7Drain\n",
    "    #print(\"id: {} max_temp: {} x: {} y: {}\".format(row.id, point_variables, x, y))\n",
    "    print(df)\n",
    "    final = pd.concat([final, df],axis=0) #Append every df created for each row\n",
    "print(final)\n",
    "final.to_csv((os.path.join(savepath,'final.csv')), index=False)\n",
    "print('The final csv was created')"
   ]
  },
  {
   "cell_type": "code",
   "execution_count": null,
   "id": "dbb620c0",
   "metadata": {},
   "outputs": [],
   "source": [
    "clipped.sel(longitude=23.758767051663387, latitude=38.2543759424724, method='nearest').values #lon,lat from the first row in grid shapefile"
   ]
  },
  {
   "cell_type": "code",
   "execution_count": null,
   "id": "07feef92",
   "metadata": {},
   "outputs": [],
   "source": [
    "check2.max_temp.shape"
   ]
  },
  {
   "cell_type": "code",
   "execution_count": null,
   "id": "ad45b06c",
   "metadata": {},
   "outputs": [],
   "source": [
    "clipped.max_temp.shape"
   ]
  },
  {
   "cell_type": "code",
   "execution_count": null,
   "id": "c061820c",
   "metadata": {},
   "outputs": [],
   "source": [
    "#Sample of dates to check the process\n",
    "#datelist = ['20220527','20220528']"
   ]
  },
  {
   "cell_type": "code",
   "execution_count": null,
   "id": "0f8dd529",
   "metadata": {},
   "outputs": [],
   "source": [
    "for date in datelist:\n",
    "    print(date)\n",
    "    try:\n",
    "        files = [os.path.join(mypath,date+'_temp_7Dprec.nc')]\n",
    "        meteodata = xr.open_mfdataset(files)\n",
    "        #print(meteodata.max_temp.shape)\n",
    "        #for feat in meteodata.variables:\n",
    "            #print(feat)\n",
    "        meteodata = meteodata.rio.write_crs('EPSG:4326')\n",
    "        clipped = meteodata.rio.clip(grid.geometry.apply(mapping), grid.crs)\n",
    "        #print(clipped.max_temp.shape)\n",
    "        #print(clipped)\n",
    "        final = pd.DataFrame([])\n",
    "        for index,row in grid.iterrows():\n",
    "            #print(\"id:\", row.id)\n",
    "            x = row.longitude\n",
    "            y = row.latitude\n",
    "            #print(x,y)\n",
    "            point_maxtemp = clipped.max_temp.sel(longitude=x,latitude=y,method = \"nearest\").values\n",
    "            point_maxtemp = float(point_maxtemp)\n",
    "            point_mintemp = clipped.min_temp.sel(longitude=x,latitude=y,method = \"nearest\").values\n",
    "            point_mintemp = float(point_mintemp)\n",
    "            point_meantemp = clipped.mean_temp.sel(longitude=x,latitude=y,method = \"nearest\").values\n",
    "            point_meantemp = float(point_meantemp)\n",
    "            point_7Drain = clipped.rain_7days.sel(longitude=x,latitude=y,method = \"nearest\").values\n",
    "            point_7Drain = float(point_7Drain)\n",
    "            df = pd.DataFrame(columns=['id', 'x', 'y', 'date', 'max_temp', 'min_temp', 'mean_temp', 'rain_7days'], index = [0])\n",
    "            df['id']=row.id\n",
    "            df['x']=x\n",
    "            df['y']=y\n",
    "            #Because data are predicted the date could be changed inside the final csv (date=int(date) and date=date+1)\n",
    "            df['date']=date\n",
    "            df['max_temp'] = point_maxtemp\n",
    "            df['min_temp'] = point_mintemp\n",
    "            df['mean_temp'] = point_meantemp\n",
    "            df['rain_7days'] = point_7Drain\n",
    "            #print(\"id: {} max_temp: {} x: {} y: {}\".format(row.id, point_maxtemp, x, y))\n",
    "            #print(df)\n",
    "            final = pd.concat([final, df],axis=0) #Append every df created for each row\n",
    "        #print(final)\n",
    "        final.to_csv((os.path.join(savepath,date+'_final.csv')), index=False)\n",
    "        print('The final csv for '+date+' was created')\n",
    "    except:\n",
    "        print('error')"
   ]
  },
  {
   "cell_type": "code",
   "execution_count": null,
   "id": "95752088",
   "metadata": {},
   "outputs": [],
   "source": [
    "file"
   ]
  },
  {
   "cell_type": "code",
   "execution_count": null,
   "id": "c988fbb8",
   "metadata": {},
   "outputs": [],
   "source": [
    "for date in datelist:\n",
    "    print(date)\n",
    "#    try:\n",
    "    if os.path.isfile(os.path.join(savepath,date+'_wind.csv')):\n",
    "        print('result exists')\n",
    "        continue\n",
    "    file = 'wind/'+date+'.nc'\n",
    "    if not os.path.isfile(file):\n",
    "        print('file does not exist')\n",
    "        continue\n",
    "    meteodata = xr.open_dataset(file)\n",
    "    #print(meteodata.max_temp.shape)\n",
    "    #for feat in meteodata.variables:\n",
    "        #print(feat)\n",
    "    meteodata = meteodata.rio.write_crs('EPSG:4326')\n",
    "    clipped = meteodata.rio.clip(grid.geometry.apply(mapping), grid.crs)\n",
    "    #print(clipped.max_temp.shape)\n",
    "    #print(clipped)\n",
    "    final = pd.DataFrame([])\n",
    "    for index,row in grid.iterrows():\n",
    "        #print(\"id:\", row.id)\n",
    "        x = row.longitude\n",
    "        y = row.latitude\n",
    "        #print(x,y)\n",
    "        point_dom_dir = clipped.dom_dir.sel(lon=x,lat=y,method = \"nearest\").values\n",
    "        point_dom_dir = int(point_dom_dir)\n",
    "        point_dom_vel = clipped.dom_vel.sel(lon=x,lat=y,method = \"nearest\").values\n",
    "        point_dom_vel = float(point_dom_vel)\n",
    "        point_res_max = clipped.res_max.sel(lon=x,lat=y,method = \"nearest\").values\n",
    "        point_res_max = float(point_res_max)\n",
    "        point_dir_max = clipped.dir_max.sel(lon=x,lat=y,method = \"nearest\").values\n",
    "        point_dir_max = int(point_dir_max)\n",
    "        df = pd.DataFrame(columns=['id', 'x', 'y', 'date', 'dom_dir', 'dom_vel', 'res_max', 'dir_max'], index = [0])\n",
    "        df['id']=row.id\n",
    "        df['x']=x\n",
    "        df['y']=y\n",
    "        #Because data are predicted the date could be changed inside the final csv (date=int(date) and date=date+1)\n",
    "        df['date']=date\n",
    "        df['dom_dir'] = point_dom_dir\n",
    "        df['dom_vel'] = point_dom_vel\n",
    "        df['res_max'] = point_res_max\n",
    "        df['dir_max'] = point_dir_max\n",
    "        #print(\"id: {} max_temp: {} x: {} y: {}\".format(row.id, point_maxtemp, x, y))\n",
    "        #print(df)\n",
    "        final = pd.concat([final, df],axis=0) #Append every df created for each row\n",
    "    #print(final)\n",
    "    final.to_csv((os.path.join(savepath,date+'_wind.csv')), index=False)\n",
    "    print('The final csv for '+date+' was created')\n",
    "#    except:\n",
    "#        print('error')"
   ]
  },
  {
   "cell_type": "code",
   "execution_count": null,
   "id": "99e6525e",
   "metadata": {},
   "outputs": [],
   "source": [
    "#Change date inside the final csv if the data are predicted\n",
    "# csv_files = glob.glob(os.path.join(savepath, \"*_final.csv\"))\n",
    "# for f in csv_files:\n",
    "#     df = pd.read_csv(f)\n",
    "#     #print(df)\n",
    "#     initialdate = df.date.values[0]\n",
    "#     print(initialdate)\n",
    "#     actualdate = initialdate+1\n",
    "#     print(actualdate)\n",
    "#     initialdate = int(initialdate)\n",
    "#     actualdate = int(actualdate)\n",
    "#     df['date'] = df['date'].replace({initialdate:actualdate})\n",
    "#     print(df)\n",
    "#     df.to_csv(f, index=False)"
   ]
  },
  {
   "cell_type": "markdown",
   "id": "54a48039",
   "metadata": {},
   "source": [
    "#### Extras"
   ]
  },
  {
   "cell_type": "code",
   "execution_count": null,
   "id": "b73edd5d",
   "metadata": {},
   "outputs": [],
   "source": [
    "#Convert from Kelvin to Celsius\n",
    "from scipy.constants import convert_temperature\n",
    "import numpy as np\n",
    "temp_cels = convert_temperature((test.max_temp.values), 'Kelvin', 'Celsius')\n",
    "temp_cels"
   ]
  },
  {
   "cell_type": "code",
   "execution_count": null,
   "id": "35e8fad9",
   "metadata": {},
   "outputs": [],
   "source": [
    "plt.contourf(plot)\n",
    "plt.colorbar()\n",
    "#285-312K equals to 12-38Celsius"
   ]
  }
 ],
 "metadata": {
  "kernelspec": {
   "display_name": "fire_ffp",
   "language": "python",
   "name": "fire_ffp"
  },
  "language_info": {
   "codemirror_mode": {
    "name": "ipython",
    "version": 3
   },
   "file_extension": ".py",
   "mimetype": "text/x-python",
   "name": "python",
   "nbconvert_exporter": "python",
   "pygments_lexer": "ipython3",
   "version": "3.9.16"
  }
 },
 "nbformat": 4,
 "nbformat_minor": 5
}
